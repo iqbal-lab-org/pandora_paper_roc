{
 "cells": [
  {
   "cell_type": "code",
   "execution_count": 1,
   "metadata": {},
   "outputs": [],
   "source": [
    "import pandas as pd\n",
    "import plotly.express as px"
   ]
  },
  {
   "cell_type": "code",
   "execution_count": 2,
   "metadata": {
    "scrolled": true
   },
   "outputs": [
    {
     "data": {
      "text/html": [
       "<div>\n",
       "<style scoped>\n",
       "    .dataframe tbody tr th:only-of-type {\n",
       "        vertical-align: middle;\n",
       "    }\n",
       "\n",
       "    .dataframe tbody tr th {\n",
       "        vertical-align: top;\n",
       "    }\n",
       "\n",
       "    .dataframe thead th {\n",
       "        text-align: right;\n",
       "    }\n",
       "</style>\n",
       "<table border=\"1\" class=\"dataframe\">\n",
       "  <thead>\n",
       "    <tr style=\"text-align: right;\">\n",
       "      <th></th>\n",
       "      <th>coverage</th>\n",
       "      <th>tool</th>\n",
       "      <th>coverage_threshold</th>\n",
       "      <th>strand_bias_threshold</th>\n",
       "      <th>gaps_threshold</th>\n",
       "      <th>NB_OF_SAMPLES</th>\n",
       "      <th>recall</th>\n",
       "    </tr>\n",
       "  </thead>\n",
       "  <tbody>\n",
       "    <tr>\n",
       "      <th>0</th>\n",
       "      <td>100x</td>\n",
       "      <td>pandora_illumina_nodenovo_global_genotyping</td>\n",
       "      <td>0</td>\n",
       "      <td>0.0</td>\n",
       "      <td>1.0</td>\n",
       "      <td>2</td>\n",
       "      <td>0.504219</td>\n",
       "    </tr>\n",
       "    <tr>\n",
       "      <th>1</th>\n",
       "      <td>100x</td>\n",
       "      <td>pandora_illumina_nodenovo_global_genotyping</td>\n",
       "      <td>0</td>\n",
       "      <td>0.0</td>\n",
       "      <td>1.0</td>\n",
       "      <td>3</td>\n",
       "      <td>0.580846</td>\n",
       "    </tr>\n",
       "    <tr>\n",
       "      <th>2</th>\n",
       "      <td>100x</td>\n",
       "      <td>pandora_illumina_nodenovo_global_genotyping</td>\n",
       "      <td>0</td>\n",
       "      <td>0.0</td>\n",
       "      <td>1.0</td>\n",
       "      <td>4</td>\n",
       "      <td>0.639002</td>\n",
       "    </tr>\n",
       "    <tr>\n",
       "      <th>3</th>\n",
       "      <td>100x</td>\n",
       "      <td>pandora_illumina_nodenovo_global_genotyping</td>\n",
       "      <td>0</td>\n",
       "      <td>0.0</td>\n",
       "      <td>1.0</td>\n",
       "      <td>5</td>\n",
       "      <td>0.662250</td>\n",
       "    </tr>\n",
       "    <tr>\n",
       "      <th>4</th>\n",
       "      <td>100x</td>\n",
       "      <td>pandora_illumina_nodenovo_global_genotyping</td>\n",
       "      <td>0</td>\n",
       "      <td>0.0</td>\n",
       "      <td>1.0</td>\n",
       "      <td>6</td>\n",
       "      <td>0.638707</td>\n",
       "    </tr>\n",
       "    <tr>\n",
       "      <th>...</th>\n",
       "      <td>...</td>\n",
       "      <td>...</td>\n",
       "      <td>...</td>\n",
       "      <td>...</td>\n",
       "      <td>...</td>\n",
       "      <td>...</td>\n",
       "      <td>...</td>\n",
       "    </tr>\n",
       "    <tr>\n",
       "      <th>508</th>\n",
       "      <td>100x</td>\n",
       "      <td>snippy_NZ_NG941718.1</td>\n",
       "      <td>0</td>\n",
       "      <td>Not_App</td>\n",
       "      <td>Not_App</td>\n",
       "      <td>16</td>\n",
       "      <td>0.939452</td>\n",
       "    </tr>\n",
       "    <tr>\n",
       "      <th>509</th>\n",
       "      <td>100x</td>\n",
       "      <td>snippy_NZ_NG941718.1</td>\n",
       "      <td>0</td>\n",
       "      <td>Not_App</td>\n",
       "      <td>Not_App</td>\n",
       "      <td>17</td>\n",
       "      <td>0.961101</td>\n",
       "    </tr>\n",
       "    <tr>\n",
       "      <th>510</th>\n",
       "      <td>100x</td>\n",
       "      <td>snippy_NZ_NG941718.1</td>\n",
       "      <td>0</td>\n",
       "      <td>Not_App</td>\n",
       "      <td>Not_App</td>\n",
       "      <td>18</td>\n",
       "      <td>0.966117</td>\n",
       "    </tr>\n",
       "    <tr>\n",
       "      <th>511</th>\n",
       "      <td>100x</td>\n",
       "      <td>snippy_NZ_NG941718.1</td>\n",
       "      <td>0</td>\n",
       "      <td>Not_App</td>\n",
       "      <td>Not_App</td>\n",
       "      <td>19</td>\n",
       "      <td>0.975350</td>\n",
       "    </tr>\n",
       "    <tr>\n",
       "      <th>512</th>\n",
       "      <td>100x</td>\n",
       "      <td>snippy_NZ_NG941718.1</td>\n",
       "      <td>0</td>\n",
       "      <td>Not_App</td>\n",
       "      <td>Not_App</td>\n",
       "      <td>20</td>\n",
       "      <td>0.967633</td>\n",
       "    </tr>\n",
       "  </tbody>\n",
       "</table>\n",
       "<p>513 rows × 7 columns</p>\n",
       "</div>"
      ],
      "text/plain": [
       "    coverage                                         tool  coverage_threshold  \\\n",
       "0       100x  pandora_illumina_nodenovo_global_genotyping                   0   \n",
       "1       100x  pandora_illumina_nodenovo_global_genotyping                   0   \n",
       "2       100x  pandora_illumina_nodenovo_global_genotyping                   0   \n",
       "3       100x  pandora_illumina_nodenovo_global_genotyping                   0   \n",
       "4       100x  pandora_illumina_nodenovo_global_genotyping                   0   \n",
       "..       ...                                          ...                 ...   \n",
       "508     100x                         snippy_NZ_NG941718.1                   0   \n",
       "509     100x                         snippy_NZ_NG941718.1                   0   \n",
       "510     100x                         snippy_NZ_NG941718.1                   0   \n",
       "511     100x                         snippy_NZ_NG941718.1                   0   \n",
       "512     100x                         snippy_NZ_NG941718.1                   0   \n",
       "\n",
       "    strand_bias_threshold gaps_threshold  NB_OF_SAMPLES    recall  \n",
       "0                     0.0            1.0              2  0.504219  \n",
       "1                     0.0            1.0              3  0.580846  \n",
       "2                     0.0            1.0              4  0.639002  \n",
       "3                     0.0            1.0              5  0.662250  \n",
       "4                     0.0            1.0              6  0.638707  \n",
       "..                    ...            ...            ...       ...  \n",
       "508               Not_App        Not_App             16  0.939452  \n",
       "509               Not_App        Not_App             17  0.961101  \n",
       "510               Not_App        Not_App             18  0.966117  \n",
       "511               Not_App        Not_App             19  0.975350  \n",
       "512               Not_App        Not_App             20  0.967633  \n",
       "\n",
       "[513 rows x 7 columns]"
      ]
     },
     "execution_count": 2,
     "metadata": {},
     "output_type": "execute_result"
    }
   ],
   "source": [
    "recall_per_number_of_samples_df = pd.read_csv(\"recall_per_number_of_samples.csv\")\n",
    "recall_per_number_of_samples_df"
   ]
  },
  {
   "cell_type": "code",
   "execution_count": 3,
   "metadata": {},
   "outputs": [
    {
     "data": {
      "text/html": [
       "<div>\n",
       "<style scoped>\n",
       "    .dataframe tbody tr th:only-of-type {\n",
       "        vertical-align: middle;\n",
       "    }\n",
       "\n",
       "    .dataframe tbody tr th {\n",
       "        vertical-align: top;\n",
       "    }\n",
       "\n",
       "    .dataframe thead th {\n",
       "        text-align: right;\n",
       "    }\n",
       "</style>\n",
       "<table border=\"1\" class=\"dataframe\">\n",
       "  <thead>\n",
       "    <tr style=\"text-align: right;\">\n",
       "      <th></th>\n",
       "      <th>PANGENOME_VARIATION_ID</th>\n",
       "      <th>NUMBER_OF_SAMPLES</th>\n",
       "    </tr>\n",
       "  </thead>\n",
       "  <tbody>\n",
       "    <tr>\n",
       "      <th>0</th>\n",
       "      <td>0</td>\n",
       "      <td>2</td>\n",
       "    </tr>\n",
       "    <tr>\n",
       "      <th>1</th>\n",
       "      <td>1</td>\n",
       "      <td>4</td>\n",
       "    </tr>\n",
       "    <tr>\n",
       "      <th>2</th>\n",
       "      <td>2</td>\n",
       "      <td>2</td>\n",
       "    </tr>\n",
       "    <tr>\n",
       "      <th>3</th>\n",
       "      <td>3</td>\n",
       "      <td>20</td>\n",
       "    </tr>\n",
       "    <tr>\n",
       "      <th>4</th>\n",
       "      <td>4</td>\n",
       "      <td>19</td>\n",
       "    </tr>\n",
       "    <tr>\n",
       "      <th>...</th>\n",
       "      <td>...</td>\n",
       "      <td>...</td>\n",
       "    </tr>\n",
       "    <tr>\n",
       "      <th>685364</th>\n",
       "      <td>762195</td>\n",
       "      <td>2</td>\n",
       "    </tr>\n",
       "    <tr>\n",
       "      <th>685365</th>\n",
       "      <td>762196</td>\n",
       "      <td>2</td>\n",
       "    </tr>\n",
       "    <tr>\n",
       "      <th>685366</th>\n",
       "      <td>762197</td>\n",
       "      <td>2</td>\n",
       "    </tr>\n",
       "    <tr>\n",
       "      <th>685367</th>\n",
       "      <td>762198</td>\n",
       "      <td>2</td>\n",
       "    </tr>\n",
       "    <tr>\n",
       "      <th>685368</th>\n",
       "      <td>762199</td>\n",
       "      <td>2</td>\n",
       "    </tr>\n",
       "  </tbody>\n",
       "</table>\n",
       "<p>685369 rows × 2 columns</p>\n",
       "</div>"
      ],
      "text/plain": [
       "        PANGENOME_VARIATION_ID  NUMBER_OF_SAMPLES\n",
       "0                            0                  2\n",
       "1                            1                  4\n",
       "2                            2                  2\n",
       "3                            3                 20\n",
       "4                            4                 19\n",
       "...                        ...                ...\n",
       "685364                  762195                  2\n",
       "685365                  762196                  2\n",
       "685366                  762197                  2\n",
       "685367                  762198                  2\n",
       "685368                  762199                  2\n",
       "\n",
       "[685369 rows x 2 columns]"
      ]
     },
     "execution_count": 3,
     "metadata": {},
     "output_type": "execute_result"
    }
   ],
   "source": [
    "id_and_number_of_samples_df = pd.read_csv(\"id_and_number_of_samples.csv\")\n",
    "id_and_number_of_samples_df"
   ]
  },
  {
   "cell_type": "code",
   "execution_count": 4,
   "metadata": {},
   "outputs": [
    {
     "data": {
      "text/html": [
       "<div>\n",
       "<style scoped>\n",
       "    .dataframe tbody tr th:only-of-type {\n",
       "        vertical-align: middle;\n",
       "    }\n",
       "\n",
       "    .dataframe tbody tr th {\n",
       "        vertical-align: top;\n",
       "    }\n",
       "\n",
       "    .dataframe thead th {\n",
       "        text-align: right;\n",
       "    }\n",
       "</style>\n",
       "<table border=\"1\" class=\"dataframe\">\n",
       "  <thead>\n",
       "    <tr style=\"text-align: right;\">\n",
       "      <th></th>\n",
       "      <th>NUMBER_OF_SAMPLES</th>\n",
       "      <th>total_nb_of_PanVar</th>\n",
       "    </tr>\n",
       "  </thead>\n",
       "  <tbody>\n",
       "    <tr>\n",
       "      <th>0</th>\n",
       "      <td>2</td>\n",
       "      <td>77264</td>\n",
       "    </tr>\n",
       "    <tr>\n",
       "      <th>1</th>\n",
       "      <td>3</td>\n",
       "      <td>51134</td>\n",
       "    </tr>\n",
       "    <tr>\n",
       "      <th>2</th>\n",
       "      <td>4</td>\n",
       "      <td>36183</td>\n",
       "    </tr>\n",
       "    <tr>\n",
       "      <th>3</th>\n",
       "      <td>5</td>\n",
       "      <td>27319</td>\n",
       "    </tr>\n",
       "    <tr>\n",
       "      <th>4</th>\n",
       "      <td>6</td>\n",
       "      <td>37817</td>\n",
       "    </tr>\n",
       "    <tr>\n",
       "      <th>5</th>\n",
       "      <td>7</td>\n",
       "      <td>28052</td>\n",
       "    </tr>\n",
       "    <tr>\n",
       "      <th>6</th>\n",
       "      <td>8</td>\n",
       "      <td>25396</td>\n",
       "    </tr>\n",
       "    <tr>\n",
       "      <th>7</th>\n",
       "      <td>9</td>\n",
       "      <td>20034</td>\n",
       "    </tr>\n",
       "    <tr>\n",
       "      <th>8</th>\n",
       "      <td>10</td>\n",
       "      <td>21132</td>\n",
       "    </tr>\n",
       "    <tr>\n",
       "      <th>9</th>\n",
       "      <td>11</td>\n",
       "      <td>21389</td>\n",
       "    </tr>\n",
       "    <tr>\n",
       "      <th>10</th>\n",
       "      <td>12</td>\n",
       "      <td>13536</td>\n",
       "    </tr>\n",
       "    <tr>\n",
       "      <th>11</th>\n",
       "      <td>13</td>\n",
       "      <td>17611</td>\n",
       "    </tr>\n",
       "    <tr>\n",
       "      <th>12</th>\n",
       "      <td>14</td>\n",
       "      <td>19979</td>\n",
       "    </tr>\n",
       "    <tr>\n",
       "      <th>13</th>\n",
       "      <td>15</td>\n",
       "      <td>31997</td>\n",
       "    </tr>\n",
       "    <tr>\n",
       "      <th>14</th>\n",
       "      <td>16</td>\n",
       "      <td>35443</td>\n",
       "    </tr>\n",
       "    <tr>\n",
       "      <th>15</th>\n",
       "      <td>17</td>\n",
       "      <td>56480</td>\n",
       "    </tr>\n",
       "    <tr>\n",
       "      <th>16</th>\n",
       "      <td>18</td>\n",
       "      <td>67585</td>\n",
       "    </tr>\n",
       "    <tr>\n",
       "      <th>17</th>\n",
       "      <td>19</td>\n",
       "      <td>84907</td>\n",
       "    </tr>\n",
       "    <tr>\n",
       "      <th>18</th>\n",
       "      <td>20</td>\n",
       "      <td>12111</td>\n",
       "    </tr>\n",
       "  </tbody>\n",
       "</table>\n",
       "</div>"
      ],
      "text/plain": [
       "    NUMBER_OF_SAMPLES  total_nb_of_PanVar\n",
       "0                   2               77264\n",
       "1                   3               51134\n",
       "2                   4               36183\n",
       "3                   5               27319\n",
       "4                   6               37817\n",
       "5                   7               28052\n",
       "6                   8               25396\n",
       "7                   9               20034\n",
       "8                  10               21132\n",
       "9                  11               21389\n",
       "10                 12               13536\n",
       "11                 13               17611\n",
       "12                 14               19979\n",
       "13                 15               31997\n",
       "14                 16               35443\n",
       "15                 17               56480\n",
       "16                 18               67585\n",
       "17                 19               84907\n",
       "18                 20               12111"
      ]
     },
     "execution_count": 4,
     "metadata": {},
     "output_type": "execute_result"
    }
   ],
   "source": [
    "id_and_number_of_samples_df_counted = id_and_number_of_samples_df.groupby(by=\"NUMBER_OF_SAMPLES\").count().rename(columns={\"PANGENOME_VARIATION_ID\": \"total_nb_of_PanVar\"})\n",
    "id_and_number_of_samples_df_counted = id_and_number_of_samples_df_counted.reset_index()\n",
    "id_and_number_of_samples_df_counted"
   ]
  },
  {
   "cell_type": "code",
   "execution_count": 5,
   "metadata": {},
   "outputs": [
    {
     "data": {
      "text/html": [
       "<div>\n",
       "<style scoped>\n",
       "    .dataframe tbody tr th:only-of-type {\n",
       "        vertical-align: middle;\n",
       "    }\n",
       "\n",
       "    .dataframe tbody tr th {\n",
       "        vertical-align: top;\n",
       "    }\n",
       "\n",
       "    .dataframe thead th {\n",
       "        text-align: right;\n",
       "    }\n",
       "</style>\n",
       "<table border=\"1\" class=\"dataframe\">\n",
       "  <thead>\n",
       "    <tr style=\"text-align: right;\">\n",
       "      <th></th>\n",
       "      <th>coverage</th>\n",
       "      <th>tool</th>\n",
       "      <th>coverage_threshold</th>\n",
       "      <th>strand_bias_threshold</th>\n",
       "      <th>gaps_threshold</th>\n",
       "      <th>NB_OF_SAMPLES</th>\n",
       "      <th>recall</th>\n",
       "      <th>NUMBER_OF_SAMPLES</th>\n",
       "      <th>total_nb_of_PanVar</th>\n",
       "    </tr>\n",
       "  </thead>\n",
       "  <tbody>\n",
       "    <tr>\n",
       "      <th>0</th>\n",
       "      <td>100x</td>\n",
       "      <td>pandora_illumina_nodenovo_global_genotyping</td>\n",
       "      <td>0</td>\n",
       "      <td>0.0</td>\n",
       "      <td>1.0</td>\n",
       "      <td>2</td>\n",
       "      <td>0.504219</td>\n",
       "      <td>2</td>\n",
       "      <td>77264</td>\n",
       "    </tr>\n",
       "    <tr>\n",
       "      <th>1</th>\n",
       "      <td>100x</td>\n",
       "      <td>pandora_illumina_withdenovo_global_genotyping</td>\n",
       "      <td>0</td>\n",
       "      <td>0.0</td>\n",
       "      <td>1.0</td>\n",
       "      <td>2</td>\n",
       "      <td>0.525199</td>\n",
       "      <td>2</td>\n",
       "      <td>77264</td>\n",
       "    </tr>\n",
       "    <tr>\n",
       "      <th>2</th>\n",
       "      <td>100x</td>\n",
       "      <td>snippy_CN928163.2</td>\n",
       "      <td>0</td>\n",
       "      <td>Not_App</td>\n",
       "      <td>Not_App</td>\n",
       "      <td>2</td>\n",
       "      <td>0.284816</td>\n",
       "      <td>2</td>\n",
       "      <td>77264</td>\n",
       "    </tr>\n",
       "    <tr>\n",
       "      <th>3</th>\n",
       "      <td>100x</td>\n",
       "      <td>snippy_CP010116.1</td>\n",
       "      <td>0</td>\n",
       "      <td>Not_App</td>\n",
       "      <td>Not_App</td>\n",
       "      <td>2</td>\n",
       "      <td>0.217126</td>\n",
       "      <td>2</td>\n",
       "      <td>77264</td>\n",
       "    </tr>\n",
       "    <tr>\n",
       "      <th>4</th>\n",
       "      <td>100x</td>\n",
       "      <td>snippy_CP010121.1</td>\n",
       "      <td>0</td>\n",
       "      <td>Not_App</td>\n",
       "      <td>Not_App</td>\n",
       "      <td>2</td>\n",
       "      <td>0.235996</td>\n",
       "      <td>2</td>\n",
       "      <td>77264</td>\n",
       "    </tr>\n",
       "    <tr>\n",
       "      <th>...</th>\n",
       "      <td>...</td>\n",
       "      <td>...</td>\n",
       "      <td>...</td>\n",
       "      <td>...</td>\n",
       "      <td>...</td>\n",
       "      <td>...</td>\n",
       "      <td>...</td>\n",
       "      <td>...</td>\n",
       "      <td>...</td>\n",
       "    </tr>\n",
       "    <tr>\n",
       "      <th>508</th>\n",
       "      <td>100x</td>\n",
       "      <td>snippy_NZ_CP016007.1</td>\n",
       "      <td>0</td>\n",
       "      <td>Not_App</td>\n",
       "      <td>Not_App</td>\n",
       "      <td>20</td>\n",
       "      <td>0.966724</td>\n",
       "      <td>20</td>\n",
       "      <td>12111</td>\n",
       "    </tr>\n",
       "    <tr>\n",
       "      <th>509</th>\n",
       "      <td>100x</td>\n",
       "      <td>snippy_NZ_CP018109.1</td>\n",
       "      <td>0</td>\n",
       "      <td>Not_App</td>\n",
       "      <td>Not_App</td>\n",
       "      <td>20</td>\n",
       "      <td>0.963091</td>\n",
       "      <td>20</td>\n",
       "      <td>12111</td>\n",
       "    </tr>\n",
       "    <tr>\n",
       "      <th>510</th>\n",
       "      <td>100x</td>\n",
       "      <td>snippy_NZ_LN995446.1</td>\n",
       "      <td>0</td>\n",
       "      <td>Not_App</td>\n",
       "      <td>Not_App</td>\n",
       "      <td>20</td>\n",
       "      <td>0.958715</td>\n",
       "      <td>20</td>\n",
       "      <td>12111</td>\n",
       "    </tr>\n",
       "    <tr>\n",
       "      <th>511</th>\n",
       "      <td>100x</td>\n",
       "      <td>snippy_NZ_LT632320.1</td>\n",
       "      <td>0</td>\n",
       "      <td>Not_App</td>\n",
       "      <td>Not_App</td>\n",
       "      <td>20</td>\n",
       "      <td>0.964743</td>\n",
       "      <td>20</td>\n",
       "      <td>12111</td>\n",
       "    </tr>\n",
       "    <tr>\n",
       "      <th>512</th>\n",
       "      <td>100x</td>\n",
       "      <td>snippy_NZ_NG941718.1</td>\n",
       "      <td>0</td>\n",
       "      <td>Not_App</td>\n",
       "      <td>Not_App</td>\n",
       "      <td>20</td>\n",
       "      <td>0.967633</td>\n",
       "      <td>20</td>\n",
       "      <td>12111</td>\n",
       "    </tr>\n",
       "  </tbody>\n",
       "</table>\n",
       "<p>513 rows × 9 columns</p>\n",
       "</div>"
      ],
      "text/plain": [
       "    coverage                                           tool  \\\n",
       "0       100x    pandora_illumina_nodenovo_global_genotyping   \n",
       "1       100x  pandora_illumina_withdenovo_global_genotyping   \n",
       "2       100x                              snippy_CN928163.2   \n",
       "3       100x                              snippy_CP010116.1   \n",
       "4       100x                              snippy_CP010121.1   \n",
       "..       ...                                            ...   \n",
       "508     100x                           snippy_NZ_CP016007.1   \n",
       "509     100x                           snippy_NZ_CP018109.1   \n",
       "510     100x                           snippy_NZ_LN995446.1   \n",
       "511     100x                           snippy_NZ_LT632320.1   \n",
       "512     100x                           snippy_NZ_NG941718.1   \n",
       "\n",
       "     coverage_threshold strand_bias_threshold gaps_threshold  NB_OF_SAMPLES  \\\n",
       "0                     0                   0.0            1.0              2   \n",
       "1                     0                   0.0            1.0              2   \n",
       "2                     0               Not_App        Not_App              2   \n",
       "3                     0               Not_App        Not_App              2   \n",
       "4                     0               Not_App        Not_App              2   \n",
       "..                  ...                   ...            ...            ...   \n",
       "508                   0               Not_App        Not_App             20   \n",
       "509                   0               Not_App        Not_App             20   \n",
       "510                   0               Not_App        Not_App             20   \n",
       "511                   0               Not_App        Not_App             20   \n",
       "512                   0               Not_App        Not_App             20   \n",
       "\n",
       "       recall  NUMBER_OF_SAMPLES  total_nb_of_PanVar  \n",
       "0    0.504219                  2               77264  \n",
       "1    0.525199                  2               77264  \n",
       "2    0.284816                  2               77264  \n",
       "3    0.217126                  2               77264  \n",
       "4    0.235996                  2               77264  \n",
       "..        ...                ...                 ...  \n",
       "508  0.966724                 20               12111  \n",
       "509  0.963091                 20               12111  \n",
       "510  0.958715                 20               12111  \n",
       "511  0.964743                 20               12111  \n",
       "512  0.967633                 20               12111  \n",
       "\n",
       "[513 rows x 9 columns]"
      ]
     },
     "execution_count": 5,
     "metadata": {},
     "output_type": "execute_result"
    }
   ],
   "source": [
    "merged_data = recall_per_number_of_samples_df.merge(id_and_number_of_samples_df_counted,\n",
    "                                      how=\"inner\", left_on=\"NB_OF_SAMPLES\", right_on=\"NUMBER_OF_SAMPLES\")\n",
    "merged_data"
   ]
  },
  {
   "cell_type": "code",
   "execution_count": 6,
   "metadata": {},
   "outputs": [
    {
     "data": {
      "text/html": [
       "<div>\n",
       "<style scoped>\n",
       "    .dataframe tbody tr th:only-of-type {\n",
       "        vertical-align: middle;\n",
       "    }\n",
       "\n",
       "    .dataframe tbody tr th {\n",
       "        vertical-align: top;\n",
       "    }\n",
       "\n",
       "    .dataframe thead th {\n",
       "        text-align: right;\n",
       "    }\n",
       "</style>\n",
       "<table border=\"1\" class=\"dataframe\">\n",
       "  <thead>\n",
       "    <tr style=\"text-align: right;\">\n",
       "      <th></th>\n",
       "      <th>coverage</th>\n",
       "      <th>tool</th>\n",
       "      <th>coverage_threshold</th>\n",
       "      <th>strand_bias_threshold</th>\n",
       "      <th>gaps_threshold</th>\n",
       "      <th>NB_OF_SAMPLES</th>\n",
       "      <th>recall</th>\n",
       "      <th>NUMBER_OF_SAMPLES</th>\n",
       "      <th>total_nb_of_PanVar</th>\n",
       "      <th>nb_of_found_PanVar</th>\n",
       "    </tr>\n",
       "  </thead>\n",
       "  <tbody>\n",
       "    <tr>\n",
       "      <th>0</th>\n",
       "      <td>100x</td>\n",
       "      <td>pandora_illumina_nodenovo_global_genotyping</td>\n",
       "      <td>0</td>\n",
       "      <td>0.0</td>\n",
       "      <td>1.0</td>\n",
       "      <td>2</td>\n",
       "      <td>0.504219</td>\n",
       "      <td>2</td>\n",
       "      <td>77264</td>\n",
       "      <td>38958.0</td>\n",
       "    </tr>\n",
       "    <tr>\n",
       "      <th>1</th>\n",
       "      <td>100x</td>\n",
       "      <td>pandora_illumina_withdenovo_global_genotyping</td>\n",
       "      <td>0</td>\n",
       "      <td>0.0</td>\n",
       "      <td>1.0</td>\n",
       "      <td>2</td>\n",
       "      <td>0.525199</td>\n",
       "      <td>2</td>\n",
       "      <td>77264</td>\n",
       "      <td>40579.0</td>\n",
       "    </tr>\n",
       "    <tr>\n",
       "      <th>2</th>\n",
       "      <td>100x</td>\n",
       "      <td>snippy_CN928163.2</td>\n",
       "      <td>0</td>\n",
       "      <td>Not_App</td>\n",
       "      <td>Not_App</td>\n",
       "      <td>2</td>\n",
       "      <td>0.284816</td>\n",
       "      <td>2</td>\n",
       "      <td>77264</td>\n",
       "      <td>22006.0</td>\n",
       "    </tr>\n",
       "    <tr>\n",
       "      <th>3</th>\n",
       "      <td>100x</td>\n",
       "      <td>snippy_CP010116.1</td>\n",
       "      <td>0</td>\n",
       "      <td>Not_App</td>\n",
       "      <td>Not_App</td>\n",
       "      <td>2</td>\n",
       "      <td>0.217126</td>\n",
       "      <td>2</td>\n",
       "      <td>77264</td>\n",
       "      <td>16776.0</td>\n",
       "    </tr>\n",
       "    <tr>\n",
       "      <th>4</th>\n",
       "      <td>100x</td>\n",
       "      <td>snippy_CP010121.1</td>\n",
       "      <td>0</td>\n",
       "      <td>Not_App</td>\n",
       "      <td>Not_App</td>\n",
       "      <td>2</td>\n",
       "      <td>0.235996</td>\n",
       "      <td>2</td>\n",
       "      <td>77264</td>\n",
       "      <td>18234.0</td>\n",
       "    </tr>\n",
       "    <tr>\n",
       "      <th>...</th>\n",
       "      <td>...</td>\n",
       "      <td>...</td>\n",
       "      <td>...</td>\n",
       "      <td>...</td>\n",
       "      <td>...</td>\n",
       "      <td>...</td>\n",
       "      <td>...</td>\n",
       "      <td>...</td>\n",
       "      <td>...</td>\n",
       "      <td>...</td>\n",
       "    </tr>\n",
       "    <tr>\n",
       "      <th>508</th>\n",
       "      <td>100x</td>\n",
       "      <td>snippy_NZ_CP016007.1</td>\n",
       "      <td>0</td>\n",
       "      <td>Not_App</td>\n",
       "      <td>Not_App</td>\n",
       "      <td>20</td>\n",
       "      <td>0.966724</td>\n",
       "      <td>20</td>\n",
       "      <td>12111</td>\n",
       "      <td>11708.0</td>\n",
       "    </tr>\n",
       "    <tr>\n",
       "      <th>509</th>\n",
       "      <td>100x</td>\n",
       "      <td>snippy_NZ_CP018109.1</td>\n",
       "      <td>0</td>\n",
       "      <td>Not_App</td>\n",
       "      <td>Not_App</td>\n",
       "      <td>20</td>\n",
       "      <td>0.963091</td>\n",
       "      <td>20</td>\n",
       "      <td>12111</td>\n",
       "      <td>11664.0</td>\n",
       "    </tr>\n",
       "    <tr>\n",
       "      <th>510</th>\n",
       "      <td>100x</td>\n",
       "      <td>snippy_NZ_LN995446.1</td>\n",
       "      <td>0</td>\n",
       "      <td>Not_App</td>\n",
       "      <td>Not_App</td>\n",
       "      <td>20</td>\n",
       "      <td>0.958715</td>\n",
       "      <td>20</td>\n",
       "      <td>12111</td>\n",
       "      <td>11611.0</td>\n",
       "    </tr>\n",
       "    <tr>\n",
       "      <th>511</th>\n",
       "      <td>100x</td>\n",
       "      <td>snippy_NZ_LT632320.1</td>\n",
       "      <td>0</td>\n",
       "      <td>Not_App</td>\n",
       "      <td>Not_App</td>\n",
       "      <td>20</td>\n",
       "      <td>0.964743</td>\n",
       "      <td>20</td>\n",
       "      <td>12111</td>\n",
       "      <td>11684.0</td>\n",
       "    </tr>\n",
       "    <tr>\n",
       "      <th>512</th>\n",
       "      <td>100x</td>\n",
       "      <td>snippy_NZ_NG941718.1</td>\n",
       "      <td>0</td>\n",
       "      <td>Not_App</td>\n",
       "      <td>Not_App</td>\n",
       "      <td>20</td>\n",
       "      <td>0.967633</td>\n",
       "      <td>20</td>\n",
       "      <td>12111</td>\n",
       "      <td>11719.0</td>\n",
       "    </tr>\n",
       "  </tbody>\n",
       "</table>\n",
       "<p>513 rows × 10 columns</p>\n",
       "</div>"
      ],
      "text/plain": [
       "    coverage                                           tool  \\\n",
       "0       100x    pandora_illumina_nodenovo_global_genotyping   \n",
       "1       100x  pandora_illumina_withdenovo_global_genotyping   \n",
       "2       100x                              snippy_CN928163.2   \n",
       "3       100x                              snippy_CP010116.1   \n",
       "4       100x                              snippy_CP010121.1   \n",
       "..       ...                                            ...   \n",
       "508     100x                           snippy_NZ_CP016007.1   \n",
       "509     100x                           snippy_NZ_CP018109.1   \n",
       "510     100x                           snippy_NZ_LN995446.1   \n",
       "511     100x                           snippy_NZ_LT632320.1   \n",
       "512     100x                           snippy_NZ_NG941718.1   \n",
       "\n",
       "     coverage_threshold strand_bias_threshold gaps_threshold  NB_OF_SAMPLES  \\\n",
       "0                     0                   0.0            1.0              2   \n",
       "1                     0                   0.0            1.0              2   \n",
       "2                     0               Not_App        Not_App              2   \n",
       "3                     0               Not_App        Not_App              2   \n",
       "4                     0               Not_App        Not_App              2   \n",
       "..                  ...                   ...            ...            ...   \n",
       "508                   0               Not_App        Not_App             20   \n",
       "509                   0               Not_App        Not_App             20   \n",
       "510                   0               Not_App        Not_App             20   \n",
       "511                   0               Not_App        Not_App             20   \n",
       "512                   0               Not_App        Not_App             20   \n",
       "\n",
       "       recall  NUMBER_OF_SAMPLES  total_nb_of_PanVar  nb_of_found_PanVar  \n",
       "0    0.504219                  2               77264             38958.0  \n",
       "1    0.525199                  2               77264             40579.0  \n",
       "2    0.284816                  2               77264             22006.0  \n",
       "3    0.217126                  2               77264             16776.0  \n",
       "4    0.235996                  2               77264             18234.0  \n",
       "..        ...                ...                 ...                 ...  \n",
       "508  0.966724                 20               12111             11708.0  \n",
       "509  0.963091                 20               12111             11664.0  \n",
       "510  0.958715                 20               12111             11611.0  \n",
       "511  0.964743                 20               12111             11684.0  \n",
       "512  0.967633                 20               12111             11719.0  \n",
       "\n",
       "[513 rows x 10 columns]"
      ]
     },
     "execution_count": 6,
     "metadata": {},
     "output_type": "execute_result"
    }
   ],
   "source": [
    "merged_data[\"nb_of_found_PanVar\"] = merged_data[\"recall\"] * merged_data[\"total_nb_of_PanVar\"]\n",
    "merged_data"
   ]
  },
  {
   "cell_type": "code",
   "execution_count": 7,
   "metadata": {},
   "outputs": [
    {
     "data": {
      "text/html": [
       "<div>\n",
       "<style scoped>\n",
       "    .dataframe tbody tr th:only-of-type {\n",
       "        vertical-align: middle;\n",
       "    }\n",
       "\n",
       "    .dataframe tbody tr th {\n",
       "        vertical-align: top;\n",
       "    }\n",
       "\n",
       "    .dataframe thead th {\n",
       "        text-align: right;\n",
       "    }\n",
       "</style>\n",
       "<table border=\"1\" class=\"dataframe\">\n",
       "  <thead>\n",
       "    <tr style=\"text-align: right;\">\n",
       "      <th></th>\n",
       "      <th>coverage</th>\n",
       "      <th>tool</th>\n",
       "      <th>coverage_threshold</th>\n",
       "      <th>strand_bias_threshold</th>\n",
       "      <th>gaps_threshold</th>\n",
       "      <th>NB_OF_SAMPLES</th>\n",
       "      <th>recall</th>\n",
       "      <th>NUMBER_OF_SAMPLES</th>\n",
       "      <th>total_nb_of_PanVar</th>\n",
       "      <th>nb_of_found_PanVar</th>\n",
       "      <th>cumulative_nb_of_found_PanVar</th>\n",
       "    </tr>\n",
       "  </thead>\n",
       "  <tbody>\n",
       "    <tr>\n",
       "      <th>0</th>\n",
       "      <td>100x</td>\n",
       "      <td>pandora_illumina_nodenovo_global_genotyping</td>\n",
       "      <td>0</td>\n",
       "      <td>0.0</td>\n",
       "      <td>1.0</td>\n",
       "      <td>2</td>\n",
       "      <td>0.504219</td>\n",
       "      <td>2</td>\n",
       "      <td>77264</td>\n",
       "      <td>38958.0</td>\n",
       "      <td>38958.0</td>\n",
       "    </tr>\n",
       "    <tr>\n",
       "      <th>1</th>\n",
       "      <td>100x</td>\n",
       "      <td>pandora_illumina_withdenovo_global_genotyping</td>\n",
       "      <td>0</td>\n",
       "      <td>0.0</td>\n",
       "      <td>1.0</td>\n",
       "      <td>2</td>\n",
       "      <td>0.525199</td>\n",
       "      <td>2</td>\n",
       "      <td>77264</td>\n",
       "      <td>40579.0</td>\n",
       "      <td>40579.0</td>\n",
       "    </tr>\n",
       "    <tr>\n",
       "      <th>2</th>\n",
       "      <td>100x</td>\n",
       "      <td>snippy_CN928163.2</td>\n",
       "      <td>0</td>\n",
       "      <td>Not_App</td>\n",
       "      <td>Not_App</td>\n",
       "      <td>2</td>\n",
       "      <td>0.284816</td>\n",
       "      <td>2</td>\n",
       "      <td>77264</td>\n",
       "      <td>22006.0</td>\n",
       "      <td>22006.0</td>\n",
       "    </tr>\n",
       "    <tr>\n",
       "      <th>3</th>\n",
       "      <td>100x</td>\n",
       "      <td>snippy_CP010116.1</td>\n",
       "      <td>0</td>\n",
       "      <td>Not_App</td>\n",
       "      <td>Not_App</td>\n",
       "      <td>2</td>\n",
       "      <td>0.217126</td>\n",
       "      <td>2</td>\n",
       "      <td>77264</td>\n",
       "      <td>16776.0</td>\n",
       "      <td>16776.0</td>\n",
       "    </tr>\n",
       "    <tr>\n",
       "      <th>4</th>\n",
       "      <td>100x</td>\n",
       "      <td>snippy_CP010121.1</td>\n",
       "      <td>0</td>\n",
       "      <td>Not_App</td>\n",
       "      <td>Not_App</td>\n",
       "      <td>2</td>\n",
       "      <td>0.235996</td>\n",
       "      <td>2</td>\n",
       "      <td>77264</td>\n",
       "      <td>18234.0</td>\n",
       "      <td>18234.0</td>\n",
       "    </tr>\n",
       "    <tr>\n",
       "      <th>...</th>\n",
       "      <td>...</td>\n",
       "      <td>...</td>\n",
       "      <td>...</td>\n",
       "      <td>...</td>\n",
       "      <td>...</td>\n",
       "      <td>...</td>\n",
       "      <td>...</td>\n",
       "      <td>...</td>\n",
       "      <td>...</td>\n",
       "      <td>...</td>\n",
       "      <td>...</td>\n",
       "    </tr>\n",
       "    <tr>\n",
       "      <th>508</th>\n",
       "      <td>100x</td>\n",
       "      <td>snippy_NZ_CP016007.1</td>\n",
       "      <td>0</td>\n",
       "      <td>Not_App</td>\n",
       "      <td>Not_App</td>\n",
       "      <td>20</td>\n",
       "      <td>0.966724</td>\n",
       "      <td>20</td>\n",
       "      <td>12111</td>\n",
       "      <td>11708.0</td>\n",
       "      <td>461715.0</td>\n",
       "    </tr>\n",
       "    <tr>\n",
       "      <th>509</th>\n",
       "      <td>100x</td>\n",
       "      <td>snippy_NZ_CP018109.1</td>\n",
       "      <td>0</td>\n",
       "      <td>Not_App</td>\n",
       "      <td>Not_App</td>\n",
       "      <td>20</td>\n",
       "      <td>0.963091</td>\n",
       "      <td>20</td>\n",
       "      <td>12111</td>\n",
       "      <td>11664.0</td>\n",
       "      <td>457489.0</td>\n",
       "    </tr>\n",
       "    <tr>\n",
       "      <th>510</th>\n",
       "      <td>100x</td>\n",
       "      <td>snippy_NZ_LN995446.1</td>\n",
       "      <td>0</td>\n",
       "      <td>Not_App</td>\n",
       "      <td>Not_App</td>\n",
       "      <td>20</td>\n",
       "      <td>0.958715</td>\n",
       "      <td>20</td>\n",
       "      <td>12111</td>\n",
       "      <td>11611.0</td>\n",
       "      <td>443257.0</td>\n",
       "    </tr>\n",
       "    <tr>\n",
       "      <th>511</th>\n",
       "      <td>100x</td>\n",
       "      <td>snippy_NZ_LT632320.1</td>\n",
       "      <td>0</td>\n",
       "      <td>Not_App</td>\n",
       "      <td>Not_App</td>\n",
       "      <td>20</td>\n",
       "      <td>0.964743</td>\n",
       "      <td>20</td>\n",
       "      <td>12111</td>\n",
       "      <td>11684.0</td>\n",
       "      <td>473473.0</td>\n",
       "    </tr>\n",
       "    <tr>\n",
       "      <th>512</th>\n",
       "      <td>100x</td>\n",
       "      <td>snippy_NZ_NG941718.1</td>\n",
       "      <td>0</td>\n",
       "      <td>Not_App</td>\n",
       "      <td>Not_App</td>\n",
       "      <td>20</td>\n",
       "      <td>0.967633</td>\n",
       "      <td>20</td>\n",
       "      <td>12111</td>\n",
       "      <td>11719.0</td>\n",
       "      <td>477123.0</td>\n",
       "    </tr>\n",
       "  </tbody>\n",
       "</table>\n",
       "<p>513 rows × 11 columns</p>\n",
       "</div>"
      ],
      "text/plain": [
       "    coverage                                           tool  \\\n",
       "0       100x    pandora_illumina_nodenovo_global_genotyping   \n",
       "1       100x  pandora_illumina_withdenovo_global_genotyping   \n",
       "2       100x                              snippy_CN928163.2   \n",
       "3       100x                              snippy_CP010116.1   \n",
       "4       100x                              snippy_CP010121.1   \n",
       "..       ...                                            ...   \n",
       "508     100x                           snippy_NZ_CP016007.1   \n",
       "509     100x                           snippy_NZ_CP018109.1   \n",
       "510     100x                           snippy_NZ_LN995446.1   \n",
       "511     100x                           snippy_NZ_LT632320.1   \n",
       "512     100x                           snippy_NZ_NG941718.1   \n",
       "\n",
       "     coverage_threshold strand_bias_threshold gaps_threshold  NB_OF_SAMPLES  \\\n",
       "0                     0                   0.0            1.0              2   \n",
       "1                     0                   0.0            1.0              2   \n",
       "2                     0               Not_App        Not_App              2   \n",
       "3                     0               Not_App        Not_App              2   \n",
       "4                     0               Not_App        Not_App              2   \n",
       "..                  ...                   ...            ...            ...   \n",
       "508                   0               Not_App        Not_App             20   \n",
       "509                   0               Not_App        Not_App             20   \n",
       "510                   0               Not_App        Not_App             20   \n",
       "511                   0               Not_App        Not_App             20   \n",
       "512                   0               Not_App        Not_App             20   \n",
       "\n",
       "       recall  NUMBER_OF_SAMPLES  total_nb_of_PanVar  nb_of_found_PanVar  \\\n",
       "0    0.504219                  2               77264             38958.0   \n",
       "1    0.525199                  2               77264             40579.0   \n",
       "2    0.284816                  2               77264             22006.0   \n",
       "3    0.217126                  2               77264             16776.0   \n",
       "4    0.235996                  2               77264             18234.0   \n",
       "..        ...                ...                 ...                 ...   \n",
       "508  0.966724                 20               12111             11708.0   \n",
       "509  0.963091                 20               12111             11664.0   \n",
       "510  0.958715                 20               12111             11611.0   \n",
       "511  0.964743                 20               12111             11684.0   \n",
       "512  0.967633                 20               12111             11719.0   \n",
       "\n",
       "     cumulative_nb_of_found_PanVar  \n",
       "0                          38958.0  \n",
       "1                          40579.0  \n",
       "2                          22006.0  \n",
       "3                          16776.0  \n",
       "4                          18234.0  \n",
       "..                             ...  \n",
       "508                       461715.0  \n",
       "509                       457489.0  \n",
       "510                       443257.0  \n",
       "511                       473473.0  \n",
       "512                       477123.0  \n",
       "\n",
       "[513 rows x 11 columns]"
      ]
     },
     "execution_count": 7,
     "metadata": {},
     "output_type": "execute_result"
    }
   ],
   "source": [
    "merged_data[\"cumulative_nb_of_found_PanVar\"] = merged_data[[\"tool\", \"NB_OF_SAMPLES\", \"nb_of_found_PanVar\"]].groupby(by=\"tool\")[\"nb_of_found_PanVar\"].cumsum()\n",
    "merged_data"
   ]
  },
  {
   "cell_type": "code",
   "execution_count": 27,
   "metadata": {},
   "outputs": [
    {
     "data": {
      "text/html": [
       "<div>\n",
       "<style scoped>\n",
       "    .dataframe tbody tr th:only-of-type {\n",
       "        vertical-align: middle;\n",
       "    }\n",
       "\n",
       "    .dataframe tbody tr th {\n",
       "        vertical-align: top;\n",
       "    }\n",
       "\n",
       "    .dataframe thead th {\n",
       "        text-align: right;\n",
       "    }\n",
       "</style>\n",
       "<table border=\"1\" class=\"dataframe\">\n",
       "  <thead>\n",
       "    <tr style=\"text-align: right;\">\n",
       "      <th></th>\n",
       "      <th>coverage</th>\n",
       "      <th>tool</th>\n",
       "      <th>coverage_threshold</th>\n",
       "      <th>strand_bias_threshold</th>\n",
       "      <th>gaps_threshold</th>\n",
       "      <th>NB_OF_SAMPLES</th>\n",
       "      <th>recall</th>\n",
       "      <th>NUMBER_OF_SAMPLES</th>\n",
       "      <th>total_nb_of_PanVar</th>\n",
       "      <th>nb_of_found_PanVar</th>\n",
       "      <th>cumulative_nb_of_found_PanVar</th>\n",
       "      <th>colour</th>\n",
       "    </tr>\n",
       "  </thead>\n",
       "  <tbody>\n",
       "    <tr>\n",
       "      <th>0</th>\n",
       "      <td>100x</td>\n",
       "      <td>pandora_illumina_nodenovo_global_genotyping</td>\n",
       "      <td>0</td>\n",
       "      <td>0.0</td>\n",
       "      <td>1.0</td>\n",
       "      <td>2</td>\n",
       "      <td>0.504219</td>\n",
       "      <td>2</td>\n",
       "      <td>77264</td>\n",
       "      <td>38958.0</td>\n",
       "      <td>38958.0</td>\n",
       "      <td>orange</td>\n",
       "    </tr>\n",
       "    <tr>\n",
       "      <th>1</th>\n",
       "      <td>100x</td>\n",
       "      <td>pandora_illumina_withdenovo_global_genotyping</td>\n",
       "      <td>0</td>\n",
       "      <td>0.0</td>\n",
       "      <td>1.0</td>\n",
       "      <td>2</td>\n",
       "      <td>0.525199</td>\n",
       "      <td>2</td>\n",
       "      <td>77264</td>\n",
       "      <td>40579.0</td>\n",
       "      <td>40579.0</td>\n",
       "      <td>blue</td>\n",
       "    </tr>\n",
       "    <tr>\n",
       "      <th>2</th>\n",
       "      <td>100x</td>\n",
       "      <td>snippy_CN928163.2</td>\n",
       "      <td>0</td>\n",
       "      <td>Not_App</td>\n",
       "      <td>Not_App</td>\n",
       "      <td>2</td>\n",
       "      <td>0.284816</td>\n",
       "      <td>2</td>\n",
       "      <td>77264</td>\n",
       "      <td>22006.0</td>\n",
       "      <td>22006.0</td>\n",
       "      <td>rgba(255,0,0,0.3)</td>\n",
       "    </tr>\n",
       "    <tr>\n",
       "      <th>3</th>\n",
       "      <td>100x</td>\n",
       "      <td>snippy_CP010116.1</td>\n",
       "      <td>0</td>\n",
       "      <td>Not_App</td>\n",
       "      <td>Not_App</td>\n",
       "      <td>2</td>\n",
       "      <td>0.217126</td>\n",
       "      <td>2</td>\n",
       "      <td>77264</td>\n",
       "      <td>16776.0</td>\n",
       "      <td>16776.0</td>\n",
       "      <td>rgba(255,0,0,0.3)</td>\n",
       "    </tr>\n",
       "    <tr>\n",
       "      <th>4</th>\n",
       "      <td>100x</td>\n",
       "      <td>snippy_CP010121.1</td>\n",
       "      <td>0</td>\n",
       "      <td>Not_App</td>\n",
       "      <td>Not_App</td>\n",
       "      <td>2</td>\n",
       "      <td>0.235996</td>\n",
       "      <td>2</td>\n",
       "      <td>77264</td>\n",
       "      <td>18234.0</td>\n",
       "      <td>18234.0</td>\n",
       "      <td>rgba(255,0,0,0.3)</td>\n",
       "    </tr>\n",
       "    <tr>\n",
       "      <th>...</th>\n",
       "      <td>...</td>\n",
       "      <td>...</td>\n",
       "      <td>...</td>\n",
       "      <td>...</td>\n",
       "      <td>...</td>\n",
       "      <td>...</td>\n",
       "      <td>...</td>\n",
       "      <td>...</td>\n",
       "      <td>...</td>\n",
       "      <td>...</td>\n",
       "      <td>...</td>\n",
       "      <td>...</td>\n",
       "    </tr>\n",
       "    <tr>\n",
       "      <th>508</th>\n",
       "      <td>100x</td>\n",
       "      <td>snippy_NZ_CP016007.1</td>\n",
       "      <td>0</td>\n",
       "      <td>Not_App</td>\n",
       "      <td>Not_App</td>\n",
       "      <td>20</td>\n",
       "      <td>0.966724</td>\n",
       "      <td>20</td>\n",
       "      <td>12111</td>\n",
       "      <td>11708.0</td>\n",
       "      <td>461715.0</td>\n",
       "      <td>rgba(255,0,0,0.3)</td>\n",
       "    </tr>\n",
       "    <tr>\n",
       "      <th>509</th>\n",
       "      <td>100x</td>\n",
       "      <td>snippy_NZ_CP018109.1</td>\n",
       "      <td>0</td>\n",
       "      <td>Not_App</td>\n",
       "      <td>Not_App</td>\n",
       "      <td>20</td>\n",
       "      <td>0.963091</td>\n",
       "      <td>20</td>\n",
       "      <td>12111</td>\n",
       "      <td>11664.0</td>\n",
       "      <td>457489.0</td>\n",
       "      <td>rgba(255,0,0,0.3)</td>\n",
       "    </tr>\n",
       "    <tr>\n",
       "      <th>510</th>\n",
       "      <td>100x</td>\n",
       "      <td>snippy_NZ_LN995446.1</td>\n",
       "      <td>0</td>\n",
       "      <td>Not_App</td>\n",
       "      <td>Not_App</td>\n",
       "      <td>20</td>\n",
       "      <td>0.958715</td>\n",
       "      <td>20</td>\n",
       "      <td>12111</td>\n",
       "      <td>11611.0</td>\n",
       "      <td>443257.0</td>\n",
       "      <td>rgba(255,0,0,0.3)</td>\n",
       "    </tr>\n",
       "    <tr>\n",
       "      <th>511</th>\n",
       "      <td>100x</td>\n",
       "      <td>snippy_NZ_LT632320.1</td>\n",
       "      <td>0</td>\n",
       "      <td>Not_App</td>\n",
       "      <td>Not_App</td>\n",
       "      <td>20</td>\n",
       "      <td>0.964743</td>\n",
       "      <td>20</td>\n",
       "      <td>12111</td>\n",
       "      <td>11684.0</td>\n",
       "      <td>473473.0</td>\n",
       "      <td>rgba(255,0,0,0.3)</td>\n",
       "    </tr>\n",
       "    <tr>\n",
       "      <th>512</th>\n",
       "      <td>100x</td>\n",
       "      <td>snippy_NZ_NG941718.1</td>\n",
       "      <td>0</td>\n",
       "      <td>Not_App</td>\n",
       "      <td>Not_App</td>\n",
       "      <td>20</td>\n",
       "      <td>0.967633</td>\n",
       "      <td>20</td>\n",
       "      <td>12111</td>\n",
       "      <td>11719.0</td>\n",
       "      <td>477123.0</td>\n",
       "      <td>rgba(255,0,0,0.3)</td>\n",
       "    </tr>\n",
       "  </tbody>\n",
       "</table>\n",
       "<p>513 rows × 12 columns</p>\n",
       "</div>"
      ],
      "text/plain": [
       "    coverage                                           tool  \\\n",
       "0       100x    pandora_illumina_nodenovo_global_genotyping   \n",
       "1       100x  pandora_illumina_withdenovo_global_genotyping   \n",
       "2       100x                              snippy_CN928163.2   \n",
       "3       100x                              snippy_CP010116.1   \n",
       "4       100x                              snippy_CP010121.1   \n",
       "..       ...                                            ...   \n",
       "508     100x                           snippy_NZ_CP016007.1   \n",
       "509     100x                           snippy_NZ_CP018109.1   \n",
       "510     100x                           snippy_NZ_LN995446.1   \n",
       "511     100x                           snippy_NZ_LT632320.1   \n",
       "512     100x                           snippy_NZ_NG941718.1   \n",
       "\n",
       "     coverage_threshold strand_bias_threshold gaps_threshold  NB_OF_SAMPLES  \\\n",
       "0                     0                   0.0            1.0              2   \n",
       "1                     0                   0.0            1.0              2   \n",
       "2                     0               Not_App        Not_App              2   \n",
       "3                     0               Not_App        Not_App              2   \n",
       "4                     0               Not_App        Not_App              2   \n",
       "..                  ...                   ...            ...            ...   \n",
       "508                   0               Not_App        Not_App             20   \n",
       "509                   0               Not_App        Not_App             20   \n",
       "510                   0               Not_App        Not_App             20   \n",
       "511                   0               Not_App        Not_App             20   \n",
       "512                   0               Not_App        Not_App             20   \n",
       "\n",
       "       recall  NUMBER_OF_SAMPLES  total_nb_of_PanVar  nb_of_found_PanVar  \\\n",
       "0    0.504219                  2               77264             38958.0   \n",
       "1    0.525199                  2               77264             40579.0   \n",
       "2    0.284816                  2               77264             22006.0   \n",
       "3    0.217126                  2               77264             16776.0   \n",
       "4    0.235996                  2               77264             18234.0   \n",
       "..        ...                ...                 ...                 ...   \n",
       "508  0.966724                 20               12111             11708.0   \n",
       "509  0.963091                 20               12111             11664.0   \n",
       "510  0.958715                 20               12111             11611.0   \n",
       "511  0.964743                 20               12111             11684.0   \n",
       "512  0.967633                 20               12111             11719.0   \n",
       "\n",
       "     cumulative_nb_of_found_PanVar             colour  \n",
       "0                          38958.0             orange  \n",
       "1                          40579.0               blue  \n",
       "2                          22006.0  rgba(255,0,0,0.3)  \n",
       "3                          16776.0  rgba(255,0,0,0.3)  \n",
       "4                          18234.0  rgba(255,0,0,0.3)  \n",
       "..                             ...                ...  \n",
       "508                       461715.0  rgba(255,0,0,0.3)  \n",
       "509                       457489.0  rgba(255,0,0,0.3)  \n",
       "510                       443257.0  rgba(255,0,0,0.3)  \n",
       "511                       473473.0  rgba(255,0,0,0.3)  \n",
       "512                       477123.0  rgba(255,0,0,0.3)  \n",
       "\n",
       "[513 rows x 12 columns]"
      ]
     },
     "execution_count": 27,
     "metadata": {},
     "output_type": "execute_result"
    }
   ],
   "source": [
    "def get_colour(tool):\n",
    "    if \"pandora\" in tool and \"withdenovo\" in tool:\n",
    "        return \"blue\"\n",
    "    elif \"pandora\" in tool and \"nodenovo\" in tool:\n",
    "        return \"orange\"\n",
    "    elif \"snippy\" in tool:\n",
    "        return \"rgba(255,0,0,0.3)\" # red with 0.3 alpha\n",
    "    elif \"samtools\" in tool:\n",
    "        return \"rgba(0,0.5,0,0.3)\" # green with 0.3 alpha\n",
    "    else:\n",
    "        assert False\n",
    "\n",
    "merged_data[\"colour\"] = merged_data[\"tool\"].apply(get_colour)\n",
    "merged_data"
   ]
  },
  {
   "cell_type": "code",
   "execution_count": 28,
   "metadata": {},
   "outputs": [
    {
     "data": {
      "application/vnd.plotly.v1+json": {
       "config": {
        "plotlyServerURL": "https://plot.ly"
       },
       "data": [
        {
         "hoverlabel": {
          "namelength": 0
         },
         "hovertemplate": "tool=pandora_illumina_nodenovo_global_genotyping<br>NB_OF_SAMPLES=%{x}<br>recall=%{y}",
         "legendgroup": "pandora_illumina_nodenovo_global_genotyping",
         "line": {
          "color": "orange",
          "dash": "solid"
         },
         "mode": "lines",
         "name": "pandora_illumina_nodenovo_global_genotyping",
         "showlegend": true,
         "type": "scatter",
         "x": [
          2,
          3,
          4,
          5,
          6,
          7,
          8,
          9,
          10,
          11,
          12,
          13,
          14,
          15,
          16,
          17,
          18,
          19,
          20
         ],
         "xaxis": "x",
         "y": [
          0.5042193000621247,
          0.5808464035670982,
          0.6390017411491584,
          0.6622497163146528,
          0.6387074596081127,
          0.6834450306573506,
          0.7178689557410616,
          0.7604572227213736,
          0.8005867878099565,
          0.8104633222684557,
          0.7719414893617021,
          0.7407302254272897,
          0.7358226137444317,
          0.7308497671656717,
          0.8540191293062099,
          0.8873760623229462,
          0.902848265147592,
          0.905873485107235,
          0.7658327140615969
         ],
         "yaxis": "y"
        },
        {
         "hoverlabel": {
          "namelength": 0
         },
         "hovertemplate": "tool=pandora_illumina_withdenovo_global_genotyping<br>NB_OF_SAMPLES=%{x}<br>recall=%{y}",
         "legendgroup": "pandora_illumina_withdenovo_global_genotyping",
         "line": {
          "color": "blue",
          "dash": "solid"
         },
         "mode": "lines",
         "name": "pandora_illumina_withdenovo_global_genotyping",
         "showlegend": true,
         "type": "scatter",
         "x": [
          2,
          3,
          4,
          5,
          6,
          7,
          8,
          9,
          10,
          11,
          12,
          13,
          14,
          15,
          16,
          17,
          18,
          19,
          20
         ],
         "xaxis": "x",
         "y": [
          0.5251993166287016,
          0.608205890405601,
          0.6745985683884698,
          0.6847615212855522,
          0.7334003226062353,
          0.7297875374304862,
          0.7659473932902819,
          0.7801237895577519,
          0.8224020442930153,
          0.8312684089952779,
          0.8021572104018913,
          0.8022826642439385,
          0.7889784273487161,
          0.8184829827796356,
          0.8680698586462772,
          0.8976451841359774,
          0.9120810830805652,
          0.9101487509863734,
          0.8489802658739989
         ],
         "yaxis": "y"
        },
        {
         "hoverlabel": {
          "namelength": 0
         },
         "hovertemplate": "tool=snippy_CN928163.2<br>NB_OF_SAMPLES=%{x}<br>recall=%{y}",
         "legendgroup": "snippy_CN928163.2",
         "line": {
          "color": "rgba(255,0,0,0.3)",
          "dash": "solid"
         },
         "mode": "lines",
         "name": "snippy_CN928163.2",
         "showlegend": true,
         "type": "scatter",
         "x": [
          2,
          3,
          4,
          5,
          6,
          7,
          8,
          9,
          10,
          11,
          12,
          13,
          14,
          15,
          16,
          17,
          18,
          19,
          20
         ],
         "xaxis": "x",
         "y": [
          0.2848156968316421,
          0.34704893026166544,
          0.3416521570903463,
          0.3388118159522677,
          0.6920168178332496,
          0.6829816055896193,
          0.6648291069459757,
          0.5649396026754517,
          0.7234999053568049,
          0.7804946467810557,
          0.7282801418439716,
          0.7793424564192833,
          0.8476900745783073,
          0.9365565521767666,
          0.9597099568320966,
          0.9637393767705382,
          0.9734408522601168,
          0.9748783963630796,
          0.9642473784163156
         ],
         "yaxis": "y"
        },
        {
         "hoverlabel": {
          "namelength": 0
         },
         "hovertemplate": "tool=snippy_CP010116.1<br>NB_OF_SAMPLES=%{x}<br>recall=%{y}",
         "legendgroup": "snippy_CP010116.1",
         "line": {
          "color": "rgba(255,0,0,0.3)",
          "dash": "solid"
         },
         "mode": "lines",
         "name": "snippy_CP010116.1",
         "showlegend": true,
         "type": "scatter",
         "x": [
          2,
          3,
          4,
          5,
          6,
          7,
          8,
          9,
          10,
          11,
          12,
          13,
          14,
          15,
          16,
          17,
          18,
          19,
          20
         ],
         "xaxis": "x",
         "y": [
          0.21712569890246428,
          0.23078577854265264,
          0.2644335737777409,
          0.25549983527947584,
          0.6493640426263321,
          0.6455867674319121,
          0.6385651283666719,
          0.5731756014774883,
          0.7085936021200075,
          0.7293001075319089,
          0.7137263593380615,
          0.760320254386463,
          0.8475399169127584,
          0.9122105197362252,
          0.932934571001326,
          0.9359242209631728,
          0.9385810460901088,
          0.9490383596169928,
          0.936586574188754
         ],
         "yaxis": "y"
        },
        {
         "hoverlabel": {
          "namelength": 0
         },
         "hovertemplate": "tool=snippy_CP010121.1<br>NB_OF_SAMPLES=%{x}<br>recall=%{y}",
         "legendgroup": "snippy_CP010121.1",
         "line": {
          "color": "rgba(255,0,0,0.3)",
          "dash": "solid"
         },
         "mode": "lines",
         "name": "snippy_CP010121.1",
         "showlegend": true,
         "type": "scatter",
         "x": [
          2,
          3,
          4,
          5,
          6,
          7,
          8,
          9,
          10,
          11,
          12,
          13,
          14,
          15,
          16,
          17,
          18,
          19,
          20
         ],
         "xaxis": "x",
         "y": [
          0.2359960654379789,
          0.2457855829780577,
          0.2868750518199154,
          0.2906036092097075,
          0.6514001639474309,
          0.6374590047055468,
          0.612261773507639,
          0.5289507836677648,
          0.7159757713420405,
          0.7193417177053626,
          0.6896424349881797,
          0.7109193117937652,
          0.8438860803844036,
          0.9238366096821578,
          0.9521485201591288,
          0.9575070821529744,
          0.9711918325072132,
          0.973877301047028,
          0.9642473784163156
         ],
         "yaxis": "y"
        },
        {
         "hoverlabel": {
          "namelength": 0
         },
         "hovertemplate": "tool=snippy_CP010170.1<br>NB_OF_SAMPLES=%{x}<br>recall=%{y}",
         "legendgroup": "snippy_CP010170.1",
         "line": {
          "color": "rgba(255,0,0,0.3)",
          "dash": "solid"
         },
         "mode": "lines",
         "name": "snippy_CP010170.1",
         "showlegend": true,
         "type": "scatter",
         "x": [
          2,
          3,
          4,
          5,
          6,
          7,
          8,
          9,
          10,
          11,
          12,
          13,
          14,
          15,
          16,
          17,
          18,
          19,
          20
         ],
         "xaxis": "x",
         "y": [
          0.19445019672810104,
          0.23164626276058986,
          0.23013569908520576,
          0.26454116182876386,
          0.6272046963006056,
          0.5827035505489805,
          0.5832020790675697,
          0.5444244783867426,
          0.6123887942456937,
          0.6691289915377063,
          0.6247044917257684,
          0.6798591789222644,
          0.7972871515090846,
          0.9184298527986999,
          0.9414835087323308,
          0.9628895184135976,
          0.9694458829621958,
          0.9735475284723284,
          0.9630088349434398
         ],
         "yaxis": "y"
        },
        {
         "hoverlabel": {
          "namelength": 0
         },
         "hovertemplate": "tool=snippy_CP010171.1<br>NB_OF_SAMPLES=%{x}<br>recall=%{y}",
         "legendgroup": "snippy_CP010171.1",
         "line": {
          "color": "rgba(255,0,0,0.3)",
          "dash": "solid"
         },
         "mode": "lines",
         "name": "snippy_CP010171.1",
         "showlegend": true,
         "type": "scatter",
         "x": [
          2,
          3,
          4,
          5,
          6,
          7,
          8,
          9,
          10,
          11,
          12,
          13,
          14,
          15,
          16,
          17,
          18,
          19,
          20
         ],
         "xaxis": "x",
         "y": [
          0.2046360530130462,
          0.2457464700590605,
          0.2773954619572728,
          0.28902961308979097,
          0.6246661554327418,
          0.5896192784828176,
          0.6158056386832572,
          0.5367874613157632,
          0.6347719098996782,
          0.6803029594651456,
          0.6303930260047281,
          0.7170518425983761,
          0.7985384653886581,
          0.9089289620901959,
          0.932624213525943,
          0.9494511331444759,
          0.9539986683435674,
          0.9692722625931902,
          0.9623482784245728
         ],
         "yaxis": "y"
        },
        {
         "hoverlabel": {
          "namelength": 0
         },
         "hovertemplate": "tool=snippy_CP010226.1<br>NB_OF_SAMPLES=%{x}<br>recall=%{y}",
         "legendgroup": "snippy_CP010226.1",
         "line": {
          "color": "rgba(255,0,0,0.3)",
          "dash": "solid"
         },
         "mode": "lines",
         "name": "snippy_CP010226.1",
         "showlegend": true,
         "type": "scatter",
         "x": [
          2,
          3,
          4,
          5,
          6,
          7,
          8,
          9,
          10,
          11,
          12,
          13,
          14,
          15,
          16,
          17,
          18,
          19,
          20
         ],
         "xaxis": "x",
         "y": [
          0.1918746117208532,
          0.2270700512379239,
          0.21269657021253074,
          0.2291079468501775,
          0.5953142766480684,
          0.5677313560530444,
          0.5701685304772405,
          0.511330737745832,
          0.6140923717584705,
          0.6512225910514751,
          0.5720301418439716,
          0.6494236556697519,
          0.7456329145602884,
          0.8853642528987092,
          0.9119149056231132,
          0.9390403682719548,
          0.9464970037730266,
          0.9620408211337108,
          0.9495499958715218
         ],
         "yaxis": "y"
        },
        {
         "hoverlabel": {
          "namelength": 0
         },
         "hovertemplate": "tool=snippy_CP010230.1<br>NB_OF_SAMPLES=%{x}<br>recall=%{y}",
         "legendgroup": "snippy_CP010230.1",
         "line": {
          "color": "rgba(255,0,0,0.3)",
          "dash": "solid"
         },
         "mode": "lines",
         "name": "snippy_CP010230.1",
         "showlegend": true,
         "type": "scatter",
         "x": [
          2,
          3,
          4,
          5,
          6,
          7,
          8,
          9,
          10,
          11,
          12,
          13,
          14,
          15,
          16,
          17,
          18,
          19,
          20
         ],
         "xaxis": "x",
         "y": [
          0.1829183060675088,
          0.2316658192200884,
          0.2646270347953459,
          0.2577693180570299,
          0.6400560594441653,
          0.5915799230001426,
          0.6311623877776028,
          0.5483178596386143,
          0.6751845542305508,
          0.7102248819486652,
          0.6584663120567376,
          0.7398784850377604,
          0.8168076480304319,
          0.9194299465574898,
          0.9462235138109076,
          0.9590474504249292,
          0.9658800029592364,
          0.9694018161046792,
          0.959458343654529
         ],
         "yaxis": "y"
        },
        {
         "hoverlabel": {
          "namelength": 0
         },
         "hovertemplate": "tool=snippy_CP018206.1<br>NB_OF_SAMPLES=%{x}<br>recall=%{y}",
         "legendgroup": "snippy_CP018206.1",
         "line": {
          "color": "rgba(255,0,0,0.3)",
          "dash": "solid"
         },
         "mode": "lines",
         "name": "snippy_CP018206.1",
         "showlegend": true,
         "type": "scatter",
         "x": [
          2,
          3,
          4,
          5,
          6,
          7,
          8,
          9,
          10,
          11,
          12,
          13,
          14,
          15,
          16,
          17,
          18,
          19,
          20
         ],
         "xaxis": "x",
         "y": [
          0.24844688341271484,
          0.26377752571674423,
          0.3000580383052815,
          0.2906402137706358,
          0.6890287436867018,
          0.6758519891629831,
          0.6794377067254685,
          0.5946890286512928,
          0.7499526784024229,
          0.7604376081163214,
          0.7331560283687943,
          0.7783771506444835,
          0.8644076280094098,
          0.9458699253054974,
          0.9612899585249556,
          0.9670325779036828,
          0.9714877561589108,
          0.9736181940240498,
          0.9637519610271654
         ],
         "yaxis": "y"
        },
        {
         "hoverlabel": {
          "namelength": 0
         },
         "hovertemplate": "tool=snippy_NC_004431.1<br>NB_OF_SAMPLES=%{x}<br>recall=%{y}",
         "legendgroup": "snippy_NC_004431.1",
         "line": {
          "color": "rgba(255,0,0,0.3)",
          "dash": "solid"
         },
         "mode": "lines",
         "name": "snippy_NC_004431.1",
         "showlegend": true,
         "type": "scatter",
         "x": [
          2,
          3,
          4,
          5,
          6,
          7,
          8,
          9,
          10,
          11,
          12,
          13,
          14,
          15,
          16,
          17,
          18,
          19,
          20
         ],
         "xaxis": "x",
         "y": [
          0.2957522261337751,
          0.3656862361638049,
          0.3798468894232098,
          0.32127823126761595,
          0.6545733400322606,
          0.597568800798517,
          0.6286029295952118,
          0.6023759608665269,
          0.6549782320651145,
          0.6779653092711206,
          0.4976359338061466,
          0.5802055533473397,
          0.6987336703538716,
          0.8825827421320749,
          0.9301977823547668,
          0.9638810198300284,
          0.9723607309314196,
          0.977740351207792,
          0.9676327305755099
         ],
         "yaxis": "y"
        },
        {
         "hoverlabel": {
          "namelength": 0
         },
         "hovertemplate": "tool=snippy_NC_007779.1<br>NB_OF_SAMPLES=%{x}<br>recall=%{y}",
         "legendgroup": "snippy_NC_007779.1",
         "line": {
          "color": "rgba(255,0,0,0.3)",
          "dash": "solid"
         },
         "mode": "lines",
         "name": "snippy_NC_007779.1",
         "showlegend": true,
         "type": "scatter",
         "x": [
          2,
          3,
          4,
          5,
          6,
          7,
          8,
          9,
          10,
          11,
          12,
          13,
          14,
          15,
          16,
          17,
          18,
          19,
          20
         ],
         "xaxis": "x",
         "y": [
          0.19586094429488507,
          0.2373567489341729,
          0.2283669126385319,
          0.22438595849042792,
          0.6141153449506835,
          0.5792456865820619,
          0.5839502283824224,
          0.5513127682939004,
          0.6285727806170737,
          0.6829678806863341,
          0.619533096926714,
          0.6953608540116972,
          0.8043445617898793,
          0.9118354845766792,
          0.9388595773495472,
          0.9615262039660056,
          0.9688096471110452,
          0.9728173177712084,
          0.9621831392948559
         ],
         "yaxis": "y"
        },
        {
         "hoverlabel": {
          "namelength": 0
         },
         "hovertemplate": "tool=snippy_NC_010498.1<br>NB_OF_SAMPLES=%{x}<br>recall=%{y}",
         "legendgroup": "snippy_NC_010498.1",
         "line": {
          "color": "rgba(255,0,0,0.3)",
          "dash": "solid"
         },
         "mode": "lines",
         "name": "snippy_NC_010498.1",
         "showlegend": true,
         "type": "scatter",
         "x": [
          2,
          3,
          4,
          5,
          6,
          7,
          8,
          9,
          10,
          11,
          12,
          13,
          14,
          15,
          16,
          17,
          18,
          19,
          20
         ],
         "xaxis": "x",
         "y": [
          0.2699575481466142,
          0.3777916845934212,
          0.3121631705497057,
          0.3437900362385153,
          0.6601528413147526,
          0.6805931840866961,
          0.6878642305874941,
          0.6097134870719776,
          0.7444633730834753,
          0.7893777175183505,
          0.7620419621749409,
          0.8157969450911362,
          0.8524450673206867,
          0.9357439759977498,
          0.9612899585249556,
          0.9658994334277621,
          0.9719464378190428,
          0.9753730552251286,
          0.9622657088597144
         ],
         "yaxis": "y"
        },
        {
         "hoverlabel": {
          "namelength": 0
         },
         "hovertemplate": "tool=snippy_NC_011742.1<br>NB_OF_SAMPLES=%{x}<br>recall=%{y}",
         "legendgroup": "snippy_NC_011742.1",
         "line": {
          "color": "rgba(255,0,0,0.3)",
          "dash": "solid"
         },
         "mode": "lines",
         "name": "snippy_NC_011742.1",
         "showlegend": true,
         "type": "scatter",
         "x": [
          2,
          3,
          4,
          5,
          6,
          7,
          8,
          9,
          10,
          11,
          12,
          13,
          14,
          15,
          16,
          17,
          18,
          19,
          20
         ],
         "xaxis": "x",
         "y": [
          0.29616639055705113,
          0.3368209019439121,
          0.3779399165353896,
          0.3414473443391047,
          0.6802496231853399,
          0.6065877655782119,
          0.6532918569853521,
          0.6159528801038235,
          0.6768881317433276,
          0.7140118752629856,
          0.5586583924349882,
          0.6601555845778206,
          0.7627008358776716,
          0.9092102384598556,
          0.9522049487910166,
          0.9652797450424928,
          0.9706739661167418,
          0.9756910502078744,
          0.9673024523160764
         ],
         "yaxis": "y"
        },
        {
         "hoverlabel": {
          "namelength": 0
         },
         "hovertemplate": "tool=snippy_NC_011993.1<br>NB_OF_SAMPLES=%{x}<br>recall=%{y}",
         "legendgroup": "snippy_NC_011993.1",
         "line": {
          "color": "rgba(255,0,0,0.3)",
          "dash": "solid"
         },
         "mode": "lines",
         "name": "snippy_NC_011993.1",
         "showlegend": true,
         "type": "scatter",
         "x": [
          2,
          3,
          4,
          5,
          6,
          7,
          8,
          9,
          10,
          11,
          12,
          13,
          14,
          15,
          16,
          17,
          18,
          19,
          20
         ],
         "xaxis": "x",
         "y": [
          0.23525833505901844,
          0.2772714827707592,
          0.3027941298399801,
          0.25619532193711336,
          0.6146442076314885,
          0.5525452730643091,
          0.5848952590959207,
          0.5423779574722971,
          0.6157486276736702,
          0.6335967085885268,
          0.4901743498817967,
          0.5886661745499971,
          0.7187046398718655,
          0.891614838891146,
          0.9478881584515984,
          0.9648016997167141,
          0.9728342087741364,
          0.9761150435182022,
          0.9675501610106516
         ],
         "yaxis": "y"
        },
        {
         "hoverlabel": {
          "namelength": 0
         },
         "hovertemplate": "tool=snippy_NC_017646.1<br>NB_OF_SAMPLES=%{x}<br>recall=%{y}",
         "legendgroup": "snippy_NC_017646.1",
         "line": {
          "color": "rgba(255,0,0,0.3)",
          "dash": "solid"
         },
         "mode": "lines",
         "name": "snippy_NC_017646.1",
         "showlegend": true,
         "type": "scatter",
         "x": [
          2,
          3,
          4,
          5,
          6,
          7,
          8,
          9,
          10,
          11,
          12,
          13,
          14,
          15,
          16,
          17,
          18,
          19,
          20
         ],
         "xaxis": "x",
         "y": [
          0.301045765168772,
          0.3123362146516995,
          0.3892988419976232,
          0.35403931329843696,
          0.7121135997038369,
          0.6946385284471696,
          0.6665222869743267,
          0.5828092243186582,
          0.7134677266704524,
          0.7954088550189351,
          0.7727541371158393,
          0.8215319970473001,
          0.8540467490865409,
          0.9404631684220396,
          0.9594842423045452,
          0.9650141643059492,
          0.9695346600577052,
          0.9730764247941864,
          0.9639996697217406
         ],
         "yaxis": "y"
        },
        {
         "hoverlabel": {
          "namelength": 0
         },
         "hovertemplate": "tool=snippy_NC_022648.1<br>NB_OF_SAMPLES=%{x}<br>recall=%{y}",
         "legendgroup": "snippy_NC_022648.1",
         "line": {
          "color": "rgba(255,0,0,0.3)",
          "dash": "solid"
         },
         "mode": "lines",
         "name": "snippy_NC_022648.1",
         "showlegend": true,
         "type": "scatter",
         "x": [
          2,
          3,
          4,
          5,
          6,
          7,
          8,
          9,
          10,
          11,
          12,
          13,
          14,
          15,
          16,
          17,
          18,
          19,
          20
         ],
         "xaxis": "x",
         "y": [
          0.29463915924622075,
          0.38866507607462747,
          0.3540336622170633,
          0.34902448845126105,
          0.6411666710738557,
          0.6071224868102096,
          0.6642778390297684,
          0.6324248777078966,
          0.6679916713988264,
          0.7253261022020665,
          0.5499408983451537,
          0.6176253477939924,
          0.7362230341858952,
          0.8878957402256461,
          0.9397906497756962,
          0.961012747875354,
          0.9658800029592364,
          0.9751728361619184,
          0.9675501610106516
         ],
         "yaxis": "y"
        },
        {
         "hoverlabel": {
          "namelength": 0
         },
         "hovertemplate": "tool=snippy_NZ_CP008697.1<br>NB_OF_SAMPLES=%{x}<br>recall=%{y}",
         "legendgroup": "snippy_NZ_CP008697.1",
         "line": {
          "color": "rgba(255,0,0,0.3)",
          "dash": "solid"
         },
         "mode": "lines",
         "name": "snippy_NZ_CP008697.1",
         "showlegend": true,
         "type": "scatter",
         "x": [
          2,
          3,
          4,
          5,
          6,
          7,
          8,
          9,
          10,
          11,
          12,
          13,
          14,
          15,
          16,
          17,
          18,
          19,
          20
         ],
         "xaxis": "x",
         "y": [
          0.2886208324704908,
          0.3151327883599953,
          0.3120802586850178,
          0.33006332589040593,
          0.6788481370812068,
          0.719913018679595,
          0.7291699480233108,
          0.6707097933513028,
          0.7614991482112436,
          0.8341203422319884,
          0.819813829787234,
          0.8667878030776219,
          0.8927874267981378,
          0.9445260493171236,
          0.9598228140958722,
          0.9678824362606232,
          0.9696678257009692,
          0.9730646472022332,
          0.9644950871108908
         ],
         "yaxis": "y"
        },
        {
         "hoverlabel": {
          "namelength": 0
         },
         "hovertemplate": "tool=snippy_NZ_CP009859.1<br>NB_OF_SAMPLES=%{x}<br>recall=%{y}",
         "legendgroup": "snippy_NZ_CP009859.1",
         "line": {
          "color": "rgba(255,0,0,0.3)",
          "dash": "solid"
         },
         "mode": "lines",
         "name": "snippy_NZ_CP009859.1",
         "showlegend": true,
         "type": "scatter",
         "x": [
          2,
          3,
          4,
          5,
          6,
          7,
          8,
          9,
          10,
          11,
          12,
          13,
          14,
          15,
          16,
          17,
          18,
          19,
          20
         ],
         "xaxis": "x",
         "y": [
          0.3025341685649203,
          0.3271013415731216,
          0.3474836249067241,
          0.37775906877997,
          0.6799058624428167,
          0.7327106801654071,
          0.7306662466530163,
          0.6612758310871518,
          0.7610259322354723,
          0.8274346626770771,
          0.8135342789598109,
          0.8666174549997161,
          0.8805245507783173,
          0.9411507328812077,
          0.9522895917388484,
          0.9600389518413598,
          0.9595620329954871,
          0.9712744532252936,
          0.9624308479894312
         ],
         "yaxis": "y"
        },
        {
         "hoverlabel": {
          "namelength": 0
         },
         "hovertemplate": "tool=snippy_NZ_CP011134.1<br>NB_OF_SAMPLES=%{x}<br>recall=%{y}",
         "legendgroup": "snippy_NZ_CP011134.1",
         "line": {
          "color": "rgba(255,0,0,0.3)",
          "dash": "solid"
         },
         "mode": "lines",
         "name": "snippy_NZ_CP011134.1",
         "showlegend": true,
         "type": "scatter",
         "x": [
          2,
          3,
          4,
          5,
          6,
          7,
          8,
          9,
          10,
          11,
          12,
          13,
          14,
          15,
          16,
          17,
          18,
          19,
          20
         ],
         "xaxis": "x",
         "y": [
          0.24741147235452474,
          0.2820628153479094,
          0.2719509161761048,
          0.26706687653281597,
          0.6627442684506968,
          0.6228789391130757,
          0.6595526854622775,
          0.6219926125586503,
          0.7060382358508424,
          0.8009257094768338,
          0.7654403073286052,
          0.8395321106126853,
          0.8614545272536163,
          0.9384629809044598,
          0.9593149564088821,
          0.9681657223796034,
          0.9679218761559516,
          0.9708857926908264,
          0.9618528610354224
         ],
         "yaxis": "y"
        },
        {
         "hoverlabel": {
          "namelength": 0
         },
         "hovertemplate": "tool=snippy_NZ_CP013483.1<br>NB_OF_SAMPLES=%{x}<br>recall=%{y}",
         "legendgroup": "snippy_NZ_CP013483.1",
         "line": {
          "color": "rgba(255,0,0,0.3)",
          "dash": "solid"
         },
         "mode": "lines",
         "name": "snippy_NZ_CP013483.1",
         "showlegend": true,
         "type": "scatter",
         "x": [
          2,
          3,
          4,
          5,
          6,
          7,
          8,
          9,
          10,
          11,
          12,
          13,
          14,
          15,
          16,
          17,
          18,
          19,
          20
         ],
         "xaxis": "x",
         "y": [
          0.2097354524746325,
          0.2616067587124027,
          0.2462206008346461,
          0.2319631026025843,
          0.6379934949890261,
          0.578283188364466,
          0.6162387777602772,
          0.5704801836877309,
          0.6504826802952868,
          0.6983963719668989,
          0.6583185579196218,
          0.7221055022429164,
          0.8052455077831723,
          0.9068037628527674,
          0.93101599751714,
          0.9626062322946176,
          0.9670341052008582,
          0.9692487074092832,
          0.9621005697299976
         ],
         "yaxis": "y"
        },
        {
         "hoverlabel": {
          "namelength": 0
         },
         "hovertemplate": "tool=snippy_NZ_CP015228.1<br>NB_OF_SAMPLES=%{x}<br>recall=%{y}",
         "legendgroup": "snippy_NZ_CP015228.1",
         "line": {
          "color": "rgba(255,0,0,0.3)",
          "dash": "solid"
         },
         "mode": "lines",
         "name": "snippy_NZ_CP015228.1",
         "showlegend": true,
         "type": "scatter",
         "x": [
          2,
          3,
          4,
          5,
          6,
          7,
          8,
          9,
          10,
          11,
          12,
          13,
          14,
          15,
          16,
          17,
          18,
          19,
          20
         ],
         "xaxis": "x",
         "y": [
          0.23994357009732864,
          0.2777017248797278,
          0.2880358179255452,
          0.2759251802774625,
          0.664806832905836,
          0.6271210608869243,
          0.6928650181130886,
          0.6126584805830089,
          0.7142721938292637,
          0.7457104118939641,
          0.7046394799054374,
          0.7741184486968372,
          0.8542970118624555,
          0.9292121136356534,
          0.9503710182546624,
          0.9587995750708216,
          0.9654953022120292,
          0.9681887241334636,
          0.9589629262653786
         ],
         "yaxis": "y"
        },
        {
         "hoverlabel": {
          "namelength": 0
         },
         "hovertemplate": "tool=snippy_NZ_CP016007.1<br>NB_OF_SAMPLES=%{x}<br>recall=%{y}",
         "legendgroup": "snippy_NZ_CP016007.1",
         "line": {
          "color": "rgba(255,0,0,0.3)",
          "dash": "solid"
         },
         "mode": "lines",
         "name": "snippy_NZ_CP016007.1",
         "showlegend": true,
         "type": "scatter",
         "x": [
          2,
          3,
          4,
          5,
          6,
          7,
          8,
          9,
          10,
          11,
          12,
          13,
          14,
          15,
          16,
          17,
          18,
          19,
          20
         ],
         "xaxis": "x",
         "y": [
          0.2598105197763512,
          0.3780459185669027,
          0.3443053367603571,
          0.3093451444049929,
          0.6295581352301874,
          0.5712605161842292,
          0.5929673964403843,
          0.5693321353698713,
          0.6183513155404127,
          0.6384122679882183,
          0.4999261229314421,
          0.584237124524445,
          0.7252615246008308,
          0.8939588086383098,
          0.949298874248794,
          0.963048866855524,
          0.9711918325072132,
          0.9757263829837352,
          0.9667244653620676
         ],
         "yaxis": "y"
        },
        {
         "hoverlabel": {
          "namelength": 0
         },
         "hovertemplate": "tool=snippy_NZ_CP018109.1<br>NB_OF_SAMPLES=%{x}<br>recall=%{y}",
         "legendgroup": "snippy_NZ_CP018109.1",
         "line": {
          "color": "rgba(255,0,0,0.3)",
          "dash": "solid"
         },
         "mode": "lines",
         "name": "snippy_NZ_CP018109.1",
         "showlegend": true,
         "type": "scatter",
         "x": [
          2,
          3,
          4,
          5,
          6,
          7,
          8,
          9,
          10,
          11,
          12,
          13,
          14,
          15,
          16,
          17,
          18,
          19,
          20
         ],
         "xaxis": "x",
         "y": [
          0.2294729757713813,
          0.2547619978879024,
          0.2538484923859271,
          0.2529741205754237,
          0.6235026575349711,
          0.5914016825894767,
          0.6594739329028193,
          0.6071178995707298,
          0.6895703198939996,
          0.7187806816587966,
          0.6832151300236406,
          0.7083073079325422,
          0.7871765353621303,
          0.8941150732881208,
          0.9033377535761644,
          0.9527443342776204,
          0.9688688318413852,
          0.9725817659321376,
          0.9630914045082982
         ],
         "yaxis": "y"
        },
        {
         "hoverlabel": {
          "namelength": 0
         },
         "hovertemplate": "tool=snippy_NZ_LN995446.1<br>NB_OF_SAMPLES=%{x}<br>recall=%{y}",
         "legendgroup": "snippy_NZ_LN995446.1",
         "line": {
          "color": "rgba(255,0,0,0.3)",
          "dash": "solid"
         },
         "mode": "lines",
         "name": "snippy_NZ_LN995446.1",
         "showlegend": true,
         "type": "scatter",
         "x": [
          2,
          3,
          4,
          5,
          6,
          7,
          8,
          9,
          10,
          11,
          12,
          13,
          14,
          15,
          16,
          17,
          18,
          19,
          20
         ],
         "xaxis": "x",
         "y": [
          0.19045092151584173,
          0.23162670630109125,
          0.2225078075339248,
          0.21669900069548667,
          0.6095142396276807,
          0.5769998574076715,
          0.5769412505906442,
          0.5475691324747929,
          0.6242191936399772,
          0.6758146710926177,
          0.6026891252955082,
          0.6855942308784283,
          0.7892286901246308,
          0.904366034315717,
          0.9259374206472364,
          0.9513101983002832,
          0.9589257971443368,
          0.9695078144322612,
          0.9587152175708034
         ],
         "yaxis": "y"
        },
        {
         "hoverlabel": {
          "namelength": 0
         },
         "hovertemplate": "tool=snippy_NZ_LT632320.1<br>NB_OF_SAMPLES=%{x}<br>recall=%{y}",
         "legendgroup": "snippy_NZ_LT632320.1",
         "line": {
          "color": "rgba(255,0,0,0.3)",
          "dash": "solid"
         },
         "mode": "lines",
         "name": "snippy_NZ_LT632320.1",
         "showlegend": true,
         "type": "scatter",
         "x": [
          2,
          3,
          4,
          5,
          6,
          7,
          8,
          9,
          10,
          11,
          12,
          13,
          14,
          15,
          16,
          17,
          18,
          19,
          20
         ],
         "xaxis": "x",
         "y": [
          0.2937849451232139,
          0.3918332225133962,
          0.36517148937346267,
          0.34638896006442405,
          0.642171510167385,
          0.613681733922715,
          0.6648291069459757,
          0.639412997903564,
          0.6683229225818663,
          0.7076534667352378,
          0.5518617021276596,
          0.6082562035091704,
          0.7347715100855898,
          0.8874269462762134,
          0.9356149310159976,
          0.9566749291784704,
          0.9617814603832212,
          0.9713215635931076,
          0.9647427958054658
         ],
         "yaxis": "y"
        },
        {
         "hoverlabel": {
          "namelength": 0
         },
         "hovertemplate": "tool=snippy_NZ_NG941718.1<br>NB_OF_SAMPLES=%{x}<br>recall=%{y}",
         "legendgroup": "snippy_NZ_NG941718.1",
         "line": {
          "color": "rgba(255,0,0,0.3)",
          "dash": "solid"
         },
         "mode": "lines",
         "name": "snippy_NZ_NG941718.1",
         "showlegend": true,
         "type": "scatter",
         "x": [
          2,
          3,
          4,
          5,
          6,
          7,
          8,
          9,
          10,
          11,
          12,
          13,
          14,
          15,
          16,
          17,
          18,
          19,
          20
         ],
         "xaxis": "x",
         "y": [
          0.2980042451853386,
          0.3969961278210193,
          0.3710582317662991,
          0.35085471649767563,
          0.6468255017584684,
          0.6200983887066875,
          0.6701842809891322,
          0.6405111310771688,
          0.6727711527541171,
          0.7279442704193745,
          0.5550384160756501,
          0.6268241440009086,
          0.7413784473697382,
          0.8913335625214864,
          0.9394520779843692,
          0.9611012747875354,
          0.9661167418805948,
          0.9753495000412216,
          0.9676327305755099
         ],
         "yaxis": "y"
        }
       ],
       "layout": {
        "legend": {
         "title": {
          "text": "tool"
         },
         "tracegroupgap": 0
        },
        "margin": {
         "t": 60
        },
        "template": {
         "data": {
          "bar": [
           {
            "error_x": {
             "color": "#2a3f5f"
            },
            "error_y": {
             "color": "#2a3f5f"
            },
            "marker": {
             "line": {
              "color": "#E5ECF6",
              "width": 0.5
             }
            },
            "type": "bar"
           }
          ],
          "barpolar": [
           {
            "marker": {
             "line": {
              "color": "#E5ECF6",
              "width": 0.5
             }
            },
            "type": "barpolar"
           }
          ],
          "carpet": [
           {
            "aaxis": {
             "endlinecolor": "#2a3f5f",
             "gridcolor": "white",
             "linecolor": "white",
             "minorgridcolor": "white",
             "startlinecolor": "#2a3f5f"
            },
            "baxis": {
             "endlinecolor": "#2a3f5f",
             "gridcolor": "white",
             "linecolor": "white",
             "minorgridcolor": "white",
             "startlinecolor": "#2a3f5f"
            },
            "type": "carpet"
           }
          ],
          "choropleth": [
           {
            "colorbar": {
             "outlinewidth": 0,
             "ticks": ""
            },
            "type": "choropleth"
           }
          ],
          "contour": [
           {
            "colorbar": {
             "outlinewidth": 0,
             "ticks": ""
            },
            "colorscale": [
             [
              0,
              "#0d0887"
             ],
             [
              0.1111111111111111,
              "#46039f"
             ],
             [
              0.2222222222222222,
              "#7201a8"
             ],
             [
              0.3333333333333333,
              "#9c179e"
             ],
             [
              0.4444444444444444,
              "#bd3786"
             ],
             [
              0.5555555555555556,
              "#d8576b"
             ],
             [
              0.6666666666666666,
              "#ed7953"
             ],
             [
              0.7777777777777778,
              "#fb9f3a"
             ],
             [
              0.8888888888888888,
              "#fdca26"
             ],
             [
              1,
              "#f0f921"
             ]
            ],
            "type": "contour"
           }
          ],
          "contourcarpet": [
           {
            "colorbar": {
             "outlinewidth": 0,
             "ticks": ""
            },
            "type": "contourcarpet"
           }
          ],
          "heatmap": [
           {
            "colorbar": {
             "outlinewidth": 0,
             "ticks": ""
            },
            "colorscale": [
             [
              0,
              "#0d0887"
             ],
             [
              0.1111111111111111,
              "#46039f"
             ],
             [
              0.2222222222222222,
              "#7201a8"
             ],
             [
              0.3333333333333333,
              "#9c179e"
             ],
             [
              0.4444444444444444,
              "#bd3786"
             ],
             [
              0.5555555555555556,
              "#d8576b"
             ],
             [
              0.6666666666666666,
              "#ed7953"
             ],
             [
              0.7777777777777778,
              "#fb9f3a"
             ],
             [
              0.8888888888888888,
              "#fdca26"
             ],
             [
              1,
              "#f0f921"
             ]
            ],
            "type": "heatmap"
           }
          ],
          "heatmapgl": [
           {
            "colorbar": {
             "outlinewidth": 0,
             "ticks": ""
            },
            "colorscale": [
             [
              0,
              "#0d0887"
             ],
             [
              0.1111111111111111,
              "#46039f"
             ],
             [
              0.2222222222222222,
              "#7201a8"
             ],
             [
              0.3333333333333333,
              "#9c179e"
             ],
             [
              0.4444444444444444,
              "#bd3786"
             ],
             [
              0.5555555555555556,
              "#d8576b"
             ],
             [
              0.6666666666666666,
              "#ed7953"
             ],
             [
              0.7777777777777778,
              "#fb9f3a"
             ],
             [
              0.8888888888888888,
              "#fdca26"
             ],
             [
              1,
              "#f0f921"
             ]
            ],
            "type": "heatmapgl"
           }
          ],
          "histogram": [
           {
            "marker": {
             "colorbar": {
              "outlinewidth": 0,
              "ticks": ""
             }
            },
            "type": "histogram"
           }
          ],
          "histogram2d": [
           {
            "colorbar": {
             "outlinewidth": 0,
             "ticks": ""
            },
            "colorscale": [
             [
              0,
              "#0d0887"
             ],
             [
              0.1111111111111111,
              "#46039f"
             ],
             [
              0.2222222222222222,
              "#7201a8"
             ],
             [
              0.3333333333333333,
              "#9c179e"
             ],
             [
              0.4444444444444444,
              "#bd3786"
             ],
             [
              0.5555555555555556,
              "#d8576b"
             ],
             [
              0.6666666666666666,
              "#ed7953"
             ],
             [
              0.7777777777777778,
              "#fb9f3a"
             ],
             [
              0.8888888888888888,
              "#fdca26"
             ],
             [
              1,
              "#f0f921"
             ]
            ],
            "type": "histogram2d"
           }
          ],
          "histogram2dcontour": [
           {
            "colorbar": {
             "outlinewidth": 0,
             "ticks": ""
            },
            "colorscale": [
             [
              0,
              "#0d0887"
             ],
             [
              0.1111111111111111,
              "#46039f"
             ],
             [
              0.2222222222222222,
              "#7201a8"
             ],
             [
              0.3333333333333333,
              "#9c179e"
             ],
             [
              0.4444444444444444,
              "#bd3786"
             ],
             [
              0.5555555555555556,
              "#d8576b"
             ],
             [
              0.6666666666666666,
              "#ed7953"
             ],
             [
              0.7777777777777778,
              "#fb9f3a"
             ],
             [
              0.8888888888888888,
              "#fdca26"
             ],
             [
              1,
              "#f0f921"
             ]
            ],
            "type": "histogram2dcontour"
           }
          ],
          "mesh3d": [
           {
            "colorbar": {
             "outlinewidth": 0,
             "ticks": ""
            },
            "type": "mesh3d"
           }
          ],
          "parcoords": [
           {
            "line": {
             "colorbar": {
              "outlinewidth": 0,
              "ticks": ""
             }
            },
            "type": "parcoords"
           }
          ],
          "pie": [
           {
            "automargin": true,
            "type": "pie"
           }
          ],
          "scatter": [
           {
            "marker": {
             "colorbar": {
              "outlinewidth": 0,
              "ticks": ""
             }
            },
            "type": "scatter"
           }
          ],
          "scatter3d": [
           {
            "line": {
             "colorbar": {
              "outlinewidth": 0,
              "ticks": ""
             }
            },
            "marker": {
             "colorbar": {
              "outlinewidth": 0,
              "ticks": ""
             }
            },
            "type": "scatter3d"
           }
          ],
          "scattercarpet": [
           {
            "marker": {
             "colorbar": {
              "outlinewidth": 0,
              "ticks": ""
             }
            },
            "type": "scattercarpet"
           }
          ],
          "scattergeo": [
           {
            "marker": {
             "colorbar": {
              "outlinewidth": 0,
              "ticks": ""
             }
            },
            "type": "scattergeo"
           }
          ],
          "scattergl": [
           {
            "marker": {
             "colorbar": {
              "outlinewidth": 0,
              "ticks": ""
             }
            },
            "type": "scattergl"
           }
          ],
          "scattermapbox": [
           {
            "marker": {
             "colorbar": {
              "outlinewidth": 0,
              "ticks": ""
             }
            },
            "type": "scattermapbox"
           }
          ],
          "scatterpolar": [
           {
            "marker": {
             "colorbar": {
              "outlinewidth": 0,
              "ticks": ""
             }
            },
            "type": "scatterpolar"
           }
          ],
          "scatterpolargl": [
           {
            "marker": {
             "colorbar": {
              "outlinewidth": 0,
              "ticks": ""
             }
            },
            "type": "scatterpolargl"
           }
          ],
          "scatterternary": [
           {
            "marker": {
             "colorbar": {
              "outlinewidth": 0,
              "ticks": ""
             }
            },
            "type": "scatterternary"
           }
          ],
          "surface": [
           {
            "colorbar": {
             "outlinewidth": 0,
             "ticks": ""
            },
            "colorscale": [
             [
              0,
              "#0d0887"
             ],
             [
              0.1111111111111111,
              "#46039f"
             ],
             [
              0.2222222222222222,
              "#7201a8"
             ],
             [
              0.3333333333333333,
              "#9c179e"
             ],
             [
              0.4444444444444444,
              "#bd3786"
             ],
             [
              0.5555555555555556,
              "#d8576b"
             ],
             [
              0.6666666666666666,
              "#ed7953"
             ],
             [
              0.7777777777777778,
              "#fb9f3a"
             ],
             [
              0.8888888888888888,
              "#fdca26"
             ],
             [
              1,
              "#f0f921"
             ]
            ],
            "type": "surface"
           }
          ],
          "table": [
           {
            "cells": {
             "fill": {
              "color": "#EBF0F8"
             },
             "line": {
              "color": "white"
             }
            },
            "header": {
             "fill": {
              "color": "#C8D4E3"
             },
             "line": {
              "color": "white"
             }
            },
            "type": "table"
           }
          ]
         },
         "layout": {
          "annotationdefaults": {
           "arrowcolor": "#2a3f5f",
           "arrowhead": 0,
           "arrowwidth": 1
          },
          "coloraxis": {
           "colorbar": {
            "outlinewidth": 0,
            "ticks": ""
           }
          },
          "colorscale": {
           "diverging": [
            [
             0,
             "#8e0152"
            ],
            [
             0.1,
             "#c51b7d"
            ],
            [
             0.2,
             "#de77ae"
            ],
            [
             0.3,
             "#f1b6da"
            ],
            [
             0.4,
             "#fde0ef"
            ],
            [
             0.5,
             "#f7f7f7"
            ],
            [
             0.6,
             "#e6f5d0"
            ],
            [
             0.7,
             "#b8e186"
            ],
            [
             0.8,
             "#7fbc41"
            ],
            [
             0.9,
             "#4d9221"
            ],
            [
             1,
             "#276419"
            ]
           ],
           "sequential": [
            [
             0,
             "#0d0887"
            ],
            [
             0.1111111111111111,
             "#46039f"
            ],
            [
             0.2222222222222222,
             "#7201a8"
            ],
            [
             0.3333333333333333,
             "#9c179e"
            ],
            [
             0.4444444444444444,
             "#bd3786"
            ],
            [
             0.5555555555555556,
             "#d8576b"
            ],
            [
             0.6666666666666666,
             "#ed7953"
            ],
            [
             0.7777777777777778,
             "#fb9f3a"
            ],
            [
             0.8888888888888888,
             "#fdca26"
            ],
            [
             1,
             "#f0f921"
            ]
           ],
           "sequentialminus": [
            [
             0,
             "#0d0887"
            ],
            [
             0.1111111111111111,
             "#46039f"
            ],
            [
             0.2222222222222222,
             "#7201a8"
            ],
            [
             0.3333333333333333,
             "#9c179e"
            ],
            [
             0.4444444444444444,
             "#bd3786"
            ],
            [
             0.5555555555555556,
             "#d8576b"
            ],
            [
             0.6666666666666666,
             "#ed7953"
            ],
            [
             0.7777777777777778,
             "#fb9f3a"
            ],
            [
             0.8888888888888888,
             "#fdca26"
            ],
            [
             1,
             "#f0f921"
            ]
           ]
          },
          "colorway": [
           "#636efa",
           "#EF553B",
           "#00cc96",
           "#ab63fa",
           "#FFA15A",
           "#19d3f3",
           "#FF6692",
           "#B6E880",
           "#FF97FF",
           "#FECB52"
          ],
          "font": {
           "color": "#2a3f5f"
          },
          "geo": {
           "bgcolor": "white",
           "lakecolor": "white",
           "landcolor": "#E5ECF6",
           "showlakes": true,
           "showland": true,
           "subunitcolor": "white"
          },
          "hoverlabel": {
           "align": "left"
          },
          "hovermode": "closest",
          "mapbox": {
           "style": "light"
          },
          "paper_bgcolor": "white",
          "plot_bgcolor": "#E5ECF6",
          "polar": {
           "angularaxis": {
            "gridcolor": "white",
            "linecolor": "white",
            "ticks": ""
           },
           "bgcolor": "#E5ECF6",
           "radialaxis": {
            "gridcolor": "white",
            "linecolor": "white",
            "ticks": ""
           }
          },
          "scene": {
           "xaxis": {
            "backgroundcolor": "#E5ECF6",
            "gridcolor": "white",
            "gridwidth": 2,
            "linecolor": "white",
            "showbackground": true,
            "ticks": "",
            "zerolinecolor": "white"
           },
           "yaxis": {
            "backgroundcolor": "#E5ECF6",
            "gridcolor": "white",
            "gridwidth": 2,
            "linecolor": "white",
            "showbackground": true,
            "ticks": "",
            "zerolinecolor": "white"
           },
           "zaxis": {
            "backgroundcolor": "#E5ECF6",
            "gridcolor": "white",
            "gridwidth": 2,
            "linecolor": "white",
            "showbackground": true,
            "ticks": "",
            "zerolinecolor": "white"
           }
          },
          "shapedefaults": {
           "line": {
            "color": "#2a3f5f"
           }
          },
          "ternary": {
           "aaxis": {
            "gridcolor": "white",
            "linecolor": "white",
            "ticks": ""
           },
           "baxis": {
            "gridcolor": "white",
            "linecolor": "white",
            "ticks": ""
           },
           "bgcolor": "#E5ECF6",
           "caxis": {
            "gridcolor": "white",
            "linecolor": "white",
            "ticks": ""
           }
          },
          "title": {
           "x": 0.05
          },
          "xaxis": {
           "automargin": true,
           "gridcolor": "white",
           "linecolor": "white",
           "ticks": "",
           "title": {
            "standoff": 15
           },
           "zerolinecolor": "white",
           "zerolinewidth": 2
          },
          "yaxis": {
           "automargin": true,
           "gridcolor": "white",
           "linecolor": "white",
           "ticks": "",
           "title": {
            "standoff": 15
           },
           "zerolinecolor": "white",
           "zerolinewidth": 2
          }
         }
        },
        "xaxis": {
         "anchor": "y",
         "domain": [
          0,
          1
         ],
         "dtick": 1,
         "tick0": 2,
         "tickmode": "linear",
         "title": {
          "text": "Number of samples"
         }
        },
        "yaxis": {
         "anchor": "x",
         "domain": [
          0,
          1
         ],
         "title": {
          "text": "Recall"
         }
        }
       }
      },
      "text/html": [
       "<div>\n",
       "        \n",
       "        \n",
       "            <div id=\"013f739e-0729-4ce6-9852-341b03ede3aa\" class=\"plotly-graph-div\" style=\"height:525px; width:100%;\"></div>\n",
       "            <script type=\"text/javascript\">\n",
       "                require([\"plotly\"], function(Plotly) {\n",
       "                    window.PLOTLYENV=window.PLOTLYENV || {};\n",
       "                    \n",
       "                if (document.getElementById(\"013f739e-0729-4ce6-9852-341b03ede3aa\")) {\n",
       "                    Plotly.newPlot(\n",
       "                        '013f739e-0729-4ce6-9852-341b03ede3aa',\n",
       "                        [{\"hoverlabel\": {\"namelength\": 0}, \"hovertemplate\": \"tool=pandora_illumina_nodenovo_global_genotyping<br>NB_OF_SAMPLES=%{x}<br>recall=%{y}\", \"legendgroup\": \"pandora_illumina_nodenovo_global_genotyping\", \"line\": {\"color\": \"orange\", \"dash\": \"solid\"}, \"mode\": \"lines\", \"name\": \"pandora_illumina_nodenovo_global_genotyping\", \"showlegend\": true, \"type\": \"scatter\", \"x\": [2, 3, 4, 5, 6, 7, 8, 9, 10, 11, 12, 13, 14, 15, 16, 17, 18, 19, 20], \"xaxis\": \"x\", \"y\": [0.5042193000621247, 0.5808464035670982, 0.6390017411491584, 0.6622497163146528, 0.6387074596081127, 0.6834450306573506, 0.7178689557410616, 0.7604572227213736, 0.8005867878099565, 0.8104633222684557, 0.7719414893617021, 0.7407302254272897, 0.7358226137444317, 0.7308497671656717, 0.8540191293062099, 0.8873760623229462, 0.902848265147592, 0.905873485107235, 0.7658327140615969], \"yaxis\": \"y\"}, {\"hoverlabel\": {\"namelength\": 0}, \"hovertemplate\": \"tool=pandora_illumina_withdenovo_global_genotyping<br>NB_OF_SAMPLES=%{x}<br>recall=%{y}\", \"legendgroup\": \"pandora_illumina_withdenovo_global_genotyping\", \"line\": {\"color\": \"blue\", \"dash\": \"solid\"}, \"mode\": \"lines\", \"name\": \"pandora_illumina_withdenovo_global_genotyping\", \"showlegend\": true, \"type\": \"scatter\", \"x\": [2, 3, 4, 5, 6, 7, 8, 9, 10, 11, 12, 13, 14, 15, 16, 17, 18, 19, 20], \"xaxis\": \"x\", \"y\": [0.5251993166287016, 0.608205890405601, 0.6745985683884698, 0.6847615212855522, 0.7334003226062353, 0.7297875374304862, 0.7659473932902819, 0.7801237895577519, 0.8224020442930153, 0.8312684089952779, 0.8021572104018913, 0.8022826642439385, 0.7889784273487161, 0.8184829827796356, 0.8680698586462772, 0.8976451841359774, 0.9120810830805652, 0.9101487509863734, 0.8489802658739989], \"yaxis\": \"y\"}, {\"hoverlabel\": {\"namelength\": 0}, \"hovertemplate\": \"tool=snippy_CN928163.2<br>NB_OF_SAMPLES=%{x}<br>recall=%{y}\", \"legendgroup\": \"snippy_CN928163.2\", \"line\": {\"color\": \"rgba(255,0,0,0.3)\", \"dash\": \"solid\"}, \"mode\": \"lines\", \"name\": \"snippy_CN928163.2\", \"showlegend\": true, \"type\": \"scatter\", \"x\": [2, 3, 4, 5, 6, 7, 8, 9, 10, 11, 12, 13, 14, 15, 16, 17, 18, 19, 20], \"xaxis\": \"x\", \"y\": [0.2848156968316421, 0.34704893026166544, 0.3416521570903463, 0.3388118159522677, 0.6920168178332496, 0.6829816055896193, 0.6648291069459757, 0.5649396026754517, 0.7234999053568049, 0.7804946467810557, 0.7282801418439716, 0.7793424564192833, 0.8476900745783073, 0.9365565521767666, 0.9597099568320966, 0.9637393767705382, 0.9734408522601168, 0.9748783963630796, 0.9642473784163156], \"yaxis\": \"y\"}, {\"hoverlabel\": {\"namelength\": 0}, \"hovertemplate\": \"tool=snippy_CP010116.1<br>NB_OF_SAMPLES=%{x}<br>recall=%{y}\", \"legendgroup\": \"snippy_CP010116.1\", \"line\": {\"color\": \"rgba(255,0,0,0.3)\", \"dash\": \"solid\"}, \"mode\": \"lines\", \"name\": \"snippy_CP010116.1\", \"showlegend\": true, \"type\": \"scatter\", \"x\": [2, 3, 4, 5, 6, 7, 8, 9, 10, 11, 12, 13, 14, 15, 16, 17, 18, 19, 20], \"xaxis\": \"x\", \"y\": [0.21712569890246428, 0.23078577854265264, 0.2644335737777409, 0.25549983527947584, 0.6493640426263321, 0.6455867674319121, 0.6385651283666719, 0.5731756014774883, 0.7085936021200075, 0.7293001075319089, 0.7137263593380615, 0.760320254386463, 0.8475399169127584, 0.9122105197362252, 0.932934571001326, 0.9359242209631728, 0.9385810460901088, 0.9490383596169928, 0.936586574188754], \"yaxis\": \"y\"}, {\"hoverlabel\": {\"namelength\": 0}, \"hovertemplate\": \"tool=snippy_CP010121.1<br>NB_OF_SAMPLES=%{x}<br>recall=%{y}\", \"legendgroup\": \"snippy_CP010121.1\", \"line\": {\"color\": \"rgba(255,0,0,0.3)\", \"dash\": \"solid\"}, \"mode\": \"lines\", \"name\": \"snippy_CP010121.1\", \"showlegend\": true, \"type\": \"scatter\", \"x\": [2, 3, 4, 5, 6, 7, 8, 9, 10, 11, 12, 13, 14, 15, 16, 17, 18, 19, 20], \"xaxis\": \"x\", \"y\": [0.2359960654379789, 0.2457855829780577, 0.2868750518199154, 0.2906036092097075, 0.6514001639474309, 0.6374590047055468, 0.612261773507639, 0.5289507836677648, 0.7159757713420405, 0.7193417177053626, 0.6896424349881797, 0.7109193117937652, 0.8438860803844036, 0.9238366096821578, 0.9521485201591288, 0.9575070821529744, 0.9711918325072132, 0.973877301047028, 0.9642473784163156], \"yaxis\": \"y\"}, {\"hoverlabel\": {\"namelength\": 0}, \"hovertemplate\": \"tool=snippy_CP010170.1<br>NB_OF_SAMPLES=%{x}<br>recall=%{y}\", \"legendgroup\": \"snippy_CP010170.1\", \"line\": {\"color\": \"rgba(255,0,0,0.3)\", \"dash\": \"solid\"}, \"mode\": \"lines\", \"name\": \"snippy_CP010170.1\", \"showlegend\": true, \"type\": \"scatter\", \"x\": [2, 3, 4, 5, 6, 7, 8, 9, 10, 11, 12, 13, 14, 15, 16, 17, 18, 19, 20], \"xaxis\": \"x\", \"y\": [0.19445019672810104, 0.23164626276058986, 0.23013569908520576, 0.26454116182876386, 0.6272046963006056, 0.5827035505489805, 0.5832020790675697, 0.5444244783867426, 0.6123887942456937, 0.6691289915377063, 0.6247044917257684, 0.6798591789222644, 0.7972871515090846, 0.9184298527986999, 0.9414835087323308, 0.9628895184135976, 0.9694458829621958, 0.9735475284723284, 0.9630088349434398], \"yaxis\": \"y\"}, {\"hoverlabel\": {\"namelength\": 0}, \"hovertemplate\": \"tool=snippy_CP010171.1<br>NB_OF_SAMPLES=%{x}<br>recall=%{y}\", \"legendgroup\": \"snippy_CP010171.1\", \"line\": {\"color\": \"rgba(255,0,0,0.3)\", \"dash\": \"solid\"}, \"mode\": \"lines\", \"name\": \"snippy_CP010171.1\", \"showlegend\": true, \"type\": \"scatter\", \"x\": [2, 3, 4, 5, 6, 7, 8, 9, 10, 11, 12, 13, 14, 15, 16, 17, 18, 19, 20], \"xaxis\": \"x\", \"y\": [0.2046360530130462, 0.2457464700590605, 0.2773954619572728, 0.28902961308979097, 0.6246661554327418, 0.5896192784828176, 0.6158056386832572, 0.5367874613157632, 0.6347719098996782, 0.6803029594651456, 0.6303930260047281, 0.7170518425983761, 0.7985384653886581, 0.9089289620901959, 0.932624213525943, 0.9494511331444759, 0.9539986683435674, 0.9692722625931902, 0.9623482784245728], \"yaxis\": \"y\"}, {\"hoverlabel\": {\"namelength\": 0}, \"hovertemplate\": \"tool=snippy_CP010226.1<br>NB_OF_SAMPLES=%{x}<br>recall=%{y}\", \"legendgroup\": \"snippy_CP010226.1\", \"line\": {\"color\": \"rgba(255,0,0,0.3)\", \"dash\": \"solid\"}, \"mode\": \"lines\", \"name\": \"snippy_CP010226.1\", \"showlegend\": true, \"type\": \"scatter\", \"x\": [2, 3, 4, 5, 6, 7, 8, 9, 10, 11, 12, 13, 14, 15, 16, 17, 18, 19, 20], \"xaxis\": \"x\", \"y\": [0.1918746117208532, 0.2270700512379239, 0.21269657021253074, 0.2291079468501775, 0.5953142766480684, 0.5677313560530444, 0.5701685304772405, 0.511330737745832, 0.6140923717584705, 0.6512225910514751, 0.5720301418439716, 0.6494236556697519, 0.7456329145602884, 0.8853642528987092, 0.9119149056231132, 0.9390403682719548, 0.9464970037730266, 0.9620408211337108, 0.9495499958715218], \"yaxis\": \"y\"}, {\"hoverlabel\": {\"namelength\": 0}, \"hovertemplate\": \"tool=snippy_CP010230.1<br>NB_OF_SAMPLES=%{x}<br>recall=%{y}\", \"legendgroup\": \"snippy_CP010230.1\", \"line\": {\"color\": \"rgba(255,0,0,0.3)\", \"dash\": \"solid\"}, \"mode\": \"lines\", \"name\": \"snippy_CP010230.1\", \"showlegend\": true, \"type\": \"scatter\", \"x\": [2, 3, 4, 5, 6, 7, 8, 9, 10, 11, 12, 13, 14, 15, 16, 17, 18, 19, 20], \"xaxis\": \"x\", \"y\": [0.1829183060675088, 0.2316658192200884, 0.2646270347953459, 0.2577693180570299, 0.6400560594441653, 0.5915799230001426, 0.6311623877776028, 0.5483178596386143, 0.6751845542305508, 0.7102248819486652, 0.6584663120567376, 0.7398784850377604, 0.8168076480304319, 0.9194299465574898, 0.9462235138109076, 0.9590474504249292, 0.9658800029592364, 0.9694018161046792, 0.959458343654529], \"yaxis\": \"y\"}, {\"hoverlabel\": {\"namelength\": 0}, \"hovertemplate\": \"tool=snippy_CP018206.1<br>NB_OF_SAMPLES=%{x}<br>recall=%{y}\", \"legendgroup\": \"snippy_CP018206.1\", \"line\": {\"color\": \"rgba(255,0,0,0.3)\", \"dash\": \"solid\"}, \"mode\": \"lines\", \"name\": \"snippy_CP018206.1\", \"showlegend\": true, \"type\": \"scatter\", \"x\": [2, 3, 4, 5, 6, 7, 8, 9, 10, 11, 12, 13, 14, 15, 16, 17, 18, 19, 20], \"xaxis\": \"x\", \"y\": [0.24844688341271484, 0.26377752571674423, 0.3000580383052815, 0.2906402137706358, 0.6890287436867018, 0.6758519891629831, 0.6794377067254685, 0.5946890286512928, 0.7499526784024229, 0.7604376081163214, 0.7331560283687943, 0.7783771506444835, 0.8644076280094098, 0.9458699253054974, 0.9612899585249556, 0.9670325779036828, 0.9714877561589108, 0.9736181940240498, 0.9637519610271654], \"yaxis\": \"y\"}, {\"hoverlabel\": {\"namelength\": 0}, \"hovertemplate\": \"tool=snippy_NC_004431.1<br>NB_OF_SAMPLES=%{x}<br>recall=%{y}\", \"legendgroup\": \"snippy_NC_004431.1\", \"line\": {\"color\": \"rgba(255,0,0,0.3)\", \"dash\": \"solid\"}, \"mode\": \"lines\", \"name\": \"snippy_NC_004431.1\", \"showlegend\": true, \"type\": \"scatter\", \"x\": [2, 3, 4, 5, 6, 7, 8, 9, 10, 11, 12, 13, 14, 15, 16, 17, 18, 19, 20], \"xaxis\": \"x\", \"y\": [0.2957522261337751, 0.3656862361638049, 0.3798468894232098, 0.32127823126761595, 0.6545733400322606, 0.597568800798517, 0.6286029295952118, 0.6023759608665269, 0.6549782320651145, 0.6779653092711206, 0.4976359338061466, 0.5802055533473397, 0.6987336703538716, 0.8825827421320749, 0.9301977823547668, 0.9638810198300284, 0.9723607309314196, 0.977740351207792, 0.9676327305755099], \"yaxis\": \"y\"}, {\"hoverlabel\": {\"namelength\": 0}, \"hovertemplate\": \"tool=snippy_NC_007779.1<br>NB_OF_SAMPLES=%{x}<br>recall=%{y}\", \"legendgroup\": \"snippy_NC_007779.1\", \"line\": {\"color\": \"rgba(255,0,0,0.3)\", \"dash\": \"solid\"}, \"mode\": \"lines\", \"name\": \"snippy_NC_007779.1\", \"showlegend\": true, \"type\": \"scatter\", \"x\": [2, 3, 4, 5, 6, 7, 8, 9, 10, 11, 12, 13, 14, 15, 16, 17, 18, 19, 20], \"xaxis\": \"x\", \"y\": [0.19586094429488507, 0.2373567489341729, 0.2283669126385319, 0.22438595849042792, 0.6141153449506835, 0.5792456865820619, 0.5839502283824224, 0.5513127682939004, 0.6285727806170737, 0.6829678806863341, 0.619533096926714, 0.6953608540116972, 0.8043445617898793, 0.9118354845766792, 0.9388595773495472, 0.9615262039660056, 0.9688096471110452, 0.9728173177712084, 0.9621831392948559], \"yaxis\": \"y\"}, {\"hoverlabel\": {\"namelength\": 0}, \"hovertemplate\": \"tool=snippy_NC_010498.1<br>NB_OF_SAMPLES=%{x}<br>recall=%{y}\", \"legendgroup\": \"snippy_NC_010498.1\", \"line\": {\"color\": \"rgba(255,0,0,0.3)\", \"dash\": \"solid\"}, \"mode\": \"lines\", \"name\": \"snippy_NC_010498.1\", \"showlegend\": true, \"type\": \"scatter\", \"x\": [2, 3, 4, 5, 6, 7, 8, 9, 10, 11, 12, 13, 14, 15, 16, 17, 18, 19, 20], \"xaxis\": \"x\", \"y\": [0.2699575481466142, 0.3777916845934212, 0.3121631705497057, 0.3437900362385153, 0.6601528413147526, 0.6805931840866961, 0.6878642305874941, 0.6097134870719776, 0.7444633730834753, 0.7893777175183505, 0.7620419621749409, 0.8157969450911362, 0.8524450673206867, 0.9357439759977498, 0.9612899585249556, 0.9658994334277621, 0.9719464378190428, 0.9753730552251286, 0.9622657088597144], \"yaxis\": \"y\"}, {\"hoverlabel\": {\"namelength\": 0}, \"hovertemplate\": \"tool=snippy_NC_011742.1<br>NB_OF_SAMPLES=%{x}<br>recall=%{y}\", \"legendgroup\": \"snippy_NC_011742.1\", \"line\": {\"color\": \"rgba(255,0,0,0.3)\", \"dash\": \"solid\"}, \"mode\": \"lines\", \"name\": \"snippy_NC_011742.1\", \"showlegend\": true, \"type\": \"scatter\", \"x\": [2, 3, 4, 5, 6, 7, 8, 9, 10, 11, 12, 13, 14, 15, 16, 17, 18, 19, 20], \"xaxis\": \"x\", \"y\": [0.29616639055705113, 0.3368209019439121, 0.3779399165353896, 0.3414473443391047, 0.6802496231853399, 0.6065877655782119, 0.6532918569853521, 0.6159528801038235, 0.6768881317433276, 0.7140118752629856, 0.5586583924349882, 0.6601555845778206, 0.7627008358776716, 0.9092102384598556, 0.9522049487910166, 0.9652797450424928, 0.9706739661167418, 0.9756910502078744, 0.9673024523160764], \"yaxis\": \"y\"}, {\"hoverlabel\": {\"namelength\": 0}, \"hovertemplate\": \"tool=snippy_NC_011993.1<br>NB_OF_SAMPLES=%{x}<br>recall=%{y}\", \"legendgroup\": \"snippy_NC_011993.1\", \"line\": {\"color\": \"rgba(255,0,0,0.3)\", \"dash\": \"solid\"}, \"mode\": \"lines\", \"name\": \"snippy_NC_011993.1\", \"showlegend\": true, \"type\": \"scatter\", \"x\": [2, 3, 4, 5, 6, 7, 8, 9, 10, 11, 12, 13, 14, 15, 16, 17, 18, 19, 20], \"xaxis\": \"x\", \"y\": [0.23525833505901844, 0.2772714827707592, 0.3027941298399801, 0.25619532193711336, 0.6146442076314885, 0.5525452730643091, 0.5848952590959207, 0.5423779574722971, 0.6157486276736702, 0.6335967085885268, 0.4901743498817967, 0.5886661745499971, 0.7187046398718655, 0.891614838891146, 0.9478881584515984, 0.9648016997167141, 0.9728342087741364, 0.9761150435182022, 0.9675501610106516], \"yaxis\": \"y\"}, {\"hoverlabel\": {\"namelength\": 0}, \"hovertemplate\": \"tool=snippy_NC_017646.1<br>NB_OF_SAMPLES=%{x}<br>recall=%{y}\", \"legendgroup\": \"snippy_NC_017646.1\", \"line\": {\"color\": \"rgba(255,0,0,0.3)\", \"dash\": \"solid\"}, \"mode\": \"lines\", \"name\": \"snippy_NC_017646.1\", \"showlegend\": true, \"type\": \"scatter\", \"x\": [2, 3, 4, 5, 6, 7, 8, 9, 10, 11, 12, 13, 14, 15, 16, 17, 18, 19, 20], \"xaxis\": \"x\", \"y\": [0.301045765168772, 0.3123362146516995, 0.3892988419976232, 0.35403931329843696, 0.7121135997038369, 0.6946385284471696, 0.6665222869743267, 0.5828092243186582, 0.7134677266704524, 0.7954088550189351, 0.7727541371158393, 0.8215319970473001, 0.8540467490865409, 0.9404631684220396, 0.9594842423045452, 0.9650141643059492, 0.9695346600577052, 0.9730764247941864, 0.9639996697217406], \"yaxis\": \"y\"}, {\"hoverlabel\": {\"namelength\": 0}, \"hovertemplate\": \"tool=snippy_NC_022648.1<br>NB_OF_SAMPLES=%{x}<br>recall=%{y}\", \"legendgroup\": \"snippy_NC_022648.1\", \"line\": {\"color\": \"rgba(255,0,0,0.3)\", \"dash\": \"solid\"}, \"mode\": \"lines\", \"name\": \"snippy_NC_022648.1\", \"showlegend\": true, \"type\": \"scatter\", \"x\": [2, 3, 4, 5, 6, 7, 8, 9, 10, 11, 12, 13, 14, 15, 16, 17, 18, 19, 20], \"xaxis\": \"x\", \"y\": [0.29463915924622075, 0.38866507607462747, 0.3540336622170633, 0.34902448845126105, 0.6411666710738557, 0.6071224868102096, 0.6642778390297684, 0.6324248777078966, 0.6679916713988264, 0.7253261022020665, 0.5499408983451537, 0.6176253477939924, 0.7362230341858952, 0.8878957402256461, 0.9397906497756962, 0.961012747875354, 0.9658800029592364, 0.9751728361619184, 0.9675501610106516], \"yaxis\": \"y\"}, {\"hoverlabel\": {\"namelength\": 0}, \"hovertemplate\": \"tool=snippy_NZ_CP008697.1<br>NB_OF_SAMPLES=%{x}<br>recall=%{y}\", \"legendgroup\": \"snippy_NZ_CP008697.1\", \"line\": {\"color\": \"rgba(255,0,0,0.3)\", \"dash\": \"solid\"}, \"mode\": \"lines\", \"name\": \"snippy_NZ_CP008697.1\", \"showlegend\": true, \"type\": \"scatter\", \"x\": [2, 3, 4, 5, 6, 7, 8, 9, 10, 11, 12, 13, 14, 15, 16, 17, 18, 19, 20], \"xaxis\": \"x\", \"y\": [0.2886208324704908, 0.3151327883599953, 0.3120802586850178, 0.33006332589040593, 0.6788481370812068, 0.719913018679595, 0.7291699480233108, 0.6707097933513028, 0.7614991482112436, 0.8341203422319884, 0.819813829787234, 0.8667878030776219, 0.8927874267981378, 0.9445260493171236, 0.9598228140958722, 0.9678824362606232, 0.9696678257009692, 0.9730646472022332, 0.9644950871108908], \"yaxis\": \"y\"}, {\"hoverlabel\": {\"namelength\": 0}, \"hovertemplate\": \"tool=snippy_NZ_CP009859.1<br>NB_OF_SAMPLES=%{x}<br>recall=%{y}\", \"legendgroup\": \"snippy_NZ_CP009859.1\", \"line\": {\"color\": \"rgba(255,0,0,0.3)\", \"dash\": \"solid\"}, \"mode\": \"lines\", \"name\": \"snippy_NZ_CP009859.1\", \"showlegend\": true, \"type\": \"scatter\", \"x\": [2, 3, 4, 5, 6, 7, 8, 9, 10, 11, 12, 13, 14, 15, 16, 17, 18, 19, 20], \"xaxis\": \"x\", \"y\": [0.3025341685649203, 0.3271013415731216, 0.3474836249067241, 0.37775906877997, 0.6799058624428167, 0.7327106801654071, 0.7306662466530163, 0.6612758310871518, 0.7610259322354723, 0.8274346626770771, 0.8135342789598109, 0.8666174549997161, 0.8805245507783173, 0.9411507328812077, 0.9522895917388484, 0.9600389518413598, 0.9595620329954871, 0.9712744532252936, 0.9624308479894312], \"yaxis\": \"y\"}, {\"hoverlabel\": {\"namelength\": 0}, \"hovertemplate\": \"tool=snippy_NZ_CP011134.1<br>NB_OF_SAMPLES=%{x}<br>recall=%{y}\", \"legendgroup\": \"snippy_NZ_CP011134.1\", \"line\": {\"color\": \"rgba(255,0,0,0.3)\", \"dash\": \"solid\"}, \"mode\": \"lines\", \"name\": \"snippy_NZ_CP011134.1\", \"showlegend\": true, \"type\": \"scatter\", \"x\": [2, 3, 4, 5, 6, 7, 8, 9, 10, 11, 12, 13, 14, 15, 16, 17, 18, 19, 20], \"xaxis\": \"x\", \"y\": [0.24741147235452474, 0.2820628153479094, 0.2719509161761048, 0.26706687653281597, 0.6627442684506968, 0.6228789391130757, 0.6595526854622775, 0.6219926125586503, 0.7060382358508424, 0.8009257094768338, 0.7654403073286052, 0.8395321106126853, 0.8614545272536163, 0.9384629809044598, 0.9593149564088821, 0.9681657223796034, 0.9679218761559516, 0.9708857926908264, 0.9618528610354224], \"yaxis\": \"y\"}, {\"hoverlabel\": {\"namelength\": 0}, \"hovertemplate\": \"tool=snippy_NZ_CP013483.1<br>NB_OF_SAMPLES=%{x}<br>recall=%{y}\", \"legendgroup\": \"snippy_NZ_CP013483.1\", \"line\": {\"color\": \"rgba(255,0,0,0.3)\", \"dash\": \"solid\"}, \"mode\": \"lines\", \"name\": \"snippy_NZ_CP013483.1\", \"showlegend\": true, \"type\": \"scatter\", \"x\": [2, 3, 4, 5, 6, 7, 8, 9, 10, 11, 12, 13, 14, 15, 16, 17, 18, 19, 20], \"xaxis\": \"x\", \"y\": [0.2097354524746325, 0.2616067587124027, 0.2462206008346461, 0.2319631026025843, 0.6379934949890261, 0.578283188364466, 0.6162387777602772, 0.5704801836877309, 0.6504826802952868, 0.6983963719668989, 0.6583185579196218, 0.7221055022429164, 0.8052455077831723, 0.9068037628527674, 0.93101599751714, 0.9626062322946176, 0.9670341052008582, 0.9692487074092832, 0.9621005697299976], \"yaxis\": \"y\"}, {\"hoverlabel\": {\"namelength\": 0}, \"hovertemplate\": \"tool=snippy_NZ_CP015228.1<br>NB_OF_SAMPLES=%{x}<br>recall=%{y}\", \"legendgroup\": \"snippy_NZ_CP015228.1\", \"line\": {\"color\": \"rgba(255,0,0,0.3)\", \"dash\": \"solid\"}, \"mode\": \"lines\", \"name\": \"snippy_NZ_CP015228.1\", \"showlegend\": true, \"type\": \"scatter\", \"x\": [2, 3, 4, 5, 6, 7, 8, 9, 10, 11, 12, 13, 14, 15, 16, 17, 18, 19, 20], \"xaxis\": \"x\", \"y\": [0.23994357009732864, 0.2777017248797278, 0.2880358179255452, 0.2759251802774625, 0.664806832905836, 0.6271210608869243, 0.6928650181130886, 0.6126584805830089, 0.7142721938292637, 0.7457104118939641, 0.7046394799054374, 0.7741184486968372, 0.8542970118624555, 0.9292121136356534, 0.9503710182546624, 0.9587995750708216, 0.9654953022120292, 0.9681887241334636, 0.9589629262653786], \"yaxis\": \"y\"}, {\"hoverlabel\": {\"namelength\": 0}, \"hovertemplate\": \"tool=snippy_NZ_CP016007.1<br>NB_OF_SAMPLES=%{x}<br>recall=%{y}\", \"legendgroup\": \"snippy_NZ_CP016007.1\", \"line\": {\"color\": \"rgba(255,0,0,0.3)\", \"dash\": \"solid\"}, \"mode\": \"lines\", \"name\": \"snippy_NZ_CP016007.1\", \"showlegend\": true, \"type\": \"scatter\", \"x\": [2, 3, 4, 5, 6, 7, 8, 9, 10, 11, 12, 13, 14, 15, 16, 17, 18, 19, 20], \"xaxis\": \"x\", \"y\": [0.2598105197763512, 0.3780459185669027, 0.3443053367603571, 0.3093451444049929, 0.6295581352301874, 0.5712605161842292, 0.5929673964403843, 0.5693321353698713, 0.6183513155404127, 0.6384122679882183, 0.4999261229314421, 0.584237124524445, 0.7252615246008308, 0.8939588086383098, 0.949298874248794, 0.963048866855524, 0.9711918325072132, 0.9757263829837352, 0.9667244653620676], \"yaxis\": \"y\"}, {\"hoverlabel\": {\"namelength\": 0}, \"hovertemplate\": \"tool=snippy_NZ_CP018109.1<br>NB_OF_SAMPLES=%{x}<br>recall=%{y}\", \"legendgroup\": \"snippy_NZ_CP018109.1\", \"line\": {\"color\": \"rgba(255,0,0,0.3)\", \"dash\": \"solid\"}, \"mode\": \"lines\", \"name\": \"snippy_NZ_CP018109.1\", \"showlegend\": true, \"type\": \"scatter\", \"x\": [2, 3, 4, 5, 6, 7, 8, 9, 10, 11, 12, 13, 14, 15, 16, 17, 18, 19, 20], \"xaxis\": \"x\", \"y\": [0.2294729757713813, 0.2547619978879024, 0.2538484923859271, 0.2529741205754237, 0.6235026575349711, 0.5914016825894767, 0.6594739329028193, 0.6071178995707298, 0.6895703198939996, 0.7187806816587966, 0.6832151300236406, 0.7083073079325422, 0.7871765353621303, 0.8941150732881208, 0.9033377535761644, 0.9527443342776204, 0.9688688318413852, 0.9725817659321376, 0.9630914045082982], \"yaxis\": \"y\"}, {\"hoverlabel\": {\"namelength\": 0}, \"hovertemplate\": \"tool=snippy_NZ_LN995446.1<br>NB_OF_SAMPLES=%{x}<br>recall=%{y}\", \"legendgroup\": \"snippy_NZ_LN995446.1\", \"line\": {\"color\": \"rgba(255,0,0,0.3)\", \"dash\": \"solid\"}, \"mode\": \"lines\", \"name\": \"snippy_NZ_LN995446.1\", \"showlegend\": true, \"type\": \"scatter\", \"x\": [2, 3, 4, 5, 6, 7, 8, 9, 10, 11, 12, 13, 14, 15, 16, 17, 18, 19, 20], \"xaxis\": \"x\", \"y\": [0.19045092151584173, 0.23162670630109125, 0.2225078075339248, 0.21669900069548667, 0.6095142396276807, 0.5769998574076715, 0.5769412505906442, 0.5475691324747929, 0.6242191936399772, 0.6758146710926177, 0.6026891252955082, 0.6855942308784283, 0.7892286901246308, 0.904366034315717, 0.9259374206472364, 0.9513101983002832, 0.9589257971443368, 0.9695078144322612, 0.9587152175708034], \"yaxis\": \"y\"}, {\"hoverlabel\": {\"namelength\": 0}, \"hovertemplate\": \"tool=snippy_NZ_LT632320.1<br>NB_OF_SAMPLES=%{x}<br>recall=%{y}\", \"legendgroup\": \"snippy_NZ_LT632320.1\", \"line\": {\"color\": \"rgba(255,0,0,0.3)\", \"dash\": \"solid\"}, \"mode\": \"lines\", \"name\": \"snippy_NZ_LT632320.1\", \"showlegend\": true, \"type\": \"scatter\", \"x\": [2, 3, 4, 5, 6, 7, 8, 9, 10, 11, 12, 13, 14, 15, 16, 17, 18, 19, 20], \"xaxis\": \"x\", \"y\": [0.2937849451232139, 0.3918332225133962, 0.36517148937346267, 0.34638896006442405, 0.642171510167385, 0.613681733922715, 0.6648291069459757, 0.639412997903564, 0.6683229225818663, 0.7076534667352378, 0.5518617021276596, 0.6082562035091704, 0.7347715100855898, 0.8874269462762134, 0.9356149310159976, 0.9566749291784704, 0.9617814603832212, 0.9713215635931076, 0.9647427958054658], \"yaxis\": \"y\"}, {\"hoverlabel\": {\"namelength\": 0}, \"hovertemplate\": \"tool=snippy_NZ_NG941718.1<br>NB_OF_SAMPLES=%{x}<br>recall=%{y}\", \"legendgroup\": \"snippy_NZ_NG941718.1\", \"line\": {\"color\": \"rgba(255,0,0,0.3)\", \"dash\": \"solid\"}, \"mode\": \"lines\", \"name\": \"snippy_NZ_NG941718.1\", \"showlegend\": true, \"type\": \"scatter\", \"x\": [2, 3, 4, 5, 6, 7, 8, 9, 10, 11, 12, 13, 14, 15, 16, 17, 18, 19, 20], \"xaxis\": \"x\", \"y\": [0.2980042451853386, 0.3969961278210193, 0.3710582317662991, 0.35085471649767563, 0.6468255017584684, 0.6200983887066875, 0.6701842809891322, 0.6405111310771688, 0.6727711527541171, 0.7279442704193745, 0.5550384160756501, 0.6268241440009086, 0.7413784473697382, 0.8913335625214864, 0.9394520779843692, 0.9611012747875354, 0.9661167418805948, 0.9753495000412216, 0.9676327305755099], \"yaxis\": \"y\"}],\n",
       "                        {\"legend\": {\"title\": {\"text\": \"tool\"}, \"tracegroupgap\": 0}, \"margin\": {\"t\": 60}, \"template\": {\"data\": {\"bar\": [{\"error_x\": {\"color\": \"#2a3f5f\"}, \"error_y\": {\"color\": \"#2a3f5f\"}, \"marker\": {\"line\": {\"color\": \"#E5ECF6\", \"width\": 0.5}}, \"type\": \"bar\"}], \"barpolar\": [{\"marker\": {\"line\": {\"color\": \"#E5ECF6\", \"width\": 0.5}}, \"type\": \"barpolar\"}], \"carpet\": [{\"aaxis\": {\"endlinecolor\": \"#2a3f5f\", \"gridcolor\": \"white\", \"linecolor\": \"white\", \"minorgridcolor\": \"white\", \"startlinecolor\": \"#2a3f5f\"}, \"baxis\": {\"endlinecolor\": \"#2a3f5f\", \"gridcolor\": \"white\", \"linecolor\": \"white\", \"minorgridcolor\": \"white\", \"startlinecolor\": \"#2a3f5f\"}, \"type\": \"carpet\"}], \"choropleth\": [{\"colorbar\": {\"outlinewidth\": 0, \"ticks\": \"\"}, \"type\": \"choropleth\"}], \"contour\": [{\"colorbar\": {\"outlinewidth\": 0, \"ticks\": \"\"}, \"colorscale\": [[0.0, \"#0d0887\"], [0.1111111111111111, \"#46039f\"], [0.2222222222222222, \"#7201a8\"], [0.3333333333333333, \"#9c179e\"], [0.4444444444444444, \"#bd3786\"], [0.5555555555555556, \"#d8576b\"], [0.6666666666666666, \"#ed7953\"], [0.7777777777777778, \"#fb9f3a\"], [0.8888888888888888, \"#fdca26\"], [1.0, \"#f0f921\"]], \"type\": \"contour\"}], \"contourcarpet\": [{\"colorbar\": {\"outlinewidth\": 0, \"ticks\": \"\"}, \"type\": \"contourcarpet\"}], \"heatmap\": [{\"colorbar\": {\"outlinewidth\": 0, \"ticks\": \"\"}, \"colorscale\": [[0.0, \"#0d0887\"], [0.1111111111111111, \"#46039f\"], [0.2222222222222222, \"#7201a8\"], [0.3333333333333333, \"#9c179e\"], [0.4444444444444444, \"#bd3786\"], [0.5555555555555556, \"#d8576b\"], [0.6666666666666666, \"#ed7953\"], [0.7777777777777778, \"#fb9f3a\"], [0.8888888888888888, \"#fdca26\"], [1.0, \"#f0f921\"]], \"type\": \"heatmap\"}], \"heatmapgl\": [{\"colorbar\": {\"outlinewidth\": 0, \"ticks\": \"\"}, \"colorscale\": [[0.0, \"#0d0887\"], [0.1111111111111111, \"#46039f\"], [0.2222222222222222, \"#7201a8\"], [0.3333333333333333, \"#9c179e\"], [0.4444444444444444, \"#bd3786\"], [0.5555555555555556, \"#d8576b\"], [0.6666666666666666, \"#ed7953\"], [0.7777777777777778, \"#fb9f3a\"], [0.8888888888888888, \"#fdca26\"], [1.0, \"#f0f921\"]], \"type\": \"heatmapgl\"}], \"histogram\": [{\"marker\": {\"colorbar\": {\"outlinewidth\": 0, \"ticks\": \"\"}}, \"type\": \"histogram\"}], \"histogram2d\": [{\"colorbar\": {\"outlinewidth\": 0, \"ticks\": \"\"}, \"colorscale\": [[0.0, \"#0d0887\"], [0.1111111111111111, \"#46039f\"], [0.2222222222222222, \"#7201a8\"], [0.3333333333333333, \"#9c179e\"], [0.4444444444444444, \"#bd3786\"], [0.5555555555555556, \"#d8576b\"], [0.6666666666666666, \"#ed7953\"], [0.7777777777777778, \"#fb9f3a\"], [0.8888888888888888, \"#fdca26\"], [1.0, \"#f0f921\"]], \"type\": \"histogram2d\"}], \"histogram2dcontour\": [{\"colorbar\": {\"outlinewidth\": 0, \"ticks\": \"\"}, \"colorscale\": [[0.0, \"#0d0887\"], [0.1111111111111111, \"#46039f\"], [0.2222222222222222, \"#7201a8\"], [0.3333333333333333, \"#9c179e\"], [0.4444444444444444, \"#bd3786\"], [0.5555555555555556, \"#d8576b\"], [0.6666666666666666, \"#ed7953\"], [0.7777777777777778, \"#fb9f3a\"], [0.8888888888888888, \"#fdca26\"], [1.0, \"#f0f921\"]], \"type\": \"histogram2dcontour\"}], \"mesh3d\": [{\"colorbar\": {\"outlinewidth\": 0, \"ticks\": \"\"}, \"type\": \"mesh3d\"}], \"parcoords\": [{\"line\": {\"colorbar\": {\"outlinewidth\": 0, \"ticks\": \"\"}}, \"type\": \"parcoords\"}], \"pie\": [{\"automargin\": true, \"type\": \"pie\"}], \"scatter\": [{\"marker\": {\"colorbar\": {\"outlinewidth\": 0, \"ticks\": \"\"}}, \"type\": \"scatter\"}], \"scatter3d\": [{\"line\": {\"colorbar\": {\"outlinewidth\": 0, \"ticks\": \"\"}}, \"marker\": {\"colorbar\": {\"outlinewidth\": 0, \"ticks\": \"\"}}, \"type\": \"scatter3d\"}], \"scattercarpet\": [{\"marker\": {\"colorbar\": {\"outlinewidth\": 0, \"ticks\": \"\"}}, \"type\": \"scattercarpet\"}], \"scattergeo\": [{\"marker\": {\"colorbar\": {\"outlinewidth\": 0, \"ticks\": \"\"}}, \"type\": \"scattergeo\"}], \"scattergl\": [{\"marker\": {\"colorbar\": {\"outlinewidth\": 0, \"ticks\": \"\"}}, \"type\": \"scattergl\"}], \"scattermapbox\": [{\"marker\": {\"colorbar\": {\"outlinewidth\": 0, \"ticks\": \"\"}}, \"type\": \"scattermapbox\"}], \"scatterpolar\": [{\"marker\": {\"colorbar\": {\"outlinewidth\": 0, \"ticks\": \"\"}}, \"type\": \"scatterpolar\"}], \"scatterpolargl\": [{\"marker\": {\"colorbar\": {\"outlinewidth\": 0, \"ticks\": \"\"}}, \"type\": \"scatterpolargl\"}], \"scatterternary\": [{\"marker\": {\"colorbar\": {\"outlinewidth\": 0, \"ticks\": \"\"}}, \"type\": \"scatterternary\"}], \"surface\": [{\"colorbar\": {\"outlinewidth\": 0, \"ticks\": \"\"}, \"colorscale\": [[0.0, \"#0d0887\"], [0.1111111111111111, \"#46039f\"], [0.2222222222222222, \"#7201a8\"], [0.3333333333333333, \"#9c179e\"], [0.4444444444444444, \"#bd3786\"], [0.5555555555555556, \"#d8576b\"], [0.6666666666666666, \"#ed7953\"], [0.7777777777777778, \"#fb9f3a\"], [0.8888888888888888, \"#fdca26\"], [1.0, \"#f0f921\"]], \"type\": \"surface\"}], \"table\": [{\"cells\": {\"fill\": {\"color\": \"#EBF0F8\"}, \"line\": {\"color\": \"white\"}}, \"header\": {\"fill\": {\"color\": \"#C8D4E3\"}, \"line\": {\"color\": \"white\"}}, \"type\": \"table\"}]}, \"layout\": {\"annotationdefaults\": {\"arrowcolor\": \"#2a3f5f\", \"arrowhead\": 0, \"arrowwidth\": 1}, \"coloraxis\": {\"colorbar\": {\"outlinewidth\": 0, \"ticks\": \"\"}}, \"colorscale\": {\"diverging\": [[0, \"#8e0152\"], [0.1, \"#c51b7d\"], [0.2, \"#de77ae\"], [0.3, \"#f1b6da\"], [0.4, \"#fde0ef\"], [0.5, \"#f7f7f7\"], [0.6, \"#e6f5d0\"], [0.7, \"#b8e186\"], [0.8, \"#7fbc41\"], [0.9, \"#4d9221\"], [1, \"#276419\"]], \"sequential\": [[0.0, \"#0d0887\"], [0.1111111111111111, \"#46039f\"], [0.2222222222222222, \"#7201a8\"], [0.3333333333333333, \"#9c179e\"], [0.4444444444444444, \"#bd3786\"], [0.5555555555555556, \"#d8576b\"], [0.6666666666666666, \"#ed7953\"], [0.7777777777777778, \"#fb9f3a\"], [0.8888888888888888, \"#fdca26\"], [1.0, \"#f0f921\"]], \"sequentialminus\": [[0.0, \"#0d0887\"], [0.1111111111111111, \"#46039f\"], [0.2222222222222222, \"#7201a8\"], [0.3333333333333333, \"#9c179e\"], [0.4444444444444444, \"#bd3786\"], [0.5555555555555556, \"#d8576b\"], [0.6666666666666666, \"#ed7953\"], [0.7777777777777778, \"#fb9f3a\"], [0.8888888888888888, \"#fdca26\"], [1.0, \"#f0f921\"]]}, \"colorway\": [\"#636efa\", \"#EF553B\", \"#00cc96\", \"#ab63fa\", \"#FFA15A\", \"#19d3f3\", \"#FF6692\", \"#B6E880\", \"#FF97FF\", \"#FECB52\"], \"font\": {\"color\": \"#2a3f5f\"}, \"geo\": {\"bgcolor\": \"white\", \"lakecolor\": \"white\", \"landcolor\": \"#E5ECF6\", \"showlakes\": true, \"showland\": true, \"subunitcolor\": \"white\"}, \"hoverlabel\": {\"align\": \"left\"}, \"hovermode\": \"closest\", \"mapbox\": {\"style\": \"light\"}, \"paper_bgcolor\": \"white\", \"plot_bgcolor\": \"#E5ECF6\", \"polar\": {\"angularaxis\": {\"gridcolor\": \"white\", \"linecolor\": \"white\", \"ticks\": \"\"}, \"bgcolor\": \"#E5ECF6\", \"radialaxis\": {\"gridcolor\": \"white\", \"linecolor\": \"white\", \"ticks\": \"\"}}, \"scene\": {\"xaxis\": {\"backgroundcolor\": \"#E5ECF6\", \"gridcolor\": \"white\", \"gridwidth\": 2, \"linecolor\": \"white\", \"showbackground\": true, \"ticks\": \"\", \"zerolinecolor\": \"white\"}, \"yaxis\": {\"backgroundcolor\": \"#E5ECF6\", \"gridcolor\": \"white\", \"gridwidth\": 2, \"linecolor\": \"white\", \"showbackground\": true, \"ticks\": \"\", \"zerolinecolor\": \"white\"}, \"zaxis\": {\"backgroundcolor\": \"#E5ECF6\", \"gridcolor\": \"white\", \"gridwidth\": 2, \"linecolor\": \"white\", \"showbackground\": true, \"ticks\": \"\", \"zerolinecolor\": \"white\"}}, \"shapedefaults\": {\"line\": {\"color\": \"#2a3f5f\"}}, \"ternary\": {\"aaxis\": {\"gridcolor\": \"white\", \"linecolor\": \"white\", \"ticks\": \"\"}, \"baxis\": {\"gridcolor\": \"white\", \"linecolor\": \"white\", \"ticks\": \"\"}, \"bgcolor\": \"#E5ECF6\", \"caxis\": {\"gridcolor\": \"white\", \"linecolor\": \"white\", \"ticks\": \"\"}}, \"title\": {\"x\": 0.05}, \"xaxis\": {\"automargin\": true, \"gridcolor\": \"white\", \"linecolor\": \"white\", \"ticks\": \"\", \"title\": {\"standoff\": 15}, \"zerolinecolor\": \"white\", \"zerolinewidth\": 2}, \"yaxis\": {\"automargin\": true, \"gridcolor\": \"white\", \"linecolor\": \"white\", \"ticks\": \"\", \"title\": {\"standoff\": 15}, \"zerolinecolor\": \"white\", \"zerolinewidth\": 2}}}, \"xaxis\": {\"anchor\": \"y\", \"domain\": [0.0, 1.0], \"dtick\": 1, \"tick0\": 2, \"tickmode\": \"linear\", \"title\": {\"text\": \"Number of samples\"}}, \"yaxis\": {\"anchor\": \"x\", \"domain\": [0.0, 1.0], \"title\": {\"text\": \"Recall\"}}},\n",
       "                        {\"responsive\": true}\n",
       "                    ).then(function(){\n",
       "                            \n",
       "var gd = document.getElementById('013f739e-0729-4ce6-9852-341b03ede3aa');\n",
       "var x = new MutationObserver(function (mutations, observer) {{\n",
       "        var display = window.getComputedStyle(gd).display;\n",
       "        if (!display || display === 'none') {{\n",
       "            console.log([gd, 'removed!']);\n",
       "            Plotly.purge(gd);\n",
       "            observer.disconnect();\n",
       "        }}\n",
       "}});\n",
       "\n",
       "// Listen for the removal of the full notebook cells\n",
       "var notebookContainer = gd.closest('#notebook-container');\n",
       "if (notebookContainer) {{\n",
       "    x.observe(notebookContainer, {childList: true});\n",
       "}}\n",
       "\n",
       "// Listen for the clearing of the current output cell\n",
       "var outputEl = gd.closest('.output');\n",
       "if (outputEl) {{\n",
       "    x.observe(outputEl, {childList: true});\n",
       "}}\n",
       "\n",
       "                        })\n",
       "                };\n",
       "                });\n",
       "            </script>\n",
       "        </div>"
      ]
     },
     "metadata": {},
     "output_type": "display_data"
    }
   ],
   "source": [
    "fig_recall = px.line(merged_data, x=\"NB_OF_SAMPLES\", y=\"recall\", color='tool', color_discrete_sequence=merged_data[\"colour\"])\n",
    "fig_recall.update_layout(\n",
    "    xaxis = dict(\n",
    "        tickmode = 'linear',\n",
    "        tick0 = 2,\n",
    "        dtick = 1\n",
    "    ),\n",
    "    yaxis_title=\"Recall\",\n",
    "    xaxis_title=\"Number of samples\",\n",
    "    \n",
    ")\n",
    "fig_recall"
   ]
  },
  {
   "cell_type": "code",
   "execution_count": 29,
   "metadata": {},
   "outputs": [
    {
     "data": {
      "application/vnd.plotly.v1+json": {
       "config": {
        "plotlyServerURL": "https://plot.ly"
       },
       "data": [
        {
         "hoverlabel": {
          "namelength": 0
         },
         "hovertemplate": "tool=pandora_illumina_nodenovo_global_genotyping<br>NB_OF_SAMPLES=%{x}<br>nb_of_found_PanVar=%{y}",
         "legendgroup": "pandora_illumina_nodenovo_global_genotyping",
         "line": {
          "color": "orange",
          "dash": "solid"
         },
         "mode": "lines",
         "name": "pandora_illumina_nodenovo_global_genotyping",
         "showlegend": true,
         "type": "scatter",
         "x": [
          2,
          3,
          4,
          5,
          6,
          7,
          8,
          9,
          10,
          11,
          12,
          13,
          14,
          15,
          16,
          17,
          18,
          19,
          20
         ],
         "xaxis": "x",
         "y": [
          38958,
          29700.999999999996,
          23121,
          18092,
          24153.999999999996,
          19172,
          18231,
          15234.999999999998,
          16918,
          17335,
          10449,
          13045,
          14701,
          23385,
          30269,
          50119,
          61019.00000000001,
          76915,
          9275
         ],
         "yaxis": "y"
        },
        {
         "hoverlabel": {
          "namelength": 0
         },
         "hovertemplate": "tool=pandora_illumina_withdenovo_global_genotyping<br>NB_OF_SAMPLES=%{x}<br>nb_of_found_PanVar=%{y}",
         "legendgroup": "pandora_illumina_withdenovo_global_genotyping",
         "line": {
          "color": "blue",
          "dash": "solid"
         },
         "mode": "lines",
         "name": "pandora_illumina_withdenovo_global_genotyping",
         "showlegend": true,
         "type": "scatter",
         "x": [
          2,
          3,
          4,
          5,
          6,
          7,
          8,
          9,
          10,
          11,
          12,
          13,
          14,
          15,
          16,
          17,
          18,
          19,
          20
         ],
         "xaxis": "x",
         "y": [
          40579,
          31100.000000000004,
          24409,
          18707,
          27735,
          20472,
          19452,
          15629,
          17379,
          17780,
          10858,
          14129,
          15763,
          26189,
          30767,
          50699,
          61643,
          77278,
          10282
         ],
         "yaxis": "y"
        },
        {
         "hoverlabel": {
          "namelength": 0
         },
         "hovertemplate": "tool=snippy_CN928163.2<br>NB_OF_SAMPLES=%{x}<br>nb_of_found_PanVar=%{y}",
         "legendgroup": "snippy_CN928163.2",
         "line": {
          "color": "rgba(255,0,0,0.3)",
          "dash": "solid"
         },
         "mode": "lines",
         "name": "snippy_CN928163.2",
         "showlegend": true,
         "type": "scatter",
         "x": [
          2,
          3,
          4,
          5,
          6,
          7,
          8,
          9,
          10,
          11,
          12,
          13,
          14,
          15,
          16,
          17,
          18,
          19,
          20
         ],
         "xaxis": "x",
         "y": [
          22005.999999999996,
          17746,
          12362,
          9256.000000000002,
          26170,
          19159,
          16884,
          11318,
          15289,
          16694,
          9858,
          13724.999999999998,
          16936,
          29967,
          34015,
          54432,
          65790,
          82774,
          11677.999999999998
         ],
         "yaxis": "y"
        },
        {
         "hoverlabel": {
          "namelength": 0
         },
         "hovertemplate": "tool=snippy_CP010116.1<br>NB_OF_SAMPLES=%{x}<br>nb_of_found_PanVar=%{y}",
         "legendgroup": "snippy_CP010116.1",
         "line": {
          "color": "rgba(255,0,0,0.3)",
          "dash": "solid"
         },
         "mode": "lines",
         "name": "snippy_CP010116.1",
         "showlegend": true,
         "type": "scatter",
         "x": [
          2,
          3,
          4,
          5,
          6,
          7,
          8,
          9,
          10,
          11,
          12,
          13,
          14,
          15,
          16,
          17,
          18,
          19,
          20
         ],
         "xaxis": "x",
         "y": [
          16776,
          11801,
          9568,
          6980.000000000001,
          24557,
          18110,
          16217,
          11483,
          14974,
          15598.999999999998,
          9661,
          13390,
          16933,
          29188,
          33066,
          52861,
          63434.00000000001,
          80580,
          11343
         ],
         "yaxis": "y"
        },
        {
         "hoverlabel": {
          "namelength": 0
         },
         "hovertemplate": "tool=snippy_CP010121.1<br>NB_OF_SAMPLES=%{x}<br>nb_of_found_PanVar=%{y}",
         "legendgroup": "snippy_CP010121.1",
         "line": {
          "color": "rgba(255,0,0,0.3)",
          "dash": "solid"
         },
         "mode": "lines",
         "name": "snippy_CP010121.1",
         "showlegend": true,
         "type": "scatter",
         "x": [
          2,
          3,
          4,
          5,
          6,
          7,
          8,
          9,
          10,
          11,
          12,
          13,
          14,
          15,
          16,
          17,
          18,
          19,
          20
         ],
         "xaxis": "x",
         "y": [
          18234.000000000004,
          12568.000000000002,
          10380,
          7939,
          24633.999999999996,
          17882,
          15549,
          10597,
          15130,
          15386,
          9335,
          12520,
          16860,
          29560,
          33747,
          54079.99999999999,
          65638,
          82689,
          11677.999999999998
         ],
         "yaxis": "y"
        },
        {
         "hoverlabel": {
          "namelength": 0
         },
         "hovertemplate": "tool=snippy_CP010170.1<br>NB_OF_SAMPLES=%{x}<br>nb_of_found_PanVar=%{y}",
         "legendgroup": "snippy_CP010170.1",
         "line": {
          "color": "rgba(255,0,0,0.3)",
          "dash": "solid"
         },
         "mode": "lines",
         "name": "snippy_CP010170.1",
         "showlegend": true,
         "type": "scatter",
         "x": [
          2,
          3,
          4,
          5,
          6,
          7,
          8,
          9,
          10,
          11,
          12,
          13,
          14,
          15,
          16,
          17,
          18,
          19,
          20
         ],
         "xaxis": "x",
         "y": [
          15023.999999999998,
          11845.000000000002,
          8327,
          7227,
          23719.000000000004,
          16346,
          14811,
          10907,
          12941,
          14312,
          8456,
          11972.999999999998,
          15929,
          29387,
          33369,
          54383.99999999999,
          65520,
          82660.99999999999,
          11663
         ],
         "yaxis": "y"
        },
        {
         "hoverlabel": {
          "namelength": 0
         },
         "hovertemplate": "tool=snippy_CP010171.1<br>NB_OF_SAMPLES=%{x}<br>nb_of_found_PanVar=%{y}",
         "legendgroup": "snippy_CP010171.1",
         "line": {
          "color": "rgba(255,0,0,0.3)",
          "dash": "solid"
         },
         "mode": "lines",
         "name": "snippy_CP010171.1",
         "showlegend": true,
         "type": "scatter",
         "x": [
          2,
          3,
          4,
          5,
          6,
          7,
          8,
          9,
          10,
          11,
          12,
          13,
          14,
          15,
          16,
          17,
          18,
          19,
          20
         ],
         "xaxis": "x",
         "y": [
          15811,
          12566,
          10037.000000000002,
          7895.999999999999,
          23623,
          16540,
          15639,
          10754,
          13414,
          14551,
          8533,
          12628,
          15954,
          29083,
          33055,
          53625,
          64476,
          82298,
          11655.000000000002
         ],
         "yaxis": "y"
        },
        {
         "hoverlabel": {
          "namelength": 0
         },
         "hovertemplate": "tool=snippy_CP010226.1<br>NB_OF_SAMPLES=%{x}<br>nb_of_found_PanVar=%{y}",
         "legendgroup": "snippy_CP010226.1",
         "line": {
          "color": "rgba(255,0,0,0.3)",
          "dash": "solid"
         },
         "mode": "lines",
         "name": "snippy_CP010226.1",
         "showlegend": true,
         "type": "scatter",
         "x": [
          2,
          3,
          4,
          5,
          6,
          7,
          8,
          9,
          10,
          11,
          12,
          13,
          14,
          15,
          16,
          17,
          18,
          19,
          20
         ],
         "xaxis": "x",
         "y": [
          14825.000000000002,
          11611,
          7696,
          6258.999999999999,
          22513,
          15926,
          14480,
          10244,
          12977,
          13929,
          7743,
          11437,
          14897.000000000002,
          28329,
          32321,
          53037.00000000001,
          63969,
          81683.99999999999,
          11500
         ],
         "yaxis": "y"
        },
        {
         "hoverlabel": {
          "namelength": 0
         },
         "hovertemplate": "tool=snippy_CP010230.1<br>NB_OF_SAMPLES=%{x}<br>nb_of_found_PanVar=%{y}",
         "legendgroup": "snippy_CP010230.1",
         "line": {
          "color": "rgba(255,0,0,0.3)",
          "dash": "solid"
         },
         "mode": "lines",
         "name": "snippy_CP010230.1",
         "showlegend": true,
         "type": "scatter",
         "x": [
          2,
          3,
          4,
          5,
          6,
          7,
          8,
          9,
          10,
          11,
          12,
          13,
          14,
          15,
          16,
          17,
          18,
          19,
          20
         ],
         "xaxis": "x",
         "y": [
          14133,
          11846,
          9575,
          7042,
          24205,
          16595,
          16029,
          10985,
          14268,
          15191,
          8913,
          13029.999999999998,
          16319,
          29419,
          33537,
          54167,
          65278.99999999999,
          82309,
          11620
         ],
         "yaxis": "y"
        },
        {
         "hoverlabel": {
          "namelength": 0
         },
         "hovertemplate": "tool=snippy_CP018206.1<br>NB_OF_SAMPLES=%{x}<br>nb_of_found_PanVar=%{y}",
         "legendgroup": "snippy_CP018206.1",
         "line": {
          "color": "rgba(255,0,0,0.3)",
          "dash": "solid"
         },
         "mode": "lines",
         "name": "snippy_CP018206.1",
         "showlegend": true,
         "type": "scatter",
         "x": [
          2,
          3,
          4,
          5,
          6,
          7,
          8,
          9,
          10,
          11,
          12,
          13,
          14,
          15,
          16,
          17,
          18,
          19,
          20
         ],
         "xaxis": "x",
         "y": [
          19196,
          13488,
          10857,
          7940,
          26057,
          18959,
          17255,
          11914,
          15848,
          16265,
          9924,
          13708,
          17270,
          30265,
          34071,
          54618.00000000001,
          65657.99999999999,
          82667,
          11672
         ],
         "yaxis": "y"
        },
        {
         "hoverlabel": {
          "namelength": 0
         },
         "hovertemplate": "tool=snippy_NC_004431.1<br>NB_OF_SAMPLES=%{x}<br>nb_of_found_PanVar=%{y}",
         "legendgroup": "snippy_NC_004431.1",
         "line": {
          "color": "rgba(255,0,0,0.3)",
          "dash": "solid"
         },
         "mode": "lines",
         "name": "snippy_NC_004431.1",
         "showlegend": true,
         "type": "scatter",
         "x": [
          2,
          3,
          4,
          5,
          6,
          7,
          8,
          9,
          10,
          11,
          12,
          13,
          14,
          15,
          16,
          17,
          18,
          19,
          20
         ],
         "xaxis": "x",
         "y": [
          22851,
          18699,
          13744.000000000002,
          8777,
          24754,
          16763,
          15963.999999999998,
          12068,
          13841,
          14501,
          6736.000000000001,
          10218,
          13960,
          28240,
          32969,
          54440,
          65717,
          83017,
          11719
         ],
         "yaxis": "y"
        },
        {
         "hoverlabel": {
          "namelength": 0
         },
         "hovertemplate": "tool=snippy_NC_007779.1<br>NB_OF_SAMPLES=%{x}<br>nb_of_found_PanVar=%{y}",
         "legendgroup": "snippy_NC_007779.1",
         "line": {
          "color": "rgba(255,0,0,0.3)",
          "dash": "solid"
         },
         "mode": "lines",
         "name": "snippy_NC_007779.1",
         "showlegend": true,
         "type": "scatter",
         "x": [
          2,
          3,
          4,
          5,
          6,
          7,
          8,
          9,
          10,
          11,
          12,
          13,
          14,
          15,
          16,
          17,
          18,
          19,
          20
         ],
         "xaxis": "x",
         "y": [
          15133,
          12136.999999999998,
          8263,
          6130,
          23224,
          16249,
          14829.999999999998,
          11045,
          13283,
          14608,
          8386,
          12246,
          16070,
          29176.000000000004,
          33276,
          54307,
          65476.99999999999,
          82598.99999999999,
          11653
         ],
         "yaxis": "y"
        },
        {
         "hoverlabel": {
          "namelength": 0
         },
         "hovertemplate": "tool=snippy_NC_010498.1<br>NB_OF_SAMPLES=%{x}<br>nb_of_found_PanVar=%{y}",
         "legendgroup": "snippy_NC_010498.1",
         "line": {
          "color": "rgba(255,0,0,0.3)",
          "dash": "solid"
         },
         "mode": "lines",
         "name": "snippy_NC_010498.1",
         "showlegend": true,
         "type": "scatter",
         "x": [
          2,
          3,
          4,
          5,
          6,
          7,
          8,
          9,
          10,
          11,
          12,
          13,
          14,
          15,
          16,
          17,
          18,
          19,
          20
         ],
         "xaxis": "x",
         "y": [
          20858,
          19318,
          11295.000000000002,
          9391.999999999998,
          24965,
          19092,
          17469,
          12214.999999999998,
          15732,
          16884,
          10315,
          14367,
          17031,
          29941,
          34071,
          54554,
          65689,
          82816,
          11654.000000000002
         ],
         "yaxis": "y"
        },
        {
         "hoverlabel": {
          "namelength": 0
         },
         "hovertemplate": "tool=snippy_NC_011742.1<br>NB_OF_SAMPLES=%{x}<br>nb_of_found_PanVar=%{y}",
         "legendgroup": "snippy_NC_011742.1",
         "line": {
          "color": "rgba(255,0,0,0.3)",
          "dash": "solid"
         },
         "mode": "lines",
         "name": "snippy_NC_011742.1",
         "showlegend": true,
         "type": "scatter",
         "x": [
          2,
          3,
          4,
          5,
          6,
          7,
          8,
          9,
          10,
          11,
          12,
          13,
          14,
          15,
          16,
          17,
          18,
          19,
          20
         ],
         "xaxis": "x",
         "y": [
          22883,
          17223.000000000004,
          13675.000000000002,
          9328,
          25725,
          17016,
          16591,
          12340,
          14304,
          15271.999999999998,
          7562,
          11626,
          15238,
          29092,
          33749,
          54518.99999999999,
          65603,
          82842.99999999999,
          11715
         ],
         "yaxis": "y"
        },
        {
         "hoverlabel": {
          "namelength": 0
         },
         "hovertemplate": "tool=snippy_NC_011993.1<br>NB_OF_SAMPLES=%{x}<br>nb_of_found_PanVar=%{y}",
         "legendgroup": "snippy_NC_011993.1",
         "line": {
          "color": "rgba(255,0,0,0.3)",
          "dash": "solid"
         },
         "mode": "lines",
         "name": "snippy_NC_011993.1",
         "showlegend": true,
         "type": "scatter",
         "x": [
          2,
          3,
          4,
          5,
          6,
          7,
          8,
          9,
          10,
          11,
          12,
          13,
          14,
          15,
          16,
          17,
          18,
          19,
          20
         ],
         "xaxis": "x",
         "y": [
          18177,
          14178,
          10956,
          6999,
          23244,
          15500,
          14854.000000000002,
          10866,
          13012,
          13552,
          6635,
          10367,
          14359,
          28529,
          33596,
          54492.000000000015,
          65749.00000000001,
          82879,
          11718.000000000002
         ],
         "yaxis": "y"
        },
        {
         "hoverlabel": {
          "namelength": 0
         },
         "hovertemplate": "tool=snippy_NC_017646.1<br>NB_OF_SAMPLES=%{x}<br>nb_of_found_PanVar=%{y}",
         "legendgroup": "snippy_NC_017646.1",
         "line": {
          "color": "rgba(255,0,0,0.3)",
          "dash": "solid"
         },
         "mode": "lines",
         "name": "snippy_NC_017646.1",
         "showlegend": true,
         "type": "scatter",
         "x": [
          2,
          3,
          4,
          5,
          6,
          7,
          8,
          9,
          10,
          11,
          12,
          13,
          14,
          15,
          16,
          17,
          18,
          19,
          20
         ],
         "xaxis": "x",
         "y": [
          23260,
          15971,
          14086,
          9672,
          26930,
          19486,
          16927,
          11675.999999999998,
          15077.000000000002,
          17013.000000000004,
          10460,
          14468.000000000002,
          17063,
          30092,
          34006.99999999999,
          54504.000000000015,
          65526.00000000001,
          82620.99999999999,
          11675
         ],
         "yaxis": "y"
        },
        {
         "hoverlabel": {
          "namelength": 0
         },
         "hovertemplate": "tool=snippy_NC_022648.1<br>NB_OF_SAMPLES=%{x}<br>nb_of_found_PanVar=%{y}",
         "legendgroup": "snippy_NC_022648.1",
         "line": {
          "color": "rgba(255,0,0,0.3)",
          "dash": "solid"
         },
         "mode": "lines",
         "name": "snippy_NC_022648.1",
         "showlegend": true,
         "type": "scatter",
         "x": [
          2,
          3,
          4,
          5,
          6,
          7,
          8,
          9,
          10,
          11,
          12,
          13,
          14,
          15,
          16,
          17,
          18,
          19,
          20
         ],
         "xaxis": "x",
         "y": [
          22765,
          19874,
          12810,
          9535,
          24247,
          17031,
          16870,
          12670,
          14116,
          15514,
          7444,
          10877,
          14709,
          28410,
          33309,
          54277.99999999999,
          65278.99999999999,
          82799,
          11718.000000000002
         ],
         "yaxis": "y"
        },
        {
         "hoverlabel": {
          "namelength": 0
         },
         "hovertemplate": "tool=snippy_NZ_CP008697.1<br>NB_OF_SAMPLES=%{x}<br>nb_of_found_PanVar=%{y}",
         "legendgroup": "snippy_NZ_CP008697.1",
         "line": {
          "color": "rgba(255,0,0,0.3)",
          "dash": "solid"
         },
         "mode": "lines",
         "name": "snippy_NZ_CP008697.1",
         "showlegend": true,
         "type": "scatter",
         "x": [
          2,
          3,
          4,
          5,
          6,
          7,
          8,
          9,
          10,
          11,
          12,
          13,
          14,
          15,
          16,
          17,
          18,
          19,
          20
         ],
         "xaxis": "x",
         "y": [
          22300,
          16114,
          11292,
          9017,
          25672,
          20195,
          18518,
          13437,
          16092,
          17841,
          11097,
          15265,
          17836.999999999996,
          30222.000000000004,
          34019,
          54666,
          65535.00000000001,
          82620.00000000001,
          11680.999999999998
         ],
         "yaxis": "y"
        },
        {
         "hoverlabel": {
          "namelength": 0
         },
         "hovertemplate": "tool=snippy_NZ_CP009859.1<br>NB_OF_SAMPLES=%{x}<br>nb_of_found_PanVar=%{y}",
         "legendgroup": "snippy_NZ_CP009859.1",
         "line": {
          "color": "rgba(255,0,0,0.3)",
          "dash": "solid"
         },
         "mode": "lines",
         "name": "snippy_NZ_CP009859.1",
         "showlegend": true,
         "type": "scatter",
         "x": [
          2,
          3,
          4,
          5,
          6,
          7,
          8,
          9,
          10,
          11,
          12,
          13,
          14,
          15,
          16,
          17,
          18,
          19,
          20
         ],
         "xaxis": "x",
         "y": [
          23375.000000000004,
          16726,
          12572.999999999996,
          10320,
          25712,
          20554,
          18556,
          13248,
          16082.000000000002,
          17698.000000000004,
          11012,
          15262,
          17592,
          30114,
          33752.00000000001,
          54223,
          64852,
          82468,
          11656.000000000002
         ],
         "yaxis": "y"
        },
        {
         "hoverlabel": {
          "namelength": 0
         },
         "hovertemplate": "tool=snippy_NZ_CP011134.1<br>NB_OF_SAMPLES=%{x}<br>nb_of_found_PanVar=%{y}",
         "legendgroup": "snippy_NZ_CP011134.1",
         "line": {
          "color": "rgba(255,0,0,0.3)",
          "dash": "solid"
         },
         "mode": "lines",
         "name": "snippy_NZ_CP011134.1",
         "showlegend": true,
         "type": "scatter",
         "x": [
          2,
          3,
          4,
          5,
          6,
          7,
          8,
          9,
          10,
          11,
          12,
          13,
          14,
          15,
          16,
          17,
          18,
          19,
          20
         ],
         "xaxis": "x",
         "y": [
          19116,
          14422.999999999998,
          9840,
          7295.999999999999,
          25063,
          17473,
          16750,
          12461.000000000002,
          14920,
          17131,
          10361,
          14785,
          17211,
          30028,
          34001.00000000001,
          54682,
          65416.999999999985,
          82435,
          11649.000000000002
         ],
         "yaxis": "y"
        },
        {
         "hoverlabel": {
          "namelength": 0
         },
         "hovertemplate": "tool=snippy_NZ_CP013483.1<br>NB_OF_SAMPLES=%{x}<br>nb_of_found_PanVar=%{y}",
         "legendgroup": "snippy_NZ_CP013483.1",
         "line": {
          "color": "rgba(255,0,0,0.3)",
          "dash": "solid"
         },
         "mode": "lines",
         "name": "snippy_NZ_CP013483.1",
         "showlegend": true,
         "type": "scatter",
         "x": [
          2,
          3,
          4,
          5,
          6,
          7,
          8,
          9,
          10,
          11,
          12,
          13,
          14,
          15,
          16,
          17,
          18,
          19,
          20
         ],
         "xaxis": "x",
         "y": [
          16205.000000000005,
          13376.999999999998,
          8909,
          6337,
          24127,
          16222,
          15650.000000000002,
          11429,
          13746,
          14938,
          8911,
          12717,
          16087.999999999998,
          29015,
          32997.99999999999,
          54368,
          65357,
          82296,
          11652
         ],
         "yaxis": "y"
        },
        {
         "hoverlabel": {
          "namelength": 0
         },
         "hovertemplate": "tool=snippy_NZ_CP015228.1<br>NB_OF_SAMPLES=%{x}<br>nb_of_found_PanVar=%{y}",
         "legendgroup": "snippy_NZ_CP015228.1",
         "line": {
          "color": "rgba(255,0,0,0.3)",
          "dash": "solid"
         },
         "mode": "lines",
         "name": "snippy_NZ_CP015228.1",
         "showlegend": true,
         "type": "scatter",
         "x": [
          2,
          3,
          4,
          5,
          6,
          7,
          8,
          9,
          10,
          11,
          12,
          13,
          14,
          15,
          16,
          17,
          18,
          19,
          20
         ],
         "xaxis": "x",
         "y": [
          18539,
          14200,
          10422.000000000004,
          7537.999999999998,
          25141,
          17592,
          17596,
          12274,
          15094,
          15949.999999999998,
          9538,
          13633,
          17068,
          29732,
          33684,
          54153,
          65252.99999999999,
          82205.99999999999,
          11614
         ],
         "yaxis": "y"
        },
        {
         "hoverlabel": {
          "namelength": 0
         },
         "hovertemplate": "tool=snippy_NZ_CP016007.1<br>NB_OF_SAMPLES=%{x}<br>nb_of_found_PanVar=%{y}",
         "legendgroup": "snippy_NZ_CP016007.1",
         "line": {
          "color": "rgba(255,0,0,0.3)",
          "dash": "solid"
         },
         "mode": "lines",
         "name": "snippy_NZ_CP016007.1",
         "showlegend": true,
         "type": "scatter",
         "x": [
          2,
          3,
          4,
          5,
          6,
          7,
          8,
          9,
          10,
          11,
          12,
          13,
          14,
          15,
          16,
          17,
          18,
          19,
          20
         ],
         "xaxis": "x",
         "y": [
          20074,
          19331,
          12458,
          8451,
          23808,
          16024.999999999998,
          15059,
          11406,
          13067,
          13655,
          6767.000000000001,
          10289,
          14489.999999999998,
          28604,
          33646.00000000001,
          54393,
          65638,
          82846,
          11708
         ],
         "yaxis": "y"
        },
        {
         "hoverlabel": {
          "namelength": 0
         },
         "hovertemplate": "tool=snippy_NZ_CP018109.1<br>NB_OF_SAMPLES=%{x}<br>nb_of_found_PanVar=%{y}",
         "legendgroup": "snippy_NZ_CP018109.1",
         "line": {
          "color": "rgba(255,0,0,0.3)",
          "dash": "solid"
         },
         "mode": "lines",
         "name": "snippy_NZ_CP018109.1",
         "showlegend": true,
         "type": "scatter",
         "x": [
          2,
          3,
          4,
          5,
          6,
          7,
          8,
          9,
          10,
          11,
          12,
          13,
          14,
          15,
          16,
          17,
          18,
          19,
          20
         ],
         "xaxis": "x",
         "y": [
          17730.000000000004,
          13027,
          9185,
          6910.999999999999,
          23579.000000000004,
          16590,
          16748,
          12163.000000000002,
          14572,
          15374,
          9248,
          12474,
          15727,
          28609,
          32016.999999999996,
          53811,
          65481.000000000015,
          82579.00000000001,
          11664
         ],
         "yaxis": "y"
        },
        {
         "hoverlabel": {
          "namelength": 0
         },
         "hovertemplate": "tool=snippy_NZ_LN995446.1<br>NB_OF_SAMPLES=%{x}<br>nb_of_found_PanVar=%{y}",
         "legendgroup": "snippy_NZ_LN995446.1",
         "line": {
          "color": "rgba(255,0,0,0.3)",
          "dash": "solid"
         },
         "mode": "lines",
         "name": "snippy_NZ_LN995446.1",
         "showlegend": true,
         "type": "scatter",
         "x": [
          2,
          3,
          4,
          5,
          6,
          7,
          8,
          9,
          10,
          11,
          12,
          13,
          14,
          15,
          16,
          17,
          18,
          19,
          20
         ],
         "xaxis": "x",
         "y": [
          14714.999999999995,
          11844,
          8051.000000000001,
          5920,
          23050,
          16186,
          14652,
          10970,
          13191,
          14455,
          8157.999999999999,
          12074,
          15767.999999999998,
          28937,
          32818,
          53729.99999999999,
          64809,
          82318,
          11611
         ],
         "yaxis": "y"
        },
        {
         "hoverlabel": {
          "namelength": 0
         },
         "hovertemplate": "tool=snippy_NZ_LT632320.1<br>NB_OF_SAMPLES=%{x}<br>nb_of_found_PanVar=%{y}",
         "legendgroup": "snippy_NZ_LT632320.1",
         "line": {
          "color": "rgba(255,0,0,0.3)",
          "dash": "solid"
         },
         "mode": "lines",
         "name": "snippy_NZ_LT632320.1",
         "showlegend": true,
         "type": "scatter",
         "x": [
          2,
          3,
          4,
          5,
          6,
          7,
          8,
          9,
          10,
          11,
          12,
          13,
          14,
          15,
          16,
          17,
          18,
          19,
          20
         ],
         "xaxis": "x",
         "y": [
          22699,
          20036,
          13213,
          9463,
          24285,
          17215,
          16884,
          12810,
          14122.999999999998,
          15136,
          7470.000000000001,
          10712,
          14680,
          28395,
          33161,
          54033.00000000001,
          65002.00000000001,
          82471.99999999999,
          11683.999999999996
         ],
         "yaxis": "y"
        },
        {
         "hoverlabel": {
          "namelength": 0
         },
         "hovertemplate": "tool=snippy_NZ_NG941718.1<br>NB_OF_SAMPLES=%{x}<br>nb_of_found_PanVar=%{y}",
         "legendgroup": "snippy_NZ_NG941718.1",
         "line": {
          "color": "rgba(255,0,0,0.3)",
          "dash": "solid"
         },
         "mode": "lines",
         "name": "snippy_NZ_NG941718.1",
         "showlegend": true,
         "type": "scatter",
         "x": [
          2,
          3,
          4,
          5,
          6,
          7,
          8,
          9,
          10,
          11,
          12,
          13,
          14,
          15,
          16,
          17,
          18,
          19,
          20
         ],
         "xaxis": "x",
         "y": [
          23025,
          20300,
          13426,
          9585,
          24461,
          17395,
          17020,
          12832,
          14217.000000000004,
          15570,
          7512.999999999999,
          11039.000000000002,
          14812,
          28520,
          33297,
          54283,
          65295,
          82814,
          11719
         ],
         "yaxis": "y"
        }
       ],
       "layout": {
        "legend": {
         "title": {
          "text": "tool"
         },
         "tracegroupgap": 0
        },
        "margin": {
         "t": 60
        },
        "template": {
         "data": {
          "bar": [
           {
            "error_x": {
             "color": "#2a3f5f"
            },
            "error_y": {
             "color": "#2a3f5f"
            },
            "marker": {
             "line": {
              "color": "#E5ECF6",
              "width": 0.5
             }
            },
            "type": "bar"
           }
          ],
          "barpolar": [
           {
            "marker": {
             "line": {
              "color": "#E5ECF6",
              "width": 0.5
             }
            },
            "type": "barpolar"
           }
          ],
          "carpet": [
           {
            "aaxis": {
             "endlinecolor": "#2a3f5f",
             "gridcolor": "white",
             "linecolor": "white",
             "minorgridcolor": "white",
             "startlinecolor": "#2a3f5f"
            },
            "baxis": {
             "endlinecolor": "#2a3f5f",
             "gridcolor": "white",
             "linecolor": "white",
             "minorgridcolor": "white",
             "startlinecolor": "#2a3f5f"
            },
            "type": "carpet"
           }
          ],
          "choropleth": [
           {
            "colorbar": {
             "outlinewidth": 0,
             "ticks": ""
            },
            "type": "choropleth"
           }
          ],
          "contour": [
           {
            "colorbar": {
             "outlinewidth": 0,
             "ticks": ""
            },
            "colorscale": [
             [
              0,
              "#0d0887"
             ],
             [
              0.1111111111111111,
              "#46039f"
             ],
             [
              0.2222222222222222,
              "#7201a8"
             ],
             [
              0.3333333333333333,
              "#9c179e"
             ],
             [
              0.4444444444444444,
              "#bd3786"
             ],
             [
              0.5555555555555556,
              "#d8576b"
             ],
             [
              0.6666666666666666,
              "#ed7953"
             ],
             [
              0.7777777777777778,
              "#fb9f3a"
             ],
             [
              0.8888888888888888,
              "#fdca26"
             ],
             [
              1,
              "#f0f921"
             ]
            ],
            "type": "contour"
           }
          ],
          "contourcarpet": [
           {
            "colorbar": {
             "outlinewidth": 0,
             "ticks": ""
            },
            "type": "contourcarpet"
           }
          ],
          "heatmap": [
           {
            "colorbar": {
             "outlinewidth": 0,
             "ticks": ""
            },
            "colorscale": [
             [
              0,
              "#0d0887"
             ],
             [
              0.1111111111111111,
              "#46039f"
             ],
             [
              0.2222222222222222,
              "#7201a8"
             ],
             [
              0.3333333333333333,
              "#9c179e"
             ],
             [
              0.4444444444444444,
              "#bd3786"
             ],
             [
              0.5555555555555556,
              "#d8576b"
             ],
             [
              0.6666666666666666,
              "#ed7953"
             ],
             [
              0.7777777777777778,
              "#fb9f3a"
             ],
             [
              0.8888888888888888,
              "#fdca26"
             ],
             [
              1,
              "#f0f921"
             ]
            ],
            "type": "heatmap"
           }
          ],
          "heatmapgl": [
           {
            "colorbar": {
             "outlinewidth": 0,
             "ticks": ""
            },
            "colorscale": [
             [
              0,
              "#0d0887"
             ],
             [
              0.1111111111111111,
              "#46039f"
             ],
             [
              0.2222222222222222,
              "#7201a8"
             ],
             [
              0.3333333333333333,
              "#9c179e"
             ],
             [
              0.4444444444444444,
              "#bd3786"
             ],
             [
              0.5555555555555556,
              "#d8576b"
             ],
             [
              0.6666666666666666,
              "#ed7953"
             ],
             [
              0.7777777777777778,
              "#fb9f3a"
             ],
             [
              0.8888888888888888,
              "#fdca26"
             ],
             [
              1,
              "#f0f921"
             ]
            ],
            "type": "heatmapgl"
           }
          ],
          "histogram": [
           {
            "marker": {
             "colorbar": {
              "outlinewidth": 0,
              "ticks": ""
             }
            },
            "type": "histogram"
           }
          ],
          "histogram2d": [
           {
            "colorbar": {
             "outlinewidth": 0,
             "ticks": ""
            },
            "colorscale": [
             [
              0,
              "#0d0887"
             ],
             [
              0.1111111111111111,
              "#46039f"
             ],
             [
              0.2222222222222222,
              "#7201a8"
             ],
             [
              0.3333333333333333,
              "#9c179e"
             ],
             [
              0.4444444444444444,
              "#bd3786"
             ],
             [
              0.5555555555555556,
              "#d8576b"
             ],
             [
              0.6666666666666666,
              "#ed7953"
             ],
             [
              0.7777777777777778,
              "#fb9f3a"
             ],
             [
              0.8888888888888888,
              "#fdca26"
             ],
             [
              1,
              "#f0f921"
             ]
            ],
            "type": "histogram2d"
           }
          ],
          "histogram2dcontour": [
           {
            "colorbar": {
             "outlinewidth": 0,
             "ticks": ""
            },
            "colorscale": [
             [
              0,
              "#0d0887"
             ],
             [
              0.1111111111111111,
              "#46039f"
             ],
             [
              0.2222222222222222,
              "#7201a8"
             ],
             [
              0.3333333333333333,
              "#9c179e"
             ],
             [
              0.4444444444444444,
              "#bd3786"
             ],
             [
              0.5555555555555556,
              "#d8576b"
             ],
             [
              0.6666666666666666,
              "#ed7953"
             ],
             [
              0.7777777777777778,
              "#fb9f3a"
             ],
             [
              0.8888888888888888,
              "#fdca26"
             ],
             [
              1,
              "#f0f921"
             ]
            ],
            "type": "histogram2dcontour"
           }
          ],
          "mesh3d": [
           {
            "colorbar": {
             "outlinewidth": 0,
             "ticks": ""
            },
            "type": "mesh3d"
           }
          ],
          "parcoords": [
           {
            "line": {
             "colorbar": {
              "outlinewidth": 0,
              "ticks": ""
             }
            },
            "type": "parcoords"
           }
          ],
          "pie": [
           {
            "automargin": true,
            "type": "pie"
           }
          ],
          "scatter": [
           {
            "marker": {
             "colorbar": {
              "outlinewidth": 0,
              "ticks": ""
             }
            },
            "type": "scatter"
           }
          ],
          "scatter3d": [
           {
            "line": {
             "colorbar": {
              "outlinewidth": 0,
              "ticks": ""
             }
            },
            "marker": {
             "colorbar": {
              "outlinewidth": 0,
              "ticks": ""
             }
            },
            "type": "scatter3d"
           }
          ],
          "scattercarpet": [
           {
            "marker": {
             "colorbar": {
              "outlinewidth": 0,
              "ticks": ""
             }
            },
            "type": "scattercarpet"
           }
          ],
          "scattergeo": [
           {
            "marker": {
             "colorbar": {
              "outlinewidth": 0,
              "ticks": ""
             }
            },
            "type": "scattergeo"
           }
          ],
          "scattergl": [
           {
            "marker": {
             "colorbar": {
              "outlinewidth": 0,
              "ticks": ""
             }
            },
            "type": "scattergl"
           }
          ],
          "scattermapbox": [
           {
            "marker": {
             "colorbar": {
              "outlinewidth": 0,
              "ticks": ""
             }
            },
            "type": "scattermapbox"
           }
          ],
          "scatterpolar": [
           {
            "marker": {
             "colorbar": {
              "outlinewidth": 0,
              "ticks": ""
             }
            },
            "type": "scatterpolar"
           }
          ],
          "scatterpolargl": [
           {
            "marker": {
             "colorbar": {
              "outlinewidth": 0,
              "ticks": ""
             }
            },
            "type": "scatterpolargl"
           }
          ],
          "scatterternary": [
           {
            "marker": {
             "colorbar": {
              "outlinewidth": 0,
              "ticks": ""
             }
            },
            "type": "scatterternary"
           }
          ],
          "surface": [
           {
            "colorbar": {
             "outlinewidth": 0,
             "ticks": ""
            },
            "colorscale": [
             [
              0,
              "#0d0887"
             ],
             [
              0.1111111111111111,
              "#46039f"
             ],
             [
              0.2222222222222222,
              "#7201a8"
             ],
             [
              0.3333333333333333,
              "#9c179e"
             ],
             [
              0.4444444444444444,
              "#bd3786"
             ],
             [
              0.5555555555555556,
              "#d8576b"
             ],
             [
              0.6666666666666666,
              "#ed7953"
             ],
             [
              0.7777777777777778,
              "#fb9f3a"
             ],
             [
              0.8888888888888888,
              "#fdca26"
             ],
             [
              1,
              "#f0f921"
             ]
            ],
            "type": "surface"
           }
          ],
          "table": [
           {
            "cells": {
             "fill": {
              "color": "#EBF0F8"
             },
             "line": {
              "color": "white"
             }
            },
            "header": {
             "fill": {
              "color": "#C8D4E3"
             },
             "line": {
              "color": "white"
             }
            },
            "type": "table"
           }
          ]
         },
         "layout": {
          "annotationdefaults": {
           "arrowcolor": "#2a3f5f",
           "arrowhead": 0,
           "arrowwidth": 1
          },
          "coloraxis": {
           "colorbar": {
            "outlinewidth": 0,
            "ticks": ""
           }
          },
          "colorscale": {
           "diverging": [
            [
             0,
             "#8e0152"
            ],
            [
             0.1,
             "#c51b7d"
            ],
            [
             0.2,
             "#de77ae"
            ],
            [
             0.3,
             "#f1b6da"
            ],
            [
             0.4,
             "#fde0ef"
            ],
            [
             0.5,
             "#f7f7f7"
            ],
            [
             0.6,
             "#e6f5d0"
            ],
            [
             0.7,
             "#b8e186"
            ],
            [
             0.8,
             "#7fbc41"
            ],
            [
             0.9,
             "#4d9221"
            ],
            [
             1,
             "#276419"
            ]
           ],
           "sequential": [
            [
             0,
             "#0d0887"
            ],
            [
             0.1111111111111111,
             "#46039f"
            ],
            [
             0.2222222222222222,
             "#7201a8"
            ],
            [
             0.3333333333333333,
             "#9c179e"
            ],
            [
             0.4444444444444444,
             "#bd3786"
            ],
            [
             0.5555555555555556,
             "#d8576b"
            ],
            [
             0.6666666666666666,
             "#ed7953"
            ],
            [
             0.7777777777777778,
             "#fb9f3a"
            ],
            [
             0.8888888888888888,
             "#fdca26"
            ],
            [
             1,
             "#f0f921"
            ]
           ],
           "sequentialminus": [
            [
             0,
             "#0d0887"
            ],
            [
             0.1111111111111111,
             "#46039f"
            ],
            [
             0.2222222222222222,
             "#7201a8"
            ],
            [
             0.3333333333333333,
             "#9c179e"
            ],
            [
             0.4444444444444444,
             "#bd3786"
            ],
            [
             0.5555555555555556,
             "#d8576b"
            ],
            [
             0.6666666666666666,
             "#ed7953"
            ],
            [
             0.7777777777777778,
             "#fb9f3a"
            ],
            [
             0.8888888888888888,
             "#fdca26"
            ],
            [
             1,
             "#f0f921"
            ]
           ]
          },
          "colorway": [
           "#636efa",
           "#EF553B",
           "#00cc96",
           "#ab63fa",
           "#FFA15A",
           "#19d3f3",
           "#FF6692",
           "#B6E880",
           "#FF97FF",
           "#FECB52"
          ],
          "font": {
           "color": "#2a3f5f"
          },
          "geo": {
           "bgcolor": "white",
           "lakecolor": "white",
           "landcolor": "#E5ECF6",
           "showlakes": true,
           "showland": true,
           "subunitcolor": "white"
          },
          "hoverlabel": {
           "align": "left"
          },
          "hovermode": "closest",
          "mapbox": {
           "style": "light"
          },
          "paper_bgcolor": "white",
          "plot_bgcolor": "#E5ECF6",
          "polar": {
           "angularaxis": {
            "gridcolor": "white",
            "linecolor": "white",
            "ticks": ""
           },
           "bgcolor": "#E5ECF6",
           "radialaxis": {
            "gridcolor": "white",
            "linecolor": "white",
            "ticks": ""
           }
          },
          "scene": {
           "xaxis": {
            "backgroundcolor": "#E5ECF6",
            "gridcolor": "white",
            "gridwidth": 2,
            "linecolor": "white",
            "showbackground": true,
            "ticks": "",
            "zerolinecolor": "white"
           },
           "yaxis": {
            "backgroundcolor": "#E5ECF6",
            "gridcolor": "white",
            "gridwidth": 2,
            "linecolor": "white",
            "showbackground": true,
            "ticks": "",
            "zerolinecolor": "white"
           },
           "zaxis": {
            "backgroundcolor": "#E5ECF6",
            "gridcolor": "white",
            "gridwidth": 2,
            "linecolor": "white",
            "showbackground": true,
            "ticks": "",
            "zerolinecolor": "white"
           }
          },
          "shapedefaults": {
           "line": {
            "color": "#2a3f5f"
           }
          },
          "ternary": {
           "aaxis": {
            "gridcolor": "white",
            "linecolor": "white",
            "ticks": ""
           },
           "baxis": {
            "gridcolor": "white",
            "linecolor": "white",
            "ticks": ""
           },
           "bgcolor": "#E5ECF6",
           "caxis": {
            "gridcolor": "white",
            "linecolor": "white",
            "ticks": ""
           }
          },
          "title": {
           "x": 0.05
          },
          "xaxis": {
           "automargin": true,
           "gridcolor": "white",
           "linecolor": "white",
           "ticks": "",
           "title": {
            "standoff": 15
           },
           "zerolinecolor": "white",
           "zerolinewidth": 2
          },
          "yaxis": {
           "automargin": true,
           "gridcolor": "white",
           "linecolor": "white",
           "ticks": "",
           "title": {
            "standoff": 15
           },
           "zerolinecolor": "white",
           "zerolinewidth": 2
          }
         }
        },
        "xaxis": {
         "anchor": "y",
         "domain": [
          0,
          1
         ],
         "dtick": 1,
         "tick0": 2,
         "tickmode": "linear",
         "title": {
          "text": "Number of samples"
         }
        },
        "yaxis": {
         "anchor": "x",
         "domain": [
          0,
          1
         ],
         "title": {
          "text": "Nb of Pangenome Variations Found"
         }
        }
       }
      },
      "text/html": [
       "<div>\n",
       "        \n",
       "        \n",
       "            <div id=\"d34e3122-2dd2-4aaa-af48-9c59fc195c6b\" class=\"plotly-graph-div\" style=\"height:525px; width:100%;\"></div>\n",
       "            <script type=\"text/javascript\">\n",
       "                require([\"plotly\"], function(Plotly) {\n",
       "                    window.PLOTLYENV=window.PLOTLYENV || {};\n",
       "                    \n",
       "                if (document.getElementById(\"d34e3122-2dd2-4aaa-af48-9c59fc195c6b\")) {\n",
       "                    Plotly.newPlot(\n",
       "                        'd34e3122-2dd2-4aaa-af48-9c59fc195c6b',\n",
       "                        [{\"hoverlabel\": {\"namelength\": 0}, \"hovertemplate\": \"tool=pandora_illumina_nodenovo_global_genotyping<br>NB_OF_SAMPLES=%{x}<br>nb_of_found_PanVar=%{y}\", \"legendgroup\": \"pandora_illumina_nodenovo_global_genotyping\", \"line\": {\"color\": \"orange\", \"dash\": \"solid\"}, \"mode\": \"lines\", \"name\": \"pandora_illumina_nodenovo_global_genotyping\", \"showlegend\": true, \"type\": \"scatter\", \"x\": [2, 3, 4, 5, 6, 7, 8, 9, 10, 11, 12, 13, 14, 15, 16, 17, 18, 19, 20], \"xaxis\": \"x\", \"y\": [38958.0, 29700.999999999996, 23121.0, 18092.0, 24153.999999999996, 19172.0, 18231.0, 15234.999999999998, 16918.0, 17335.0, 10449.0, 13045.0, 14701.0, 23385.0, 30269.0, 50119.0, 61019.00000000001, 76915.0, 9275.0], \"yaxis\": \"y\"}, {\"hoverlabel\": {\"namelength\": 0}, \"hovertemplate\": \"tool=pandora_illumina_withdenovo_global_genotyping<br>NB_OF_SAMPLES=%{x}<br>nb_of_found_PanVar=%{y}\", \"legendgroup\": \"pandora_illumina_withdenovo_global_genotyping\", \"line\": {\"color\": \"blue\", \"dash\": \"solid\"}, \"mode\": \"lines\", \"name\": \"pandora_illumina_withdenovo_global_genotyping\", \"showlegend\": true, \"type\": \"scatter\", \"x\": [2, 3, 4, 5, 6, 7, 8, 9, 10, 11, 12, 13, 14, 15, 16, 17, 18, 19, 20], \"xaxis\": \"x\", \"y\": [40579.0, 31100.000000000004, 24409.0, 18707.0, 27735.0, 20472.0, 19452.0, 15629.0, 17379.0, 17780.0, 10858.0, 14129.0, 15763.0, 26189.0, 30767.0, 50699.0, 61643.0, 77278.0, 10282.0], \"yaxis\": \"y\"}, {\"hoverlabel\": {\"namelength\": 0}, \"hovertemplate\": \"tool=snippy_CN928163.2<br>NB_OF_SAMPLES=%{x}<br>nb_of_found_PanVar=%{y}\", \"legendgroup\": \"snippy_CN928163.2\", \"line\": {\"color\": \"rgba(255,0,0,0.3)\", \"dash\": \"solid\"}, \"mode\": \"lines\", \"name\": \"snippy_CN928163.2\", \"showlegend\": true, \"type\": \"scatter\", \"x\": [2, 3, 4, 5, 6, 7, 8, 9, 10, 11, 12, 13, 14, 15, 16, 17, 18, 19, 20], \"xaxis\": \"x\", \"y\": [22005.999999999996, 17746.0, 12362.0, 9256.000000000002, 26170.0, 19159.0, 16884.0, 11318.0, 15289.0, 16694.0, 9858.0, 13724.999999999998, 16936.0, 29967.0, 34015.0, 54432.0, 65790.0, 82774.0, 11677.999999999998], \"yaxis\": \"y\"}, {\"hoverlabel\": {\"namelength\": 0}, \"hovertemplate\": \"tool=snippy_CP010116.1<br>NB_OF_SAMPLES=%{x}<br>nb_of_found_PanVar=%{y}\", \"legendgroup\": \"snippy_CP010116.1\", \"line\": {\"color\": \"rgba(255,0,0,0.3)\", \"dash\": \"solid\"}, \"mode\": \"lines\", \"name\": \"snippy_CP010116.1\", \"showlegend\": true, \"type\": \"scatter\", \"x\": [2, 3, 4, 5, 6, 7, 8, 9, 10, 11, 12, 13, 14, 15, 16, 17, 18, 19, 20], \"xaxis\": \"x\", \"y\": [16776.0, 11801.0, 9568.0, 6980.000000000001, 24557.0, 18110.0, 16217.0, 11483.0, 14974.0, 15598.999999999998, 9661.0, 13390.0, 16933.0, 29188.0, 33066.0, 52861.0, 63434.00000000001, 80580.0, 11343.0], \"yaxis\": \"y\"}, {\"hoverlabel\": {\"namelength\": 0}, \"hovertemplate\": \"tool=snippy_CP010121.1<br>NB_OF_SAMPLES=%{x}<br>nb_of_found_PanVar=%{y}\", \"legendgroup\": \"snippy_CP010121.1\", \"line\": {\"color\": \"rgba(255,0,0,0.3)\", \"dash\": \"solid\"}, \"mode\": \"lines\", \"name\": \"snippy_CP010121.1\", \"showlegend\": true, \"type\": \"scatter\", \"x\": [2, 3, 4, 5, 6, 7, 8, 9, 10, 11, 12, 13, 14, 15, 16, 17, 18, 19, 20], \"xaxis\": \"x\", \"y\": [18234.000000000004, 12568.000000000002, 10380.0, 7939.0, 24633.999999999996, 17882.0, 15549.0, 10597.0, 15130.0, 15386.0, 9335.0, 12520.0, 16860.0, 29560.0, 33747.0, 54079.99999999999, 65638.0, 82689.0, 11677.999999999998], \"yaxis\": \"y\"}, {\"hoverlabel\": {\"namelength\": 0}, \"hovertemplate\": \"tool=snippy_CP010170.1<br>NB_OF_SAMPLES=%{x}<br>nb_of_found_PanVar=%{y}\", \"legendgroup\": \"snippy_CP010170.1\", \"line\": {\"color\": \"rgba(255,0,0,0.3)\", \"dash\": \"solid\"}, \"mode\": \"lines\", \"name\": \"snippy_CP010170.1\", \"showlegend\": true, \"type\": \"scatter\", \"x\": [2, 3, 4, 5, 6, 7, 8, 9, 10, 11, 12, 13, 14, 15, 16, 17, 18, 19, 20], \"xaxis\": \"x\", \"y\": [15023.999999999998, 11845.000000000002, 8327.0, 7227.0, 23719.000000000004, 16346.0, 14811.0, 10907.0, 12941.0, 14312.0, 8456.0, 11972.999999999998, 15929.0, 29387.0, 33369.0, 54383.99999999999, 65520.0, 82660.99999999999, 11663.0], \"yaxis\": \"y\"}, {\"hoverlabel\": {\"namelength\": 0}, \"hovertemplate\": \"tool=snippy_CP010171.1<br>NB_OF_SAMPLES=%{x}<br>nb_of_found_PanVar=%{y}\", \"legendgroup\": \"snippy_CP010171.1\", \"line\": {\"color\": \"rgba(255,0,0,0.3)\", \"dash\": \"solid\"}, \"mode\": \"lines\", \"name\": \"snippy_CP010171.1\", \"showlegend\": true, \"type\": \"scatter\", \"x\": [2, 3, 4, 5, 6, 7, 8, 9, 10, 11, 12, 13, 14, 15, 16, 17, 18, 19, 20], \"xaxis\": \"x\", \"y\": [15811.0, 12566.0, 10037.000000000002, 7895.999999999999, 23623.0, 16540.0, 15639.0, 10754.0, 13414.0, 14551.0, 8533.0, 12628.0, 15954.0, 29083.0, 33055.0, 53625.0, 64476.0, 82298.0, 11655.000000000002], \"yaxis\": \"y\"}, {\"hoverlabel\": {\"namelength\": 0}, \"hovertemplate\": \"tool=snippy_CP010226.1<br>NB_OF_SAMPLES=%{x}<br>nb_of_found_PanVar=%{y}\", \"legendgroup\": \"snippy_CP010226.1\", \"line\": {\"color\": \"rgba(255,0,0,0.3)\", \"dash\": \"solid\"}, \"mode\": \"lines\", \"name\": \"snippy_CP010226.1\", \"showlegend\": true, \"type\": \"scatter\", \"x\": [2, 3, 4, 5, 6, 7, 8, 9, 10, 11, 12, 13, 14, 15, 16, 17, 18, 19, 20], \"xaxis\": \"x\", \"y\": [14825.000000000002, 11611.0, 7696.0, 6258.999999999999, 22513.0, 15926.0, 14480.0, 10244.0, 12977.0, 13929.0, 7743.0, 11437.0, 14897.000000000002, 28329.0, 32321.0, 53037.00000000001, 63969.0, 81683.99999999999, 11500.0], \"yaxis\": \"y\"}, {\"hoverlabel\": {\"namelength\": 0}, \"hovertemplate\": \"tool=snippy_CP010230.1<br>NB_OF_SAMPLES=%{x}<br>nb_of_found_PanVar=%{y}\", \"legendgroup\": \"snippy_CP010230.1\", \"line\": {\"color\": \"rgba(255,0,0,0.3)\", \"dash\": \"solid\"}, \"mode\": \"lines\", \"name\": \"snippy_CP010230.1\", \"showlegend\": true, \"type\": \"scatter\", \"x\": [2, 3, 4, 5, 6, 7, 8, 9, 10, 11, 12, 13, 14, 15, 16, 17, 18, 19, 20], \"xaxis\": \"x\", \"y\": [14133.0, 11846.0, 9575.0, 7042.0, 24205.0, 16595.0, 16029.0, 10985.0, 14268.0, 15191.0, 8913.0, 13029.999999999998, 16319.0, 29419.0, 33537.0, 54167.0, 65278.99999999999, 82309.0, 11620.0], \"yaxis\": \"y\"}, {\"hoverlabel\": {\"namelength\": 0}, \"hovertemplate\": \"tool=snippy_CP018206.1<br>NB_OF_SAMPLES=%{x}<br>nb_of_found_PanVar=%{y}\", \"legendgroup\": \"snippy_CP018206.1\", \"line\": {\"color\": \"rgba(255,0,0,0.3)\", \"dash\": \"solid\"}, \"mode\": \"lines\", \"name\": \"snippy_CP018206.1\", \"showlegend\": true, \"type\": \"scatter\", \"x\": [2, 3, 4, 5, 6, 7, 8, 9, 10, 11, 12, 13, 14, 15, 16, 17, 18, 19, 20], \"xaxis\": \"x\", \"y\": [19196.0, 13488.0, 10857.0, 7940.0, 26057.0, 18959.0, 17255.0, 11914.0, 15848.0, 16265.0, 9924.0, 13708.0, 17270.0, 30265.0, 34071.0, 54618.00000000001, 65657.99999999999, 82667.0, 11672.0], \"yaxis\": \"y\"}, {\"hoverlabel\": {\"namelength\": 0}, \"hovertemplate\": \"tool=snippy_NC_004431.1<br>NB_OF_SAMPLES=%{x}<br>nb_of_found_PanVar=%{y}\", \"legendgroup\": \"snippy_NC_004431.1\", \"line\": {\"color\": \"rgba(255,0,0,0.3)\", \"dash\": \"solid\"}, \"mode\": \"lines\", \"name\": \"snippy_NC_004431.1\", \"showlegend\": true, \"type\": \"scatter\", \"x\": [2, 3, 4, 5, 6, 7, 8, 9, 10, 11, 12, 13, 14, 15, 16, 17, 18, 19, 20], \"xaxis\": \"x\", \"y\": [22851.0, 18699.0, 13744.000000000002, 8777.0, 24754.0, 16763.0, 15963.999999999998, 12068.0, 13841.0, 14501.0, 6736.000000000001, 10218.0, 13960.0, 28240.0, 32969.0, 54440.0, 65717.0, 83017.0, 11719.0], \"yaxis\": \"y\"}, {\"hoverlabel\": {\"namelength\": 0}, \"hovertemplate\": \"tool=snippy_NC_007779.1<br>NB_OF_SAMPLES=%{x}<br>nb_of_found_PanVar=%{y}\", \"legendgroup\": \"snippy_NC_007779.1\", \"line\": {\"color\": \"rgba(255,0,0,0.3)\", \"dash\": \"solid\"}, \"mode\": \"lines\", \"name\": \"snippy_NC_007779.1\", \"showlegend\": true, \"type\": \"scatter\", \"x\": [2, 3, 4, 5, 6, 7, 8, 9, 10, 11, 12, 13, 14, 15, 16, 17, 18, 19, 20], \"xaxis\": \"x\", \"y\": [15133.0, 12136.999999999998, 8263.0, 6130.0, 23224.0, 16249.0, 14829.999999999998, 11045.0, 13283.0, 14608.0, 8386.0, 12246.0, 16070.0, 29176.000000000004, 33276.0, 54307.0, 65476.99999999999, 82598.99999999999, 11653.0], \"yaxis\": \"y\"}, {\"hoverlabel\": {\"namelength\": 0}, \"hovertemplate\": \"tool=snippy_NC_010498.1<br>NB_OF_SAMPLES=%{x}<br>nb_of_found_PanVar=%{y}\", \"legendgroup\": \"snippy_NC_010498.1\", \"line\": {\"color\": \"rgba(255,0,0,0.3)\", \"dash\": \"solid\"}, \"mode\": \"lines\", \"name\": \"snippy_NC_010498.1\", \"showlegend\": true, \"type\": \"scatter\", \"x\": [2, 3, 4, 5, 6, 7, 8, 9, 10, 11, 12, 13, 14, 15, 16, 17, 18, 19, 20], \"xaxis\": \"x\", \"y\": [20858.0, 19318.0, 11295.000000000002, 9391.999999999998, 24965.0, 19092.0, 17469.0, 12214.999999999998, 15732.0, 16884.0, 10315.0, 14367.0, 17031.0, 29941.0, 34071.0, 54554.0, 65689.0, 82816.0, 11654.000000000002], \"yaxis\": \"y\"}, {\"hoverlabel\": {\"namelength\": 0}, \"hovertemplate\": \"tool=snippy_NC_011742.1<br>NB_OF_SAMPLES=%{x}<br>nb_of_found_PanVar=%{y}\", \"legendgroup\": \"snippy_NC_011742.1\", \"line\": {\"color\": \"rgba(255,0,0,0.3)\", \"dash\": \"solid\"}, \"mode\": \"lines\", \"name\": \"snippy_NC_011742.1\", \"showlegend\": true, \"type\": \"scatter\", \"x\": [2, 3, 4, 5, 6, 7, 8, 9, 10, 11, 12, 13, 14, 15, 16, 17, 18, 19, 20], \"xaxis\": \"x\", \"y\": [22883.0, 17223.000000000004, 13675.000000000002, 9328.0, 25725.0, 17016.0, 16591.0, 12340.0, 14304.0, 15271.999999999998, 7562.0, 11626.0, 15238.0, 29092.0, 33749.0, 54518.99999999999, 65603.0, 82842.99999999999, 11715.0], \"yaxis\": \"y\"}, {\"hoverlabel\": {\"namelength\": 0}, \"hovertemplate\": \"tool=snippy_NC_011993.1<br>NB_OF_SAMPLES=%{x}<br>nb_of_found_PanVar=%{y}\", \"legendgroup\": \"snippy_NC_011993.1\", \"line\": {\"color\": \"rgba(255,0,0,0.3)\", \"dash\": \"solid\"}, \"mode\": \"lines\", \"name\": \"snippy_NC_011993.1\", \"showlegend\": true, \"type\": \"scatter\", \"x\": [2, 3, 4, 5, 6, 7, 8, 9, 10, 11, 12, 13, 14, 15, 16, 17, 18, 19, 20], \"xaxis\": \"x\", \"y\": [18177.0, 14178.0, 10956.0, 6999.0, 23244.0, 15500.0, 14854.000000000002, 10866.0, 13012.0, 13552.0, 6635.0, 10367.0, 14359.0, 28529.0, 33596.0, 54492.000000000015, 65749.00000000001, 82879.0, 11718.000000000002], \"yaxis\": \"y\"}, {\"hoverlabel\": {\"namelength\": 0}, \"hovertemplate\": \"tool=snippy_NC_017646.1<br>NB_OF_SAMPLES=%{x}<br>nb_of_found_PanVar=%{y}\", \"legendgroup\": \"snippy_NC_017646.1\", \"line\": {\"color\": \"rgba(255,0,0,0.3)\", \"dash\": \"solid\"}, \"mode\": \"lines\", \"name\": \"snippy_NC_017646.1\", \"showlegend\": true, \"type\": \"scatter\", \"x\": [2, 3, 4, 5, 6, 7, 8, 9, 10, 11, 12, 13, 14, 15, 16, 17, 18, 19, 20], \"xaxis\": \"x\", \"y\": [23260.0, 15971.0, 14086.0, 9672.0, 26930.0, 19486.0, 16927.0, 11675.999999999998, 15077.000000000002, 17013.000000000004, 10460.0, 14468.000000000002, 17063.0, 30092.0, 34006.99999999999, 54504.000000000015, 65526.00000000001, 82620.99999999999, 11675.0], \"yaxis\": \"y\"}, {\"hoverlabel\": {\"namelength\": 0}, \"hovertemplate\": \"tool=snippy_NC_022648.1<br>NB_OF_SAMPLES=%{x}<br>nb_of_found_PanVar=%{y}\", \"legendgroup\": \"snippy_NC_022648.1\", \"line\": {\"color\": \"rgba(255,0,0,0.3)\", \"dash\": \"solid\"}, \"mode\": \"lines\", \"name\": \"snippy_NC_022648.1\", \"showlegend\": true, \"type\": \"scatter\", \"x\": [2, 3, 4, 5, 6, 7, 8, 9, 10, 11, 12, 13, 14, 15, 16, 17, 18, 19, 20], \"xaxis\": \"x\", \"y\": [22765.0, 19874.0, 12810.0, 9535.0, 24247.0, 17031.0, 16870.0, 12670.0, 14116.0, 15514.0, 7444.0, 10877.0, 14709.0, 28410.0, 33309.0, 54277.99999999999, 65278.99999999999, 82799.0, 11718.000000000002], \"yaxis\": \"y\"}, {\"hoverlabel\": {\"namelength\": 0}, \"hovertemplate\": \"tool=snippy_NZ_CP008697.1<br>NB_OF_SAMPLES=%{x}<br>nb_of_found_PanVar=%{y}\", \"legendgroup\": \"snippy_NZ_CP008697.1\", \"line\": {\"color\": \"rgba(255,0,0,0.3)\", \"dash\": \"solid\"}, \"mode\": \"lines\", \"name\": \"snippy_NZ_CP008697.1\", \"showlegend\": true, \"type\": \"scatter\", \"x\": [2, 3, 4, 5, 6, 7, 8, 9, 10, 11, 12, 13, 14, 15, 16, 17, 18, 19, 20], \"xaxis\": \"x\", \"y\": [22300.0, 16114.0, 11292.0, 9017.0, 25672.0, 20195.0, 18518.0, 13437.0, 16092.0, 17841.0, 11097.0, 15265.0, 17836.999999999996, 30222.000000000004, 34019.0, 54666.0, 65535.00000000001, 82620.00000000001, 11680.999999999998], \"yaxis\": \"y\"}, {\"hoverlabel\": {\"namelength\": 0}, \"hovertemplate\": \"tool=snippy_NZ_CP009859.1<br>NB_OF_SAMPLES=%{x}<br>nb_of_found_PanVar=%{y}\", \"legendgroup\": \"snippy_NZ_CP009859.1\", \"line\": {\"color\": \"rgba(255,0,0,0.3)\", \"dash\": \"solid\"}, \"mode\": \"lines\", \"name\": \"snippy_NZ_CP009859.1\", \"showlegend\": true, \"type\": \"scatter\", \"x\": [2, 3, 4, 5, 6, 7, 8, 9, 10, 11, 12, 13, 14, 15, 16, 17, 18, 19, 20], \"xaxis\": \"x\", \"y\": [23375.000000000004, 16726.0, 12572.999999999996, 10320.0, 25712.0, 20554.0, 18556.0, 13248.0, 16082.000000000002, 17698.000000000004, 11012.0, 15262.0, 17592.0, 30114.0, 33752.00000000001, 54223.0, 64852.0, 82468.0, 11656.000000000002], \"yaxis\": \"y\"}, {\"hoverlabel\": {\"namelength\": 0}, \"hovertemplate\": \"tool=snippy_NZ_CP011134.1<br>NB_OF_SAMPLES=%{x}<br>nb_of_found_PanVar=%{y}\", \"legendgroup\": \"snippy_NZ_CP011134.1\", \"line\": {\"color\": \"rgba(255,0,0,0.3)\", \"dash\": \"solid\"}, \"mode\": \"lines\", \"name\": \"snippy_NZ_CP011134.1\", \"showlegend\": true, \"type\": \"scatter\", \"x\": [2, 3, 4, 5, 6, 7, 8, 9, 10, 11, 12, 13, 14, 15, 16, 17, 18, 19, 20], \"xaxis\": \"x\", \"y\": [19116.0, 14422.999999999998, 9840.0, 7295.999999999999, 25063.0, 17473.0, 16750.0, 12461.000000000002, 14920.0, 17131.0, 10361.0, 14785.0, 17211.0, 30028.0, 34001.00000000001, 54682.0, 65416.999999999985, 82435.0, 11649.000000000002], \"yaxis\": \"y\"}, {\"hoverlabel\": {\"namelength\": 0}, \"hovertemplate\": \"tool=snippy_NZ_CP013483.1<br>NB_OF_SAMPLES=%{x}<br>nb_of_found_PanVar=%{y}\", \"legendgroup\": \"snippy_NZ_CP013483.1\", \"line\": {\"color\": \"rgba(255,0,0,0.3)\", \"dash\": \"solid\"}, \"mode\": \"lines\", \"name\": \"snippy_NZ_CP013483.1\", \"showlegend\": true, \"type\": \"scatter\", \"x\": [2, 3, 4, 5, 6, 7, 8, 9, 10, 11, 12, 13, 14, 15, 16, 17, 18, 19, 20], \"xaxis\": \"x\", \"y\": [16205.000000000005, 13376.999999999998, 8909.0, 6337.0, 24127.0, 16222.0, 15650.000000000002, 11429.0, 13746.0, 14938.0, 8911.0, 12717.0, 16087.999999999998, 29015.0, 32997.99999999999, 54368.0, 65357.0, 82296.0, 11652.0], \"yaxis\": \"y\"}, {\"hoverlabel\": {\"namelength\": 0}, \"hovertemplate\": \"tool=snippy_NZ_CP015228.1<br>NB_OF_SAMPLES=%{x}<br>nb_of_found_PanVar=%{y}\", \"legendgroup\": \"snippy_NZ_CP015228.1\", \"line\": {\"color\": \"rgba(255,0,0,0.3)\", \"dash\": \"solid\"}, \"mode\": \"lines\", \"name\": \"snippy_NZ_CP015228.1\", \"showlegend\": true, \"type\": \"scatter\", \"x\": [2, 3, 4, 5, 6, 7, 8, 9, 10, 11, 12, 13, 14, 15, 16, 17, 18, 19, 20], \"xaxis\": \"x\", \"y\": [18539.0, 14200.0, 10422.000000000004, 7537.999999999998, 25141.0, 17592.0, 17596.0, 12274.0, 15094.0, 15949.999999999998, 9538.0, 13633.0, 17068.0, 29732.0, 33684.0, 54153.0, 65252.99999999999, 82205.99999999999, 11614.0], \"yaxis\": \"y\"}, {\"hoverlabel\": {\"namelength\": 0}, \"hovertemplate\": \"tool=snippy_NZ_CP016007.1<br>NB_OF_SAMPLES=%{x}<br>nb_of_found_PanVar=%{y}\", \"legendgroup\": \"snippy_NZ_CP016007.1\", \"line\": {\"color\": \"rgba(255,0,0,0.3)\", \"dash\": \"solid\"}, \"mode\": \"lines\", \"name\": \"snippy_NZ_CP016007.1\", \"showlegend\": true, \"type\": \"scatter\", \"x\": [2, 3, 4, 5, 6, 7, 8, 9, 10, 11, 12, 13, 14, 15, 16, 17, 18, 19, 20], \"xaxis\": \"x\", \"y\": [20074.0, 19331.0, 12458.0, 8451.0, 23808.0, 16024.999999999998, 15059.0, 11406.0, 13067.0, 13655.0, 6767.000000000001, 10289.0, 14489.999999999998, 28604.0, 33646.00000000001, 54393.0, 65638.0, 82846.0, 11708.0], \"yaxis\": \"y\"}, {\"hoverlabel\": {\"namelength\": 0}, \"hovertemplate\": \"tool=snippy_NZ_CP018109.1<br>NB_OF_SAMPLES=%{x}<br>nb_of_found_PanVar=%{y}\", \"legendgroup\": \"snippy_NZ_CP018109.1\", \"line\": {\"color\": \"rgba(255,0,0,0.3)\", \"dash\": \"solid\"}, \"mode\": \"lines\", \"name\": \"snippy_NZ_CP018109.1\", \"showlegend\": true, \"type\": \"scatter\", \"x\": [2, 3, 4, 5, 6, 7, 8, 9, 10, 11, 12, 13, 14, 15, 16, 17, 18, 19, 20], \"xaxis\": \"x\", \"y\": [17730.000000000004, 13027.0, 9185.0, 6910.999999999999, 23579.000000000004, 16590.0, 16748.0, 12163.000000000002, 14572.0, 15374.0, 9248.0, 12474.0, 15727.0, 28609.0, 32016.999999999996, 53811.0, 65481.000000000015, 82579.00000000001, 11664.0], \"yaxis\": \"y\"}, {\"hoverlabel\": {\"namelength\": 0}, \"hovertemplate\": \"tool=snippy_NZ_LN995446.1<br>NB_OF_SAMPLES=%{x}<br>nb_of_found_PanVar=%{y}\", \"legendgroup\": \"snippy_NZ_LN995446.1\", \"line\": {\"color\": \"rgba(255,0,0,0.3)\", \"dash\": \"solid\"}, \"mode\": \"lines\", \"name\": \"snippy_NZ_LN995446.1\", \"showlegend\": true, \"type\": \"scatter\", \"x\": [2, 3, 4, 5, 6, 7, 8, 9, 10, 11, 12, 13, 14, 15, 16, 17, 18, 19, 20], \"xaxis\": \"x\", \"y\": [14714.999999999995, 11844.0, 8051.000000000001, 5920.0, 23050.0, 16186.0, 14652.0, 10970.0, 13191.0, 14455.0, 8157.999999999999, 12074.0, 15767.999999999998, 28937.0, 32818.0, 53729.99999999999, 64809.0, 82318.0, 11611.0], \"yaxis\": \"y\"}, {\"hoverlabel\": {\"namelength\": 0}, \"hovertemplate\": \"tool=snippy_NZ_LT632320.1<br>NB_OF_SAMPLES=%{x}<br>nb_of_found_PanVar=%{y}\", \"legendgroup\": \"snippy_NZ_LT632320.1\", \"line\": {\"color\": \"rgba(255,0,0,0.3)\", \"dash\": \"solid\"}, \"mode\": \"lines\", \"name\": \"snippy_NZ_LT632320.1\", \"showlegend\": true, \"type\": \"scatter\", \"x\": [2, 3, 4, 5, 6, 7, 8, 9, 10, 11, 12, 13, 14, 15, 16, 17, 18, 19, 20], \"xaxis\": \"x\", \"y\": [22699.0, 20036.0, 13213.0, 9463.0, 24285.0, 17215.0, 16884.0, 12810.0, 14122.999999999998, 15136.0, 7470.000000000001, 10712.0, 14680.0, 28395.0, 33161.0, 54033.00000000001, 65002.00000000001, 82471.99999999999, 11683.999999999996], \"yaxis\": \"y\"}, {\"hoverlabel\": {\"namelength\": 0}, \"hovertemplate\": \"tool=snippy_NZ_NG941718.1<br>NB_OF_SAMPLES=%{x}<br>nb_of_found_PanVar=%{y}\", \"legendgroup\": \"snippy_NZ_NG941718.1\", \"line\": {\"color\": \"rgba(255,0,0,0.3)\", \"dash\": \"solid\"}, \"mode\": \"lines\", \"name\": \"snippy_NZ_NG941718.1\", \"showlegend\": true, \"type\": \"scatter\", \"x\": [2, 3, 4, 5, 6, 7, 8, 9, 10, 11, 12, 13, 14, 15, 16, 17, 18, 19, 20], \"xaxis\": \"x\", \"y\": [23025.0, 20300.0, 13426.0, 9585.0, 24461.0, 17395.0, 17020.0, 12832.0, 14217.000000000004, 15570.0, 7512.999999999999, 11039.000000000002, 14812.0, 28520.0, 33297.0, 54283.0, 65295.0, 82814.0, 11719.0], \"yaxis\": \"y\"}],\n",
       "                        {\"legend\": {\"title\": {\"text\": \"tool\"}, \"tracegroupgap\": 0}, \"margin\": {\"t\": 60}, \"template\": {\"data\": {\"bar\": [{\"error_x\": {\"color\": \"#2a3f5f\"}, \"error_y\": {\"color\": \"#2a3f5f\"}, \"marker\": {\"line\": {\"color\": \"#E5ECF6\", \"width\": 0.5}}, \"type\": \"bar\"}], \"barpolar\": [{\"marker\": {\"line\": {\"color\": \"#E5ECF6\", \"width\": 0.5}}, \"type\": \"barpolar\"}], \"carpet\": [{\"aaxis\": {\"endlinecolor\": \"#2a3f5f\", \"gridcolor\": \"white\", \"linecolor\": \"white\", \"minorgridcolor\": \"white\", \"startlinecolor\": \"#2a3f5f\"}, \"baxis\": {\"endlinecolor\": \"#2a3f5f\", \"gridcolor\": \"white\", \"linecolor\": \"white\", \"minorgridcolor\": \"white\", \"startlinecolor\": \"#2a3f5f\"}, \"type\": \"carpet\"}], \"choropleth\": [{\"colorbar\": {\"outlinewidth\": 0, \"ticks\": \"\"}, \"type\": \"choropleth\"}], \"contour\": [{\"colorbar\": {\"outlinewidth\": 0, \"ticks\": \"\"}, \"colorscale\": [[0.0, \"#0d0887\"], [0.1111111111111111, \"#46039f\"], [0.2222222222222222, \"#7201a8\"], [0.3333333333333333, \"#9c179e\"], [0.4444444444444444, \"#bd3786\"], [0.5555555555555556, \"#d8576b\"], [0.6666666666666666, \"#ed7953\"], [0.7777777777777778, \"#fb9f3a\"], [0.8888888888888888, \"#fdca26\"], [1.0, \"#f0f921\"]], \"type\": \"contour\"}], \"contourcarpet\": [{\"colorbar\": {\"outlinewidth\": 0, \"ticks\": \"\"}, \"type\": \"contourcarpet\"}], \"heatmap\": [{\"colorbar\": {\"outlinewidth\": 0, \"ticks\": \"\"}, \"colorscale\": [[0.0, \"#0d0887\"], [0.1111111111111111, \"#46039f\"], [0.2222222222222222, \"#7201a8\"], [0.3333333333333333, \"#9c179e\"], [0.4444444444444444, \"#bd3786\"], [0.5555555555555556, \"#d8576b\"], [0.6666666666666666, \"#ed7953\"], [0.7777777777777778, \"#fb9f3a\"], [0.8888888888888888, \"#fdca26\"], [1.0, \"#f0f921\"]], \"type\": \"heatmap\"}], \"heatmapgl\": [{\"colorbar\": {\"outlinewidth\": 0, \"ticks\": \"\"}, \"colorscale\": [[0.0, \"#0d0887\"], [0.1111111111111111, \"#46039f\"], [0.2222222222222222, \"#7201a8\"], [0.3333333333333333, \"#9c179e\"], [0.4444444444444444, \"#bd3786\"], [0.5555555555555556, \"#d8576b\"], [0.6666666666666666, \"#ed7953\"], [0.7777777777777778, \"#fb9f3a\"], [0.8888888888888888, \"#fdca26\"], [1.0, \"#f0f921\"]], \"type\": \"heatmapgl\"}], \"histogram\": [{\"marker\": {\"colorbar\": {\"outlinewidth\": 0, \"ticks\": \"\"}}, \"type\": \"histogram\"}], \"histogram2d\": [{\"colorbar\": {\"outlinewidth\": 0, \"ticks\": \"\"}, \"colorscale\": [[0.0, \"#0d0887\"], [0.1111111111111111, \"#46039f\"], [0.2222222222222222, \"#7201a8\"], [0.3333333333333333, \"#9c179e\"], [0.4444444444444444, \"#bd3786\"], [0.5555555555555556, \"#d8576b\"], [0.6666666666666666, \"#ed7953\"], [0.7777777777777778, \"#fb9f3a\"], [0.8888888888888888, \"#fdca26\"], [1.0, \"#f0f921\"]], \"type\": \"histogram2d\"}], \"histogram2dcontour\": [{\"colorbar\": {\"outlinewidth\": 0, \"ticks\": \"\"}, \"colorscale\": [[0.0, \"#0d0887\"], [0.1111111111111111, \"#46039f\"], [0.2222222222222222, \"#7201a8\"], [0.3333333333333333, \"#9c179e\"], [0.4444444444444444, \"#bd3786\"], [0.5555555555555556, \"#d8576b\"], [0.6666666666666666, \"#ed7953\"], [0.7777777777777778, \"#fb9f3a\"], [0.8888888888888888, \"#fdca26\"], [1.0, \"#f0f921\"]], \"type\": \"histogram2dcontour\"}], \"mesh3d\": [{\"colorbar\": {\"outlinewidth\": 0, \"ticks\": \"\"}, \"type\": \"mesh3d\"}], \"parcoords\": [{\"line\": {\"colorbar\": {\"outlinewidth\": 0, \"ticks\": \"\"}}, \"type\": \"parcoords\"}], \"pie\": [{\"automargin\": true, \"type\": \"pie\"}], \"scatter\": [{\"marker\": {\"colorbar\": {\"outlinewidth\": 0, \"ticks\": \"\"}}, \"type\": \"scatter\"}], \"scatter3d\": [{\"line\": {\"colorbar\": {\"outlinewidth\": 0, \"ticks\": \"\"}}, \"marker\": {\"colorbar\": {\"outlinewidth\": 0, \"ticks\": \"\"}}, \"type\": \"scatter3d\"}], \"scattercarpet\": [{\"marker\": {\"colorbar\": {\"outlinewidth\": 0, \"ticks\": \"\"}}, \"type\": \"scattercarpet\"}], \"scattergeo\": [{\"marker\": {\"colorbar\": {\"outlinewidth\": 0, \"ticks\": \"\"}}, \"type\": \"scattergeo\"}], \"scattergl\": [{\"marker\": {\"colorbar\": {\"outlinewidth\": 0, \"ticks\": \"\"}}, \"type\": \"scattergl\"}], \"scattermapbox\": [{\"marker\": {\"colorbar\": {\"outlinewidth\": 0, \"ticks\": \"\"}}, \"type\": \"scattermapbox\"}], \"scatterpolar\": [{\"marker\": {\"colorbar\": {\"outlinewidth\": 0, \"ticks\": \"\"}}, \"type\": \"scatterpolar\"}], \"scatterpolargl\": [{\"marker\": {\"colorbar\": {\"outlinewidth\": 0, \"ticks\": \"\"}}, \"type\": \"scatterpolargl\"}], \"scatterternary\": [{\"marker\": {\"colorbar\": {\"outlinewidth\": 0, \"ticks\": \"\"}}, \"type\": \"scatterternary\"}], \"surface\": [{\"colorbar\": {\"outlinewidth\": 0, \"ticks\": \"\"}, \"colorscale\": [[0.0, \"#0d0887\"], [0.1111111111111111, \"#46039f\"], [0.2222222222222222, \"#7201a8\"], [0.3333333333333333, \"#9c179e\"], [0.4444444444444444, \"#bd3786\"], [0.5555555555555556, \"#d8576b\"], [0.6666666666666666, \"#ed7953\"], [0.7777777777777778, \"#fb9f3a\"], [0.8888888888888888, \"#fdca26\"], [1.0, \"#f0f921\"]], \"type\": \"surface\"}], \"table\": [{\"cells\": {\"fill\": {\"color\": \"#EBF0F8\"}, \"line\": {\"color\": \"white\"}}, \"header\": {\"fill\": {\"color\": \"#C8D4E3\"}, \"line\": {\"color\": \"white\"}}, \"type\": \"table\"}]}, \"layout\": {\"annotationdefaults\": {\"arrowcolor\": \"#2a3f5f\", \"arrowhead\": 0, \"arrowwidth\": 1}, \"coloraxis\": {\"colorbar\": {\"outlinewidth\": 0, \"ticks\": \"\"}}, \"colorscale\": {\"diverging\": [[0, \"#8e0152\"], [0.1, \"#c51b7d\"], [0.2, \"#de77ae\"], [0.3, \"#f1b6da\"], [0.4, \"#fde0ef\"], [0.5, \"#f7f7f7\"], [0.6, \"#e6f5d0\"], [0.7, \"#b8e186\"], [0.8, \"#7fbc41\"], [0.9, \"#4d9221\"], [1, \"#276419\"]], \"sequential\": [[0.0, \"#0d0887\"], [0.1111111111111111, \"#46039f\"], [0.2222222222222222, \"#7201a8\"], [0.3333333333333333, \"#9c179e\"], [0.4444444444444444, \"#bd3786\"], [0.5555555555555556, \"#d8576b\"], [0.6666666666666666, \"#ed7953\"], [0.7777777777777778, \"#fb9f3a\"], [0.8888888888888888, \"#fdca26\"], [1.0, \"#f0f921\"]], \"sequentialminus\": [[0.0, \"#0d0887\"], [0.1111111111111111, \"#46039f\"], [0.2222222222222222, \"#7201a8\"], [0.3333333333333333, \"#9c179e\"], [0.4444444444444444, \"#bd3786\"], [0.5555555555555556, \"#d8576b\"], [0.6666666666666666, \"#ed7953\"], [0.7777777777777778, \"#fb9f3a\"], [0.8888888888888888, \"#fdca26\"], [1.0, \"#f0f921\"]]}, \"colorway\": [\"#636efa\", \"#EF553B\", \"#00cc96\", \"#ab63fa\", \"#FFA15A\", \"#19d3f3\", \"#FF6692\", \"#B6E880\", \"#FF97FF\", \"#FECB52\"], \"font\": {\"color\": \"#2a3f5f\"}, \"geo\": {\"bgcolor\": \"white\", \"lakecolor\": \"white\", \"landcolor\": \"#E5ECF6\", \"showlakes\": true, \"showland\": true, \"subunitcolor\": \"white\"}, \"hoverlabel\": {\"align\": \"left\"}, \"hovermode\": \"closest\", \"mapbox\": {\"style\": \"light\"}, \"paper_bgcolor\": \"white\", \"plot_bgcolor\": \"#E5ECF6\", \"polar\": {\"angularaxis\": {\"gridcolor\": \"white\", \"linecolor\": \"white\", \"ticks\": \"\"}, \"bgcolor\": \"#E5ECF6\", \"radialaxis\": {\"gridcolor\": \"white\", \"linecolor\": \"white\", \"ticks\": \"\"}}, \"scene\": {\"xaxis\": {\"backgroundcolor\": \"#E5ECF6\", \"gridcolor\": \"white\", \"gridwidth\": 2, \"linecolor\": \"white\", \"showbackground\": true, \"ticks\": \"\", \"zerolinecolor\": \"white\"}, \"yaxis\": {\"backgroundcolor\": \"#E5ECF6\", \"gridcolor\": \"white\", \"gridwidth\": 2, \"linecolor\": \"white\", \"showbackground\": true, \"ticks\": \"\", \"zerolinecolor\": \"white\"}, \"zaxis\": {\"backgroundcolor\": \"#E5ECF6\", \"gridcolor\": \"white\", \"gridwidth\": 2, \"linecolor\": \"white\", \"showbackground\": true, \"ticks\": \"\", \"zerolinecolor\": \"white\"}}, \"shapedefaults\": {\"line\": {\"color\": \"#2a3f5f\"}}, \"ternary\": {\"aaxis\": {\"gridcolor\": \"white\", \"linecolor\": \"white\", \"ticks\": \"\"}, \"baxis\": {\"gridcolor\": \"white\", \"linecolor\": \"white\", \"ticks\": \"\"}, \"bgcolor\": \"#E5ECF6\", \"caxis\": {\"gridcolor\": \"white\", \"linecolor\": \"white\", \"ticks\": \"\"}}, \"title\": {\"x\": 0.05}, \"xaxis\": {\"automargin\": true, \"gridcolor\": \"white\", \"linecolor\": \"white\", \"ticks\": \"\", \"title\": {\"standoff\": 15}, \"zerolinecolor\": \"white\", \"zerolinewidth\": 2}, \"yaxis\": {\"automargin\": true, \"gridcolor\": \"white\", \"linecolor\": \"white\", \"ticks\": \"\", \"title\": {\"standoff\": 15}, \"zerolinecolor\": \"white\", \"zerolinewidth\": 2}}}, \"xaxis\": {\"anchor\": \"y\", \"domain\": [0.0, 1.0], \"dtick\": 1, \"tick0\": 2, \"tickmode\": \"linear\", \"title\": {\"text\": \"Number of samples\"}}, \"yaxis\": {\"anchor\": \"x\", \"domain\": [0.0, 1.0], \"title\": {\"text\": \"Nb of Pangenome Variations Found\"}}},\n",
       "                        {\"responsive\": true}\n",
       "                    ).then(function(){\n",
       "                            \n",
       "var gd = document.getElementById('d34e3122-2dd2-4aaa-af48-9c59fc195c6b');\n",
       "var x = new MutationObserver(function (mutations, observer) {{\n",
       "        var display = window.getComputedStyle(gd).display;\n",
       "        if (!display || display === 'none') {{\n",
       "            console.log([gd, 'removed!']);\n",
       "            Plotly.purge(gd);\n",
       "            observer.disconnect();\n",
       "        }}\n",
       "}});\n",
       "\n",
       "// Listen for the removal of the full notebook cells\n",
       "var notebookContainer = gd.closest('#notebook-container');\n",
       "if (notebookContainer) {{\n",
       "    x.observe(notebookContainer, {childList: true});\n",
       "}}\n",
       "\n",
       "// Listen for the clearing of the current output cell\n",
       "var outputEl = gd.closest('.output');\n",
       "if (outputEl) {{\n",
       "    x.observe(outputEl, {childList: true});\n",
       "}}\n",
       "\n",
       "                        })\n",
       "                };\n",
       "                });\n",
       "            </script>\n",
       "        </div>"
      ]
     },
     "metadata": {},
     "output_type": "display_data"
    }
   ],
   "source": [
    "fig_absolute = px.line(merged_data, x=\"NB_OF_SAMPLES\", y=\"nb_of_found_PanVar\", color='tool', color_discrete_sequence=merged_data[\"colour\"])\n",
    "fig_absolute.update_layout(\n",
    "    xaxis = dict(\n",
    "        tickmode = 'linear',\n",
    "        tick0 = 2,\n",
    "        dtick = 1\n",
    "    ),\n",
    "    yaxis_title=\"Nb of Pangenome Variations Found\",\n",
    "    xaxis_title=\"Number of samples\",\n",
    ")\n",
    "fig_absolute"
   ]
  },
  {
   "cell_type": "code",
   "execution_count": 31,
   "metadata": {},
   "outputs": [
    {
     "data": {
      "application/vnd.plotly.v1+json": {
       "config": {
        "plotlyServerURL": "https://plot.ly"
       },
       "data": [
        {
         "hoverlabel": {
          "namelength": 0
         },
         "hovertemplate": "tool=pandora_illumina_nodenovo_global_genotyping<br>NB_OF_SAMPLES=%{x}<br>cumulative_nb_of_found_PanVar=%{y}",
         "legendgroup": "pandora_illumina_nodenovo_global_genotyping",
         "line": {
          "color": "orange",
          "dash": "solid"
         },
         "mode": "lines",
         "name": "pandora_illumina_nodenovo_global_genotyping",
         "showlegend": true,
         "type": "scatter",
         "x": [
          2,
          3,
          4,
          5,
          6,
          7,
          8,
          9,
          10,
          11,
          12,
          13,
          14,
          15,
          16,
          17,
          18,
          19,
          20
         ],
         "xaxis": "x",
         "y": [
          38958,
          68659,
          91780,
          109872,
          134026,
          153198,
          171429,
          186664,
          203582,
          220917,
          231366,
          244411,
          259112,
          282497,
          312766,
          362885,
          423904,
          500819,
          510094
         ],
         "yaxis": "y"
        },
        {
         "hoverlabel": {
          "namelength": 0
         },
         "hovertemplate": "tool=pandora_illumina_withdenovo_global_genotyping<br>NB_OF_SAMPLES=%{x}<br>cumulative_nb_of_found_PanVar=%{y}",
         "legendgroup": "pandora_illumina_withdenovo_global_genotyping",
         "line": {
          "color": "blue",
          "dash": "solid"
         },
         "mode": "lines",
         "name": "pandora_illumina_withdenovo_global_genotyping",
         "showlegend": true,
         "type": "scatter",
         "x": [
          2,
          3,
          4,
          5,
          6,
          7,
          8,
          9,
          10,
          11,
          12,
          13,
          14,
          15,
          16,
          17,
          18,
          19,
          20
         ],
         "xaxis": "x",
         "y": [
          40579,
          71679,
          96088,
          114795,
          142530,
          163002,
          182454,
          198083,
          215462,
          233242,
          244100,
          258229,
          273992,
          300181,
          330948,
          381647,
          443290,
          520568,
          530850
         ],
         "yaxis": "y"
        },
        {
         "hoverlabel": {
          "namelength": 0
         },
         "hovertemplate": "tool=snippy_CN928163.2<br>NB_OF_SAMPLES=%{x}<br>cumulative_nb_of_found_PanVar=%{y}",
         "legendgroup": "snippy_CN928163.2",
         "line": {
          "color": "rgba(255,0,0,0.3)",
          "dash": "solid"
         },
         "mode": "lines",
         "name": "snippy_CN928163.2",
         "showlegend": true,
         "type": "scatter",
         "x": [
          2,
          3,
          4,
          5,
          6,
          7,
          8,
          9,
          10,
          11,
          12,
          13,
          14,
          15,
          16,
          17,
          18,
          19,
          20
         ],
         "xaxis": "x",
         "y": [
          22005.999999999996,
          39752,
          52114,
          61370,
          87540,
          106699,
          123583,
          134901,
          150190,
          166884,
          176742,
          190467,
          207403,
          237370,
          271385,
          325817,
          391607,
          474381,
          486059
         ],
         "yaxis": "y"
        },
        {
         "hoverlabel": {
          "namelength": 0
         },
         "hovertemplate": "tool=snippy_CP010116.1<br>NB_OF_SAMPLES=%{x}<br>cumulative_nb_of_found_PanVar=%{y}",
         "legendgroup": "snippy_CP010116.1",
         "line": {
          "color": "rgba(255,0,0,0.3)",
          "dash": "solid"
         },
         "mode": "lines",
         "name": "snippy_CP010116.1",
         "showlegend": true,
         "type": "scatter",
         "x": [
          2,
          3,
          4,
          5,
          6,
          7,
          8,
          9,
          10,
          11,
          12,
          13,
          14,
          15,
          16,
          17,
          18,
          19,
          20
         ],
         "xaxis": "x",
         "y": [
          16776,
          28577,
          38145,
          45125,
          69682,
          87792,
          104009,
          115492,
          130466,
          146065,
          155726,
          169116,
          186049,
          215237,
          248303,
          301164,
          364598,
          445178,
          456521
         ],
         "yaxis": "y"
        },
        {
         "hoverlabel": {
          "namelength": 0
         },
         "hovertemplate": "tool=snippy_CP010121.1<br>NB_OF_SAMPLES=%{x}<br>cumulative_nb_of_found_PanVar=%{y}",
         "legendgroup": "snippy_CP010121.1",
         "line": {
          "color": "rgba(255,0,0,0.3)",
          "dash": "solid"
         },
         "mode": "lines",
         "name": "snippy_CP010121.1",
         "showlegend": true,
         "type": "scatter",
         "x": [
          2,
          3,
          4,
          5,
          6,
          7,
          8,
          9,
          10,
          11,
          12,
          13,
          14,
          15,
          16,
          17,
          18,
          19,
          20
         ],
         "xaxis": "x",
         "y": [
          18234.000000000004,
          30802.000000000007,
          41182.00000000001,
          49121.00000000001,
          73755,
          91637,
          107186,
          117783,
          132913,
          148299,
          157634,
          170154,
          187014,
          216574,
          250321,
          304401,
          370039,
          452728,
          464406
         ],
         "yaxis": "y"
        },
        {
         "hoverlabel": {
          "namelength": 0
         },
         "hovertemplate": "tool=snippy_CP010170.1<br>NB_OF_SAMPLES=%{x}<br>cumulative_nb_of_found_PanVar=%{y}",
         "legendgroup": "snippy_CP010170.1",
         "line": {
          "color": "rgba(255,0,0,0.3)",
          "dash": "solid"
         },
         "mode": "lines",
         "name": "snippy_CP010170.1",
         "showlegend": true,
         "type": "scatter",
         "x": [
          2,
          3,
          4,
          5,
          6,
          7,
          8,
          9,
          10,
          11,
          12,
          13,
          14,
          15,
          16,
          17,
          18,
          19,
          20
         ],
         "xaxis": "x",
         "y": [
          15023.999999999998,
          26869,
          35196,
          42423,
          66142,
          82488,
          97299,
          108206,
          121147,
          135459,
          143915,
          155888,
          171817,
          201204,
          234573,
          288957,
          354477,
          437138,
          448801
         ],
         "yaxis": "y"
        },
        {
         "hoverlabel": {
          "namelength": 0
         },
         "hovertemplate": "tool=snippy_CP010171.1<br>NB_OF_SAMPLES=%{x}<br>cumulative_nb_of_found_PanVar=%{y}",
         "legendgroup": "snippy_CP010171.1",
         "line": {
          "color": "rgba(255,0,0,0.3)",
          "dash": "solid"
         },
         "mode": "lines",
         "name": "snippy_CP010171.1",
         "showlegend": true,
         "type": "scatter",
         "x": [
          2,
          3,
          4,
          5,
          6,
          7,
          8,
          9,
          10,
          11,
          12,
          13,
          14,
          15,
          16,
          17,
          18,
          19,
          20
         ],
         "xaxis": "x",
         "y": [
          15811,
          28377,
          38414,
          46310,
          69933,
          86473,
          102112,
          112866,
          126280,
          140831,
          149364,
          161992,
          177946,
          207029,
          240084,
          293709,
          358185,
          440483,
          452138
         ],
         "yaxis": "y"
        },
        {
         "hoverlabel": {
          "namelength": 0
         },
         "hovertemplate": "tool=snippy_CP010226.1<br>NB_OF_SAMPLES=%{x}<br>cumulative_nb_of_found_PanVar=%{y}",
         "legendgroup": "snippy_CP010226.1",
         "line": {
          "color": "rgba(255,0,0,0.3)",
          "dash": "solid"
         },
         "mode": "lines",
         "name": "snippy_CP010226.1",
         "showlegend": true,
         "type": "scatter",
         "x": [
          2,
          3,
          4,
          5,
          6,
          7,
          8,
          9,
          10,
          11,
          12,
          13,
          14,
          15,
          16,
          17,
          18,
          19,
          20
         ],
         "xaxis": "x",
         "y": [
          14825.000000000002,
          26436,
          34132,
          40391,
          62904,
          78830,
          93310,
          103554,
          116531,
          130460,
          138203,
          149640,
          164537,
          192866,
          225187,
          278224,
          342193,
          423877,
          435377
         ],
         "yaxis": "y"
        },
        {
         "hoverlabel": {
          "namelength": 0
         },
         "hovertemplate": "tool=snippy_CP010230.1<br>NB_OF_SAMPLES=%{x}<br>cumulative_nb_of_found_PanVar=%{y}",
         "legendgroup": "snippy_CP010230.1",
         "line": {
          "color": "rgba(255,0,0,0.3)",
          "dash": "solid"
         },
         "mode": "lines",
         "name": "snippy_CP010230.1",
         "showlegend": true,
         "type": "scatter",
         "x": [
          2,
          3,
          4,
          5,
          6,
          7,
          8,
          9,
          10,
          11,
          12,
          13,
          14,
          15,
          16,
          17,
          18,
          19,
          20
         ],
         "xaxis": "x",
         "y": [
          14133,
          25979,
          35554,
          42596,
          66801,
          83396,
          99425,
          110410,
          124678,
          139869,
          148782,
          161812,
          178131,
          207550,
          241087,
          295254,
          360533,
          442842,
          454462
         ],
         "yaxis": "y"
        },
        {
         "hoverlabel": {
          "namelength": 0
         },
         "hovertemplate": "tool=snippy_CP018206.1<br>NB_OF_SAMPLES=%{x}<br>cumulative_nb_of_found_PanVar=%{y}",
         "legendgroup": "snippy_CP018206.1",
         "line": {
          "color": "rgba(255,0,0,0.3)",
          "dash": "solid"
         },
         "mode": "lines",
         "name": "snippy_CP018206.1",
         "showlegend": true,
         "type": "scatter",
         "x": [
          2,
          3,
          4,
          5,
          6,
          7,
          8,
          9,
          10,
          11,
          12,
          13,
          14,
          15,
          16,
          17,
          18,
          19,
          20
         ],
         "xaxis": "x",
         "y": [
          19196,
          32684,
          43541,
          51481,
          77538,
          96497,
          113752,
          125666,
          141514,
          157779,
          167703,
          181411,
          198681,
          228946,
          263017,
          317635,
          383293,
          465960,
          477632
         ],
         "yaxis": "y"
        },
        {
         "hoverlabel": {
          "namelength": 0
         },
         "hovertemplate": "tool=snippy_NC_004431.1<br>NB_OF_SAMPLES=%{x}<br>cumulative_nb_of_found_PanVar=%{y}",
         "legendgroup": "snippy_NC_004431.1",
         "line": {
          "color": "rgba(255,0,0,0.3)",
          "dash": "solid"
         },
         "mode": "lines",
         "name": "snippy_NC_004431.1",
         "showlegend": true,
         "type": "scatter",
         "x": [
          2,
          3,
          4,
          5,
          6,
          7,
          8,
          9,
          10,
          11,
          12,
          13,
          14,
          15,
          16,
          17,
          18,
          19,
          20
         ],
         "xaxis": "x",
         "y": [
          22851,
          41550,
          55294,
          64071,
          88825,
          105588,
          121552,
          133620,
          147461,
          161962,
          168698,
          178916,
          192876,
          221116,
          254085,
          308525,
          374242,
          457259,
          468978
         ],
         "yaxis": "y"
        },
        {
         "hoverlabel": {
          "namelength": 0
         },
         "hovertemplate": "tool=snippy_NC_007779.1<br>NB_OF_SAMPLES=%{x}<br>cumulative_nb_of_found_PanVar=%{y}",
         "legendgroup": "snippy_NC_007779.1",
         "line": {
          "color": "rgba(255,0,0,0.3)",
          "dash": "solid"
         },
         "mode": "lines",
         "name": "snippy_NC_007779.1",
         "showlegend": true,
         "type": "scatter",
         "x": [
          2,
          3,
          4,
          5,
          6,
          7,
          8,
          9,
          10,
          11,
          12,
          13,
          14,
          15,
          16,
          17,
          18,
          19,
          20
         ],
         "xaxis": "x",
         "y": [
          15133,
          27270,
          35533,
          41663,
          64887,
          81136,
          95966,
          107011,
          120294,
          134902,
          143288,
          155534,
          171604,
          200780,
          234056,
          288363,
          353840,
          436439,
          448092
         ],
         "yaxis": "y"
        },
        {
         "hoverlabel": {
          "namelength": 0
         },
         "hovertemplate": "tool=snippy_NC_010498.1<br>NB_OF_SAMPLES=%{x}<br>cumulative_nb_of_found_PanVar=%{y}",
         "legendgroup": "snippy_NC_010498.1",
         "line": {
          "color": "rgba(255,0,0,0.3)",
          "dash": "solid"
         },
         "mode": "lines",
         "name": "snippy_NC_010498.1",
         "showlegend": true,
         "type": "scatter",
         "x": [
          2,
          3,
          4,
          5,
          6,
          7,
          8,
          9,
          10,
          11,
          12,
          13,
          14,
          15,
          16,
          17,
          18,
          19,
          20
         ],
         "xaxis": "x",
         "y": [
          20858,
          40176,
          51471,
          60863,
          85828,
          104920,
          122389,
          134604,
          150336,
          167220,
          177535,
          191902,
          208933,
          238874,
          272945,
          327499,
          393188,
          476004,
          487658
         ],
         "yaxis": "y"
        },
        {
         "hoverlabel": {
          "namelength": 0
         },
         "hovertemplate": "tool=snippy_NC_011742.1<br>NB_OF_SAMPLES=%{x}<br>cumulative_nb_of_found_PanVar=%{y}",
         "legendgroup": "snippy_NC_011742.1",
         "line": {
          "color": "rgba(255,0,0,0.3)",
          "dash": "solid"
         },
         "mode": "lines",
         "name": "snippy_NC_011742.1",
         "showlegend": true,
         "type": "scatter",
         "x": [
          2,
          3,
          4,
          5,
          6,
          7,
          8,
          9,
          10,
          11,
          12,
          13,
          14,
          15,
          16,
          17,
          18,
          19,
          20
         ],
         "xaxis": "x",
         "y": [
          22883,
          40106,
          53781,
          63109,
          88834,
          105850,
          122441,
          134781,
          149085,
          164357,
          171919,
          183545,
          198783,
          227875,
          261624,
          316143,
          381746,
          464589,
          476304
         ],
         "yaxis": "y"
        },
        {
         "hoverlabel": {
          "namelength": 0
         },
         "hovertemplate": "tool=snippy_NC_011993.1<br>NB_OF_SAMPLES=%{x}<br>cumulative_nb_of_found_PanVar=%{y}",
         "legendgroup": "snippy_NC_011993.1",
         "line": {
          "color": "rgba(255,0,0,0.3)",
          "dash": "solid"
         },
         "mode": "lines",
         "name": "snippy_NC_011993.1",
         "showlegend": true,
         "type": "scatter",
         "x": [
          2,
          3,
          4,
          5,
          6,
          7,
          8,
          9,
          10,
          11,
          12,
          13,
          14,
          15,
          16,
          17,
          18,
          19,
          20
         ],
         "xaxis": "x",
         "y": [
          18177,
          32355,
          43311,
          50310,
          73554,
          89054,
          103908,
          114774,
          127786,
          141338,
          147973,
          158340,
          172699,
          201228,
          234824,
          289316,
          355065,
          437944,
          449662
         ],
         "yaxis": "y"
        },
        {
         "hoverlabel": {
          "namelength": 0
         },
         "hovertemplate": "tool=snippy_NC_017646.1<br>NB_OF_SAMPLES=%{x}<br>cumulative_nb_of_found_PanVar=%{y}",
         "legendgroup": "snippy_NC_017646.1",
         "line": {
          "color": "rgba(255,0,0,0.3)",
          "dash": "solid"
         },
         "mode": "lines",
         "name": "snippy_NC_017646.1",
         "showlegend": true,
         "type": "scatter",
         "x": [
          2,
          3,
          4,
          5,
          6,
          7,
          8,
          9,
          10,
          11,
          12,
          13,
          14,
          15,
          16,
          17,
          18,
          19,
          20
         ],
         "xaxis": "x",
         "y": [
          23260,
          39231,
          53317,
          62989,
          89919,
          109405,
          126332,
          138008,
          153085,
          170098,
          180558,
          195026,
          212089,
          242181,
          276188,
          330692,
          396218,
          478839,
          490514
         ],
         "yaxis": "y"
        },
        {
         "hoverlabel": {
          "namelength": 0
         },
         "hovertemplate": "tool=snippy_NC_022648.1<br>NB_OF_SAMPLES=%{x}<br>cumulative_nb_of_found_PanVar=%{y}",
         "legendgroup": "snippy_NC_022648.1",
         "line": {
          "color": "rgba(255,0,0,0.3)",
          "dash": "solid"
         },
         "mode": "lines",
         "name": "snippy_NC_022648.1",
         "showlegend": true,
         "type": "scatter",
         "x": [
          2,
          3,
          4,
          5,
          6,
          7,
          8,
          9,
          10,
          11,
          12,
          13,
          14,
          15,
          16,
          17,
          18,
          19,
          20
         ],
         "xaxis": "x",
         "y": [
          22765,
          42639,
          55449,
          64984,
          89231,
          106262,
          123132,
          135802,
          149918,
          165432,
          172876,
          183753,
          198462,
          226872,
          260181,
          314459,
          379738,
          462537,
          474255
         ],
         "yaxis": "y"
        },
        {
         "hoverlabel": {
          "namelength": 0
         },
         "hovertemplate": "tool=snippy_NZ_CP008697.1<br>NB_OF_SAMPLES=%{x}<br>cumulative_nb_of_found_PanVar=%{y}",
         "legendgroup": "snippy_NZ_CP008697.1",
         "line": {
          "color": "rgba(255,0,0,0.3)",
          "dash": "solid"
         },
         "mode": "lines",
         "name": "snippy_NZ_CP008697.1",
         "showlegend": true,
         "type": "scatter",
         "x": [
          2,
          3,
          4,
          5,
          6,
          7,
          8,
          9,
          10,
          11,
          12,
          13,
          14,
          15,
          16,
          17,
          18,
          19,
          20
         ],
         "xaxis": "x",
         "y": [
          22300,
          38414,
          49706,
          58723,
          84395,
          104590,
          123108,
          136545,
          152637,
          170478,
          181575,
          196840,
          214677,
          244899,
          278918,
          333584,
          399119,
          481739,
          493420
         ],
         "yaxis": "y"
        },
        {
         "hoverlabel": {
          "namelength": 0
         },
         "hovertemplate": "tool=snippy_NZ_CP009859.1<br>NB_OF_SAMPLES=%{x}<br>cumulative_nb_of_found_PanVar=%{y}",
         "legendgroup": "snippy_NZ_CP009859.1",
         "line": {
          "color": "rgba(255,0,0,0.3)",
          "dash": "solid"
         },
         "mode": "lines",
         "name": "snippy_NZ_CP009859.1",
         "showlegend": true,
         "type": "scatter",
         "x": [
          2,
          3,
          4,
          5,
          6,
          7,
          8,
          9,
          10,
          11,
          12,
          13,
          14,
          15,
          16,
          17,
          18,
          19,
          20
         ],
         "xaxis": "x",
         "y": [
          23375.000000000004,
          40101,
          52674,
          62994,
          88706,
          109260,
          127816,
          141064,
          157146,
          174844,
          185856,
          201118,
          218710,
          248824,
          282576,
          336799,
          401651,
          484119,
          495775
         ],
         "yaxis": "y"
        },
        {
         "hoverlabel": {
          "namelength": 0
         },
         "hovertemplate": "tool=snippy_NZ_CP011134.1<br>NB_OF_SAMPLES=%{x}<br>cumulative_nb_of_found_PanVar=%{y}",
         "legendgroup": "snippy_NZ_CP011134.1",
         "line": {
          "color": "rgba(255,0,0,0.3)",
          "dash": "solid"
         },
         "mode": "lines",
         "name": "snippy_NZ_CP011134.1",
         "showlegend": true,
         "type": "scatter",
         "x": [
          2,
          3,
          4,
          5,
          6,
          7,
          8,
          9,
          10,
          11,
          12,
          13,
          14,
          15,
          16,
          17,
          18,
          19,
          20
         ],
         "xaxis": "x",
         "y": [
          19116,
          33539,
          43379,
          50675,
          75738,
          93211,
          109961,
          122422,
          137342,
          154473,
          164834,
          179619,
          196830,
          226858,
          260859,
          315541,
          380958,
          463393,
          475042
         ],
         "yaxis": "y"
        },
        {
         "hoverlabel": {
          "namelength": 0
         },
         "hovertemplate": "tool=snippy_NZ_CP013483.1<br>NB_OF_SAMPLES=%{x}<br>cumulative_nb_of_found_PanVar=%{y}",
         "legendgroup": "snippy_NZ_CP013483.1",
         "line": {
          "color": "rgba(255,0,0,0.3)",
          "dash": "solid"
         },
         "mode": "lines",
         "name": "snippy_NZ_CP013483.1",
         "showlegend": true,
         "type": "scatter",
         "x": [
          2,
          3,
          4,
          5,
          6,
          7,
          8,
          9,
          10,
          11,
          12,
          13,
          14,
          15,
          16,
          17,
          18,
          19,
          20
         ],
         "xaxis": "x",
         "y": [
          16205.000000000005,
          29582.000000000004,
          38491,
          44828,
          68955,
          85177,
          100827,
          112256,
          126002,
          140940,
          149851,
          162568,
          178656,
          207671,
          240669,
          295037,
          360394,
          442690,
          454342
         ],
         "yaxis": "y"
        },
        {
         "hoverlabel": {
          "namelength": 0
         },
         "hovertemplate": "tool=snippy_NZ_CP015228.1<br>NB_OF_SAMPLES=%{x}<br>cumulative_nb_of_found_PanVar=%{y}",
         "legendgroup": "snippy_NZ_CP015228.1",
         "line": {
          "color": "rgba(255,0,0,0.3)",
          "dash": "solid"
         },
         "mode": "lines",
         "name": "snippy_NZ_CP015228.1",
         "showlegend": true,
         "type": "scatter",
         "x": [
          2,
          3,
          4,
          5,
          6,
          7,
          8,
          9,
          10,
          11,
          12,
          13,
          14,
          15,
          16,
          17,
          18,
          19,
          20
         ],
         "xaxis": "x",
         "y": [
          18539,
          32739,
          43161,
          50699,
          75840,
          93432,
          111028,
          123302,
          138396,
          154346,
          163884,
          177517,
          194585,
          224317,
          258001,
          312154,
          377407,
          459613,
          471227
         ],
         "yaxis": "y"
        },
        {
         "hoverlabel": {
          "namelength": 0
         },
         "hovertemplate": "tool=snippy_NZ_CP016007.1<br>NB_OF_SAMPLES=%{x}<br>cumulative_nb_of_found_PanVar=%{y}",
         "legendgroup": "snippy_NZ_CP016007.1",
         "line": {
          "color": "rgba(255,0,0,0.3)",
          "dash": "solid"
         },
         "mode": "lines",
         "name": "snippy_NZ_CP016007.1",
         "showlegend": true,
         "type": "scatter",
         "x": [
          2,
          3,
          4,
          5,
          6,
          7,
          8,
          9,
          10,
          11,
          12,
          13,
          14,
          15,
          16,
          17,
          18,
          19,
          20
         ],
         "xaxis": "x",
         "y": [
          20074,
          39405,
          51863,
          60314,
          84122,
          100147,
          115206,
          126612,
          139679,
          153334,
          160101,
          170390,
          184880,
          213484,
          247130,
          301523,
          367161,
          450007,
          461715
         ],
         "yaxis": "y"
        },
        {
         "hoverlabel": {
          "namelength": 0
         },
         "hovertemplate": "tool=snippy_NZ_CP018109.1<br>NB_OF_SAMPLES=%{x}<br>cumulative_nb_of_found_PanVar=%{y}",
         "legendgroup": "snippy_NZ_CP018109.1",
         "line": {
          "color": "rgba(255,0,0,0.3)",
          "dash": "solid"
         },
         "mode": "lines",
         "name": "snippy_NZ_CP018109.1",
         "showlegend": true,
         "type": "scatter",
         "x": [
          2,
          3,
          4,
          5,
          6,
          7,
          8,
          9,
          10,
          11,
          12,
          13,
          14,
          15,
          16,
          17,
          18,
          19,
          20
         ],
         "xaxis": "x",
         "y": [
          17730.000000000004,
          30757.000000000004,
          39942,
          46853,
          70432,
          87022,
          103770,
          115933,
          130505,
          145879,
          155127,
          167601,
          183328,
          211937,
          243954,
          297765,
          363246,
          445825,
          457489
         ],
         "yaxis": "y"
        },
        {
         "hoverlabel": {
          "namelength": 0
         },
         "hovertemplate": "tool=snippy_NZ_LN995446.1<br>NB_OF_SAMPLES=%{x}<br>cumulative_nb_of_found_PanVar=%{y}",
         "legendgroup": "snippy_NZ_LN995446.1",
         "line": {
          "color": "rgba(255,0,0,0.3)",
          "dash": "solid"
         },
         "mode": "lines",
         "name": "snippy_NZ_LN995446.1",
         "showlegend": true,
         "type": "scatter",
         "x": [
          2,
          3,
          4,
          5,
          6,
          7,
          8,
          9,
          10,
          11,
          12,
          13,
          14,
          15,
          16,
          17,
          18,
          19,
          20
         ],
         "xaxis": "x",
         "y": [
          14714.999999999995,
          26558.999999999993,
          34609.99999999999,
          40529.99999999999,
          63579.99999999999,
          79766,
          94418,
          105388,
          118579,
          133034,
          141192,
          153266,
          169034,
          197971,
          230789,
          284519,
          349328,
          431646,
          443257
         ],
         "yaxis": "y"
        },
        {
         "hoverlabel": {
          "namelength": 0
         },
         "hovertemplate": "tool=snippy_NZ_LT632320.1<br>NB_OF_SAMPLES=%{x}<br>cumulative_nb_of_found_PanVar=%{y}",
         "legendgroup": "snippy_NZ_LT632320.1",
         "line": {
          "color": "rgba(255,0,0,0.3)",
          "dash": "solid"
         },
         "mode": "lines",
         "name": "snippy_NZ_LT632320.1",
         "showlegend": true,
         "type": "scatter",
         "x": [
          2,
          3,
          4,
          5,
          6,
          7,
          8,
          9,
          10,
          11,
          12,
          13,
          14,
          15,
          16,
          17,
          18,
          19,
          20
         ],
         "xaxis": "x",
         "y": [
          22699,
          42735,
          55948,
          65411,
          89696,
          106911,
          123795,
          136605,
          150728,
          165864,
          173334,
          184046,
          198726,
          227121,
          260282,
          314315,
          379317,
          461789,
          473473
         ],
         "yaxis": "y"
        },
        {
         "hoverlabel": {
          "namelength": 0
         },
         "hovertemplate": "tool=snippy_NZ_NG941718.1<br>NB_OF_SAMPLES=%{x}<br>cumulative_nb_of_found_PanVar=%{y}",
         "legendgroup": "snippy_NZ_NG941718.1",
         "line": {
          "color": "rgba(255,0,0,0.3)",
          "dash": "solid"
         },
         "mode": "lines",
         "name": "snippy_NZ_NG941718.1",
         "showlegend": true,
         "type": "scatter",
         "x": [
          2,
          3,
          4,
          5,
          6,
          7,
          8,
          9,
          10,
          11,
          12,
          13,
          14,
          15,
          16,
          17,
          18,
          19,
          20
         ],
         "xaxis": "x",
         "y": [
          23025,
          43325,
          56751,
          66336,
          90797,
          108192,
          125212,
          138044,
          152261,
          167831,
          175344,
          186383,
          201195,
          229715,
          263012,
          317295,
          382590,
          465404,
          477123
         ],
         "yaxis": "y"
        }
       ],
       "layout": {
        "legend": {
         "title": {
          "text": "tool"
         },
         "tracegroupgap": 0
        },
        "margin": {
         "t": 60
        },
        "template": {
         "data": {
          "bar": [
           {
            "error_x": {
             "color": "#2a3f5f"
            },
            "error_y": {
             "color": "#2a3f5f"
            },
            "marker": {
             "line": {
              "color": "#E5ECF6",
              "width": 0.5
             }
            },
            "type": "bar"
           }
          ],
          "barpolar": [
           {
            "marker": {
             "line": {
              "color": "#E5ECF6",
              "width": 0.5
             }
            },
            "type": "barpolar"
           }
          ],
          "carpet": [
           {
            "aaxis": {
             "endlinecolor": "#2a3f5f",
             "gridcolor": "white",
             "linecolor": "white",
             "minorgridcolor": "white",
             "startlinecolor": "#2a3f5f"
            },
            "baxis": {
             "endlinecolor": "#2a3f5f",
             "gridcolor": "white",
             "linecolor": "white",
             "minorgridcolor": "white",
             "startlinecolor": "#2a3f5f"
            },
            "type": "carpet"
           }
          ],
          "choropleth": [
           {
            "colorbar": {
             "outlinewidth": 0,
             "ticks": ""
            },
            "type": "choropleth"
           }
          ],
          "contour": [
           {
            "colorbar": {
             "outlinewidth": 0,
             "ticks": ""
            },
            "colorscale": [
             [
              0,
              "#0d0887"
             ],
             [
              0.1111111111111111,
              "#46039f"
             ],
             [
              0.2222222222222222,
              "#7201a8"
             ],
             [
              0.3333333333333333,
              "#9c179e"
             ],
             [
              0.4444444444444444,
              "#bd3786"
             ],
             [
              0.5555555555555556,
              "#d8576b"
             ],
             [
              0.6666666666666666,
              "#ed7953"
             ],
             [
              0.7777777777777778,
              "#fb9f3a"
             ],
             [
              0.8888888888888888,
              "#fdca26"
             ],
             [
              1,
              "#f0f921"
             ]
            ],
            "type": "contour"
           }
          ],
          "contourcarpet": [
           {
            "colorbar": {
             "outlinewidth": 0,
             "ticks": ""
            },
            "type": "contourcarpet"
           }
          ],
          "heatmap": [
           {
            "colorbar": {
             "outlinewidth": 0,
             "ticks": ""
            },
            "colorscale": [
             [
              0,
              "#0d0887"
             ],
             [
              0.1111111111111111,
              "#46039f"
             ],
             [
              0.2222222222222222,
              "#7201a8"
             ],
             [
              0.3333333333333333,
              "#9c179e"
             ],
             [
              0.4444444444444444,
              "#bd3786"
             ],
             [
              0.5555555555555556,
              "#d8576b"
             ],
             [
              0.6666666666666666,
              "#ed7953"
             ],
             [
              0.7777777777777778,
              "#fb9f3a"
             ],
             [
              0.8888888888888888,
              "#fdca26"
             ],
             [
              1,
              "#f0f921"
             ]
            ],
            "type": "heatmap"
           }
          ],
          "heatmapgl": [
           {
            "colorbar": {
             "outlinewidth": 0,
             "ticks": ""
            },
            "colorscale": [
             [
              0,
              "#0d0887"
             ],
             [
              0.1111111111111111,
              "#46039f"
             ],
             [
              0.2222222222222222,
              "#7201a8"
             ],
             [
              0.3333333333333333,
              "#9c179e"
             ],
             [
              0.4444444444444444,
              "#bd3786"
             ],
             [
              0.5555555555555556,
              "#d8576b"
             ],
             [
              0.6666666666666666,
              "#ed7953"
             ],
             [
              0.7777777777777778,
              "#fb9f3a"
             ],
             [
              0.8888888888888888,
              "#fdca26"
             ],
             [
              1,
              "#f0f921"
             ]
            ],
            "type": "heatmapgl"
           }
          ],
          "histogram": [
           {
            "marker": {
             "colorbar": {
              "outlinewidth": 0,
              "ticks": ""
             }
            },
            "type": "histogram"
           }
          ],
          "histogram2d": [
           {
            "colorbar": {
             "outlinewidth": 0,
             "ticks": ""
            },
            "colorscale": [
             [
              0,
              "#0d0887"
             ],
             [
              0.1111111111111111,
              "#46039f"
             ],
             [
              0.2222222222222222,
              "#7201a8"
             ],
             [
              0.3333333333333333,
              "#9c179e"
             ],
             [
              0.4444444444444444,
              "#bd3786"
             ],
             [
              0.5555555555555556,
              "#d8576b"
             ],
             [
              0.6666666666666666,
              "#ed7953"
             ],
             [
              0.7777777777777778,
              "#fb9f3a"
             ],
             [
              0.8888888888888888,
              "#fdca26"
             ],
             [
              1,
              "#f0f921"
             ]
            ],
            "type": "histogram2d"
           }
          ],
          "histogram2dcontour": [
           {
            "colorbar": {
             "outlinewidth": 0,
             "ticks": ""
            },
            "colorscale": [
             [
              0,
              "#0d0887"
             ],
             [
              0.1111111111111111,
              "#46039f"
             ],
             [
              0.2222222222222222,
              "#7201a8"
             ],
             [
              0.3333333333333333,
              "#9c179e"
             ],
             [
              0.4444444444444444,
              "#bd3786"
             ],
             [
              0.5555555555555556,
              "#d8576b"
             ],
             [
              0.6666666666666666,
              "#ed7953"
             ],
             [
              0.7777777777777778,
              "#fb9f3a"
             ],
             [
              0.8888888888888888,
              "#fdca26"
             ],
             [
              1,
              "#f0f921"
             ]
            ],
            "type": "histogram2dcontour"
           }
          ],
          "mesh3d": [
           {
            "colorbar": {
             "outlinewidth": 0,
             "ticks": ""
            },
            "type": "mesh3d"
           }
          ],
          "parcoords": [
           {
            "line": {
             "colorbar": {
              "outlinewidth": 0,
              "ticks": ""
             }
            },
            "type": "parcoords"
           }
          ],
          "pie": [
           {
            "automargin": true,
            "type": "pie"
           }
          ],
          "scatter": [
           {
            "marker": {
             "colorbar": {
              "outlinewidth": 0,
              "ticks": ""
             }
            },
            "type": "scatter"
           }
          ],
          "scatter3d": [
           {
            "line": {
             "colorbar": {
              "outlinewidth": 0,
              "ticks": ""
             }
            },
            "marker": {
             "colorbar": {
              "outlinewidth": 0,
              "ticks": ""
             }
            },
            "type": "scatter3d"
           }
          ],
          "scattercarpet": [
           {
            "marker": {
             "colorbar": {
              "outlinewidth": 0,
              "ticks": ""
             }
            },
            "type": "scattercarpet"
           }
          ],
          "scattergeo": [
           {
            "marker": {
             "colorbar": {
              "outlinewidth": 0,
              "ticks": ""
             }
            },
            "type": "scattergeo"
           }
          ],
          "scattergl": [
           {
            "marker": {
             "colorbar": {
              "outlinewidth": 0,
              "ticks": ""
             }
            },
            "type": "scattergl"
           }
          ],
          "scattermapbox": [
           {
            "marker": {
             "colorbar": {
              "outlinewidth": 0,
              "ticks": ""
             }
            },
            "type": "scattermapbox"
           }
          ],
          "scatterpolar": [
           {
            "marker": {
             "colorbar": {
              "outlinewidth": 0,
              "ticks": ""
             }
            },
            "type": "scatterpolar"
           }
          ],
          "scatterpolargl": [
           {
            "marker": {
             "colorbar": {
              "outlinewidth": 0,
              "ticks": ""
             }
            },
            "type": "scatterpolargl"
           }
          ],
          "scatterternary": [
           {
            "marker": {
             "colorbar": {
              "outlinewidth": 0,
              "ticks": ""
             }
            },
            "type": "scatterternary"
           }
          ],
          "surface": [
           {
            "colorbar": {
             "outlinewidth": 0,
             "ticks": ""
            },
            "colorscale": [
             [
              0,
              "#0d0887"
             ],
             [
              0.1111111111111111,
              "#46039f"
             ],
             [
              0.2222222222222222,
              "#7201a8"
             ],
             [
              0.3333333333333333,
              "#9c179e"
             ],
             [
              0.4444444444444444,
              "#bd3786"
             ],
             [
              0.5555555555555556,
              "#d8576b"
             ],
             [
              0.6666666666666666,
              "#ed7953"
             ],
             [
              0.7777777777777778,
              "#fb9f3a"
             ],
             [
              0.8888888888888888,
              "#fdca26"
             ],
             [
              1,
              "#f0f921"
             ]
            ],
            "type": "surface"
           }
          ],
          "table": [
           {
            "cells": {
             "fill": {
              "color": "#EBF0F8"
             },
             "line": {
              "color": "white"
             }
            },
            "header": {
             "fill": {
              "color": "#C8D4E3"
             },
             "line": {
              "color": "white"
             }
            },
            "type": "table"
           }
          ]
         },
         "layout": {
          "annotationdefaults": {
           "arrowcolor": "#2a3f5f",
           "arrowhead": 0,
           "arrowwidth": 1
          },
          "coloraxis": {
           "colorbar": {
            "outlinewidth": 0,
            "ticks": ""
           }
          },
          "colorscale": {
           "diverging": [
            [
             0,
             "#8e0152"
            ],
            [
             0.1,
             "#c51b7d"
            ],
            [
             0.2,
             "#de77ae"
            ],
            [
             0.3,
             "#f1b6da"
            ],
            [
             0.4,
             "#fde0ef"
            ],
            [
             0.5,
             "#f7f7f7"
            ],
            [
             0.6,
             "#e6f5d0"
            ],
            [
             0.7,
             "#b8e186"
            ],
            [
             0.8,
             "#7fbc41"
            ],
            [
             0.9,
             "#4d9221"
            ],
            [
             1,
             "#276419"
            ]
           ],
           "sequential": [
            [
             0,
             "#0d0887"
            ],
            [
             0.1111111111111111,
             "#46039f"
            ],
            [
             0.2222222222222222,
             "#7201a8"
            ],
            [
             0.3333333333333333,
             "#9c179e"
            ],
            [
             0.4444444444444444,
             "#bd3786"
            ],
            [
             0.5555555555555556,
             "#d8576b"
            ],
            [
             0.6666666666666666,
             "#ed7953"
            ],
            [
             0.7777777777777778,
             "#fb9f3a"
            ],
            [
             0.8888888888888888,
             "#fdca26"
            ],
            [
             1,
             "#f0f921"
            ]
           ],
           "sequentialminus": [
            [
             0,
             "#0d0887"
            ],
            [
             0.1111111111111111,
             "#46039f"
            ],
            [
             0.2222222222222222,
             "#7201a8"
            ],
            [
             0.3333333333333333,
             "#9c179e"
            ],
            [
             0.4444444444444444,
             "#bd3786"
            ],
            [
             0.5555555555555556,
             "#d8576b"
            ],
            [
             0.6666666666666666,
             "#ed7953"
            ],
            [
             0.7777777777777778,
             "#fb9f3a"
            ],
            [
             0.8888888888888888,
             "#fdca26"
            ],
            [
             1,
             "#f0f921"
            ]
           ]
          },
          "colorway": [
           "#636efa",
           "#EF553B",
           "#00cc96",
           "#ab63fa",
           "#FFA15A",
           "#19d3f3",
           "#FF6692",
           "#B6E880",
           "#FF97FF",
           "#FECB52"
          ],
          "font": {
           "color": "#2a3f5f"
          },
          "geo": {
           "bgcolor": "white",
           "lakecolor": "white",
           "landcolor": "#E5ECF6",
           "showlakes": true,
           "showland": true,
           "subunitcolor": "white"
          },
          "hoverlabel": {
           "align": "left"
          },
          "hovermode": "closest",
          "mapbox": {
           "style": "light"
          },
          "paper_bgcolor": "white",
          "plot_bgcolor": "#E5ECF6",
          "polar": {
           "angularaxis": {
            "gridcolor": "white",
            "linecolor": "white",
            "ticks": ""
           },
           "bgcolor": "#E5ECF6",
           "radialaxis": {
            "gridcolor": "white",
            "linecolor": "white",
            "ticks": ""
           }
          },
          "scene": {
           "xaxis": {
            "backgroundcolor": "#E5ECF6",
            "gridcolor": "white",
            "gridwidth": 2,
            "linecolor": "white",
            "showbackground": true,
            "ticks": "",
            "zerolinecolor": "white"
           },
           "yaxis": {
            "backgroundcolor": "#E5ECF6",
            "gridcolor": "white",
            "gridwidth": 2,
            "linecolor": "white",
            "showbackground": true,
            "ticks": "",
            "zerolinecolor": "white"
           },
           "zaxis": {
            "backgroundcolor": "#E5ECF6",
            "gridcolor": "white",
            "gridwidth": 2,
            "linecolor": "white",
            "showbackground": true,
            "ticks": "",
            "zerolinecolor": "white"
           }
          },
          "shapedefaults": {
           "line": {
            "color": "#2a3f5f"
           }
          },
          "ternary": {
           "aaxis": {
            "gridcolor": "white",
            "linecolor": "white",
            "ticks": ""
           },
           "baxis": {
            "gridcolor": "white",
            "linecolor": "white",
            "ticks": ""
           },
           "bgcolor": "#E5ECF6",
           "caxis": {
            "gridcolor": "white",
            "linecolor": "white",
            "ticks": ""
           }
          },
          "title": {
           "x": 0.05
          },
          "xaxis": {
           "automargin": true,
           "gridcolor": "white",
           "linecolor": "white",
           "ticks": "",
           "title": {
            "standoff": 15
           },
           "zerolinecolor": "white",
           "zerolinewidth": 2
          },
          "yaxis": {
           "automargin": true,
           "gridcolor": "white",
           "linecolor": "white",
           "ticks": "",
           "title": {
            "standoff": 15
           },
           "zerolinecolor": "white",
           "zerolinewidth": 2
          }
         }
        },
        "xaxis": {
         "anchor": "y",
         "domain": [
          0,
          1
         ],
         "dtick": 1,
         "tick0": 2,
         "tickmode": "linear",
         "title": {
          "text": "Number of samples"
         }
        },
        "yaxis": {
         "anchor": "x",
         "domain": [
          0,
          1
         ],
         "title": {
          "text": "Cumulative nb of Pangenome Variations Found"
         }
        }
       }
      },
      "text/html": [
       "<div>\n",
       "        \n",
       "        \n",
       "            <div id=\"eb1964ad-697d-4c00-aafb-5c3bd7e12fed\" class=\"plotly-graph-div\" style=\"height:525px; width:100%;\"></div>\n",
       "            <script type=\"text/javascript\">\n",
       "                require([\"plotly\"], function(Plotly) {\n",
       "                    window.PLOTLYENV=window.PLOTLYENV || {};\n",
       "                    \n",
       "                if (document.getElementById(\"eb1964ad-697d-4c00-aafb-5c3bd7e12fed\")) {\n",
       "                    Plotly.newPlot(\n",
       "                        'eb1964ad-697d-4c00-aafb-5c3bd7e12fed',\n",
       "                        [{\"hoverlabel\": {\"namelength\": 0}, \"hovertemplate\": \"tool=pandora_illumina_nodenovo_global_genotyping<br>NB_OF_SAMPLES=%{x}<br>cumulative_nb_of_found_PanVar=%{y}\", \"legendgroup\": \"pandora_illumina_nodenovo_global_genotyping\", \"line\": {\"color\": \"orange\", \"dash\": \"solid\"}, \"mode\": \"lines\", \"name\": \"pandora_illumina_nodenovo_global_genotyping\", \"showlegend\": true, \"type\": \"scatter\", \"x\": [2, 3, 4, 5, 6, 7, 8, 9, 10, 11, 12, 13, 14, 15, 16, 17, 18, 19, 20], \"xaxis\": \"x\", \"y\": [38958.0, 68659.0, 91780.0, 109872.0, 134026.0, 153198.0, 171429.0, 186664.0, 203582.0, 220917.0, 231366.0, 244411.0, 259112.0, 282497.0, 312766.0, 362885.0, 423904.0, 500819.0, 510094.0], \"yaxis\": \"y\"}, {\"hoverlabel\": {\"namelength\": 0}, \"hovertemplate\": \"tool=pandora_illumina_withdenovo_global_genotyping<br>NB_OF_SAMPLES=%{x}<br>cumulative_nb_of_found_PanVar=%{y}\", \"legendgroup\": \"pandora_illumina_withdenovo_global_genotyping\", \"line\": {\"color\": \"blue\", \"dash\": \"solid\"}, \"mode\": \"lines\", \"name\": \"pandora_illumina_withdenovo_global_genotyping\", \"showlegend\": true, \"type\": \"scatter\", \"x\": [2, 3, 4, 5, 6, 7, 8, 9, 10, 11, 12, 13, 14, 15, 16, 17, 18, 19, 20], \"xaxis\": \"x\", \"y\": [40579.0, 71679.0, 96088.0, 114795.0, 142530.0, 163002.0, 182454.0, 198083.0, 215462.0, 233242.0, 244100.0, 258229.0, 273992.0, 300181.0, 330948.0, 381647.0, 443290.0, 520568.0, 530850.0], \"yaxis\": \"y\"}, {\"hoverlabel\": {\"namelength\": 0}, \"hovertemplate\": \"tool=snippy_CN928163.2<br>NB_OF_SAMPLES=%{x}<br>cumulative_nb_of_found_PanVar=%{y}\", \"legendgroup\": \"snippy_CN928163.2\", \"line\": {\"color\": \"rgba(255,0,0,0.3)\", \"dash\": \"solid\"}, \"mode\": \"lines\", \"name\": \"snippy_CN928163.2\", \"showlegend\": true, \"type\": \"scatter\", \"x\": [2, 3, 4, 5, 6, 7, 8, 9, 10, 11, 12, 13, 14, 15, 16, 17, 18, 19, 20], \"xaxis\": \"x\", \"y\": [22005.999999999996, 39752.0, 52114.0, 61370.0, 87540.0, 106699.0, 123583.0, 134901.0, 150190.0, 166884.0, 176742.0, 190467.0, 207403.0, 237370.0, 271385.0, 325817.0, 391607.0, 474381.0, 486059.0], \"yaxis\": \"y\"}, {\"hoverlabel\": {\"namelength\": 0}, \"hovertemplate\": \"tool=snippy_CP010116.1<br>NB_OF_SAMPLES=%{x}<br>cumulative_nb_of_found_PanVar=%{y}\", \"legendgroup\": \"snippy_CP010116.1\", \"line\": {\"color\": \"rgba(255,0,0,0.3)\", \"dash\": \"solid\"}, \"mode\": \"lines\", \"name\": \"snippy_CP010116.1\", \"showlegend\": true, \"type\": \"scatter\", \"x\": [2, 3, 4, 5, 6, 7, 8, 9, 10, 11, 12, 13, 14, 15, 16, 17, 18, 19, 20], \"xaxis\": \"x\", \"y\": [16776.0, 28577.0, 38145.0, 45125.0, 69682.0, 87792.0, 104009.0, 115492.0, 130466.0, 146065.0, 155726.0, 169116.0, 186049.0, 215237.0, 248303.0, 301164.0, 364598.0, 445178.0, 456521.0], \"yaxis\": \"y\"}, {\"hoverlabel\": {\"namelength\": 0}, \"hovertemplate\": \"tool=snippy_CP010121.1<br>NB_OF_SAMPLES=%{x}<br>cumulative_nb_of_found_PanVar=%{y}\", \"legendgroup\": \"snippy_CP010121.1\", \"line\": {\"color\": \"rgba(255,0,0,0.3)\", \"dash\": \"solid\"}, \"mode\": \"lines\", \"name\": \"snippy_CP010121.1\", \"showlegend\": true, \"type\": \"scatter\", \"x\": [2, 3, 4, 5, 6, 7, 8, 9, 10, 11, 12, 13, 14, 15, 16, 17, 18, 19, 20], \"xaxis\": \"x\", \"y\": [18234.000000000004, 30802.000000000007, 41182.00000000001, 49121.00000000001, 73755.0, 91637.0, 107186.0, 117783.0, 132913.0, 148299.0, 157634.0, 170154.0, 187014.0, 216574.0, 250321.0, 304401.0, 370039.0, 452728.0, 464406.0], \"yaxis\": \"y\"}, {\"hoverlabel\": {\"namelength\": 0}, \"hovertemplate\": \"tool=snippy_CP010170.1<br>NB_OF_SAMPLES=%{x}<br>cumulative_nb_of_found_PanVar=%{y}\", \"legendgroup\": \"snippy_CP010170.1\", \"line\": {\"color\": \"rgba(255,0,0,0.3)\", \"dash\": \"solid\"}, \"mode\": \"lines\", \"name\": \"snippy_CP010170.1\", \"showlegend\": true, \"type\": \"scatter\", \"x\": [2, 3, 4, 5, 6, 7, 8, 9, 10, 11, 12, 13, 14, 15, 16, 17, 18, 19, 20], \"xaxis\": \"x\", \"y\": [15023.999999999998, 26869.0, 35196.0, 42423.0, 66142.0, 82488.0, 97299.0, 108206.0, 121147.0, 135459.0, 143915.0, 155888.0, 171817.0, 201204.0, 234573.0, 288957.0, 354477.0, 437138.0, 448801.0], \"yaxis\": \"y\"}, {\"hoverlabel\": {\"namelength\": 0}, \"hovertemplate\": \"tool=snippy_CP010171.1<br>NB_OF_SAMPLES=%{x}<br>cumulative_nb_of_found_PanVar=%{y}\", \"legendgroup\": \"snippy_CP010171.1\", \"line\": {\"color\": \"rgba(255,0,0,0.3)\", \"dash\": \"solid\"}, \"mode\": \"lines\", \"name\": \"snippy_CP010171.1\", \"showlegend\": true, \"type\": \"scatter\", \"x\": [2, 3, 4, 5, 6, 7, 8, 9, 10, 11, 12, 13, 14, 15, 16, 17, 18, 19, 20], \"xaxis\": \"x\", \"y\": [15811.0, 28377.0, 38414.0, 46310.0, 69933.0, 86473.0, 102112.0, 112866.0, 126280.0, 140831.0, 149364.0, 161992.0, 177946.0, 207029.0, 240084.0, 293709.0, 358185.0, 440483.0, 452138.0], \"yaxis\": \"y\"}, {\"hoverlabel\": {\"namelength\": 0}, \"hovertemplate\": \"tool=snippy_CP010226.1<br>NB_OF_SAMPLES=%{x}<br>cumulative_nb_of_found_PanVar=%{y}\", \"legendgroup\": \"snippy_CP010226.1\", \"line\": {\"color\": \"rgba(255,0,0,0.3)\", \"dash\": \"solid\"}, \"mode\": \"lines\", \"name\": \"snippy_CP010226.1\", \"showlegend\": true, \"type\": \"scatter\", \"x\": [2, 3, 4, 5, 6, 7, 8, 9, 10, 11, 12, 13, 14, 15, 16, 17, 18, 19, 20], \"xaxis\": \"x\", \"y\": [14825.000000000002, 26436.0, 34132.0, 40391.0, 62904.0, 78830.0, 93310.0, 103554.0, 116531.0, 130460.0, 138203.0, 149640.0, 164537.0, 192866.0, 225187.0, 278224.0, 342193.0, 423877.0, 435377.0], \"yaxis\": \"y\"}, {\"hoverlabel\": {\"namelength\": 0}, \"hovertemplate\": \"tool=snippy_CP010230.1<br>NB_OF_SAMPLES=%{x}<br>cumulative_nb_of_found_PanVar=%{y}\", \"legendgroup\": \"snippy_CP010230.1\", \"line\": {\"color\": \"rgba(255,0,0,0.3)\", \"dash\": \"solid\"}, \"mode\": \"lines\", \"name\": \"snippy_CP010230.1\", \"showlegend\": true, \"type\": \"scatter\", \"x\": [2, 3, 4, 5, 6, 7, 8, 9, 10, 11, 12, 13, 14, 15, 16, 17, 18, 19, 20], \"xaxis\": \"x\", \"y\": [14133.0, 25979.0, 35554.0, 42596.0, 66801.0, 83396.0, 99425.0, 110410.0, 124678.0, 139869.0, 148782.0, 161812.0, 178131.0, 207550.0, 241087.0, 295254.0, 360533.0, 442842.0, 454462.0], \"yaxis\": \"y\"}, {\"hoverlabel\": {\"namelength\": 0}, \"hovertemplate\": \"tool=snippy_CP018206.1<br>NB_OF_SAMPLES=%{x}<br>cumulative_nb_of_found_PanVar=%{y}\", \"legendgroup\": \"snippy_CP018206.1\", \"line\": {\"color\": \"rgba(255,0,0,0.3)\", \"dash\": \"solid\"}, \"mode\": \"lines\", \"name\": \"snippy_CP018206.1\", \"showlegend\": true, \"type\": \"scatter\", \"x\": [2, 3, 4, 5, 6, 7, 8, 9, 10, 11, 12, 13, 14, 15, 16, 17, 18, 19, 20], \"xaxis\": \"x\", \"y\": [19196.0, 32684.0, 43541.0, 51481.0, 77538.0, 96497.0, 113752.0, 125666.0, 141514.0, 157779.0, 167703.0, 181411.0, 198681.0, 228946.0, 263017.0, 317635.0, 383293.0, 465960.0, 477632.0], \"yaxis\": \"y\"}, {\"hoverlabel\": {\"namelength\": 0}, \"hovertemplate\": \"tool=snippy_NC_004431.1<br>NB_OF_SAMPLES=%{x}<br>cumulative_nb_of_found_PanVar=%{y}\", \"legendgroup\": \"snippy_NC_004431.1\", \"line\": {\"color\": \"rgba(255,0,0,0.3)\", \"dash\": \"solid\"}, \"mode\": \"lines\", \"name\": \"snippy_NC_004431.1\", \"showlegend\": true, \"type\": \"scatter\", \"x\": [2, 3, 4, 5, 6, 7, 8, 9, 10, 11, 12, 13, 14, 15, 16, 17, 18, 19, 20], \"xaxis\": \"x\", \"y\": [22851.0, 41550.0, 55294.0, 64071.0, 88825.0, 105588.0, 121552.0, 133620.0, 147461.0, 161962.0, 168698.0, 178916.0, 192876.0, 221116.0, 254085.0, 308525.0, 374242.0, 457259.0, 468978.0], \"yaxis\": \"y\"}, {\"hoverlabel\": {\"namelength\": 0}, \"hovertemplate\": \"tool=snippy_NC_007779.1<br>NB_OF_SAMPLES=%{x}<br>cumulative_nb_of_found_PanVar=%{y}\", \"legendgroup\": \"snippy_NC_007779.1\", \"line\": {\"color\": \"rgba(255,0,0,0.3)\", \"dash\": \"solid\"}, \"mode\": \"lines\", \"name\": \"snippy_NC_007779.1\", \"showlegend\": true, \"type\": \"scatter\", \"x\": [2, 3, 4, 5, 6, 7, 8, 9, 10, 11, 12, 13, 14, 15, 16, 17, 18, 19, 20], \"xaxis\": \"x\", \"y\": [15133.0, 27270.0, 35533.0, 41663.0, 64887.0, 81136.0, 95966.0, 107011.0, 120294.0, 134902.0, 143288.0, 155534.0, 171604.0, 200780.0, 234056.0, 288363.0, 353840.0, 436439.0, 448092.0], \"yaxis\": \"y\"}, {\"hoverlabel\": {\"namelength\": 0}, \"hovertemplate\": \"tool=snippy_NC_010498.1<br>NB_OF_SAMPLES=%{x}<br>cumulative_nb_of_found_PanVar=%{y}\", \"legendgroup\": \"snippy_NC_010498.1\", \"line\": {\"color\": \"rgba(255,0,0,0.3)\", \"dash\": \"solid\"}, \"mode\": \"lines\", \"name\": \"snippy_NC_010498.1\", \"showlegend\": true, \"type\": \"scatter\", \"x\": [2, 3, 4, 5, 6, 7, 8, 9, 10, 11, 12, 13, 14, 15, 16, 17, 18, 19, 20], \"xaxis\": \"x\", \"y\": [20858.0, 40176.0, 51471.0, 60863.0, 85828.0, 104920.0, 122389.0, 134604.0, 150336.0, 167220.0, 177535.0, 191902.0, 208933.0, 238874.0, 272945.0, 327499.0, 393188.0, 476004.0, 487658.0], \"yaxis\": \"y\"}, {\"hoverlabel\": {\"namelength\": 0}, \"hovertemplate\": \"tool=snippy_NC_011742.1<br>NB_OF_SAMPLES=%{x}<br>cumulative_nb_of_found_PanVar=%{y}\", \"legendgroup\": \"snippy_NC_011742.1\", \"line\": {\"color\": \"rgba(255,0,0,0.3)\", \"dash\": \"solid\"}, \"mode\": \"lines\", \"name\": \"snippy_NC_011742.1\", \"showlegend\": true, \"type\": \"scatter\", \"x\": [2, 3, 4, 5, 6, 7, 8, 9, 10, 11, 12, 13, 14, 15, 16, 17, 18, 19, 20], \"xaxis\": \"x\", \"y\": [22883.0, 40106.0, 53781.0, 63109.0, 88834.0, 105850.0, 122441.0, 134781.0, 149085.0, 164357.0, 171919.0, 183545.0, 198783.0, 227875.0, 261624.0, 316143.0, 381746.0, 464589.0, 476304.0], \"yaxis\": \"y\"}, {\"hoverlabel\": {\"namelength\": 0}, \"hovertemplate\": \"tool=snippy_NC_011993.1<br>NB_OF_SAMPLES=%{x}<br>cumulative_nb_of_found_PanVar=%{y}\", \"legendgroup\": \"snippy_NC_011993.1\", \"line\": {\"color\": \"rgba(255,0,0,0.3)\", \"dash\": \"solid\"}, \"mode\": \"lines\", \"name\": \"snippy_NC_011993.1\", \"showlegend\": true, \"type\": \"scatter\", \"x\": [2, 3, 4, 5, 6, 7, 8, 9, 10, 11, 12, 13, 14, 15, 16, 17, 18, 19, 20], \"xaxis\": \"x\", \"y\": [18177.0, 32355.0, 43311.0, 50310.0, 73554.0, 89054.0, 103908.0, 114774.0, 127786.0, 141338.0, 147973.0, 158340.0, 172699.0, 201228.0, 234824.0, 289316.0, 355065.0, 437944.0, 449662.0], \"yaxis\": \"y\"}, {\"hoverlabel\": {\"namelength\": 0}, \"hovertemplate\": \"tool=snippy_NC_017646.1<br>NB_OF_SAMPLES=%{x}<br>cumulative_nb_of_found_PanVar=%{y}\", \"legendgroup\": \"snippy_NC_017646.1\", \"line\": {\"color\": \"rgba(255,0,0,0.3)\", \"dash\": \"solid\"}, \"mode\": \"lines\", \"name\": \"snippy_NC_017646.1\", \"showlegend\": true, \"type\": \"scatter\", \"x\": [2, 3, 4, 5, 6, 7, 8, 9, 10, 11, 12, 13, 14, 15, 16, 17, 18, 19, 20], \"xaxis\": \"x\", \"y\": [23260.0, 39231.0, 53317.0, 62989.0, 89919.0, 109405.0, 126332.0, 138008.0, 153085.0, 170098.0, 180558.0, 195026.0, 212089.0, 242181.0, 276188.0, 330692.0, 396218.0, 478839.0, 490514.0], \"yaxis\": \"y\"}, {\"hoverlabel\": {\"namelength\": 0}, \"hovertemplate\": \"tool=snippy_NC_022648.1<br>NB_OF_SAMPLES=%{x}<br>cumulative_nb_of_found_PanVar=%{y}\", \"legendgroup\": \"snippy_NC_022648.1\", \"line\": {\"color\": \"rgba(255,0,0,0.3)\", \"dash\": \"solid\"}, \"mode\": \"lines\", \"name\": \"snippy_NC_022648.1\", \"showlegend\": true, \"type\": \"scatter\", \"x\": [2, 3, 4, 5, 6, 7, 8, 9, 10, 11, 12, 13, 14, 15, 16, 17, 18, 19, 20], \"xaxis\": \"x\", \"y\": [22765.0, 42639.0, 55449.0, 64984.0, 89231.0, 106262.0, 123132.0, 135802.0, 149918.0, 165432.0, 172876.0, 183753.0, 198462.0, 226872.0, 260181.0, 314459.0, 379738.0, 462537.0, 474255.0], \"yaxis\": \"y\"}, {\"hoverlabel\": {\"namelength\": 0}, \"hovertemplate\": \"tool=snippy_NZ_CP008697.1<br>NB_OF_SAMPLES=%{x}<br>cumulative_nb_of_found_PanVar=%{y}\", \"legendgroup\": \"snippy_NZ_CP008697.1\", \"line\": {\"color\": \"rgba(255,0,0,0.3)\", \"dash\": \"solid\"}, \"mode\": \"lines\", \"name\": \"snippy_NZ_CP008697.1\", \"showlegend\": true, \"type\": \"scatter\", \"x\": [2, 3, 4, 5, 6, 7, 8, 9, 10, 11, 12, 13, 14, 15, 16, 17, 18, 19, 20], \"xaxis\": \"x\", \"y\": [22300.0, 38414.0, 49706.0, 58723.0, 84395.0, 104590.0, 123108.0, 136545.0, 152637.0, 170478.0, 181575.0, 196840.0, 214677.0, 244899.0, 278918.0, 333584.0, 399119.0, 481739.0, 493420.0], \"yaxis\": \"y\"}, {\"hoverlabel\": {\"namelength\": 0}, \"hovertemplate\": \"tool=snippy_NZ_CP009859.1<br>NB_OF_SAMPLES=%{x}<br>cumulative_nb_of_found_PanVar=%{y}\", \"legendgroup\": \"snippy_NZ_CP009859.1\", \"line\": {\"color\": \"rgba(255,0,0,0.3)\", \"dash\": \"solid\"}, \"mode\": \"lines\", \"name\": \"snippy_NZ_CP009859.1\", \"showlegend\": true, \"type\": \"scatter\", \"x\": [2, 3, 4, 5, 6, 7, 8, 9, 10, 11, 12, 13, 14, 15, 16, 17, 18, 19, 20], \"xaxis\": \"x\", \"y\": [23375.000000000004, 40101.0, 52674.0, 62994.0, 88706.0, 109260.0, 127816.0, 141064.0, 157146.0, 174844.0, 185856.0, 201118.0, 218710.0, 248824.0, 282576.0, 336799.0, 401651.0, 484119.0, 495775.0], \"yaxis\": \"y\"}, {\"hoverlabel\": {\"namelength\": 0}, \"hovertemplate\": \"tool=snippy_NZ_CP011134.1<br>NB_OF_SAMPLES=%{x}<br>cumulative_nb_of_found_PanVar=%{y}\", \"legendgroup\": \"snippy_NZ_CP011134.1\", \"line\": {\"color\": \"rgba(255,0,0,0.3)\", \"dash\": \"solid\"}, \"mode\": \"lines\", \"name\": \"snippy_NZ_CP011134.1\", \"showlegend\": true, \"type\": \"scatter\", \"x\": [2, 3, 4, 5, 6, 7, 8, 9, 10, 11, 12, 13, 14, 15, 16, 17, 18, 19, 20], \"xaxis\": \"x\", \"y\": [19116.0, 33539.0, 43379.0, 50675.0, 75738.0, 93211.0, 109961.0, 122422.0, 137342.0, 154473.0, 164834.0, 179619.0, 196830.0, 226858.0, 260859.0, 315541.0, 380958.0, 463393.0, 475042.0], \"yaxis\": \"y\"}, {\"hoverlabel\": {\"namelength\": 0}, \"hovertemplate\": \"tool=snippy_NZ_CP013483.1<br>NB_OF_SAMPLES=%{x}<br>cumulative_nb_of_found_PanVar=%{y}\", \"legendgroup\": \"snippy_NZ_CP013483.1\", \"line\": {\"color\": \"rgba(255,0,0,0.3)\", \"dash\": \"solid\"}, \"mode\": \"lines\", \"name\": \"snippy_NZ_CP013483.1\", \"showlegend\": true, \"type\": \"scatter\", \"x\": [2, 3, 4, 5, 6, 7, 8, 9, 10, 11, 12, 13, 14, 15, 16, 17, 18, 19, 20], \"xaxis\": \"x\", \"y\": [16205.000000000005, 29582.000000000004, 38491.0, 44828.0, 68955.0, 85177.0, 100827.0, 112256.0, 126002.0, 140940.0, 149851.0, 162568.0, 178656.0, 207671.0, 240669.0, 295037.0, 360394.0, 442690.0, 454342.0], \"yaxis\": \"y\"}, {\"hoverlabel\": {\"namelength\": 0}, \"hovertemplate\": \"tool=snippy_NZ_CP015228.1<br>NB_OF_SAMPLES=%{x}<br>cumulative_nb_of_found_PanVar=%{y}\", \"legendgroup\": \"snippy_NZ_CP015228.1\", \"line\": {\"color\": \"rgba(255,0,0,0.3)\", \"dash\": \"solid\"}, \"mode\": \"lines\", \"name\": \"snippy_NZ_CP015228.1\", \"showlegend\": true, \"type\": \"scatter\", \"x\": [2, 3, 4, 5, 6, 7, 8, 9, 10, 11, 12, 13, 14, 15, 16, 17, 18, 19, 20], \"xaxis\": \"x\", \"y\": [18539.0, 32739.0, 43161.0, 50699.0, 75840.0, 93432.0, 111028.0, 123302.0, 138396.0, 154346.0, 163884.0, 177517.0, 194585.0, 224317.0, 258001.0, 312154.0, 377407.0, 459613.0, 471227.0], \"yaxis\": \"y\"}, {\"hoverlabel\": {\"namelength\": 0}, \"hovertemplate\": \"tool=snippy_NZ_CP016007.1<br>NB_OF_SAMPLES=%{x}<br>cumulative_nb_of_found_PanVar=%{y}\", \"legendgroup\": \"snippy_NZ_CP016007.1\", \"line\": {\"color\": \"rgba(255,0,0,0.3)\", \"dash\": \"solid\"}, \"mode\": \"lines\", \"name\": \"snippy_NZ_CP016007.1\", \"showlegend\": true, \"type\": \"scatter\", \"x\": [2, 3, 4, 5, 6, 7, 8, 9, 10, 11, 12, 13, 14, 15, 16, 17, 18, 19, 20], \"xaxis\": \"x\", \"y\": [20074.0, 39405.0, 51863.0, 60314.0, 84122.0, 100147.0, 115206.0, 126612.0, 139679.0, 153334.0, 160101.0, 170390.0, 184880.0, 213484.0, 247130.0, 301523.0, 367161.0, 450007.0, 461715.0], \"yaxis\": \"y\"}, {\"hoverlabel\": {\"namelength\": 0}, \"hovertemplate\": \"tool=snippy_NZ_CP018109.1<br>NB_OF_SAMPLES=%{x}<br>cumulative_nb_of_found_PanVar=%{y}\", \"legendgroup\": \"snippy_NZ_CP018109.1\", \"line\": {\"color\": \"rgba(255,0,0,0.3)\", \"dash\": \"solid\"}, \"mode\": \"lines\", \"name\": \"snippy_NZ_CP018109.1\", \"showlegend\": true, \"type\": \"scatter\", \"x\": [2, 3, 4, 5, 6, 7, 8, 9, 10, 11, 12, 13, 14, 15, 16, 17, 18, 19, 20], \"xaxis\": \"x\", \"y\": [17730.000000000004, 30757.000000000004, 39942.0, 46853.0, 70432.0, 87022.0, 103770.0, 115933.0, 130505.0, 145879.0, 155127.0, 167601.0, 183328.0, 211937.0, 243954.0, 297765.0, 363246.0, 445825.0, 457489.0], \"yaxis\": \"y\"}, {\"hoverlabel\": {\"namelength\": 0}, \"hovertemplate\": \"tool=snippy_NZ_LN995446.1<br>NB_OF_SAMPLES=%{x}<br>cumulative_nb_of_found_PanVar=%{y}\", \"legendgroup\": \"snippy_NZ_LN995446.1\", \"line\": {\"color\": \"rgba(255,0,0,0.3)\", \"dash\": \"solid\"}, \"mode\": \"lines\", \"name\": \"snippy_NZ_LN995446.1\", \"showlegend\": true, \"type\": \"scatter\", \"x\": [2, 3, 4, 5, 6, 7, 8, 9, 10, 11, 12, 13, 14, 15, 16, 17, 18, 19, 20], \"xaxis\": \"x\", \"y\": [14714.999999999995, 26558.999999999993, 34609.99999999999, 40529.99999999999, 63579.99999999999, 79766.0, 94418.0, 105388.0, 118579.0, 133034.0, 141192.0, 153266.0, 169034.0, 197971.0, 230789.0, 284519.0, 349328.0, 431646.0, 443257.0], \"yaxis\": \"y\"}, {\"hoverlabel\": {\"namelength\": 0}, \"hovertemplate\": \"tool=snippy_NZ_LT632320.1<br>NB_OF_SAMPLES=%{x}<br>cumulative_nb_of_found_PanVar=%{y}\", \"legendgroup\": \"snippy_NZ_LT632320.1\", \"line\": {\"color\": \"rgba(255,0,0,0.3)\", \"dash\": \"solid\"}, \"mode\": \"lines\", \"name\": \"snippy_NZ_LT632320.1\", \"showlegend\": true, \"type\": \"scatter\", \"x\": [2, 3, 4, 5, 6, 7, 8, 9, 10, 11, 12, 13, 14, 15, 16, 17, 18, 19, 20], \"xaxis\": \"x\", \"y\": [22699.0, 42735.0, 55948.0, 65411.0, 89696.0, 106911.0, 123795.0, 136605.0, 150728.0, 165864.0, 173334.0, 184046.0, 198726.0, 227121.0, 260282.0, 314315.0, 379317.0, 461789.0, 473473.0], \"yaxis\": \"y\"}, {\"hoverlabel\": {\"namelength\": 0}, \"hovertemplate\": \"tool=snippy_NZ_NG941718.1<br>NB_OF_SAMPLES=%{x}<br>cumulative_nb_of_found_PanVar=%{y}\", \"legendgroup\": \"snippy_NZ_NG941718.1\", \"line\": {\"color\": \"rgba(255,0,0,0.3)\", \"dash\": \"solid\"}, \"mode\": \"lines\", \"name\": \"snippy_NZ_NG941718.1\", \"showlegend\": true, \"type\": \"scatter\", \"x\": [2, 3, 4, 5, 6, 7, 8, 9, 10, 11, 12, 13, 14, 15, 16, 17, 18, 19, 20], \"xaxis\": \"x\", \"y\": [23025.0, 43325.0, 56751.0, 66336.0, 90797.0, 108192.0, 125212.0, 138044.0, 152261.0, 167831.0, 175344.0, 186383.0, 201195.0, 229715.0, 263012.0, 317295.0, 382590.0, 465404.0, 477123.0], \"yaxis\": \"y\"}],\n",
       "                        {\"legend\": {\"title\": {\"text\": \"tool\"}, \"tracegroupgap\": 0}, \"margin\": {\"t\": 60}, \"template\": {\"data\": {\"bar\": [{\"error_x\": {\"color\": \"#2a3f5f\"}, \"error_y\": {\"color\": \"#2a3f5f\"}, \"marker\": {\"line\": {\"color\": \"#E5ECF6\", \"width\": 0.5}}, \"type\": \"bar\"}], \"barpolar\": [{\"marker\": {\"line\": {\"color\": \"#E5ECF6\", \"width\": 0.5}}, \"type\": \"barpolar\"}], \"carpet\": [{\"aaxis\": {\"endlinecolor\": \"#2a3f5f\", \"gridcolor\": \"white\", \"linecolor\": \"white\", \"minorgridcolor\": \"white\", \"startlinecolor\": \"#2a3f5f\"}, \"baxis\": {\"endlinecolor\": \"#2a3f5f\", \"gridcolor\": \"white\", \"linecolor\": \"white\", \"minorgridcolor\": \"white\", \"startlinecolor\": \"#2a3f5f\"}, \"type\": \"carpet\"}], \"choropleth\": [{\"colorbar\": {\"outlinewidth\": 0, \"ticks\": \"\"}, \"type\": \"choropleth\"}], \"contour\": [{\"colorbar\": {\"outlinewidth\": 0, \"ticks\": \"\"}, \"colorscale\": [[0.0, \"#0d0887\"], [0.1111111111111111, \"#46039f\"], [0.2222222222222222, \"#7201a8\"], [0.3333333333333333, \"#9c179e\"], [0.4444444444444444, \"#bd3786\"], [0.5555555555555556, \"#d8576b\"], [0.6666666666666666, \"#ed7953\"], [0.7777777777777778, \"#fb9f3a\"], [0.8888888888888888, \"#fdca26\"], [1.0, \"#f0f921\"]], \"type\": \"contour\"}], \"contourcarpet\": [{\"colorbar\": {\"outlinewidth\": 0, \"ticks\": \"\"}, \"type\": \"contourcarpet\"}], \"heatmap\": [{\"colorbar\": {\"outlinewidth\": 0, \"ticks\": \"\"}, \"colorscale\": [[0.0, \"#0d0887\"], [0.1111111111111111, \"#46039f\"], [0.2222222222222222, \"#7201a8\"], [0.3333333333333333, \"#9c179e\"], [0.4444444444444444, \"#bd3786\"], [0.5555555555555556, \"#d8576b\"], [0.6666666666666666, \"#ed7953\"], [0.7777777777777778, \"#fb9f3a\"], [0.8888888888888888, \"#fdca26\"], [1.0, \"#f0f921\"]], \"type\": \"heatmap\"}], \"heatmapgl\": [{\"colorbar\": {\"outlinewidth\": 0, \"ticks\": \"\"}, \"colorscale\": [[0.0, \"#0d0887\"], [0.1111111111111111, \"#46039f\"], [0.2222222222222222, \"#7201a8\"], [0.3333333333333333, \"#9c179e\"], [0.4444444444444444, \"#bd3786\"], [0.5555555555555556, \"#d8576b\"], [0.6666666666666666, \"#ed7953\"], [0.7777777777777778, \"#fb9f3a\"], [0.8888888888888888, \"#fdca26\"], [1.0, \"#f0f921\"]], \"type\": \"heatmapgl\"}], \"histogram\": [{\"marker\": {\"colorbar\": {\"outlinewidth\": 0, \"ticks\": \"\"}}, \"type\": \"histogram\"}], \"histogram2d\": [{\"colorbar\": {\"outlinewidth\": 0, \"ticks\": \"\"}, \"colorscale\": [[0.0, \"#0d0887\"], [0.1111111111111111, \"#46039f\"], [0.2222222222222222, \"#7201a8\"], [0.3333333333333333, \"#9c179e\"], [0.4444444444444444, \"#bd3786\"], [0.5555555555555556, \"#d8576b\"], [0.6666666666666666, \"#ed7953\"], [0.7777777777777778, \"#fb9f3a\"], [0.8888888888888888, \"#fdca26\"], [1.0, \"#f0f921\"]], \"type\": \"histogram2d\"}], \"histogram2dcontour\": [{\"colorbar\": {\"outlinewidth\": 0, \"ticks\": \"\"}, \"colorscale\": [[0.0, \"#0d0887\"], [0.1111111111111111, \"#46039f\"], [0.2222222222222222, \"#7201a8\"], [0.3333333333333333, \"#9c179e\"], [0.4444444444444444, \"#bd3786\"], [0.5555555555555556, \"#d8576b\"], [0.6666666666666666, \"#ed7953\"], [0.7777777777777778, \"#fb9f3a\"], [0.8888888888888888, \"#fdca26\"], [1.0, \"#f0f921\"]], \"type\": \"histogram2dcontour\"}], \"mesh3d\": [{\"colorbar\": {\"outlinewidth\": 0, \"ticks\": \"\"}, \"type\": \"mesh3d\"}], \"parcoords\": [{\"line\": {\"colorbar\": {\"outlinewidth\": 0, \"ticks\": \"\"}}, \"type\": \"parcoords\"}], \"pie\": [{\"automargin\": true, \"type\": \"pie\"}], \"scatter\": [{\"marker\": {\"colorbar\": {\"outlinewidth\": 0, \"ticks\": \"\"}}, \"type\": \"scatter\"}], \"scatter3d\": [{\"line\": {\"colorbar\": {\"outlinewidth\": 0, \"ticks\": \"\"}}, \"marker\": {\"colorbar\": {\"outlinewidth\": 0, \"ticks\": \"\"}}, \"type\": \"scatter3d\"}], \"scattercarpet\": [{\"marker\": {\"colorbar\": {\"outlinewidth\": 0, \"ticks\": \"\"}}, \"type\": \"scattercarpet\"}], \"scattergeo\": [{\"marker\": {\"colorbar\": {\"outlinewidth\": 0, \"ticks\": \"\"}}, \"type\": \"scattergeo\"}], \"scattergl\": [{\"marker\": {\"colorbar\": {\"outlinewidth\": 0, \"ticks\": \"\"}}, \"type\": \"scattergl\"}], \"scattermapbox\": [{\"marker\": {\"colorbar\": {\"outlinewidth\": 0, \"ticks\": \"\"}}, \"type\": \"scattermapbox\"}], \"scatterpolar\": [{\"marker\": {\"colorbar\": {\"outlinewidth\": 0, \"ticks\": \"\"}}, \"type\": \"scatterpolar\"}], \"scatterpolargl\": [{\"marker\": {\"colorbar\": {\"outlinewidth\": 0, \"ticks\": \"\"}}, \"type\": \"scatterpolargl\"}], \"scatterternary\": [{\"marker\": {\"colorbar\": {\"outlinewidth\": 0, \"ticks\": \"\"}}, \"type\": \"scatterternary\"}], \"surface\": [{\"colorbar\": {\"outlinewidth\": 0, \"ticks\": \"\"}, \"colorscale\": [[0.0, \"#0d0887\"], [0.1111111111111111, \"#46039f\"], [0.2222222222222222, \"#7201a8\"], [0.3333333333333333, \"#9c179e\"], [0.4444444444444444, \"#bd3786\"], [0.5555555555555556, \"#d8576b\"], [0.6666666666666666, \"#ed7953\"], [0.7777777777777778, \"#fb9f3a\"], [0.8888888888888888, \"#fdca26\"], [1.0, \"#f0f921\"]], \"type\": \"surface\"}], \"table\": [{\"cells\": {\"fill\": {\"color\": \"#EBF0F8\"}, \"line\": {\"color\": \"white\"}}, \"header\": {\"fill\": {\"color\": \"#C8D4E3\"}, \"line\": {\"color\": \"white\"}}, \"type\": \"table\"}]}, \"layout\": {\"annotationdefaults\": {\"arrowcolor\": \"#2a3f5f\", \"arrowhead\": 0, \"arrowwidth\": 1}, \"coloraxis\": {\"colorbar\": {\"outlinewidth\": 0, \"ticks\": \"\"}}, \"colorscale\": {\"diverging\": [[0, \"#8e0152\"], [0.1, \"#c51b7d\"], [0.2, \"#de77ae\"], [0.3, \"#f1b6da\"], [0.4, \"#fde0ef\"], [0.5, \"#f7f7f7\"], [0.6, \"#e6f5d0\"], [0.7, \"#b8e186\"], [0.8, \"#7fbc41\"], [0.9, \"#4d9221\"], [1, \"#276419\"]], \"sequential\": [[0.0, \"#0d0887\"], [0.1111111111111111, \"#46039f\"], [0.2222222222222222, \"#7201a8\"], [0.3333333333333333, \"#9c179e\"], [0.4444444444444444, \"#bd3786\"], [0.5555555555555556, \"#d8576b\"], [0.6666666666666666, \"#ed7953\"], [0.7777777777777778, \"#fb9f3a\"], [0.8888888888888888, \"#fdca26\"], [1.0, \"#f0f921\"]], \"sequentialminus\": [[0.0, \"#0d0887\"], [0.1111111111111111, \"#46039f\"], [0.2222222222222222, \"#7201a8\"], [0.3333333333333333, \"#9c179e\"], [0.4444444444444444, \"#bd3786\"], [0.5555555555555556, \"#d8576b\"], [0.6666666666666666, \"#ed7953\"], [0.7777777777777778, \"#fb9f3a\"], [0.8888888888888888, \"#fdca26\"], [1.0, \"#f0f921\"]]}, \"colorway\": [\"#636efa\", \"#EF553B\", \"#00cc96\", \"#ab63fa\", \"#FFA15A\", \"#19d3f3\", \"#FF6692\", \"#B6E880\", \"#FF97FF\", \"#FECB52\"], \"font\": {\"color\": \"#2a3f5f\"}, \"geo\": {\"bgcolor\": \"white\", \"lakecolor\": \"white\", \"landcolor\": \"#E5ECF6\", \"showlakes\": true, \"showland\": true, \"subunitcolor\": \"white\"}, \"hoverlabel\": {\"align\": \"left\"}, \"hovermode\": \"closest\", \"mapbox\": {\"style\": \"light\"}, \"paper_bgcolor\": \"white\", \"plot_bgcolor\": \"#E5ECF6\", \"polar\": {\"angularaxis\": {\"gridcolor\": \"white\", \"linecolor\": \"white\", \"ticks\": \"\"}, \"bgcolor\": \"#E5ECF6\", \"radialaxis\": {\"gridcolor\": \"white\", \"linecolor\": \"white\", \"ticks\": \"\"}}, \"scene\": {\"xaxis\": {\"backgroundcolor\": \"#E5ECF6\", \"gridcolor\": \"white\", \"gridwidth\": 2, \"linecolor\": \"white\", \"showbackground\": true, \"ticks\": \"\", \"zerolinecolor\": \"white\"}, \"yaxis\": {\"backgroundcolor\": \"#E5ECF6\", \"gridcolor\": \"white\", \"gridwidth\": 2, \"linecolor\": \"white\", \"showbackground\": true, \"ticks\": \"\", \"zerolinecolor\": \"white\"}, \"zaxis\": {\"backgroundcolor\": \"#E5ECF6\", \"gridcolor\": \"white\", \"gridwidth\": 2, \"linecolor\": \"white\", \"showbackground\": true, \"ticks\": \"\", \"zerolinecolor\": \"white\"}}, \"shapedefaults\": {\"line\": {\"color\": \"#2a3f5f\"}}, \"ternary\": {\"aaxis\": {\"gridcolor\": \"white\", \"linecolor\": \"white\", \"ticks\": \"\"}, \"baxis\": {\"gridcolor\": \"white\", \"linecolor\": \"white\", \"ticks\": \"\"}, \"bgcolor\": \"#E5ECF6\", \"caxis\": {\"gridcolor\": \"white\", \"linecolor\": \"white\", \"ticks\": \"\"}}, \"title\": {\"x\": 0.05}, \"xaxis\": {\"automargin\": true, \"gridcolor\": \"white\", \"linecolor\": \"white\", \"ticks\": \"\", \"title\": {\"standoff\": 15}, \"zerolinecolor\": \"white\", \"zerolinewidth\": 2}, \"yaxis\": {\"automargin\": true, \"gridcolor\": \"white\", \"linecolor\": \"white\", \"ticks\": \"\", \"title\": {\"standoff\": 15}, \"zerolinecolor\": \"white\", \"zerolinewidth\": 2}}}, \"xaxis\": {\"anchor\": \"y\", \"domain\": [0.0, 1.0], \"dtick\": 1, \"tick0\": 2, \"tickmode\": \"linear\", \"title\": {\"text\": \"Number of samples\"}}, \"yaxis\": {\"anchor\": \"x\", \"domain\": [0.0, 1.0], \"title\": {\"text\": \"Cumulative nb of Pangenome Variations Found\"}}},\n",
       "                        {\"responsive\": true}\n",
       "                    ).then(function(){\n",
       "                            \n",
       "var gd = document.getElementById('eb1964ad-697d-4c00-aafb-5c3bd7e12fed');\n",
       "var x = new MutationObserver(function (mutations, observer) {{\n",
       "        var display = window.getComputedStyle(gd).display;\n",
       "        if (!display || display === 'none') {{\n",
       "            console.log([gd, 'removed!']);\n",
       "            Plotly.purge(gd);\n",
       "            observer.disconnect();\n",
       "        }}\n",
       "}});\n",
       "\n",
       "// Listen for the removal of the full notebook cells\n",
       "var notebookContainer = gd.closest('#notebook-container');\n",
       "if (notebookContainer) {{\n",
       "    x.observe(notebookContainer, {childList: true});\n",
       "}}\n",
       "\n",
       "// Listen for the clearing of the current output cell\n",
       "var outputEl = gd.closest('.output');\n",
       "if (outputEl) {{\n",
       "    x.observe(outputEl, {childList: true});\n",
       "}}\n",
       "\n",
       "                        })\n",
       "                };\n",
       "                });\n",
       "            </script>\n",
       "        </div>"
      ]
     },
     "metadata": {},
     "output_type": "display_data"
    }
   ],
   "source": [
    "fig_absolute_cumulative = px.line(merged_data, x=\"NB_OF_SAMPLES\", y=\"cumulative_nb_of_found_PanVar\", color='tool', color_discrete_sequence=merged_data[\"colour\"])\n",
    "fig_absolute_cumulative.update_layout(\n",
    "    xaxis = dict(\n",
    "        tickmode = 'linear',\n",
    "        tick0 = 2,\n",
    "        dtick = 1\n",
    "    ),\n",
    "    yaxis_title=\"Cumulative nb of Pangenome Variations Found\",\n",
    "    xaxis_title=\"Number of samples\",\n",
    ")\n",
    "fig_absolute_cumulative"
   ]
  },
  {
   "cell_type": "markdown",
   "metadata": {},
   "source": [
    "# Debugging"
   ]
  },
  {
   "cell_type": "code",
   "execution_count": 12,
   "metadata": {},
   "outputs": [
    {
     "data": {
      "text/html": [
       "<div>\n",
       "<style scoped>\n",
       "    .dataframe tbody tr th:only-of-type {\n",
       "        vertical-align: middle;\n",
       "    }\n",
       "\n",
       "    .dataframe tbody tr th {\n",
       "        vertical-align: top;\n",
       "    }\n",
       "\n",
       "    .dataframe thead th {\n",
       "        text-align: right;\n",
       "    }\n",
       "</style>\n",
       "<table border=\"1\" class=\"dataframe\">\n",
       "  <thead>\n",
       "    <tr style=\"text-align: right;\">\n",
       "      <th></th>\n",
       "      <th>index</th>\n",
       "      <th>tool</th>\n",
       "      <th>recall_recomputed</th>\n",
       "    </tr>\n",
       "  </thead>\n",
       "  <tbody>\n",
       "  </tbody>\n",
       "</table>\n",
       "</div>"
      ],
      "text/plain": [
       "Empty DataFrame\n",
       "Columns: [index, tool, recall_recomputed]\n",
       "Index: []"
      ]
     },
     "execution_count": 12,
     "metadata": {},
     "output_type": "execute_result"
    }
   ],
   "source": [
    "tool_and_total_nb_of_found_PanVar = merged_data[merged_data.NB_OF_SAMPLES==24][[\"tool\", \"cumulative_nb_of_found_PanVar\"]]\n",
    "total_nb_of_panvariants = sum(id_and_number_of_samples_df_counted[\"total_nb_of_PanVar\"])\n",
    "tool_and_total_nb_of_found_PanVar[\"recall_recomputed\"] = tool_and_total_nb_of_found_PanVar[\"cumulative_nb_of_found_PanVar\"] / total_nb_of_panvariants\n",
    "tool_and_total_nb_of_found_PanVar = tool_and_total_nb_of_found_PanVar[[\"tool\", \"recall_recomputed\"]].reset_index()\n",
    "tool_and_total_nb_of_found_PanVar.sort_values(by=\"recall_recomputed\", ascending=False)"
   ]
  },
  {
   "cell_type": "markdown",
   "metadata": {},
   "source": [
    "# Publishing"
   ]
  },
  {
   "cell_type": "code",
   "execution_count": 13,
   "metadata": {},
   "outputs": [],
   "source": [
    "# import chart_studio.plotly as chart_studio\n",
    "# chart_studio.plot(fig_recall,\n",
    "#                   filename = 'pandora_and_snippy_recall_per_nb_samples_24_way_illumina_100x',\n",
    "#                   auto_open=True)\n",
    "# chart_studio.plot(fig_absolute,\n",
    "#                   filename = 'pandora_and_snippy_recall_per_nb_samples_24_way_illumina_100x_absolute',\n",
    "#                   auto_open=True)\n",
    "# chart_studio.plot(fig_absolute_cumulative,\n",
    "#                   filename = 'pandora_and_snippy_recall_per_nb_samples_24_way_illumina_100x_absolute_cumulative',\n",
    "#                   auto_open=True)"
   ]
  }
 ],
 "metadata": {
  "kernelspec": {
   "display_name": "Python 3",
   "language": "python",
   "name": "python3"
  },
  "language_info": {
   "codemirror_mode": {
    "name": "ipython",
    "version": 3
   },
   "file_extension": ".py",
   "mimetype": "text/x-python",
   "name": "python",
   "nbconvert_exporter": "python",
   "pygments_lexer": "ipython3",
   "version": "3.7.3"
  }
 },
 "nbformat": 4,
 "nbformat_minor": 4
}
