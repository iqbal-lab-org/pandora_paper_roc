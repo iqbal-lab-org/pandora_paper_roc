{
 "cells": [
  {
   "cell_type": "code",
   "execution_count": 193,
   "metadata": {
    "pycharm": {
     "is_executing": false
    }
   },
   "outputs": [],
   "source": [
    "from pathlib import Path\n",
    "import fileinput\n",
    "import pandas as pd"
   ]
  },
  {
   "cell_type": "markdown",
   "metadata": {},
   "source": [
    "Setup the configs for this analysis"
   ]
  },
  {
   "cell_type": "code",
   "execution_count": 194,
   "metadata": {},
   "outputs": [],
   "source": [
    "path_to_analysis_folder = Path(\"/home/leandro/git/pandora1_paper/cluster/analysis\")\n",
    "no_denovo_vcf = \"../cluster/data/hps/nobackup/research/zi/projects/pandora_paper/analysis/100x/filter/compare_no_denovo/pandora_multisample_genotyped.vcf\"\n",
    "with_denovo_vcf = \"../cluster/data/hps/nobackup/research/zi/projects/pandora_paper/analysis/100x/filter/compare_with_denovo/pandora_multisample_genotyped.vcf\"\n",
    "gene = \"GC00000027_7\"\n",
    "covg = \"100x\""
   ]
  },
  {
   "cell_type": "markdown",
   "metadata": {},
   "source": [
    "Get a set of all the truth probes that map to the gene in \"no_denovo\""
   ]
  },
  {
   "cell_type": "code",
   "execution_count": 195,
   "metadata": {
    "pycharm": {
     "is_executing": false,
     "name": "#%%\n"
    }
   },
   "outputs": [],
   "source": [
    "def get_reports(path_to_analysis_folder: Path, covg: str, with_denovo: bool) -> list:\n",
    "    denovo = \"with\" if with_denovo else \"no\"\n",
    "    report_dir = path_to_analysis_folder / \"recall/reports/\"\n",
    "    return list(report_dir.rglob(f\"*/{covg}/pandora_nanopore_filter_{denovo}_denovo/*.tsv\"))\n",
    "    "
   ]
  },
  {
   "cell_type": "code",
   "execution_count": 196,
   "metadata": {
    "pycharm": {
     "is_executing": false,
     "name": "#%%\n"
    }
   },
   "outputs": [],
   "source": [
    "reports = get_reports(path_to_analysis_folder, covg, with_denovo=False)"
   ]
  },
  {
   "cell_type": "code",
   "execution_count": 197,
   "metadata": {
    "pycharm": {
     "is_executing": false
    }
   },
   "outputs": [],
   "source": [
    "no_denovo_probes_map_to_gene = set()\n",
    "with fileinput.input(reports) as fh:\n",
    "    for line in fh:\n",
    "        if gene in line:\n",
    "            line_split = line.split(\"\\t\")\n",
    "            truth_probe_header = line_split[1]\n",
    "            no_denovo_probes_map_to_gene.add(truth_probe_header)\n",
    "            "
   ]
  },
  {
   "cell_type": "markdown",
   "metadata": {
    "pycharm": {
     "is_executing": false,
     "name": "#%% md\n"
    }
   },
   "source": [
    "Lets take a look at what variant probes these truth probes do/dont map to for \"with_denovo\"\n"
   ]
  },
  {
   "cell_type": "code",
   "execution_count": 198,
   "metadata": {
    "pycharm": {
     "is_executing": false,
     "name": "#%%\n"
    }
   },
   "outputs": [],
   "source": [
    "with_denovo_reports = get_reports(path_to_analysis_folder, covg, with_denovo=True)"
   ]
  },
  {
   "cell_type": "code",
   "execution_count": 199,
   "metadata": {
    "pycharm": {
     "is_executing": false,
     "name": "#%%\n"
    }
   },
   "outputs": [],
   "source": [
    "df = pd.concat([pd.read_csv(p, sep=\"\\t\") for p in with_denovo_reports])"
   ]
  },
  {
   "cell_type": "code",
   "execution_count": 200,
   "metadata": {
    "pycharm": {
     "is_executing": false,
     "name": "#%%\n"
    }
   },
   "outputs": [
    {
     "data": {
      "text/plain": [
       "712"
      ]
     },
     "execution_count": 200,
     "metadata": {},
     "output_type": "execute_result"
    }
   ],
   "source": [
    "probes_of_interest = df.loc[df['query_probe_header'].isin(no_denovo_probes_map_to_gene)]\n",
    "len(probes_of_interest)"
   ]
  },
  {
   "cell_type": "code",
   "execution_count": 201,
   "metadata": {
    "pycharm": {
     "is_executing": false,
     "name": "#%% \n"
    }
   },
   "outputs": [
    {
     "name": "stdout",
     "output_type": "stream",
     "text": [
      "Classification of truth probes in denovo (these truth probes map to the gene in no_denovo)\n"
     ]
    },
    {
     "data": {
      "text/plain": [
       "Counter({'primary_correct': 349, 'unmapped': 353, 'primary_incorrect': 10})"
      ]
     },
     "execution_count": 201,
     "metadata": {},
     "output_type": "execute_result"
    }
   ],
   "source": [
    "from collections import Counter\n",
    "\n",
    "print(\"Classification of truth probes in denovo (these truth probes map to the gene in no_denovo)\")\n",
    "\n",
    "Counter(probes_of_interest[\"classification\"])\n",
    "\n"
   ]
  },
  {
   "cell_type": "markdown",
   "metadata": {
    "pycharm": {
     "name": "#%% md\n"
    }
   },
   "source": [
    "We have a good amount of truth probes that maps to the gene in \"no_denovo\" and are unmapped in denovo (given that the delta=522, this should be the main issue)\n"
   ]
  },
  {
   "cell_type": "code",
   "execution_count": 202,
   "metadata": {
    "pycharm": {
     "is_executing": false,
     "name": "#%%\n"
    },
    "scrolled": true
   },
   "outputs": [
    {
     "data": {
      "text/plain": [
       "325"
      ]
     },
     "execution_count": 202,
     "metadata": {},
     "output_type": "execute_result"
    }
   ],
   "source": [
    "with_denovo_probes_map_to_gene = set()\n",
    "with fileinput.input(with_denovo_reports) as fh:\n",
    "    for line in fh:\n",
    "        if gene in line:\n",
    "            truth_probe_header = line.split(\"\\t\")[1]\n",
    "            with_denovo_probes_map_to_gene.add(truth_probe_header)\n",
    "len(with_denovo_probes_map_to_gene)"
   ]
  },
  {
   "cell_type": "markdown",
   "metadata": {
    "pycharm": {
     "name": "#%% md\n"
    }
   },
   "source": [
    "TODO: plugin edit distance computation automatically here?\n",
    "\n",
    "Edit distance for the 5 worst denovo genes right now (computed externally):\n",
    "\n",
    "Gene: GC00000191_6, ED = 141, Prop ED = 0.037183544303797465\n",
    "\n",
    "Gene: GC00000558_1, ED = 80, Prop ED = 0.032089851584436425\n",
    "\n",
    "Gene: GC00003150, ED = 47, Prop ED = 0.031522468142186455\n",
    "\n",
    "Gene: GC00000027_7, ED = 82, Prop ED = 0.019303201506591337\n",
    "\n",
    "Gene: GC00003295_10, ED = 1657, Prop ED = 0.3118765292678336"
   ]
  },
  {
   "cell_type": "code",
   "execution_count": 203,
   "metadata": {
    "pycharm": {
     "is_executing": false,
     "name": "#%%\n"
    }
   },
   "outputs": [],
   "source": [
    "import allel\n",
    "\n"
   ]
  },
  {
   "cell_type": "code",
   "execution_count": 204,
   "metadata": {
    "pycharm": {
     "is_executing": false,
     "name": "#%%\n"
    }
   },
   "outputs": [],
   "source": [
    "vcf_fields = [\"calldata/GT\", \"samples\", \"variants/CHROM\", \"variants/POS\", ]"
   ]
  },
  {
   "cell_type": "code",
   "execution_count": 205,
   "metadata": {
    "pycharm": {
     "is_executing": false,
     "name": "#%%\n"
    }
   },
   "outputs": [
    {
     "data": {
      "text/plain": [
       "['calldata/GT', 'samples', 'variants/CHROM', 'variants/POS']"
      ]
     },
     "execution_count": 205,
     "metadata": {},
     "output_type": "execute_result"
    }
   ],
   "source": [
    "no_denovo_callset = allel.read_vcf(no_denovo_vcf, fields=vcf_fields, region=gene)\n",
    "sorted(no_denovo_callset.keys())"
   ]
  },
  {
   "cell_type": "code",
   "execution_count": 206,
   "metadata": {
    "pycharm": {
     "is_executing": false,
     "name": "#%%\n"
    }
   },
   "outputs": [],
   "source": [
    "with_denovo_callset = allel.read_vcf(with_denovo_vcf, fields=vcf_fields, region=gene)"
   ]
  },
  {
   "cell_type": "code",
   "execution_count": 207,
   "metadata": {
    "pycharm": {
     "is_executing": false,
     "name": "#%%\n"
    }
   },
   "outputs": [],
   "source": [
    "no_denovo_gt = allel.GenotypeArray(no_denovo_callset['calldata/GT'])\n",
    "with_denovo_gt = allel.GenotypeArray(with_denovo_callset['calldata/GT'])"
   ]
  },
  {
   "cell_type": "code",
   "execution_count": 208,
   "metadata": {
    "pycharm": {
     "is_executing": false,
     "name": "#%%\n"
    }
   },
   "outputs": [
    {
     "name": "stdout",
     "output_type": "stream",
     "text": [
      "Counter({0: 357, -1: 188, 1: 118, 2: 7, 3: 3, 4: 2, 5: 1})\n"
     ]
    }
   ],
   "source": [
    "no_denovo_haploid_calls = []\n",
    "for a in no_denovo_gt:\n",
    "    no_denovo_haploid_calls.extend([x[0] for x in a])\n",
    "\n",
    "print(Counter(no_denovo_haploid_calls))"
   ]
  },
  {
   "cell_type": "code",
   "execution_count": 209,
   "metadata": {
    "pycharm": {
     "is_executing": false,
     "name": "#%%\n"
    }
   },
   "outputs": [
    {
     "name": "stdout",
     "output_type": "stream",
     "text": [
      "Counter({0: 227, -1: 111, 1: 44, 2: 3, 4: 3})\n"
     ]
    }
   ],
   "source": [
    "with_denovo_haploid_calls = []\n",
    "for a in with_denovo_gt:\n",
    "    with_denovo_haploid_calls.extend([x[0] for x in a])\n",
    "\n",
    "print(Counter(with_denovo_haploid_calls))"
   ]
  },
  {
   "cell_type": "code",
   "execution_count": 210,
   "metadata": {
    "pycharm": {
     "is_executing": false,
     "name": "#%%\n"
    }
   },
   "outputs": [],
   "source": [
    "import seaborn as sns\n",
    "import matplotlib.pyplot as plt\n"
   ]
  },
  {
   "cell_type": "code",
   "execution_count": 211,
   "metadata": {
    "pycharm": {
     "is_executing": false,
     "name": "#%%\n"
    }
   },
   "outputs": [
    {
     "data": {
      "text/plain": [
       "<matplotlib.axes._subplots.AxesSubplot at 0x7f3d14f90f60>"
      ]
     },
     "execution_count": 211,
     "metadata": {},
     "output_type": "execute_result"
    },
    {
     "data": {
      "image/png": "[encoded data removed]",
      "text/plain": [
       "<Figure size 936x576 with 1 Axes>"
      ]
     },
     "metadata": {
      "needs_background": "light"
     },
     "output_type": "display_data"
    }
   ],
   "source": [
    "fig, ax = plt.subplots(figsize=(13,8))\n",
    "sns.distplot(no_denovo_haploid_calls, ax=ax, label=\"no_denovo\", kde=False)\n",
    "sns.distplot(with_denovo_haploid_calls, ax=ax, label=\"with_denovo\", kde=False)"
   ]
  }
 ],
 "metadata": {
  "kernelspec": {
   "display_name": "Python 3",
   "language": "python",
   "name": "python3"
  },
  "language_info": {
   "codemirror_mode": {
    "name": "ipython",
    "version": 3
   },
   "file_extension": ".py",
   "mimetype": "text/x-python",
   "name": "python",
   "nbconvert_exporter": "python",
   "pygments_lexer": "ipython3",
   "version": "3.7.3"
  },
  "pycharm": {
   "stem_cell": {
    "cell_type": "raw",
    "metadata": {
     "collapsed": false
    },
    "source": []
   }
  }
 },
 "nbformat": 4,
 "nbformat_minor": 2
}
