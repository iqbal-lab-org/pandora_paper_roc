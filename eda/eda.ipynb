{
 "cells": [
  {
   "cell_type": "code",
   "execution_count": 1,
   "metadata": {
    "pycharm": {
     "is_executing": false
    }
   },
   "outputs": [],
   "source": [
    "from pathlib import Path\n",
    "import fileinput\n",
    "import pandas as pd"
   ]
  },
  {
   "cell_type": "markdown",
   "metadata": {},
   "source": [
    "Get a set of all the truth probes that map to GC00002360 in \"no_denovo\""
   ]
  },
  {
   "cell_type": "code",
   "execution_count": 2,
   "outputs": [],
   "source": [
    "def get_reports(covg: str, with_denovo: bool) -> list:\n",
    "    denovo = \"with\" if with_denovo else \"no\"\n",
    "    report_dir = Path(\"reports/\")\n",
    "    return list(report_dir.rglob(f\"*/{covg}/pandora_nanopore_filter_{denovo}_denovo/*.tsv\"))\n",
    "    "
   ],
   "metadata": {
    "collapsed": false,
    "pycharm": {
     "name": "#%%\n",
     "is_executing": false
    }
   }
  },
  {
   "cell_type": "code",
   "execution_count": 3,
   "outputs": [],
   "source": [
    "gene = \"GC00002360\"\n",
    "covg = \"100x\"\n",
    "reports = get_reports(covg, with_denovo=False)"
   ],
   "metadata": {
    "collapsed": false,
    "pycharm": {
     "name": "#%%\n",
     "is_executing": false
    }
   }
  },
  {
   "cell_type": "code",
   "execution_count": 4,
   "metadata": {
    "pycharm": {
     "is_executing": false
    }
   },
   "outputs": [],
   "source": [
    "no_denovo_probes_map_to_gene = set()\n",
    "with fileinput.input(reports) as fh:\n",
    "    for line in fh:\n",
    "        if gene in line:\n",
    "            truth_probe_header = line.split(\"\\t\")[1]\n",
    "            no_denovo_probes_map_to_gene.add(truth_probe_header)\n",
    "            "
   ]
  },
  {
   "cell_type": "markdown",
   "metadata": {
    "pycharm": {
     "is_executing": false,
     "name": "#%% md\n"
    }
   },
   "source": [
    "Lets take a look at what variant probes these truth probes do/dont map to for \"with_denovo\"\n"
   ]
  },
  {
   "cell_type": "code",
   "execution_count": 5,
   "metadata": {
    "pycharm": {
     "name": "#%%\n",
     "is_executing": false
    }
   },
   "outputs": [],
   "source": [
    "with_denovo_reports = get_reports(covg, with_denovo=True)"
   ]
  },
  {
   "cell_type": "code",
   "execution_count": 6,
   "outputs": [],
   "source": [
    "df = pd.concat([pd.read_csv(p, sep=\"\\t\") for p in with_denovo_reports])"
   ],
   "metadata": {
    "collapsed": false,
    "pycharm": {
     "name": "#%%\n",
     "is_executing": false
    }
   }
  },
  {
   "cell_type": "code",
   "execution_count": 7,
   "outputs": [
    {
     "data": {
      "text/plain": "890"
     },
     "metadata": {},
     "output_type": "execute_result",
     "execution_count": 7
    }
   ],
   "source": [
    "probes_of_interest = df.loc[df['query_probe_header'].isin(no_denovo_probes_map_to_gene)]\n",
    "len(probes_of_interest)"
   ],
   "metadata": {
    "collapsed": false,
    "pycharm": {
     "name": "#%%\n",
     "is_executing": false
    }
   }
  },
  {
   "cell_type": "code",
   "source": [
    "from collections import Counter\n",
    "Counter(probes_of_interest[\"classification\"])\n",
    "\n"
   ],
   "metadata": {
    "collapsed": false,
    "pycharm": {
     "name": "#%% \n",
     "is_executing": false
    }
   },
   "execution_count": 8,
   "outputs": [
    {
     "data": {
      "text/plain": "Counter({'unmapped': 890})"
     },
     "metadata": {},
     "output_type": "execute_result",
     "execution_count": 8
    }
   ]
  },
  {
   "cell_type": "markdown",
   "source": [
    "So it appears that **every** truth probe that maps to GC00002360 in \"no_denovo\" is unmapped in \"with_denovo\"!  \n",
    "Lets look at how many truth probes map to GC00002360 in \"with_denovo\""
   ],
   "metadata": {
    "collapsed": false,
    "pycharm": {
     "name": "#%% md\n"
    }
   }
  },
  {
   "cell_type": "code",
   "execution_count": 9,
   "outputs": [
    {
     "data": {
      "text/plain": "0"
     },
     "metadata": {},
     "output_type": "execute_result",
     "execution_count": 9
    }
   ],
   "source": [
    "with_denovo_probes_map_to_gene = set()\n",
    "with fileinput.input(with_denovo_reports) as fh:\n",
    "    for line in fh:\n",
    "        if gene in line:\n",
    "            truth_probe_header = line.split(\"\\t\")[1]\n",
    "            with_denovo_probes_map_to_gene.add(truth_probe_header)\n",
    "len(with_denovo_probes_map_to_gene)"
   ],
   "metadata": {
    "collapsed": false,
    "pycharm": {
     "name": "#%%\n",
     "is_executing": false
    }
   }
  },
  {
   "cell_type": "markdown",
   "source": [
    "In a separate analysis, I have found that there is an edit distance of 36 between the VCF references for this gene in no_denovo and with_denovo.\n",
    "\n",
    "The next thing to try is to look at how different the VCF records relating to this gene are for both methods.\n",
    "\n",
    "\n"
   ],
   "metadata": {
    "collapsed": false,
    "pycharm": {
     "name": "#%% md\n"
    }
   }
  },
  {
   "cell_type": "code",
   "execution_count": 10,
   "outputs": [],
   "source": [
    "import allel\n",
    "\n"
   ],
   "metadata": {
    "collapsed": false,
    "pycharm": {
     "name": "#%%\n",
     "is_executing": false
    }
   }
  },
  {
   "cell_type": "code",
   "execution_count": 11,
   "outputs": [],
   "source": [
    "no_denovo_vcf = \"analysis/100x/filter/compare_no_denovo/pandora_multisample_genotyped.vcf\"\n",
    "with_denovo_vcf = \"analysis/100x/filter/compare_with_denovo/pandora_multisample_genotyped.vcf\"\n",
    "vcf_fields = [\"calldata/GT\", \"samples\", \"variants/CHROM\", \"variants/POS\", ]"
   ],
   "metadata": {
    "collapsed": false,
    "pycharm": {
     "name": "#%%\n",
     "is_executing": false
    }
   }
  },
  {
   "cell_type": "code",
   "execution_count": 18,
   "outputs": [
    {
     "name": "stderr",
     "text": [
      "/home/michael/.local/share/virtualenvs/pandora1_paper-0BSWecqc/lib/python3.6/site-packages/allel/io/vcf_read.py:1257: UserWarning: 'GT' FORMAT header not found\n  warnings.warn('%r FORMAT header not found' % name)\n"
     ],
     "output_type": "stream"
    },
    {
     "data": {
      "text/plain": "['calldata/GT', 'samples', 'variants/CHROM', 'variants/POS']"
     },
     "metadata": {},
     "output_type": "execute_result",
     "execution_count": 18
    }
   ],
   "source": [
    "no_denovo_callset = allel.read_vcf(no_denovo_vcf, fields=vcf_fields, region=gene)\n",
    "sorted(no_denovo_callset.keys())"
   ],
   "metadata": {
    "collapsed": false,
    "pycharm": {
     "name": "#%%\n",
     "is_executing": false
    }
   }
  },
  {
   "cell_type": "code",
   "execution_count": 19,
   "outputs": [],
   "source": [
    "with_denovo_callset = allel.read_vcf(with_denovo_vcf, fields=vcf_fields, region=gene)"
   ],
   "metadata": {
    "collapsed": false,
    "pycharm": {
     "name": "#%%\n",
     "is_executing": false
    }
   }
  },
  {
   "cell_type": "code",
   "source": [
    "no_denovo_gt = allel.GenotypeArray(no_denovo_callset['calldata/GT'])\n",
    "with_denovo_gt = allel.GenotypeArray(with_denovo_callset['calldata/GT'])"
   ],
   "metadata": {
    "collapsed": false,
    "pycharm": {
     "name": "#%%\n",
     "is_executing": false
    }
   },
   "execution_count": 20,
   "outputs": []
  },
  {
   "cell_type": "code",
   "source": [
    "no_denovo_haploid_calls = []\n",
    "for a in no_denovo_gt:\n",
    "    no_denovo_haploid_calls.extend([x[0] for x in a])\n",
    "\n",
    "print(Counter(no_denovo_haploid_calls))"
   ],
   "metadata": {
    "collapsed": false,
    "pycharm": {
     "name": "#%%\n",
     "is_executing": false
    }
   },
   "execution_count": 33,
   "outputs": [
    {
     "name": "stdout",
     "text": [
      "Counter({0: 762, 1: 94, -1: 87, 2: 46, 3: 9, 4: 4, 12: 1, 7: 1})\n"
     ],
     "output_type": "stream"
    }
   ]
  },
  {
   "cell_type": "code",
   "source": [
    "with_denovo_haploid_calls = []\n",
    "for a in with_denovo_gt:\n",
    "    with_denovo_haploid_calls.extend([x[0] for x in a])\n",
    "\n",
    "print(Counter(with_denovo_haploid_calls))"
   ],
   "metadata": {
    "collapsed": false,
    "pycharm": {
     "name": "#%%\n",
     "is_executing": false
    }
   },
   "execution_count": 34,
   "outputs": [
    {
     "name": "stdout",
     "text": [
      "Counter({-1: 1028, 1: 3, 0: 1})\n"
     ],
     "output_type": "stream"
    }
   ]
  },
  {
   "cell_type": "markdown",
   "source": [
    "So it looks like the problem here is that \"with_denovo\" has nearly all null calls for this gene, whereas \"no_denovo\" has lots of non-null calls\n"
   ],
   "metadata": {
    "collapsed": false,
    "pycharm": {
     "name": "#%% md\n"
    }
   }
  },
  {
   "cell_type": "code",
   "execution_count": 32,
   "outputs": [],
   "source": [
    "import seaborn as sns\n",
    "import matplotlib.pyplot as plt\n"
   ],
   "metadata": {
    "collapsed": false,
    "pycharm": {
     "name": "#%%\n",
     "is_executing": false
    }
   }
  },
  {
   "cell_type": "code",
   "execution_count": 41,
   "outputs": [
    {
     "data": {
      "text/plain": "<matplotlib.axes._subplots.AxesSubplot at 0x7fb2369282b0>"
     },
     "metadata": {},
     "output_type": "execute_result",
     "execution_count": 41
    },
    {
     "data": {
      "text/plain": "<Figure size 936x576 with 1 Axes>",
      "image/png": "[encoded data removed]"
     },
     "metadata": {
      "needs_background": "light"
     },
     "output_type": "display_data"
    }
   ],
   "source": [
    "fig, ax = plt.subplots(figsize=(13,8))\n",
    "sns.distplot(no_denovo_haploid_calls, ax=ax, label=\"no_denovo\", kde=False)\n",
    "sns.distplot(with_denovo_haploid_calls, ax=ax, label=\"with_denovo\", kde=False)"
   ],
   "metadata": {
    "collapsed": false,
    "pycharm": {
     "name": "#%%\n",
     "is_executing": false
    }
   }
  },
  {
   "cell_type": "code",
   "execution_count": null,
   "outputs": [],
   "source": [
    "\n"
   ],
   "metadata": {
    "collapsed": false,
    "pycharm": {
     "name": "#%%\n"
    }
   }
  }
 ],
 "metadata": {
  "kernelspec": {
   "display_name": "Python 3",
   "language": "python",
   "name": "python3"
  },
  "language_info": {
   "codemirror_mode": {
    "name": "ipython",
    "version": 3
   },
   "file_extension": ".py",
   "mimetype": "text/x-python",
   "name": "python",
   "nbconvert_exporter": "python",
   "pygments_lexer": "ipython3",
   "version": "3.7.4"
  },
  "pycharm": {
   "stem_cell": {
    "cell_type": "raw",
    "source": [],
    "metadata": {
     "collapsed": false
    }
   }
  }
 },
 "nbformat": 4,
 "nbformat_minor": 2
}