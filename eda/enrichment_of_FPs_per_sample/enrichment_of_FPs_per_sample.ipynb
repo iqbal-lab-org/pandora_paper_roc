{
 "cells": [
  {
   "cell_type": "code",
   "execution_count": 4,
   "metadata": {},
   "outputs": [],
   "source": [
    "import pandas as pd\n",
    "import plotly.express as px"
   ]
  },
  {
   "cell_type": "code",
   "execution_count": 5,
   "metadata": {},
   "outputs": [
    {
     "data": {
      "text/html": [
       "<div>\n",
       "<style scoped>\n",
       "    .dataframe tbody tr th:only-of-type {\n",
       "        vertical-align: middle;\n",
       "    }\n",
       "\n",
       "    .dataframe tbody tr th {\n",
       "        vertical-align: top;\n",
       "    }\n",
       "\n",
       "    .dataframe thead th {\n",
       "        text-align: right;\n",
       "    }\n",
       "</style>\n",
       "<table border=\"1\" class=\"dataframe\">\n",
       "  <thead>\n",
       "    <tr style=\"text-align: right;\">\n",
       "      <th></th>\n",
       "      <th>GT</th>\n",
       "      <th>step_GT</th>\n",
       "      <th>precision</th>\n",
       "      <th>error_rate</th>\n",
       "      <th>nb_of_correct_calls</th>\n",
       "      <th>nb_of_total_calls</th>\n",
       "      <th>sample</th>\n",
       "      <th>tool</th>\n",
       "      <th>coverage</th>\n",
       "      <th>coverage_threshold</th>\n",
       "      <th>strand_bias_threshold</th>\n",
       "      <th>gaps_threshold</th>\n",
       "    </tr>\n",
       "  </thead>\n",
       "  <tbody>\n",
       "    <tr>\n",
       "      <th>0</th>\n",
       "      <td>0</td>\n",
       "      <td>0</td>\n",
       "      <td>0.993780</td>\n",
       "      <td>0.006220</td>\n",
       "      <td>171597.006918</td>\n",
       "      <td>172671.0</td>\n",
       "      <td>063_STEC</td>\n",
       "      <td>pandora_illumina_nodenovo_global_genotyping</td>\n",
       "      <td>100x</td>\n",
       "      <td>0</td>\n",
       "      <td>0.0</td>\n",
       "      <td>1.0</td>\n",
       "    </tr>\n",
       "    <tr>\n",
       "      <th>1</th>\n",
       "      <td>0</td>\n",
       "      <td>0</td>\n",
       "      <td>0.993517</td>\n",
       "      <td>0.006483</td>\n",
       "      <td>183192.596787</td>\n",
       "      <td>184388.0</td>\n",
       "      <td>CFT073</td>\n",
       "      <td>pandora_illumina_nodenovo_global_genotyping</td>\n",
       "      <td>100x</td>\n",
       "      <td>0</td>\n",
       "      <td>0.0</td>\n",
       "      <td>1.0</td>\n",
       "    </tr>\n",
       "    <tr>\n",
       "      <th>2</th>\n",
       "      <td>0</td>\n",
       "      <td>0</td>\n",
       "      <td>0.993978</td>\n",
       "      <td>0.006022</td>\n",
       "      <td>196366.246296</td>\n",
       "      <td>197556.0</td>\n",
       "      <td>Escherichia_coli_MINF_1A</td>\n",
       "      <td>pandora_illumina_nodenovo_global_genotyping</td>\n",
       "      <td>100x</td>\n",
       "      <td>0</td>\n",
       "      <td>0.0</td>\n",
       "      <td>1.0</td>\n",
       "    </tr>\n",
       "    <tr>\n",
       "      <th>3</th>\n",
       "      <td>0</td>\n",
       "      <td>0</td>\n",
       "      <td>0.993244</td>\n",
       "      <td>0.006756</td>\n",
       "      <td>186877.819574</td>\n",
       "      <td>188149.0</td>\n",
       "      <td>Escherichia_coli_MINF_1D</td>\n",
       "      <td>pandora_illumina_nodenovo_global_genotyping</td>\n",
       "      <td>100x</td>\n",
       "      <td>0</td>\n",
       "      <td>0.0</td>\n",
       "      <td>1.0</td>\n",
       "    </tr>\n",
       "    <tr>\n",
       "      <th>4</th>\n",
       "      <td>0</td>\n",
       "      <td>0</td>\n",
       "      <td>0.994011</td>\n",
       "      <td>0.005989</td>\n",
       "      <td>196300.356313</td>\n",
       "      <td>197483.0</td>\n",
       "      <td>Escherichia_coli_MINF_2E</td>\n",
       "      <td>pandora_illumina_nodenovo_global_genotyping</td>\n",
       "      <td>100x</td>\n",
       "      <td>0</td>\n",
       "      <td>0.0</td>\n",
       "      <td>1.0</td>\n",
       "    </tr>\n",
       "    <tr>\n",
       "      <th>...</th>\n",
       "      <td>...</td>\n",
       "      <td>...</td>\n",
       "      <td>...</td>\n",
       "      <td>...</td>\n",
       "      <td>...</td>\n",
       "      <td>...</td>\n",
       "      <td>...</td>\n",
       "      <td>...</td>\n",
       "      <td>...</td>\n",
       "      <td>...</td>\n",
       "      <td>...</td>\n",
       "      <td>...</td>\n",
       "    </tr>\n",
       "    <tr>\n",
       "      <th>643</th>\n",
       "      <td>0</td>\n",
       "      <td>0</td>\n",
       "      <td>0.999767</td>\n",
       "      <td>0.000233</td>\n",
       "      <td>82636.750000</td>\n",
       "      <td>82656.0</td>\n",
       "      <td>Escherichia_coli_MSB1_9D</td>\n",
       "      <td>snippy_NZ_NG941718.1</td>\n",
       "      <td>100x</td>\n",
       "      <td>0</td>\n",
       "      <td>Not_App</td>\n",
       "      <td>Not_App</td>\n",
       "    </tr>\n",
       "    <tr>\n",
       "      <th>644</th>\n",
       "      <td>0</td>\n",
       "      <td>0</td>\n",
       "      <td>0.999636</td>\n",
       "      <td>0.000364</td>\n",
       "      <td>78671.380952</td>\n",
       "      <td>78700.0</td>\n",
       "      <td>Escherichia_coli_MSB1_9I</td>\n",
       "      <td>snippy_NZ_NG941718.1</td>\n",
       "      <td>100x</td>\n",
       "      <td>0</td>\n",
       "      <td>Not_App</td>\n",
       "      <td>Not_App</td>\n",
       "    </tr>\n",
       "    <tr>\n",
       "      <th>645</th>\n",
       "      <td>0</td>\n",
       "      <td>0</td>\n",
       "      <td>0.999627</td>\n",
       "      <td>0.000373</td>\n",
       "      <td>42482.166667</td>\n",
       "      <td>42498.0</td>\n",
       "      <td>Escherichia_coli_MSB2_1A</td>\n",
       "      <td>snippy_NZ_NG941718.1</td>\n",
       "      <td>100x</td>\n",
       "      <td>0</td>\n",
       "      <td>Not_App</td>\n",
       "      <td>Not_App</td>\n",
       "    </tr>\n",
       "    <tr>\n",
       "      <th>646</th>\n",
       "      <td>0</td>\n",
       "      <td>0</td>\n",
       "      <td>0.999882</td>\n",
       "      <td>0.000118</td>\n",
       "      <td>79123.666667</td>\n",
       "      <td>79133.0</td>\n",
       "      <td>H131800734</td>\n",
       "      <td>snippy_NZ_NG941718.1</td>\n",
       "      <td>100x</td>\n",
       "      <td>0</td>\n",
       "      <td>Not_App</td>\n",
       "      <td>Not_App</td>\n",
       "    </tr>\n",
       "    <tr>\n",
       "      <th>647</th>\n",
       "      <td>0</td>\n",
       "      <td>0</td>\n",
       "      <td>0.999736</td>\n",
       "      <td>0.000264</td>\n",
       "      <td>81054.600000</td>\n",
       "      <td>81076.0</td>\n",
       "      <td>ST38</td>\n",
       "      <td>snippy_NZ_NG941718.1</td>\n",
       "      <td>100x</td>\n",
       "      <td>0</td>\n",
       "      <td>Not_App</td>\n",
       "      <td>Not_App</td>\n",
       "    </tr>\n",
       "  </tbody>\n",
       "</table>\n",
       "<p>648 rows × 12 columns</p>\n",
       "</div>"
      ],
      "text/plain": [
       "     GT  step_GT  precision  error_rate  nb_of_correct_calls  \\\n",
       "0     0        0   0.993780    0.006220        171597.006918   \n",
       "1     0        0   0.993517    0.006483        183192.596787   \n",
       "2     0        0   0.993978    0.006022        196366.246296   \n",
       "3     0        0   0.993244    0.006756        186877.819574   \n",
       "4     0        0   0.994011    0.005989        196300.356313   \n",
       "..   ..      ...        ...         ...                  ...   \n",
       "643   0        0   0.999767    0.000233         82636.750000   \n",
       "644   0        0   0.999636    0.000364         78671.380952   \n",
       "645   0        0   0.999627    0.000373         42482.166667   \n",
       "646   0        0   0.999882    0.000118         79123.666667   \n",
       "647   0        0   0.999736    0.000264         81054.600000   \n",
       "\n",
       "     nb_of_total_calls                    sample  \\\n",
       "0             172671.0                  063_STEC   \n",
       "1             184388.0                    CFT073   \n",
       "2             197556.0  Escherichia_coli_MINF_1A   \n",
       "3             188149.0  Escherichia_coli_MINF_1D   \n",
       "4             197483.0  Escherichia_coli_MINF_2E   \n",
       "..                 ...                       ...   \n",
       "643            82656.0  Escherichia_coli_MSB1_9D   \n",
       "644            78700.0  Escherichia_coli_MSB1_9I   \n",
       "645            42498.0  Escherichia_coli_MSB2_1A   \n",
       "646            79133.0                H131800734   \n",
       "647            81076.0                      ST38   \n",
       "\n",
       "                                            tool coverage  coverage_threshold  \\\n",
       "0    pandora_illumina_nodenovo_global_genotyping     100x                   0   \n",
       "1    pandora_illumina_nodenovo_global_genotyping     100x                   0   \n",
       "2    pandora_illumina_nodenovo_global_genotyping     100x                   0   \n",
       "3    pandora_illumina_nodenovo_global_genotyping     100x                   0   \n",
       "4    pandora_illumina_nodenovo_global_genotyping     100x                   0   \n",
       "..                                           ...      ...                 ...   \n",
       "643                         snippy_NZ_NG941718.1     100x                   0   \n",
       "644                         snippy_NZ_NG941718.1     100x                   0   \n",
       "645                         snippy_NZ_NG941718.1     100x                   0   \n",
       "646                         snippy_NZ_NG941718.1     100x                   0   \n",
       "647                         snippy_NZ_NG941718.1     100x                   0   \n",
       "\n",
       "    strand_bias_threshold gaps_threshold  \n",
       "0                     0.0            1.0  \n",
       "1                     0.0            1.0  \n",
       "2                     0.0            1.0  \n",
       "3                     0.0            1.0  \n",
       "4                     0.0            1.0  \n",
       "..                    ...            ...  \n",
       "643               Not_App        Not_App  \n",
       "644               Not_App        Not_App  \n",
       "645               Not_App        Not_App  \n",
       "646               Not_App        Not_App  \n",
       "647               Not_App        Not_App  \n",
       "\n",
       "[648 rows x 12 columns]"
      ]
     },
     "execution_count": 5,
     "metadata": {},
     "output_type": "execute_result"
    }
   ],
   "source": [
    "precision_per_sample = pd.read_csv(\"precision_per_sample.tsv\", sep=\"\\t\")\n",
    "precision_per_sample"
   ]
  },
  {
   "cell_type": "code",
   "execution_count": 6,
   "metadata": {},
   "outputs": [
    {
     "data": {
      "application/vnd.plotly.v1+json": {
       "config": {
        "plotlyServerURL": "https://plot.ly"
       },
       "data": [
        {
         "hoverlabel": {
          "namelength": 0
         },
         "hovertemplate": "tool=pandora_illumina_nodenovo_global_genotyping<br>sample=%{x}<br>error_rate=%{y}",
         "legendgroup": "pandora_illumina_nodenovo_global_genotyping",
         "line": {
          "color": "#636efa",
          "dash": "solid"
         },
         "mode": "lines",
         "name": "pandora_illumina_nodenovo_global_genotyping",
         "showlegend": true,
         "type": "scatter",
         "x": [
          "063_STEC",
          "CFT073",
          "Escherichia_coli_MINF_1A",
          "Escherichia_coli_MINF_1D",
          "Escherichia_coli_MINF_2E",
          "Escherichia_coli_MINF_7C",
          "Escherichia_coli_MINF_8D",
          "Escherichia_coli_MINF_9A",
          "Escherichia_coli_MSB1_1A",
          "Escherichia_coli_MSB1_3B",
          "Escherichia_coli_MSB1_3I",
          "Escherichia_coli_MSB1_4E",
          "Escherichia_coli_MSB1_4I",
          "Escherichia_coli_MSB1_6C",
          "Escherichia_coli_MSB1_6J",
          "Escherichia_coli_MSB1_7A",
          "Escherichia_coli_MSB1_7C",
          "Escherichia_coli_MSB1_8B",
          "Escherichia_coli_MSB1_8G",
          "Escherichia_coli_MSB1_9D",
          "Escherichia_coli_MSB1_9I",
          "Escherichia_coli_MSB2_1A",
          "H131800734",
          "ST38"
         ],
         "xaxis": "x",
         "y": [
          0.006219881058896259,
          0.006483085735223382,
          0.006022361781309105,
          0.006756243327794342,
          0.005988584772116501,
          0.005671537717816699,
          0.005145194596740898,
          0.005382671771376746,
          0.004475843156284465,
          0.006149786896393228,
          0.05004821816224192,
          0.005963410367458621,
          0.007410247420586047,
          0.006292600836330431,
          0.02121265524148708,
          0.006070082099972729,
          0.006580136249591306,
          0.006587067870396314,
          0.0045101983867796855,
          0.005400521984216478,
          0.010091022350519174,
          0.006242440008053407,
          0.005162790322690736,
          0.005318890960261613
         ],
         "yaxis": "y"
        },
        {
         "hoverlabel": {
          "namelength": 0
         },
         "hovertemplate": "tool=pandora_illumina_withdenovo_global_genotyping<br>sample=%{x}<br>error_rate=%{y}",
         "legendgroup": "pandora_illumina_withdenovo_global_genotyping",
         "line": {
          "color": "#EF553B",
          "dash": "solid"
         },
         "mode": "lines",
         "name": "pandora_illumina_withdenovo_global_genotyping",
         "showlegend": true,
         "type": "scatter",
         "x": [
          "063_STEC",
          "CFT073",
          "Escherichia_coli_MINF_1A",
          "Escherichia_coli_MINF_1D",
          "Escherichia_coli_MINF_2E",
          "Escherichia_coli_MINF_7C",
          "Escherichia_coli_MINF_8D",
          "Escherichia_coli_MINF_9A",
          "Escherichia_coli_MSB1_1A",
          "Escherichia_coli_MSB1_3B",
          "Escherichia_coli_MSB1_3I",
          "Escherichia_coli_MSB1_4E",
          "Escherichia_coli_MSB1_4I",
          "Escherichia_coli_MSB1_6C",
          "Escherichia_coli_MSB1_6J",
          "Escherichia_coli_MSB1_7A",
          "Escherichia_coli_MSB1_7C",
          "Escherichia_coli_MSB1_8B",
          "Escherichia_coli_MSB1_8G",
          "Escherichia_coli_MSB1_9D",
          "Escherichia_coli_MSB1_9I",
          "Escherichia_coli_MSB2_1A",
          "H131800734",
          "ST38"
         ],
         "xaxis": "x",
         "y": [
          0.006214741052725348,
          0.006620362390100998,
          0.006100602507648878,
          0.006694317203596034,
          0.005921653565388762,
          0.005477721966479554,
          0.004965653245372126,
          0.0056407532098338145,
          0.00466392459533993,
          0.006214962102834898,
          0.052225535053692096,
          0.006077550244435792,
          0.007183177729798262,
          0.006377848375928807,
          0.01938030136951629,
          0.006177907148527839,
          0.006653879919906958,
          0.006324776210942074,
          0.004642115841782425,
          0.005356217466650714,
          0.008728103343349614,
          0.006072099372935957,
          0.005151229679114744,
          0.0054452446553018286
         ],
         "yaxis": "y"
        },
        {
         "hoverlabel": {
          "namelength": 0
         },
         "hovertemplate": "tool=snippy_CN928163.2<br>sample=%{x}<br>error_rate=%{y}",
         "legendgroup": "snippy_CN928163.2",
         "line": {
          "color": "#00cc96",
          "dash": "solid"
         },
         "mode": "lines",
         "name": "snippy_CN928163.2",
         "showlegend": true,
         "type": "scatter",
         "x": [
          "063_STEC",
          "CFT073",
          "Escherichia_coli_MINF_1A",
          "Escherichia_coli_MINF_1D",
          "Escherichia_coli_MINF_2E",
          "Escherichia_coli_MINF_7C",
          "Escherichia_coli_MINF_8D",
          "Escherichia_coli_MINF_9A",
          "Escherichia_coli_MSB1_1A",
          "Escherichia_coli_MSB1_3B",
          "Escherichia_coli_MSB1_3I",
          "Escherichia_coli_MSB1_4E",
          "Escherichia_coli_MSB1_4I",
          "Escherichia_coli_MSB1_6C",
          "Escherichia_coli_MSB1_6J",
          "Escherichia_coli_MSB1_7A",
          "Escherichia_coli_MSB1_7C",
          "Escherichia_coli_MSB1_8B",
          "Escherichia_coli_MSB1_8G",
          "Escherichia_coli_MSB1_9D",
          "Escherichia_coli_MSB1_9I",
          "Escherichia_coli_MSB2_1A",
          "H131800734",
          "ST38"
         ],
         "xaxis": "x",
         "y": [
          0.00043622937182152816,
          0.000337718173268331,
          0.00013767400464470558,
          0.00029308807973582596,
          0.0002764037143105913,
          0.00047348951911208026,
          0.0002354721441464313,
          0.00024214454605020475,
          0.00018928750998203903,
          0.0004992321892746121,
          0.016861994691730775,
          0.00033665761752454953,
          0.0003450876593809049,
          0.0003269133772952904,
          0.004473894427402758,
          0.0005768196022432057,
          0.0018302828618967926,
          0.000220156440576491,
          0.0002206583969466269,
          0.00014171989638844806,
          0.0003326679973386648,
          0.00012294036936755237,
          9.87347842644759e-05,
          0.00028212830540375045
         ],
         "yaxis": "y"
        },
        {
         "hoverlabel": {
          "namelength": 0
         },
         "hovertemplate": "tool=snippy_CP010116.1<br>sample=%{x}<br>error_rate=%{y}",
         "legendgroup": "snippy_CP010116.1",
         "line": {
          "color": "#ab63fa",
          "dash": "solid"
         },
         "mode": "lines",
         "name": "snippy_CP010116.1",
         "showlegend": true,
         "type": "scatter",
         "x": [
          "063_STEC",
          "CFT073",
          "Escherichia_coli_MINF_1A",
          "Escherichia_coli_MINF_1D",
          "Escherichia_coli_MINF_2E",
          "Escherichia_coli_MINF_7C",
          "Escherichia_coli_MINF_8D",
          "Escherichia_coli_MINF_9A",
          "Escherichia_coli_MSB1_1A",
          "Escherichia_coli_MSB1_3B",
          "Escherichia_coli_MSB1_3I",
          "Escherichia_coli_MSB1_4E",
          "Escherichia_coli_MSB1_4I",
          "Escherichia_coli_MSB1_6C",
          "Escherichia_coli_MSB1_6J",
          "Escherichia_coli_MSB1_7A",
          "Escherichia_coli_MSB1_7C",
          "Escherichia_coli_MSB1_8B",
          "Escherichia_coli_MSB1_8G",
          "Escherichia_coli_MSB1_9D",
          "Escherichia_coli_MSB1_9I",
          "Escherichia_coli_MSB2_1A",
          "H131800734",
          "ST38"
         ],
         "xaxis": "x",
         "y": [
          0.00033058945624431235,
          0.00025247055925736733,
          0.00021419798933031145,
          0.0002631689050668351,
          0.0003008584232397915,
          0.0001880225627075572,
          8.3776354052989e-05,
          0.0002929134085410956,
          0.00011917325624666296,
          0.00026333789329691104,
          0.014091596327335696,
          0.00015598477825595758,
          0.00013355100899647976,
          0.0005107289829511252,
          0.0016679564363880628,
          0.00024593523705429554,
          0.00024121430812684697,
          0.0002757478820606396,
          8.872989852870551e-05,
          0.0003350848386718397,
          0.0001960518180036397,
          0.00013359071384733134,
          0.00017572399319376597,
          0.0002294104152328336
         ],
         "yaxis": "y"
        },
        {
         "hoverlabel": {
          "namelength": 0
         },
         "hovertemplate": "tool=snippy_CP010121.1<br>sample=%{x}<br>error_rate=%{y}",
         "legendgroup": "snippy_CP010121.1",
         "line": {
          "color": "#FFA15A",
          "dash": "solid"
         },
         "mode": "lines",
         "name": "snippy_CP010121.1",
         "showlegend": true,
         "type": "scatter",
         "x": [
          "063_STEC",
          "CFT073",
          "Escherichia_coli_MINF_1A",
          "Escherichia_coli_MINF_1D",
          "Escherichia_coli_MINF_2E",
          "Escherichia_coli_MINF_7C",
          "Escherichia_coli_MINF_8D",
          "Escherichia_coli_MINF_9A",
          "Escherichia_coli_MSB1_1A",
          "Escherichia_coli_MSB1_3B",
          "Escherichia_coli_MSB1_3I",
          "Escherichia_coli_MSB1_4E",
          "Escherichia_coli_MSB1_4I",
          "Escherichia_coli_MSB1_6C",
          "Escherichia_coli_MSB1_6J",
          "Escherichia_coli_MSB1_7A",
          "Escherichia_coli_MSB1_7C",
          "Escherichia_coli_MSB1_8B",
          "Escherichia_coli_MSB1_8G",
          "Escherichia_coli_MSB1_9D",
          "Escherichia_coli_MSB1_9I",
          "Escherichia_coli_MSB2_1A",
          "H131800734",
          "ST38"
         ],
         "xaxis": "x",
         "y": [
          0.00040352812774324676,
          0.00016060350207425245,
          0.00014930451458794458,
          0.00020919231135163585,
          0.00025355628949630393,
          0.00015559875800719158,
          7.793455309956787e-05,
          0.0001687397550861336,
          7.628910274259937e-05,
          0.0003536403779010877,
          0.019352884010747085,
          0.00016293683662871317,
          0.0004389065387656599,
          0.0002996898275799964,
          0.0031225420157454664,
          0.0003676517807831292,
          0.00017233516803993876,
          0.00046279665684811916,
          6.16533348961612e-05,
          3.973299427839638e-05,
          0.0002822227866677851,
          0.00016263376112191086,
          5.5343405833241384e-05,
          0.00025764276100748157
         ],
         "yaxis": "y"
        },
        {
         "hoverlabel": {
          "namelength": 0
         },
         "hovertemplate": "tool=snippy_CP010170.1<br>sample=%{x}<br>error_rate=%{y}",
         "legendgroup": "snippy_CP010170.1",
         "line": {
          "color": "#19d3f3",
          "dash": "solid"
         },
         "mode": "lines",
         "name": "snippy_CP010170.1",
         "showlegend": true,
         "type": "scatter",
         "x": [
          "063_STEC",
          "CFT073",
          "Escherichia_coli_MINF_1A",
          "Escherichia_coli_MINF_1D",
          "Escherichia_coli_MINF_2E",
          "Escherichia_coli_MINF_7C",
          "Escherichia_coli_MINF_8D",
          "Escherichia_coli_MINF_9A",
          "Escherichia_coli_MSB1_1A",
          "Escherichia_coli_MSB1_3B",
          "Escherichia_coli_MSB1_3I",
          "Escherichia_coli_MSB1_4E",
          "Escherichia_coli_MSB1_4I",
          "Escherichia_coli_MSB1_6C",
          "Escherichia_coli_MSB1_6J",
          "Escherichia_coli_MSB1_7A",
          "Escherichia_coli_MSB1_7C",
          "Escherichia_coli_MSB1_8B",
          "Escherichia_coli_MSB1_8G",
          "Escherichia_coli_MSB1_9D",
          "Escherichia_coli_MSB1_9I",
          "Escherichia_coli_MSB2_1A",
          "H131800734",
          "ST38"
         ],
         "xaxis": "x",
         "y": [
          0.00015264544402582292,
          2.659799547832797e-05,
          2.674798052748617e-05,
          9.040171832264132e-05,
          0.00015778314678771554,
          1.32984028617944e-05,
          8.361384429478315e-05,
          0.00022279446106454603,
          0.00013624199832451556,
          7.12560864573053e-05,
          0.04234417907963739,
          9.056529880424602e-05,
          0.0001695202576708077,
          1.3192438094500325e-05,
          0.0033573534228628077,
          5.275026704820718e-05,
          0.00020831918121499982,
          7.986347549049366e-05,
          0.0001362021158084481,
          0.0003279046890370952,
          0.00017946877243357748,
          1.2783636944679875e-05,
          0.00014438869436528282,
          5.543387144757439e-05
         ],
         "yaxis": "y"
        },
        {
         "hoverlabel": {
          "namelength": 0
         },
         "hovertemplate": "tool=snippy_CP010171.1<br>sample=%{x}<br>error_rate=%{y}",
         "legendgroup": "snippy_CP010171.1",
         "line": {
          "color": "#FF6692",
          "dash": "solid"
         },
         "mode": "lines",
         "name": "snippy_CP010171.1",
         "showlegend": true,
         "type": "scatter",
         "x": [
          "063_STEC",
          "CFT073",
          "Escherichia_coli_MINF_1A",
          "Escherichia_coli_MINF_1D",
          "Escherichia_coli_MINF_2E",
          "Escherichia_coli_MINF_7C",
          "Escherichia_coli_MINF_8D",
          "Escherichia_coli_MINF_9A",
          "Escherichia_coli_MSB1_1A",
          "Escherichia_coli_MSB1_3B",
          "Escherichia_coli_MSB1_3I",
          "Escherichia_coli_MSB1_4E",
          "Escherichia_coli_MSB1_4I",
          "Escherichia_coli_MSB1_6C",
          "Escherichia_coli_MSB1_6J",
          "Escherichia_coli_MSB1_7A",
          "Escherichia_coli_MSB1_7C",
          "Escherichia_coli_MSB1_8B",
          "Escherichia_coli_MSB1_8G",
          "Escherichia_coli_MSB1_9D",
          "Escherichia_coli_MSB1_9I",
          "Escherichia_coli_MSB2_1A",
          "H131800734",
          "ST38"
         ],
         "xaxis": "x",
         "y": [
          0.00017524087880504968,
          8.822556335696952e-05,
          5.7641851959888683e-05,
          0.00010837828390475313,
          0.00012795187213787695,
          5.718009069033414e-05,
          0.0008612853376966934,
          7.617886798205742e-05,
          0.0004538823147998139,
          0.00015172829283782718,
          0.10356349206349202,
          0.00017777338831137524,
          4.6226365956636435e-05,
          0.00011593002042398215,
          0.004195026619044362,
          0.00017830743612434752,
          6.500949093257713e-05,
          0.0002580275229357998,
          0.0003892438937364018,
          0.0008029358758796513,
          0.0015027322404371768,
          6.455027821172798e-05,
          0.00018813967489461622,
          0.00013549033953874634
         ],
         "yaxis": "y"
        },
        {
         "hoverlabel": {
          "namelength": 0
         },
         "hovertemplate": "tool=snippy_CP010226.1<br>sample=%{x}<br>error_rate=%{y}",
         "legendgroup": "snippy_CP010226.1",
         "line": {
          "color": "#B6E880",
          "dash": "solid"
         },
         "mode": "lines",
         "name": "snippy_CP010226.1",
         "showlegend": true,
         "type": "scatter",
         "x": [
          "063_STEC",
          "CFT073",
          "Escherichia_coli_MINF_1A",
          "Escherichia_coli_MINF_1D",
          "Escherichia_coli_MINF_2E",
          "Escherichia_coli_MINF_7C",
          "Escherichia_coli_MINF_8D",
          "Escherichia_coli_MINF_9A",
          "Escherichia_coli_MSB1_1A",
          "Escherichia_coli_MSB1_3B",
          "Escherichia_coli_MSB1_3I",
          "Escherichia_coli_MSB1_4E",
          "Escherichia_coli_MSB1_4I",
          "Escherichia_coli_MSB1_6C",
          "Escherichia_coli_MSB1_6J",
          "Escherichia_coli_MSB1_7A",
          "Escherichia_coli_MSB1_7C",
          "Escherichia_coli_MSB1_8B",
          "Escherichia_coli_MSB1_8G",
          "Escherichia_coli_MSB1_9D",
          "Escherichia_coli_MSB1_9I",
          "Escherichia_coli_MSB2_1A",
          "H131800734",
          "ST38"
         ],
         "xaxis": "x",
         "y": [
          9.308089674220366e-05,
          5.3321520565585714e-05,
          2.9744602030756795e-05,
          0.00028732259628905243,
          3.474071843800885e-05,
          6.811246730598075e-05,
          0.0002674574103146421,
          8.802128158991174e-05,
          0.00017568825875380334,
          4.090091072694868e-05,
          0.034323307081633336,
          2.494792121443545e-05,
          3.971300733363048e-05,
          0,
          0.004075015336079235,
          4.087249145079408e-05,
          0.00018575134333886909,
          9.372437224197672e-05,
          0.00011080332409962869,
          0.0009046424606274917,
          0.00040369714278831736,
          4.167589179893128e-05,
          0.0025881591717891173,
          6.942130400977574e-05
         ],
         "yaxis": "y"
        },
        {
         "hoverlabel": {
          "namelength": 0
         },
         "hovertemplate": "tool=snippy_CP010230.1<br>sample=%{x}<br>error_rate=%{y}",
         "legendgroup": "snippy_CP010230.1",
         "line": {
          "color": "#FF97FF",
          "dash": "solid"
         },
         "mode": "lines",
         "name": "snippy_CP010230.1",
         "showlegend": true,
         "type": "scatter",
         "x": [
          "063_STEC",
          "CFT073",
          "Escherichia_coli_MINF_1A",
          "Escherichia_coli_MINF_1D",
          "Escherichia_coli_MINF_2E",
          "Escherichia_coli_MINF_7C",
          "Escherichia_coli_MINF_8D",
          "Escherichia_coli_MINF_9A",
          "Escherichia_coli_MSB1_1A",
          "Escherichia_coli_MSB1_3B",
          "Escherichia_coli_MSB1_3I",
          "Escherichia_coli_MSB1_4E",
          "Escherichia_coli_MSB1_4I",
          "Escherichia_coli_MSB1_6C",
          "Escherichia_coli_MSB1_6J",
          "Escherichia_coli_MSB1_7A",
          "Escherichia_coli_MSB1_7C",
          "Escherichia_coli_MSB1_8B",
          "Escherichia_coli_MSB1_8G",
          "Escherichia_coli_MSB1_9D",
          "Escherichia_coli_MSB1_9I",
          "Escherichia_coli_MSB2_1A",
          "H131800734",
          "ST38"
         ],
         "xaxis": "x",
         "y": [
          0.00041489601937960696,
          8.562062723227458e-05,
          5.297732570463953e-05,
          0.00010856715481677437,
          0.00016560414082877895,
          9.043810803477378e-05,
          6.945070126440633e-05,
          4.165885563289783e-06,
          0.00024029697391536603,
          8.496312920802662e-05,
          0.03124275741217042,
          8.984890714403004e-05,
          6.847351145022884e-05,
          5.968820173962718e-05,
          0.0038519830890597633,
          6.572872313137523e-05,
          0.000182833861590348,
          0.0001624045873049873,
          0.00024027308278651294,
          9.36907291880784e-05,
          0.00015258672648077454,
          5.01454217229913e-05,
          0,
          6.761035328883835e-05
         ],
         "yaxis": "y"
        },
        {
         "hoverlabel": {
          "namelength": 0
         },
         "hovertemplate": "tool=snippy_CP018206.1<br>sample=%{x}<br>error_rate=%{y}",
         "legendgroup": "snippy_CP018206.1",
         "line": {
          "color": "#FECB52",
          "dash": "solid"
         },
         "mode": "lines",
         "name": "snippy_CP018206.1",
         "showlegend": true,
         "type": "scatter",
         "x": [
          "063_STEC",
          "CFT073",
          "Escherichia_coli_MINF_1A",
          "Escherichia_coli_MINF_1D",
          "Escherichia_coli_MINF_2E",
          "Escherichia_coli_MINF_7C",
          "Escherichia_coli_MINF_8D",
          "Escherichia_coli_MINF_9A",
          "Escherichia_coli_MSB1_1A",
          "Escherichia_coli_MSB1_3B",
          "Escherichia_coli_MSB1_3I",
          "Escherichia_coli_MSB1_4E",
          "Escherichia_coli_MSB1_4I",
          "Escherichia_coli_MSB1_6C",
          "Escherichia_coli_MSB1_6J",
          "Escherichia_coli_MSB1_7A",
          "Escherichia_coli_MSB1_7C",
          "Escherichia_coli_MSB1_8B",
          "Escherichia_coli_MSB1_8G",
          "Escherichia_coli_MSB1_9D",
          "Escherichia_coli_MSB1_9I",
          "Escherichia_coli_MSB2_1A",
          "H131800734",
          "ST38"
         ],
         "xaxis": "x",
         "y": [
          0.0005779819178379776,
          0.0002583152922652765,
          0.0004609614006039209,
          0.00037576001892736233,
          0.0005880962450475202,
          0.0004376325428957495,
          0.0005596041623497916,
          0.0005236549693332648,
          0.00016700931308011308,
          0.001617556276778398,
          0.01292993507310325,
          0.0004493872895400264,
          0.0007422569659210065,
          0.0011184547089789776,
          0.0017218194797561368,
          0.0017999847374846614,
          0.0010947468525832618,
          0.0004489036596896368,
          0.00018265349084856108,
          0.00035032066796492073,
          0.00016138971213941478,
          0.000259984648525502,
          1.8649061952369366e-05,
          0.002296634775572293
         ],
         "yaxis": "y"
        },
        {
         "hoverlabel": {
          "namelength": 0
         },
         "hovertemplate": "tool=snippy_NC_004431.1<br>sample=%{x}<br>error_rate=%{y}",
         "legendgroup": "snippy_NC_004431.1",
         "line": {
          "color": "#636efa",
          "dash": "solid"
         },
         "mode": "lines",
         "name": "snippy_NC_004431.1",
         "showlegend": true,
         "type": "scatter",
         "x": [
          "063_STEC",
          "CFT073",
          "Escherichia_coli_MINF_1A",
          "Escherichia_coli_MINF_1D",
          "Escherichia_coli_MINF_2E",
          "Escherichia_coli_MINF_7C",
          "Escherichia_coli_MINF_8D",
          "Escherichia_coli_MINF_9A",
          "Escherichia_coli_MSB1_1A",
          "Escherichia_coli_MSB1_3B",
          "Escherichia_coli_MSB1_3I",
          "Escherichia_coli_MSB1_4E",
          "Escherichia_coli_MSB1_4I",
          "Escherichia_coli_MSB1_6C",
          "Escherichia_coli_MSB1_6J",
          "Escherichia_coli_MSB1_7A",
          "Escherichia_coli_MSB1_7C",
          "Escherichia_coli_MSB1_8B",
          "Escherichia_coli_MSB1_8G",
          "Escherichia_coli_MSB1_9D",
          "Escherichia_coli_MSB1_9I",
          "Escherichia_coli_MSB2_1A",
          "H131800734",
          "ST38"
         ],
         "xaxis": "x",
         "y": [
          0.0008822531387854271,
          0,
          0.00035408668406344823,
          0.0003870927783971023,
          0.00042322415146034414,
          0.00043086740018472014,
          0.00031127311785472683,
          0.00022219978912885185,
          0.00026727336079857,
          0.0007506090559498135,
          0.016720480759757406,
          0.0009460620218515461,
          0.0010285178574794829,
          0.00047524614260252557,
          0.003387342595033593,
          0.0006741589060830223,
          0.0005719679916936782,
          0.0007036665552212495,
          0.00023184531544584439,
          0.00014674746885912082,
          0.0002601993949046255,
          0.00024276093345487748,
          0.0004139553738973234,
          0.00034710945675486826
         ],
         "yaxis": "y"
        },
        {
         "hoverlabel": {
          "namelength": 0
         },
         "hovertemplate": "tool=snippy_NC_007779.1<br>sample=%{x}<br>error_rate=%{y}",
         "legendgroup": "snippy_NC_007779.1",
         "line": {
          "color": "#EF553B",
          "dash": "solid"
         },
         "mode": "lines",
         "name": "snippy_NC_007779.1",
         "showlegend": true,
         "type": "scatter",
         "x": [
          "063_STEC",
          "CFT073",
          "Escherichia_coli_MINF_1A",
          "Escherichia_coli_MINF_1D",
          "Escherichia_coli_MINF_2E",
          "Escherichia_coli_MINF_7C",
          "Escherichia_coli_MINF_8D",
          "Escherichia_coli_MINF_9A",
          "Escherichia_coli_MSB1_1A",
          "Escherichia_coli_MSB1_3B",
          "Escherichia_coli_MSB1_3I",
          "Escherichia_coli_MSB1_4E",
          "Escherichia_coli_MSB1_4I",
          "Escherichia_coli_MSB1_6C",
          "Escherichia_coli_MSB1_6J",
          "Escherichia_coli_MSB1_7A",
          "Escherichia_coli_MSB1_7C",
          "Escherichia_coli_MSB1_8B",
          "Escherichia_coli_MSB1_8G",
          "Escherichia_coli_MSB1_9D",
          "Escherichia_coli_MSB1_9I",
          "Escherichia_coli_MSB2_1A",
          "H131800734",
          "ST38"
         ],
         "xaxis": "x",
         "y": [
          0.00017105819710883097,
          7.373906203911318e-05,
          4.338250016688861e-05,
          0.00010631705568586723,
          0.0002517451808780047,
          7.681414983440327e-05,
          0.0003410641200545238,
          0.00010314363461660923,
          0.0001763590670604831,
          5.129974383955016e-05,
          0.09761830147289252,
          0.00018211934005640812,
          3.998720409470469e-05,
          7.277057422594435e-05,
          0.010171821305841931,
          0.00011718521122638935,
          7.366075539116945e-05,
          0.00014092626993789104,
          0.00017651471691448872,
          0.0007235142118863225,
          0.000465983224603894,
          6.759215930951523e-05,
          0.00016243390007342207,
          9.899689631354124e-05
         ],
         "yaxis": "y"
        },
        {
         "hoverlabel": {
          "namelength": 0
         },
         "hovertemplate": "tool=snippy_NC_010498.1<br>sample=%{x}<br>error_rate=%{y}",
         "legendgroup": "snippy_NC_010498.1",
         "line": {
          "color": "#00cc96",
          "dash": "solid"
         },
         "mode": "lines",
         "name": "snippy_NC_010498.1",
         "showlegend": true,
         "type": "scatter",
         "x": [
          "063_STEC",
          "CFT073",
          "Escherichia_coli_MINF_1A",
          "Escherichia_coli_MINF_1D",
          "Escherichia_coli_MINF_2E",
          "Escherichia_coli_MINF_7C",
          "Escherichia_coli_MINF_8D",
          "Escherichia_coli_MINF_9A",
          "Escherichia_coli_MSB1_1A",
          "Escherichia_coli_MSB1_3B",
          "Escherichia_coli_MSB1_3I",
          "Escherichia_coli_MSB1_4E",
          "Escherichia_coli_MSB1_4I",
          "Escherichia_coli_MSB1_6C",
          "Escherichia_coli_MSB1_6J",
          "Escherichia_coli_MSB1_7A",
          "Escherichia_coli_MSB1_7C",
          "Escherichia_coli_MSB1_8B",
          "Escherichia_coli_MSB1_8G",
          "Escherichia_coli_MSB1_9D",
          "Escherichia_coli_MSB1_9I",
          "Escherichia_coli_MSB2_1A",
          "H131800734",
          "ST38"
         ],
         "xaxis": "x",
         "y": [
          6.0966078862967337e-05,
          0.0005794299004761028,
          0.0002179029024667045,
          0.00044947480563839465,
          0.00025800299134259847,
          0.00021002290305616178,
          0.00026303981184905295,
          0.0006336025714992477,
          0.00021037914629140614,
          0.0004843110187728872,
          0.01462843180393869,
          0.00027255819919191904,
          0.0002377864245568517,
          0.00045546478110602967,
          0.0045843959912352785,
          0.0005788143775088406,
          0.000443929065055082,
          0.00040645900038382976,
          0.0001408418752197882,
          7.717339575807891e-05,
          0.00034677301038987807,
          0.00016481850186578215,
          0.00039106706690950066,
          0.00015428997904531894
         ],
         "yaxis": "y"
        },
        {
         "hoverlabel": {
          "namelength": 0
         },
         "hovertemplate": "tool=snippy_NC_011742.1<br>sample=%{x}<br>error_rate=%{y}",
         "legendgroup": "snippy_NC_011742.1",
         "line": {
          "color": "#ab63fa",
          "dash": "solid"
         },
         "mode": "lines",
         "name": "snippy_NC_011742.1",
         "showlegend": true,
         "type": "scatter",
         "x": [
          "063_STEC",
          "CFT073",
          "Escherichia_coli_MINF_1A",
          "Escherichia_coli_MINF_1D",
          "Escherichia_coli_MINF_2E",
          "Escherichia_coli_MINF_7C",
          "Escherichia_coli_MINF_8D",
          "Escherichia_coli_MINF_9A",
          "Escherichia_coli_MSB1_1A",
          "Escherichia_coli_MSB1_3B",
          "Escherichia_coli_MSB1_3I",
          "Escherichia_coli_MSB1_4E",
          "Escherichia_coli_MSB1_4I",
          "Escherichia_coli_MSB1_6C",
          "Escherichia_coli_MSB1_6J",
          "Escherichia_coli_MSB1_7A",
          "Escherichia_coli_MSB1_7C",
          "Escherichia_coli_MSB1_8B",
          "Escherichia_coli_MSB1_8G",
          "Escherichia_coli_MSB1_9D",
          "Escherichia_coli_MSB1_9I",
          "Escherichia_coli_MSB2_1A",
          "H131800734",
          "ST38"
         ],
         "xaxis": "x",
         "y": [
          0.001471054129950966,
          0.0009709019244145133,
          0.00012555840448313926,
          0.0008454539229626468,
          0.00011354689645071135,
          0.00023540489642182028,
          0.00018866176991727543,
          0.00016326503687480454,
          0.00028412252822662687,
          0.0006863889179178353,
          0.01729344850649239,
          0.0003875918250185738,
          0.0003614625330181642,
          0.0004344652923901071,
          0.003826457356178814,
          0.000692877376435197,
          0.00021721553815146064,
          0.0004984476358969037,
          0.00025856018911829537,
          0.0002722645064976437,
          0.00045892466039576535,
          0.00024488463212890554,
          0.00018013348839562848,
          0.00036663480314069735
         ],
         "yaxis": "y"
        },
        {
         "hoverlabel": {
          "namelength": 0
         },
         "hovertemplate": "tool=snippy_NC_011993.1<br>sample=%{x}<br>error_rate=%{y}",
         "legendgroup": "snippy_NC_011993.1",
         "line": {
          "color": "#FFA15A",
          "dash": "solid"
         },
         "mode": "lines",
         "name": "snippy_NC_011993.1",
         "showlegend": true,
         "type": "scatter",
         "x": [
          "063_STEC",
          "CFT073",
          "Escherichia_coli_MINF_1A",
          "Escherichia_coli_MINF_1D",
          "Escherichia_coli_MINF_2E",
          "Escherichia_coli_MINF_7C",
          "Escherichia_coli_MINF_8D",
          "Escherichia_coli_MINF_9A",
          "Escherichia_coli_MSB1_1A",
          "Escherichia_coli_MSB1_3B",
          "Escherichia_coli_MSB1_3I",
          "Escherichia_coli_MSB1_4E",
          "Escherichia_coli_MSB1_4I",
          "Escherichia_coli_MSB1_6C",
          "Escherichia_coli_MSB1_6J",
          "Escherichia_coli_MSB1_7A",
          "Escherichia_coli_MSB1_7C",
          "Escherichia_coli_MSB1_8B",
          "Escherichia_coli_MSB1_8G",
          "Escherichia_coli_MSB1_9D",
          "Escherichia_coli_MSB1_9I",
          "Escherichia_coli_MSB2_1A",
          "H131800734",
          "ST38"
         ],
         "xaxis": "x",
         "y": [
          0.00038256643646528143,
          0.00031494960806266464,
          0.00026577770115721044,
          0.0004584752423368865,
          0.00012233883058465622,
          0.00015761745112563563,
          0.00016772140955145792,
          0.00010148321623737466,
          9.815996016726558e-05,
          0.0003033520400425038,
          0.016994879818497455,
          0.000409307620148458,
          0.00024927483683823137,
          6.321751883886506e-05,
          0.0025267644653488297,
          0.00037912775341530935,
          0.00018527896836673108,
          0.00017283940972900869,
          8.60433519714876e-05,
          9.936885719796783e-05,
          0.00039211935730676384,
          0.000157557006989828,
          2.525284410159756e-05,
          0.00024469519009551194
         ],
         "yaxis": "y"
        },
        {
         "hoverlabel": {
          "namelength": 0
         },
         "hovertemplate": "tool=snippy_NC_017646.1<br>sample=%{x}<br>error_rate=%{y}",
         "legendgroup": "snippy_NC_017646.1",
         "line": {
          "color": "#19d3f3",
          "dash": "solid"
         },
         "mode": "lines",
         "name": "snippy_NC_017646.1",
         "showlegend": true,
         "type": "scatter",
         "x": [
          "063_STEC",
          "CFT073",
          "Escherichia_coli_MINF_1A",
          "Escherichia_coli_MINF_1D",
          "Escherichia_coli_MINF_2E",
          "Escherichia_coli_MINF_7C",
          "Escherichia_coli_MINF_8D",
          "Escherichia_coli_MINF_9A",
          "Escherichia_coli_MSB1_1A",
          "Escherichia_coli_MSB1_3B",
          "Escherichia_coli_MSB1_3I",
          "Escherichia_coli_MSB1_4E",
          "Escherichia_coli_MSB1_4I",
          "Escherichia_coli_MSB1_6C",
          "Escherichia_coli_MSB1_6J",
          "Escherichia_coli_MSB1_7A",
          "Escherichia_coli_MSB1_7C",
          "Escherichia_coli_MSB1_8B",
          "Escherichia_coli_MSB1_8G",
          "Escherichia_coli_MSB1_9D",
          "Escherichia_coli_MSB1_9I",
          "Escherichia_coli_MSB2_1A",
          "H131800734",
          "ST38"
         ],
         "xaxis": "x",
         "y": [
          0.00036726491580629783,
          0.0002449205205727889,
          0.00018992642772286408,
          0.0002223000646690565,
          0.0003343202867874817,
          0.00020601664587072133,
          0.000366816196835984,
          0.0002365087015044897,
          0.00021854594100578767,
          0.0003369214863466752,
          0.018145486149674817,
          0.00011174796638835359,
          0.0005835067983523956,
          9.401065243386242e-05,
          0.003393907486747505,
          0.0003643599226614835,
          0.00046425577830555564,
          0.0006230154165274282,
          0.00025240913271218357,
          8.550290395126225e-05,
          0.0007211667471690443,
          0.00024342037313496162,
          0.00016040636278569218,
          0.0001846019976863289
         ],
         "yaxis": "y"
        },
        {
         "hoverlabel": {
          "namelength": 0
         },
         "hovertemplate": "tool=snippy_NC_022648.1<br>sample=%{x}<br>error_rate=%{y}",
         "legendgroup": "snippy_NC_022648.1",
         "line": {
          "color": "#FF6692",
          "dash": "solid"
         },
         "mode": "lines",
         "name": "snippy_NC_022648.1",
         "showlegend": true,
         "type": "scatter",
         "x": [
          "063_STEC",
          "CFT073",
          "Escherichia_coli_MINF_1A",
          "Escherichia_coli_MINF_1D",
          "Escherichia_coli_MINF_2E",
          "Escherichia_coli_MINF_7C",
          "Escherichia_coli_MINF_8D",
          "Escherichia_coli_MINF_9A",
          "Escherichia_coli_MSB1_1A",
          "Escherichia_coli_MSB1_3B",
          "Escherichia_coli_MSB1_3I",
          "Escherichia_coli_MSB1_4E",
          "Escherichia_coli_MSB1_4I",
          "Escherichia_coli_MSB1_6C",
          "Escherichia_coli_MSB1_6J",
          "Escherichia_coli_MSB1_7A",
          "Escherichia_coli_MSB1_7C",
          "Escherichia_coli_MSB1_8B",
          "Escherichia_coli_MSB1_8G",
          "Escherichia_coli_MSB1_9D",
          "Escherichia_coli_MSB1_9I",
          "Escherichia_coli_MSB2_1A",
          "H131800734",
          "ST38"
         ],
         "xaxis": "x",
         "y": [
          0.0006463350409345869,
          0.0002444927996870794,
          0.0002421936601091357,
          0.00036585393608767886,
          0.0002401647427937581,
          0.0002918687987862878,
          0.0004441879579595298,
          0.00013122483930516626,
          0.0002430711295507981,
          0.00025668401073375424,
          0.016404797620319544,
          0.008710330857528703,
          0.0005880153399271393,
          0.00017383008311511183,
          0.0051786491885962285,
          0.00021587099874964544,
          0.0004588817775631472,
          0.0005172837232148009,
          0.00030617545372690897,
          0.00023286196426630654,
          0.00029868416377754064,
          0.0003276251716676226,
          0.00014322242020614606,
          0.0003455575617956619
         ],
         "yaxis": "y"
        },
        {
         "hoverlabel": {
          "namelength": 0
         },
         "hovertemplate": "tool=snippy_NZ_CP008697.1<br>sample=%{x}<br>error_rate=%{y}",
         "legendgroup": "snippy_NZ_CP008697.1",
         "line": {
          "color": "#B6E880",
          "dash": "solid"
         },
         "mode": "lines",
         "name": "snippy_NZ_CP008697.1",
         "showlegend": true,
         "type": "scatter",
         "x": [
          "063_STEC",
          "CFT073",
          "Escherichia_coli_MINF_1A",
          "Escherichia_coli_MINF_1D",
          "Escherichia_coli_MINF_2E",
          "Escherichia_coli_MINF_7C",
          "Escherichia_coli_MINF_8D",
          "Escherichia_coli_MINF_9A",
          "Escherichia_coli_MSB1_1A",
          "Escherichia_coli_MSB1_3B",
          "Escherichia_coli_MSB1_3I",
          "Escherichia_coli_MSB1_4E",
          "Escherichia_coli_MSB1_4I",
          "Escherichia_coli_MSB1_6C",
          "Escherichia_coli_MSB1_6J",
          "Escherichia_coli_MSB1_7A",
          "Escherichia_coli_MSB1_7C",
          "Escherichia_coli_MSB1_8B",
          "Escherichia_coli_MSB1_8G",
          "Escherichia_coli_MSB1_9D",
          "Escherichia_coli_MSB1_9I",
          "Escherichia_coli_MSB2_1A",
          "H131800734",
          "ST38"
         ],
         "xaxis": "x",
         "y": [
          0.00025569941407732605,
          0.00017422229415908766,
          0.0002706180303092553,
          0.0003379494297819363,
          0.0002245152303801401,
          0.0005512043469034777,
          0.00047888759673220266,
          0.0026032503979224178,
          0.00018268653023723047,
          0.00038617829608389437,
          0.015096976173828882,
          0.00037574373601245714,
          0.0005251305148941121,
          0.0005571447741399282,
          0.004243961052706857,
          0.00035144614870696866,
          0.0006695457725836017,
          0.00329760557441805,
          0.0002830608459665207,
          9.741489920522817e-05,
          0.0005229796823514876,
          0.000213842593843272,
          0.0002680418765590442,
          0.0004660869233008568
         ],
         "yaxis": "y"
        },
        {
         "hoverlabel": {
          "namelength": 0
         },
         "hovertemplate": "tool=snippy_NZ_CP009859.1<br>sample=%{x}<br>error_rate=%{y}",
         "legendgroup": "snippy_NZ_CP009859.1",
         "line": {
          "color": "#FF97FF",
          "dash": "solid"
         },
         "mode": "lines",
         "name": "snippy_NZ_CP009859.1",
         "showlegend": true,
         "type": "scatter",
         "x": [
          "063_STEC",
          "CFT073",
          "Escherichia_coli_MINF_1A",
          "Escherichia_coli_MINF_1D",
          "Escherichia_coli_MINF_2E",
          "Escherichia_coli_MINF_7C",
          "Escherichia_coli_MINF_8D",
          "Escherichia_coli_MINF_9A",
          "Escherichia_coli_MSB1_1A",
          "Escherichia_coli_MSB1_3B",
          "Escherichia_coli_MSB1_3I",
          "Escherichia_coli_MSB1_4E",
          "Escherichia_coli_MSB1_4I",
          "Escherichia_coli_MSB1_6C",
          "Escherichia_coli_MSB1_6J",
          "Escherichia_coli_MSB1_7A",
          "Escherichia_coli_MSB1_7C",
          "Escherichia_coli_MSB1_8B",
          "Escherichia_coli_MSB1_8G",
          "Escherichia_coli_MSB1_9D",
          "Escherichia_coli_MSB1_9I",
          "Escherichia_coli_MSB2_1A",
          "H131800734",
          "ST38"
         ],
         "xaxis": "x",
         "y": [
          0.0003732890916632313,
          0.0003683034715803447,
          0.00026259872509315496,
          0.00040309186271281217,
          0.00034979398884527063,
          0.00033233258277043376,
          0.0004387205178352227,
          0.0009993437145754402,
          0.0002698384996441261,
          0.0005151522693663814,
          0.022670147017487485,
          0.00030825323168715,
          0.0004951058390988416,
          0.00042006783953507654,
          0.0043573270537500255,
          0.00047365670233323614,
          0.0006082442274911728,
          0.0013272200772200815,
          0.0002574019798091687,
          0.0002305051213600251,
          0.0006568911304130065,
          0.0003332639033534201,
          0.00028559126178595573,
          0.00045475825154184246
         ],
         "yaxis": "y"
        },
        {
         "hoverlabel": {
          "namelength": 0
         },
         "hovertemplate": "tool=snippy_NZ_CP011134.1<br>sample=%{x}<br>error_rate=%{y}",
         "legendgroup": "snippy_NZ_CP011134.1",
         "line": {
          "color": "#FECB52",
          "dash": "solid"
         },
         "mode": "lines",
         "name": "snippy_NZ_CP011134.1",
         "showlegend": true,
         "type": "scatter",
         "x": [
          "063_STEC",
          "CFT073",
          "Escherichia_coli_MINF_1A",
          "Escherichia_coli_MINF_1D",
          "Escherichia_coli_MINF_2E",
          "Escherichia_coli_MINF_7C",
          "Escherichia_coli_MINF_8D",
          "Escherichia_coli_MINF_9A",
          "Escherichia_coli_MSB1_1A",
          "Escherichia_coli_MSB1_3B",
          "Escherichia_coli_MSB1_3I",
          "Escherichia_coli_MSB1_4E",
          "Escherichia_coli_MSB1_4I",
          "Escherichia_coli_MSB1_6C",
          "Escherichia_coli_MSB1_6J",
          "Escherichia_coli_MSB1_7A",
          "Escherichia_coli_MSB1_7C",
          "Escherichia_coli_MSB1_8B",
          "Escherichia_coli_MSB1_8G",
          "Escherichia_coli_MSB1_9D",
          "Escherichia_coli_MSB1_9I",
          "Escherichia_coli_MSB2_1A",
          "H131800734",
          "ST38"
         ],
         "xaxis": "x",
         "y": [
          0.00048592952691939306,
          0.000433596118859958,
          0.00016215077527470534,
          0.00026387185805920593,
          0.00044804162451217433,
          0.0001377745879578285,
          0.002511908718289546,
          0.0005209352206475558,
          0.0013611786969451867,
          0.00047865601222474297,
          0.05725340445306493,
          0.00042789827938294334,
          0.0005029142673921294,
          0.00017523677222841538,
          0.0122511048214905,
          0.0003624833290197804,
          0.00020575315789217452,
          0.00024208558445515402,
          0.0009528093563426764,
          0.0003198305829456016,
          0.0029615931721196365,
          0.0003044572018320313,
          0.0004813161809748001,
          0.00034899641402386106
         ],
         "yaxis": "y"
        },
        {
         "hoverlabel": {
          "namelength": 0
         },
         "hovertemplate": "tool=snippy_NZ_CP013483.1<br>sample=%{x}<br>error_rate=%{y}",
         "legendgroup": "snippy_NZ_CP013483.1",
         "line": {
          "color": "#636efa",
          "dash": "solid"
         },
         "mode": "lines",
         "name": "snippy_NZ_CP013483.1",
         "showlegend": true,
         "type": "scatter",
         "x": [
          "063_STEC",
          "CFT073",
          "Escherichia_coli_MINF_1A",
          "Escherichia_coli_MINF_1D",
          "Escherichia_coli_MINF_2E",
          "Escherichia_coli_MINF_7C",
          "Escherichia_coli_MINF_8D",
          "Escherichia_coli_MINF_9A",
          "Escherichia_coli_MSB1_1A",
          "Escherichia_coli_MSB1_3B",
          "Escherichia_coli_MSB1_3I",
          "Escherichia_coli_MSB1_4E",
          "Escherichia_coli_MSB1_4I",
          "Escherichia_coli_MSB1_6C",
          "Escherichia_coli_MSB1_6J",
          "Escherichia_coli_MSB1_7A",
          "Escherichia_coli_MSB1_7C",
          "Escherichia_coli_MSB1_8B",
          "Escherichia_coli_MSB1_8G",
          "Escherichia_coli_MSB1_9D",
          "Escherichia_coli_MSB1_9I",
          "Escherichia_coli_MSB2_1A",
          "H131800734",
          "ST38"
         ],
         "xaxis": "x",
         "y": [
          0.00019876061647106091,
          0.00015606857028704899,
          4.3363977210608695e-05,
          0.0004164533612865951,
          0.00037100328281691736,
          0.00011867508221063972,
          0.0004887871691150458,
          0.0001537653284812146,
          0.00019823570224997145,
          0.00010795239447281002,
          0.024793170680297183,
          0.00024072801775398844,
          8.012713505423097e-05,
          0.0001553357766204133,
          0.0066894392257329524,
          0.00016103916058707313,
          6.702786401013851e-05,
          0.00024307904606690742,
          0.0001988565746955384,
          0.0003029817409682112,
          0.002319572493980848,
          0.0002096756097604846,
          0.0004563164730246872,
          0.0001906884928893904
         ],
         "yaxis": "y"
        },
        {
         "hoverlabel": {
          "namelength": 0
         },
         "hovertemplate": "tool=snippy_NZ_CP015228.1<br>sample=%{x}<br>error_rate=%{y}",
         "legendgroup": "snippy_NZ_CP015228.1",
         "line": {
          "color": "#EF553B",
          "dash": "solid"
         },
         "mode": "lines",
         "name": "snippy_NZ_CP015228.1",
         "showlegend": true,
         "type": "scatter",
         "x": [
          "063_STEC",
          "CFT073",
          "Escherichia_coli_MINF_1A",
          "Escherichia_coli_MINF_1D",
          "Escherichia_coli_MINF_2E",
          "Escherichia_coli_MINF_7C",
          "Escherichia_coli_MINF_8D",
          "Escherichia_coli_MINF_9A",
          "Escherichia_coli_MSB1_1A",
          "Escherichia_coli_MSB1_3B",
          "Escherichia_coli_MSB1_3I",
          "Escherichia_coli_MSB1_4E",
          "Escherichia_coli_MSB1_4I",
          "Escherichia_coli_MSB1_6C",
          "Escherichia_coli_MSB1_6J",
          "Escherichia_coli_MSB1_7A",
          "Escherichia_coli_MSB1_7C",
          "Escherichia_coli_MSB1_8B",
          "Escherichia_coli_MSB1_8G",
          "Escherichia_coli_MSB1_9D",
          "Escherichia_coli_MSB1_9I",
          "Escherichia_coli_MSB2_1A",
          "H131800734",
          "ST38"
         ],
         "xaxis": "x",
         "y": [
          0.0004617625119879287,
          0.0001089707110943916,
          0.00010315186246423468,
          7.718787421384654e-05,
          0.0012315232494465313,
          0.00010770673357152205,
          0.00033558509479192367,
          0.00019183922046284169,
          0.0004897221537665253,
          0.00030222111821809333,
          0.029589142171719263,
          0.00031952272030555395,
          0.0008091231677834765,
          0.00010188726565929508,
          0.005302386565063988,
          0.0002410949419517916,
          0.000443699467560621,
          0.0001689046021963181,
          0.0002378422144627689,
          0.0003258607752585352,
          0.0008844980278336355,
          0.0001873073191102081,
          0.0012373085673537119,
          0.00024281585272656342
         ],
         "yaxis": "y"
        },
        {
         "hoverlabel": {
          "namelength": 0
         },
         "hovertemplate": "tool=snippy_NZ_CP016007.1<br>sample=%{x}<br>error_rate=%{y}",
         "legendgroup": "snippy_NZ_CP016007.1",
         "line": {
          "color": "#00cc96",
          "dash": "solid"
         },
         "mode": "lines",
         "name": "snippy_NZ_CP016007.1",
         "showlegend": true,
         "type": "scatter",
         "x": [
          "063_STEC",
          "CFT073",
          "Escherichia_coli_MINF_1A",
          "Escherichia_coli_MINF_1D",
          "Escherichia_coli_MINF_2E",
          "Escherichia_coli_MINF_7C",
          "Escherichia_coli_MINF_8D",
          "Escherichia_coli_MINF_9A",
          "Escherichia_coli_MSB1_1A",
          "Escherichia_coli_MSB1_3B",
          "Escherichia_coli_MSB1_3I",
          "Escherichia_coli_MSB1_4E",
          "Escherichia_coli_MSB1_4I",
          "Escherichia_coli_MSB1_6C",
          "Escherichia_coli_MSB1_6J",
          "Escherichia_coli_MSB1_7A",
          "Escherichia_coli_MSB1_7C",
          "Escherichia_coli_MSB1_8B",
          "Escherichia_coli_MSB1_8G",
          "Escherichia_coli_MSB1_9D",
          "Escherichia_coli_MSB1_9I",
          "Escherichia_coli_MSB2_1A",
          "H131800734",
          "ST38"
         ],
         "xaxis": "x",
         "y": [
          0.0002804175105156625,
          0.0003725351660349707,
          0.0001404738651717974,
          0.002951861943687573,
          5.9715039829932884e-05,
          0.00023885764084607963,
          0.000322904795166723,
          0.0002517874214005289,
          0.000154932814564801,
          0.00017485826195007267,
          0.01652047168041848,
          0.0005895114129409463,
          0.00034674063800277377,
          0.0002391816433774397,
          0.003894959813121157,
          0.00019814977646226417,
          0.0002751459469805262,
          0.00024788865288649653,
          0.00018830419443993665,
          0.00010825504889522275,
          0.0003315566109231005,
          0.00033276219435351967,
          3.128597887569473e-05,
          0.00022649054667378546
         ],
         "yaxis": "y"
        },
        {
         "hoverlabel": {
          "namelength": 0
         },
         "hovertemplate": "tool=snippy_NZ_CP018109.1<br>sample=%{x}<br>error_rate=%{y}",
         "legendgroup": "snippy_NZ_CP018109.1",
         "line": {
          "color": "#ab63fa",
          "dash": "solid"
         },
         "mode": "lines",
         "name": "snippy_NZ_CP018109.1",
         "showlegend": true,
         "type": "scatter",
         "x": [
          "063_STEC",
          "CFT073",
          "Escherichia_coli_MINF_1A",
          "Escherichia_coli_MINF_1D",
          "Escherichia_coli_MINF_2E",
          "Escherichia_coli_MINF_7C",
          "Escherichia_coli_MINF_8D",
          "Escherichia_coli_MINF_9A",
          "Escherichia_coli_MSB1_1A",
          "Escherichia_coli_MSB1_3B",
          "Escherichia_coli_MSB1_3I",
          "Escherichia_coli_MSB1_4E",
          "Escherichia_coli_MSB1_4I",
          "Escherichia_coli_MSB1_6C",
          "Escherichia_coli_MSB1_6J",
          "Escherichia_coli_MSB1_7A",
          "Escherichia_coli_MSB1_7C",
          "Escherichia_coli_MSB1_8B",
          "Escherichia_coli_MSB1_8G",
          "Escherichia_coli_MSB1_9D",
          "Escherichia_coli_MSB1_9I",
          "Escherichia_coli_MSB2_1A",
          "H131800734",
          "ST38"
         ],
         "xaxis": "x",
         "y": [
          0.00017605005926768502,
          0.00021301570923459856,
          0.00018928099724790928,
          0.00022213055814135352,
          0.0006000948174763597,
          0.00025672773613605315,
          0.001855391345758184,
          0.000343879788109458,
          0.004634813985317843,
          0.0003761817357342823,
          0.0826006115977046,
          0.00037387170859382035,
          0.0005147100706310859,
          0.0004132786606747541,
          0.004446946242611882,
          0.00041624270892337556,
          0.0002579247145424457,
          0.00041494544520692683,
          0.005095787413739728,
          0.00035530124336824453,
          0.0007690227495521508,
          0.0002424426092885179,
          0.00038633090998485553,
          0.0002614260919872047
         ],
         "yaxis": "y"
        },
        {
         "hoverlabel": {
          "namelength": 0
         },
         "hovertemplate": "tool=snippy_NZ_LN995446.1<br>sample=%{x}<br>error_rate=%{y}",
         "legendgroup": "snippy_NZ_LN995446.1",
         "line": {
          "color": "#FFA15A",
          "dash": "solid"
         },
         "mode": "lines",
         "name": "snippy_NZ_LN995446.1",
         "showlegend": true,
         "type": "scatter",
         "x": [
          "063_STEC",
          "CFT073",
          "Escherichia_coli_MINF_1A",
          "Escherichia_coli_MINF_1D",
          "Escherichia_coli_MINF_2E",
          "Escherichia_coli_MINF_7C",
          "Escherichia_coli_MINF_8D",
          "Escherichia_coli_MINF_9A",
          "Escherichia_coli_MSB1_1A",
          "Escherichia_coli_MSB1_3B",
          "Escherichia_coli_MSB1_3I",
          "Escherichia_coli_MSB1_4E",
          "Escherichia_coli_MSB1_4I",
          "Escherichia_coli_MSB1_6C",
          "Escherichia_coli_MSB1_6J",
          "Escherichia_coli_MSB1_7A",
          "Escherichia_coli_MSB1_7C",
          "Escherichia_coli_MSB1_8B",
          "Escherichia_coli_MSB1_8G",
          "Escherichia_coli_MSB1_9D",
          "Escherichia_coli_MSB1_9I",
          "Escherichia_coli_MSB2_1A",
          "H131800734",
          "ST38"
         ],
         "xaxis": "x",
         "y": [
          0.00016503721181226894,
          7.436049970255265e-05,
          4.382061861230024e-05,
          9.503838324376179e-05,
          0.0002314708538022625,
          8.094762688537481e-05,
          0.0004601403428045048,
          0.00011353609799136245,
          0.00017628134502667425,
          5.177962591218499e-05,
          0.0928661219358894,
          0.0001837888009986744,
          4.013055808227417e-05,
          7.364460452852217e-05,
          0.007445195091686173,
          0.00011828397252178213,
          7.436533831595149e-05,
          0.00012956556665499883,
          0.00017642907551163045,
          0.0005085266917382869,
          0.000469381860196405,
          6.82146136691264e-05,
          0.00016366221075392318,
          9.991829776534455e-05
         ],
         "yaxis": "y"
        },
        {
         "hoverlabel": {
          "namelength": 0
         },
         "hovertemplate": "tool=snippy_NZ_LT632320.1<br>sample=%{x}<br>error_rate=%{y}",
         "legendgroup": "snippy_NZ_LT632320.1",
         "line": {
          "color": "#19d3f3",
          "dash": "solid"
         },
         "mode": "lines",
         "name": "snippy_NZ_LT632320.1",
         "showlegend": true,
         "type": "scatter",
         "x": [
          "063_STEC",
          "CFT073",
          "Escherichia_coli_MINF_1A",
          "Escherichia_coli_MINF_1D",
          "Escherichia_coli_MINF_2E",
          "Escherichia_coli_MINF_7C",
          "Escherichia_coli_MINF_8D",
          "Escherichia_coli_MINF_9A",
          "Escherichia_coli_MSB1_1A",
          "Escherichia_coli_MSB1_3B",
          "Escherichia_coli_MSB1_3I",
          "Escherichia_coli_MSB1_4E",
          "Escherichia_coli_MSB1_4I",
          "Escherichia_coli_MSB1_6C",
          "Escherichia_coli_MSB1_6J",
          "Escherichia_coli_MSB1_7A",
          "Escherichia_coli_MSB1_7C",
          "Escherichia_coli_MSB1_8B",
          "Escherichia_coli_MSB1_8G",
          "Escherichia_coli_MSB1_9D",
          "Escherichia_coli_MSB1_9I",
          "Escherichia_coli_MSB2_1A",
          "H131800734",
          "ST38"
         ],
         "xaxis": "x",
         "y": [
          0.0006347211818058527,
          0.0004274969989465083,
          0.00027854637977486885,
          0.0004504718099481719,
          0.00022865879670863618,
          0.0003361709589739803,
          0.00034922818815508183,
          0.00010217509442767005,
          0.0002236132019826087,
          0.00023218040929196001,
          0.014674522653950528,
          0.0048529411764706145,
          0.000496796424172774,
          0.00021508518184854,
          0.005424394110840503,
          0.00020925772425106623,
          0.0003809234507898829,
          0.0002599813076730184,
          0.00028932943648241066,
          0.00022181438086443794,
          0.0003248892492021538,
          0.0003988752507778637,
          0.00011417987135731167,
          0.0002281915817148317
         ],
         "yaxis": "y"
        },
        {
         "hoverlabel": {
          "namelength": 0
         },
         "hovertemplate": "tool=snippy_NZ_NG941718.1<br>sample=%{x}<br>error_rate=%{y}",
         "legendgroup": "snippy_NZ_NG941718.1",
         "line": {
          "color": "#FF6692",
          "dash": "solid"
         },
         "mode": "lines",
         "name": "snippy_NZ_NG941718.1",
         "showlegend": true,
         "type": "scatter",
         "x": [
          "063_STEC",
          "CFT073",
          "Escherichia_coli_MINF_1A",
          "Escherichia_coli_MINF_1D",
          "Escherichia_coli_MINF_2E",
          "Escherichia_coli_MINF_7C",
          "Escherichia_coli_MINF_8D",
          "Escherichia_coli_MINF_9A",
          "Escherichia_coli_MSB1_1A",
          "Escherichia_coli_MSB1_3B",
          "Escherichia_coli_MSB1_3I",
          "Escherichia_coli_MSB1_4E",
          "Escherichia_coli_MSB1_4I",
          "Escherichia_coli_MSB1_6C",
          "Escherichia_coli_MSB1_6J",
          "Escherichia_coli_MSB1_7A",
          "Escherichia_coli_MSB1_7C",
          "Escherichia_coli_MSB1_8B",
          "Escherichia_coli_MSB1_8G",
          "Escherichia_coli_MSB1_9D",
          "Escherichia_coli_MSB1_9I",
          "Escherichia_coli_MSB2_1A",
          "H131800734",
          "ST38"
         ],
         "xaxis": "x",
         "y": [
          0.0008065677660953341,
          0.0004474245804636512,
          0.00029153947771043415,
          0.0004240482472672724,
          0.0002396105054761621,
          0.0003994375792142346,
          0.00037338693355093433,
          0.00014160010346830898,
          0.00024048844838264752,
          0.00029196218937055374,
          0.014619015618064004,
          0.006587677725118479,
          0.0005621529495848376,
          0.00021420632514923546,
          0.005382426385772797,
          0.00028086936139604124,
          0.00037829880175221936,
          0.00024549918166938406,
          0.00035540528770583446,
          0.00023289295392958653,
          0.0003636473649178962,
          0.0003725665521515653,
          0.00011794489446026456,
          0.00026394987419209315
         ],
         "yaxis": "y"
        }
       ],
       "layout": {
        "legend": {
         "title": {
          "text": "tool"
         },
         "tracegroupgap": 0
        },
        "margin": {
         "t": 60
        },
        "template": {
         "data": {
          "bar": [
           {
            "error_x": {
             "color": "#2a3f5f"
            },
            "error_y": {
             "color": "#2a3f5f"
            },
            "marker": {
             "line": {
              "color": "#E5ECF6",
              "width": 0.5
             }
            },
            "type": "bar"
           }
          ],
          "barpolar": [
           {
            "marker": {
             "line": {
              "color": "#E5ECF6",
              "width": 0.5
             }
            },
            "type": "barpolar"
           }
          ],
          "carpet": [
           {
            "aaxis": {
             "endlinecolor": "#2a3f5f",
             "gridcolor": "white",
             "linecolor": "white",
             "minorgridcolor": "white",
             "startlinecolor": "#2a3f5f"
            },
            "baxis": {
             "endlinecolor": "#2a3f5f",
             "gridcolor": "white",
             "linecolor": "white",
             "minorgridcolor": "white",
             "startlinecolor": "#2a3f5f"
            },
            "type": "carpet"
           }
          ],
          "choropleth": [
           {
            "colorbar": {
             "outlinewidth": 0,
             "ticks": ""
            },
            "type": "choropleth"
           }
          ],
          "contour": [
           {
            "colorbar": {
             "outlinewidth": 0,
             "ticks": ""
            },
            "colorscale": [
             [
              0,
              "#0d0887"
             ],
             [
              0.1111111111111111,
              "#46039f"
             ],
             [
              0.2222222222222222,
              "#7201a8"
             ],
             [
              0.3333333333333333,
              "#9c179e"
             ],
             [
              0.4444444444444444,
              "#bd3786"
             ],
             [
              0.5555555555555556,
              "#d8576b"
             ],
             [
              0.6666666666666666,
              "#ed7953"
             ],
             [
              0.7777777777777778,
              "#fb9f3a"
             ],
             [
              0.8888888888888888,
              "#fdca26"
             ],
             [
              1,
              "#f0f921"
             ]
            ],
            "type": "contour"
           }
          ],
          "contourcarpet": [
           {
            "colorbar": {
             "outlinewidth": 0,
             "ticks": ""
            },
            "type": "contourcarpet"
           }
          ],
          "heatmap": [
           {
            "colorbar": {
             "outlinewidth": 0,
             "ticks": ""
            },
            "colorscale": [
             [
              0,
              "#0d0887"
             ],
             [
              0.1111111111111111,
              "#46039f"
             ],
             [
              0.2222222222222222,
              "#7201a8"
             ],
             [
              0.3333333333333333,
              "#9c179e"
             ],
             [
              0.4444444444444444,
              "#bd3786"
             ],
             [
              0.5555555555555556,
              "#d8576b"
             ],
             [
              0.6666666666666666,
              "#ed7953"
             ],
             [
              0.7777777777777778,
              "#fb9f3a"
             ],
             [
              0.8888888888888888,
              "#fdca26"
             ],
             [
              1,
              "#f0f921"
             ]
            ],
            "type": "heatmap"
           }
          ],
          "heatmapgl": [
           {
            "colorbar": {
             "outlinewidth": 0,
             "ticks": ""
            },
            "colorscale": [
             [
              0,
              "#0d0887"
             ],
             [
              0.1111111111111111,
              "#46039f"
             ],
             [
              0.2222222222222222,
              "#7201a8"
             ],
             [
              0.3333333333333333,
              "#9c179e"
             ],
             [
              0.4444444444444444,
              "#bd3786"
             ],
             [
              0.5555555555555556,
              "#d8576b"
             ],
             [
              0.6666666666666666,
              "#ed7953"
             ],
             [
              0.7777777777777778,
              "#fb9f3a"
             ],
             [
              0.8888888888888888,
              "#fdca26"
             ],
             [
              1,
              "#f0f921"
             ]
            ],
            "type": "heatmapgl"
           }
          ],
          "histogram": [
           {
            "marker": {
             "colorbar": {
              "outlinewidth": 0,
              "ticks": ""
             }
            },
            "type": "histogram"
           }
          ],
          "histogram2d": [
           {
            "colorbar": {
             "outlinewidth": 0,
             "ticks": ""
            },
            "colorscale": [
             [
              0,
              "#0d0887"
             ],
             [
              0.1111111111111111,
              "#46039f"
             ],
             [
              0.2222222222222222,
              "#7201a8"
             ],
             [
              0.3333333333333333,
              "#9c179e"
             ],
             [
              0.4444444444444444,
              "#bd3786"
             ],
             [
              0.5555555555555556,
              "#d8576b"
             ],
             [
              0.6666666666666666,
              "#ed7953"
             ],
             [
              0.7777777777777778,
              "#fb9f3a"
             ],
             [
              0.8888888888888888,
              "#fdca26"
             ],
             [
              1,
              "#f0f921"
             ]
            ],
            "type": "histogram2d"
           }
          ],
          "histogram2dcontour": [
           {
            "colorbar": {
             "outlinewidth": 0,
             "ticks": ""
            },
            "colorscale": [
             [
              0,
              "#0d0887"
             ],
             [
              0.1111111111111111,
              "#46039f"
             ],
             [
              0.2222222222222222,
              "#7201a8"
             ],
             [
              0.3333333333333333,
              "#9c179e"
             ],
             [
              0.4444444444444444,
              "#bd3786"
             ],
             [
              0.5555555555555556,
              "#d8576b"
             ],
             [
              0.6666666666666666,
              "#ed7953"
             ],
             [
              0.7777777777777778,
              "#fb9f3a"
             ],
             [
              0.8888888888888888,
              "#fdca26"
             ],
             [
              1,
              "#f0f921"
             ]
            ],
            "type": "histogram2dcontour"
           }
          ],
          "mesh3d": [
           {
            "colorbar": {
             "outlinewidth": 0,
             "ticks": ""
            },
            "type": "mesh3d"
           }
          ],
          "parcoords": [
           {
            "line": {
             "colorbar": {
              "outlinewidth": 0,
              "ticks": ""
             }
            },
            "type": "parcoords"
           }
          ],
          "pie": [
           {
            "automargin": true,
            "type": "pie"
           }
          ],
          "scatter": [
           {
            "marker": {
             "colorbar": {
              "outlinewidth": 0,
              "ticks": ""
             }
            },
            "type": "scatter"
           }
          ],
          "scatter3d": [
           {
            "line": {
             "colorbar": {
              "outlinewidth": 0,
              "ticks": ""
             }
            },
            "marker": {
             "colorbar": {
              "outlinewidth": 0,
              "ticks": ""
             }
            },
            "type": "scatter3d"
           }
          ],
          "scattercarpet": [
           {
            "marker": {
             "colorbar": {
              "outlinewidth": 0,
              "ticks": ""
             }
            },
            "type": "scattercarpet"
           }
          ],
          "scattergeo": [
           {
            "marker": {
             "colorbar": {
              "outlinewidth": 0,
              "ticks": ""
             }
            },
            "type": "scattergeo"
           }
          ],
          "scattergl": [
           {
            "marker": {
             "colorbar": {
              "outlinewidth": 0,
              "ticks": ""
             }
            },
            "type": "scattergl"
           }
          ],
          "scattermapbox": [
           {
            "marker": {
             "colorbar": {
              "outlinewidth": 0,
              "ticks": ""
             }
            },
            "type": "scattermapbox"
           }
          ],
          "scatterpolar": [
           {
            "marker": {
             "colorbar": {
              "outlinewidth": 0,
              "ticks": ""
             }
            },
            "type": "scatterpolar"
           }
          ],
          "scatterpolargl": [
           {
            "marker": {
             "colorbar": {
              "outlinewidth": 0,
              "ticks": ""
             }
            },
            "type": "scatterpolargl"
           }
          ],
          "scatterternary": [
           {
            "marker": {
             "colorbar": {
              "outlinewidth": 0,
              "ticks": ""
             }
            },
            "type": "scatterternary"
           }
          ],
          "surface": [
           {
            "colorbar": {
             "outlinewidth": 0,
             "ticks": ""
            },
            "colorscale": [
             [
              0,
              "#0d0887"
             ],
             [
              0.1111111111111111,
              "#46039f"
             ],
             [
              0.2222222222222222,
              "#7201a8"
             ],
             [
              0.3333333333333333,
              "#9c179e"
             ],
             [
              0.4444444444444444,
              "#bd3786"
             ],
             [
              0.5555555555555556,
              "#d8576b"
             ],
             [
              0.6666666666666666,
              "#ed7953"
             ],
             [
              0.7777777777777778,
              "#fb9f3a"
             ],
             [
              0.8888888888888888,
              "#fdca26"
             ],
             [
              1,
              "#f0f921"
             ]
            ],
            "type": "surface"
           }
          ],
          "table": [
           {
            "cells": {
             "fill": {
              "color": "#EBF0F8"
             },
             "line": {
              "color": "white"
             }
            },
            "header": {
             "fill": {
              "color": "#C8D4E3"
             },
             "line": {
              "color": "white"
             }
            },
            "type": "table"
           }
          ]
         },
         "layout": {
          "annotationdefaults": {
           "arrowcolor": "#2a3f5f",
           "arrowhead": 0,
           "arrowwidth": 1
          },
          "coloraxis": {
           "colorbar": {
            "outlinewidth": 0,
            "ticks": ""
           }
          },
          "colorscale": {
           "diverging": [
            [
             0,
             "#8e0152"
            ],
            [
             0.1,
             "#c51b7d"
            ],
            [
             0.2,
             "#de77ae"
            ],
            [
             0.3,
             "#f1b6da"
            ],
            [
             0.4,
             "#fde0ef"
            ],
            [
             0.5,
             "#f7f7f7"
            ],
            [
             0.6,
             "#e6f5d0"
            ],
            [
             0.7,
             "#b8e186"
            ],
            [
             0.8,
             "#7fbc41"
            ],
            [
             0.9,
             "#4d9221"
            ],
            [
             1,
             "#276419"
            ]
           ],
           "sequential": [
            [
             0,
             "#0d0887"
            ],
            [
             0.1111111111111111,
             "#46039f"
            ],
            [
             0.2222222222222222,
             "#7201a8"
            ],
            [
             0.3333333333333333,
             "#9c179e"
            ],
            [
             0.4444444444444444,
             "#bd3786"
            ],
            [
             0.5555555555555556,
             "#d8576b"
            ],
            [
             0.6666666666666666,
             "#ed7953"
            ],
            [
             0.7777777777777778,
             "#fb9f3a"
            ],
            [
             0.8888888888888888,
             "#fdca26"
            ],
            [
             1,
             "#f0f921"
            ]
           ],
           "sequentialminus": [
            [
             0,
             "#0d0887"
            ],
            [
             0.1111111111111111,
             "#46039f"
            ],
            [
             0.2222222222222222,
             "#7201a8"
            ],
            [
             0.3333333333333333,
             "#9c179e"
            ],
            [
             0.4444444444444444,
             "#bd3786"
            ],
            [
             0.5555555555555556,
             "#d8576b"
            ],
            [
             0.6666666666666666,
             "#ed7953"
            ],
            [
             0.7777777777777778,
             "#fb9f3a"
            ],
            [
             0.8888888888888888,
             "#fdca26"
            ],
            [
             1,
             "#f0f921"
            ]
           ]
          },
          "colorway": [
           "#636efa",
           "#EF553B",
           "#00cc96",
           "#ab63fa",
           "#FFA15A",
           "#19d3f3",
           "#FF6692",
           "#B6E880",
           "#FF97FF",
           "#FECB52"
          ],
          "font": {
           "color": "#2a3f5f"
          },
          "geo": {
           "bgcolor": "white",
           "lakecolor": "white",
           "landcolor": "#E5ECF6",
           "showlakes": true,
           "showland": true,
           "subunitcolor": "white"
          },
          "hoverlabel": {
           "align": "left"
          },
          "hovermode": "closest",
          "mapbox": {
           "style": "light"
          },
          "paper_bgcolor": "white",
          "plot_bgcolor": "#E5ECF6",
          "polar": {
           "angularaxis": {
            "gridcolor": "white",
            "linecolor": "white",
            "ticks": ""
           },
           "bgcolor": "#E5ECF6",
           "radialaxis": {
            "gridcolor": "white",
            "linecolor": "white",
            "ticks": ""
           }
          },
          "scene": {
           "xaxis": {
            "backgroundcolor": "#E5ECF6",
            "gridcolor": "white",
            "gridwidth": 2,
            "linecolor": "white",
            "showbackground": true,
            "ticks": "",
            "zerolinecolor": "white"
           },
           "yaxis": {
            "backgroundcolor": "#E5ECF6",
            "gridcolor": "white",
            "gridwidth": 2,
            "linecolor": "white",
            "showbackground": true,
            "ticks": "",
            "zerolinecolor": "white"
           },
           "zaxis": {
            "backgroundcolor": "#E5ECF6",
            "gridcolor": "white",
            "gridwidth": 2,
            "linecolor": "white",
            "showbackground": true,
            "ticks": "",
            "zerolinecolor": "white"
           }
          },
          "shapedefaults": {
           "line": {
            "color": "#2a3f5f"
           }
          },
          "ternary": {
           "aaxis": {
            "gridcolor": "white",
            "linecolor": "white",
            "ticks": ""
           },
           "baxis": {
            "gridcolor": "white",
            "linecolor": "white",
            "ticks": ""
           },
           "bgcolor": "#E5ECF6",
           "caxis": {
            "gridcolor": "white",
            "linecolor": "white",
            "ticks": ""
           }
          },
          "title": {
           "x": 0.05
          },
          "xaxis": {
           "automargin": true,
           "gridcolor": "white",
           "linecolor": "white",
           "ticks": "",
           "title": {
            "standoff": 15
           },
           "zerolinecolor": "white",
           "zerolinewidth": 2
          },
          "yaxis": {
           "automargin": true,
           "gridcolor": "white",
           "linecolor": "white",
           "ticks": "",
           "title": {
            "standoff": 15
           },
           "zerolinecolor": "white",
           "zerolinewidth": 2
          }
         }
        },
        "xaxis": {
         "anchor": "y",
         "domain": [
          0,
          1
         ],
         "title": {
          "text": "sample"
         }
        },
        "yaxis": {
         "anchor": "x",
         "domain": [
          0,
          1
         ],
         "title": {
          "text": "error_rate"
         }
        }
       }
      },
      "text/html": [
       "<div>\n",
       "        \n",
       "        \n",
       "            <div id=\"88e0340c-d126-4a0e-b803-5a197661ef78\" class=\"plotly-graph-div\" style=\"height:525px; width:100%;\"></div>\n",
       "            <script type=\"text/javascript\">\n",
       "                require([\"plotly\"], function(Plotly) {\n",
       "                    window.PLOTLYENV=window.PLOTLYENV || {};\n",
       "                    \n",
       "                if (document.getElementById(\"88e0340c-d126-4a0e-b803-5a197661ef78\")) {\n",
       "                    Plotly.newPlot(\n",
       "                        '88e0340c-d126-4a0e-b803-5a197661ef78',\n",
       "                        [{\"hoverlabel\": {\"namelength\": 0}, \"hovertemplate\": \"tool=pandora_illumina_nodenovo_global_genotyping<br>sample=%{x}<br>error_rate=%{y}\", \"legendgroup\": \"pandora_illumina_nodenovo_global_genotyping\", \"line\": {\"color\": \"#636efa\", \"dash\": \"solid\"}, \"mode\": \"lines\", \"name\": \"pandora_illumina_nodenovo_global_genotyping\", \"showlegend\": true, \"type\": \"scatter\", \"x\": [\"063_STEC\", \"CFT073\", \"Escherichia_coli_MINF_1A\", \"Escherichia_coli_MINF_1D\", \"Escherichia_coli_MINF_2E\", \"Escherichia_coli_MINF_7C\", \"Escherichia_coli_MINF_8D\", \"Escherichia_coli_MINF_9A\", \"Escherichia_coli_MSB1_1A\", \"Escherichia_coli_MSB1_3B\", \"Escherichia_coli_MSB1_3I\", \"Escherichia_coli_MSB1_4E\", \"Escherichia_coli_MSB1_4I\", \"Escherichia_coli_MSB1_6C\", \"Escherichia_coli_MSB1_6J\", \"Escherichia_coli_MSB1_7A\", \"Escherichia_coli_MSB1_7C\", \"Escherichia_coli_MSB1_8B\", \"Escherichia_coli_MSB1_8G\", \"Escherichia_coli_MSB1_9D\", \"Escherichia_coli_MSB1_9I\", \"Escherichia_coli_MSB2_1A\", \"H131800734\", \"ST38\"], \"xaxis\": \"x\", \"y\": [0.006219881058896259, 0.006483085735223382, 0.006022361781309105, 0.006756243327794342, 0.005988584772116501, 0.005671537717816699, 0.005145194596740898, 0.005382671771376746, 0.004475843156284465, 0.006149786896393228, 0.05004821816224192, 0.005963410367458621, 0.007410247420586047, 0.006292600836330431, 0.02121265524148708, 0.006070082099972729, 0.006580136249591306, 0.006587067870396314, 0.0045101983867796855, 0.005400521984216478, 0.010091022350519174, 0.006242440008053407, 0.005162790322690736, 0.005318890960261613], \"yaxis\": \"y\"}, {\"hoverlabel\": {\"namelength\": 0}, \"hovertemplate\": \"tool=pandora_illumina_withdenovo_global_genotyping<br>sample=%{x}<br>error_rate=%{y}\", \"legendgroup\": \"pandora_illumina_withdenovo_global_genotyping\", \"line\": {\"color\": \"#EF553B\", \"dash\": \"solid\"}, \"mode\": \"lines\", \"name\": \"pandora_illumina_withdenovo_global_genotyping\", \"showlegend\": true, \"type\": \"scatter\", \"x\": [\"063_STEC\", \"CFT073\", \"Escherichia_coli_MINF_1A\", \"Escherichia_coli_MINF_1D\", \"Escherichia_coli_MINF_2E\", \"Escherichia_coli_MINF_7C\", \"Escherichia_coli_MINF_8D\", \"Escherichia_coli_MINF_9A\", \"Escherichia_coli_MSB1_1A\", \"Escherichia_coli_MSB1_3B\", \"Escherichia_coli_MSB1_3I\", \"Escherichia_coli_MSB1_4E\", \"Escherichia_coli_MSB1_4I\", \"Escherichia_coli_MSB1_6C\", \"Escherichia_coli_MSB1_6J\", \"Escherichia_coli_MSB1_7A\", \"Escherichia_coli_MSB1_7C\", \"Escherichia_coli_MSB1_8B\", \"Escherichia_coli_MSB1_8G\", \"Escherichia_coli_MSB1_9D\", \"Escherichia_coli_MSB1_9I\", \"Escherichia_coli_MSB2_1A\", \"H131800734\", \"ST38\"], \"xaxis\": \"x\", \"y\": [0.006214741052725348, 0.006620362390100998, 0.006100602507648878, 0.006694317203596034, 0.005921653565388762, 0.005477721966479554, 0.004965653245372126, 0.0056407532098338145, 0.00466392459533993, 0.006214962102834898, 0.052225535053692096, 0.006077550244435792, 0.007183177729798262, 0.006377848375928807, 0.01938030136951629, 0.006177907148527839, 0.006653879919906958, 0.006324776210942074, 0.004642115841782425, 0.005356217466650714, 0.008728103343349614, 0.006072099372935957, 0.005151229679114744, 0.0054452446553018286], \"yaxis\": \"y\"}, {\"hoverlabel\": {\"namelength\": 0}, \"hovertemplate\": \"tool=snippy_CN928163.2<br>sample=%{x}<br>error_rate=%{y}\", \"legendgroup\": \"snippy_CN928163.2\", \"line\": {\"color\": \"#00cc96\", \"dash\": \"solid\"}, \"mode\": \"lines\", \"name\": \"snippy_CN928163.2\", \"showlegend\": true, \"type\": \"scatter\", \"x\": [\"063_STEC\", \"CFT073\", \"Escherichia_coli_MINF_1A\", \"Escherichia_coli_MINF_1D\", \"Escherichia_coli_MINF_2E\", \"Escherichia_coli_MINF_7C\", \"Escherichia_coli_MINF_8D\", \"Escherichia_coli_MINF_9A\", \"Escherichia_coli_MSB1_1A\", \"Escherichia_coli_MSB1_3B\", \"Escherichia_coli_MSB1_3I\", \"Escherichia_coli_MSB1_4E\", \"Escherichia_coli_MSB1_4I\", \"Escherichia_coli_MSB1_6C\", \"Escherichia_coli_MSB1_6J\", \"Escherichia_coli_MSB1_7A\", \"Escherichia_coli_MSB1_7C\", \"Escherichia_coli_MSB1_8B\", \"Escherichia_coli_MSB1_8G\", \"Escherichia_coli_MSB1_9D\", \"Escherichia_coli_MSB1_9I\", \"Escherichia_coli_MSB2_1A\", \"H131800734\", \"ST38\"], \"xaxis\": \"x\", \"y\": [0.00043622937182152816, 0.000337718173268331, 0.00013767400464470558, 0.00029308807973582596, 0.0002764037143105913, 0.00047348951911208026, 0.0002354721441464313, 0.00024214454605020475, 0.00018928750998203903, 0.0004992321892746121, 0.016861994691730775, 0.00033665761752454953, 0.0003450876593809049, 0.0003269133772952904, 0.004473894427402758, 0.0005768196022432057, 0.0018302828618967926, 0.000220156440576491, 0.0002206583969466269, 0.00014171989638844806, 0.0003326679973386648, 0.00012294036936755237, 9.87347842644759e-05, 0.00028212830540375045], \"yaxis\": \"y\"}, {\"hoverlabel\": {\"namelength\": 0}, \"hovertemplate\": \"tool=snippy_CP010116.1<br>sample=%{x}<br>error_rate=%{y}\", \"legendgroup\": \"snippy_CP010116.1\", \"line\": {\"color\": \"#ab63fa\", \"dash\": \"solid\"}, \"mode\": \"lines\", \"name\": \"snippy_CP010116.1\", \"showlegend\": true, \"type\": \"scatter\", \"x\": [\"063_STEC\", \"CFT073\", \"Escherichia_coli_MINF_1A\", \"Escherichia_coli_MINF_1D\", \"Escherichia_coli_MINF_2E\", \"Escherichia_coli_MINF_7C\", \"Escherichia_coli_MINF_8D\", \"Escherichia_coli_MINF_9A\", \"Escherichia_coli_MSB1_1A\", \"Escherichia_coli_MSB1_3B\", \"Escherichia_coli_MSB1_3I\", \"Escherichia_coli_MSB1_4E\", \"Escherichia_coli_MSB1_4I\", \"Escherichia_coli_MSB1_6C\", \"Escherichia_coli_MSB1_6J\", \"Escherichia_coli_MSB1_7A\", \"Escherichia_coli_MSB1_7C\", \"Escherichia_coli_MSB1_8B\", \"Escherichia_coli_MSB1_8G\", \"Escherichia_coli_MSB1_9D\", \"Escherichia_coli_MSB1_9I\", \"Escherichia_coli_MSB2_1A\", \"H131800734\", \"ST38\"], \"xaxis\": \"x\", \"y\": [0.00033058945624431235, 0.00025247055925736733, 0.00021419798933031145, 0.0002631689050668351, 0.0003008584232397915, 0.0001880225627075572, 8.3776354052989e-05, 0.0002929134085410956, 0.00011917325624666296, 0.00026333789329691104, 0.014091596327335696, 0.00015598477825595758, 0.00013355100899647976, 0.0005107289829511252, 0.0016679564363880628, 0.00024593523705429554, 0.00024121430812684697, 0.0002757478820606396, 8.872989852870551e-05, 0.0003350848386718397, 0.0001960518180036397, 0.00013359071384733134, 0.00017572399319376597, 0.0002294104152328336], \"yaxis\": \"y\"}, {\"hoverlabel\": {\"namelength\": 0}, \"hovertemplate\": \"tool=snippy_CP010121.1<br>sample=%{x}<br>error_rate=%{y}\", \"legendgroup\": \"snippy_CP010121.1\", \"line\": {\"color\": \"#FFA15A\", \"dash\": \"solid\"}, \"mode\": \"lines\", \"name\": \"snippy_CP010121.1\", \"showlegend\": true, \"type\": \"scatter\", \"x\": [\"063_STEC\", \"CFT073\", \"Escherichia_coli_MINF_1A\", \"Escherichia_coli_MINF_1D\", \"Escherichia_coli_MINF_2E\", \"Escherichia_coli_MINF_7C\", \"Escherichia_coli_MINF_8D\", \"Escherichia_coli_MINF_9A\", \"Escherichia_coli_MSB1_1A\", \"Escherichia_coli_MSB1_3B\", \"Escherichia_coli_MSB1_3I\", \"Escherichia_coli_MSB1_4E\", \"Escherichia_coli_MSB1_4I\", \"Escherichia_coli_MSB1_6C\", \"Escherichia_coli_MSB1_6J\", \"Escherichia_coli_MSB1_7A\", \"Escherichia_coli_MSB1_7C\", \"Escherichia_coli_MSB1_8B\", \"Escherichia_coli_MSB1_8G\", \"Escherichia_coli_MSB1_9D\", \"Escherichia_coli_MSB1_9I\", \"Escherichia_coli_MSB2_1A\", \"H131800734\", \"ST38\"], \"xaxis\": \"x\", \"y\": [0.00040352812774324676, 0.00016060350207425245, 0.00014930451458794458, 0.00020919231135163585, 0.00025355628949630393, 0.00015559875800719158, 7.793455309956787e-05, 0.0001687397550861336, 7.628910274259937e-05, 0.0003536403779010877, 0.019352884010747085, 0.00016293683662871317, 0.0004389065387656599, 0.0002996898275799964, 0.0031225420157454664, 0.0003676517807831292, 0.00017233516803993876, 0.00046279665684811916, 6.16533348961612e-05, 3.973299427839638e-05, 0.0002822227866677851, 0.00016263376112191086, 5.5343405833241384e-05, 0.00025764276100748157], \"yaxis\": \"y\"}, {\"hoverlabel\": {\"namelength\": 0}, \"hovertemplate\": \"tool=snippy_CP010170.1<br>sample=%{x}<br>error_rate=%{y}\", \"legendgroup\": \"snippy_CP010170.1\", \"line\": {\"color\": \"#19d3f3\", \"dash\": \"solid\"}, \"mode\": \"lines\", \"name\": \"snippy_CP010170.1\", \"showlegend\": true, \"type\": \"scatter\", \"x\": [\"063_STEC\", \"CFT073\", \"Escherichia_coli_MINF_1A\", \"Escherichia_coli_MINF_1D\", \"Escherichia_coli_MINF_2E\", \"Escherichia_coli_MINF_7C\", \"Escherichia_coli_MINF_8D\", \"Escherichia_coli_MINF_9A\", \"Escherichia_coli_MSB1_1A\", \"Escherichia_coli_MSB1_3B\", \"Escherichia_coli_MSB1_3I\", \"Escherichia_coli_MSB1_4E\", \"Escherichia_coli_MSB1_4I\", \"Escherichia_coli_MSB1_6C\", \"Escherichia_coli_MSB1_6J\", \"Escherichia_coli_MSB1_7A\", \"Escherichia_coli_MSB1_7C\", \"Escherichia_coli_MSB1_8B\", \"Escherichia_coli_MSB1_8G\", \"Escherichia_coli_MSB1_9D\", \"Escherichia_coli_MSB1_9I\", \"Escherichia_coli_MSB2_1A\", \"H131800734\", \"ST38\"], \"xaxis\": \"x\", \"y\": [0.00015264544402582292, 2.659799547832797e-05, 2.674798052748617e-05, 9.040171832264132e-05, 0.00015778314678771554, 1.32984028617944e-05, 8.361384429478315e-05, 0.00022279446106454603, 0.00013624199832451556, 7.12560864573053e-05, 0.04234417907963739, 9.056529880424602e-05, 0.0001695202576708077, 1.3192438094500325e-05, 0.0033573534228628077, 5.275026704820718e-05, 0.00020831918121499982, 7.986347549049366e-05, 0.0001362021158084481, 0.0003279046890370952, 0.00017946877243357748, 1.2783636944679875e-05, 0.00014438869436528282, 5.543387144757439e-05], \"yaxis\": \"y\"}, {\"hoverlabel\": {\"namelength\": 0}, \"hovertemplate\": \"tool=snippy_CP010171.1<br>sample=%{x}<br>error_rate=%{y}\", \"legendgroup\": \"snippy_CP010171.1\", \"line\": {\"color\": \"#FF6692\", \"dash\": \"solid\"}, \"mode\": \"lines\", \"name\": \"snippy_CP010171.1\", \"showlegend\": true, \"type\": \"scatter\", \"x\": [\"063_STEC\", \"CFT073\", \"Escherichia_coli_MINF_1A\", \"Escherichia_coli_MINF_1D\", \"Escherichia_coli_MINF_2E\", \"Escherichia_coli_MINF_7C\", \"Escherichia_coli_MINF_8D\", \"Escherichia_coli_MINF_9A\", \"Escherichia_coli_MSB1_1A\", \"Escherichia_coli_MSB1_3B\", \"Escherichia_coli_MSB1_3I\", \"Escherichia_coli_MSB1_4E\", \"Escherichia_coli_MSB1_4I\", \"Escherichia_coli_MSB1_6C\", \"Escherichia_coli_MSB1_6J\", \"Escherichia_coli_MSB1_7A\", \"Escherichia_coli_MSB1_7C\", \"Escherichia_coli_MSB1_8B\", \"Escherichia_coli_MSB1_8G\", \"Escherichia_coli_MSB1_9D\", \"Escherichia_coli_MSB1_9I\", \"Escherichia_coli_MSB2_1A\", \"H131800734\", \"ST38\"], \"xaxis\": \"x\", \"y\": [0.00017524087880504968, 8.822556335696952e-05, 5.7641851959888683e-05, 0.00010837828390475313, 0.00012795187213787695, 5.718009069033414e-05, 0.0008612853376966934, 7.617886798205742e-05, 0.0004538823147998139, 0.00015172829283782718, 0.10356349206349202, 0.00017777338831137524, 4.6226365956636435e-05, 0.00011593002042398215, 0.004195026619044362, 0.00017830743612434752, 6.500949093257713e-05, 0.0002580275229357998, 0.0003892438937364018, 0.0008029358758796513, 0.0015027322404371768, 6.455027821172798e-05, 0.00018813967489461622, 0.00013549033953874634], \"yaxis\": \"y\"}, {\"hoverlabel\": {\"namelength\": 0}, \"hovertemplate\": \"tool=snippy_CP010226.1<br>sample=%{x}<br>error_rate=%{y}\", \"legendgroup\": \"snippy_CP010226.1\", \"line\": {\"color\": \"#B6E880\", \"dash\": \"solid\"}, \"mode\": \"lines\", \"name\": \"snippy_CP010226.1\", \"showlegend\": true, \"type\": \"scatter\", \"x\": [\"063_STEC\", \"CFT073\", \"Escherichia_coli_MINF_1A\", \"Escherichia_coli_MINF_1D\", \"Escherichia_coli_MINF_2E\", \"Escherichia_coli_MINF_7C\", \"Escherichia_coli_MINF_8D\", \"Escherichia_coli_MINF_9A\", \"Escherichia_coli_MSB1_1A\", \"Escherichia_coli_MSB1_3B\", \"Escherichia_coli_MSB1_3I\", \"Escherichia_coli_MSB1_4E\", \"Escherichia_coli_MSB1_4I\", \"Escherichia_coli_MSB1_6C\", \"Escherichia_coli_MSB1_6J\", \"Escherichia_coli_MSB1_7A\", \"Escherichia_coli_MSB1_7C\", \"Escherichia_coli_MSB1_8B\", \"Escherichia_coli_MSB1_8G\", \"Escherichia_coli_MSB1_9D\", \"Escherichia_coli_MSB1_9I\", \"Escherichia_coli_MSB2_1A\", \"H131800734\", \"ST38\"], \"xaxis\": \"x\", \"y\": [9.308089674220366e-05, 5.3321520565585714e-05, 2.9744602030756795e-05, 0.00028732259628905243, 3.474071843800885e-05, 6.811246730598075e-05, 0.0002674574103146421, 8.802128158991174e-05, 0.00017568825875380334, 4.090091072694868e-05, 0.034323307081633336, 2.494792121443545e-05, 3.971300733363048e-05, 0.0, 0.004075015336079235, 4.087249145079408e-05, 0.00018575134333886909, 9.372437224197672e-05, 0.00011080332409962869, 0.0009046424606274917, 0.00040369714278831736, 4.167589179893128e-05, 0.0025881591717891173, 6.942130400977574e-05], \"yaxis\": \"y\"}, {\"hoverlabel\": {\"namelength\": 0}, \"hovertemplate\": \"tool=snippy_CP010230.1<br>sample=%{x}<br>error_rate=%{y}\", \"legendgroup\": \"snippy_CP010230.1\", \"line\": {\"color\": \"#FF97FF\", \"dash\": \"solid\"}, \"mode\": \"lines\", \"name\": \"snippy_CP010230.1\", \"showlegend\": true, \"type\": \"scatter\", \"x\": [\"063_STEC\", \"CFT073\", \"Escherichia_coli_MINF_1A\", \"Escherichia_coli_MINF_1D\", \"Escherichia_coli_MINF_2E\", \"Escherichia_coli_MINF_7C\", \"Escherichia_coli_MINF_8D\", \"Escherichia_coli_MINF_9A\", \"Escherichia_coli_MSB1_1A\", \"Escherichia_coli_MSB1_3B\", \"Escherichia_coli_MSB1_3I\", \"Escherichia_coli_MSB1_4E\", \"Escherichia_coli_MSB1_4I\", \"Escherichia_coli_MSB1_6C\", \"Escherichia_coli_MSB1_6J\", \"Escherichia_coli_MSB1_7A\", \"Escherichia_coli_MSB1_7C\", \"Escherichia_coli_MSB1_8B\", \"Escherichia_coli_MSB1_8G\", \"Escherichia_coli_MSB1_9D\", \"Escherichia_coli_MSB1_9I\", \"Escherichia_coli_MSB2_1A\", \"H131800734\", \"ST38\"], \"xaxis\": \"x\", \"y\": [0.00041489601937960696, 8.562062723227458e-05, 5.297732570463953e-05, 0.00010856715481677437, 0.00016560414082877895, 9.043810803477378e-05, 6.945070126440633e-05, 4.165885563289783e-06, 0.00024029697391536603, 8.496312920802662e-05, 0.03124275741217042, 8.984890714403004e-05, 6.847351145022884e-05, 5.968820173962718e-05, 0.0038519830890597633, 6.572872313137523e-05, 0.000182833861590348, 0.0001624045873049873, 0.00024027308278651294, 9.36907291880784e-05, 0.00015258672648077454, 5.01454217229913e-05, 0.0, 6.761035328883835e-05], \"yaxis\": \"y\"}, {\"hoverlabel\": {\"namelength\": 0}, \"hovertemplate\": \"tool=snippy_CP018206.1<br>sample=%{x}<br>error_rate=%{y}\", \"legendgroup\": \"snippy_CP018206.1\", \"line\": {\"color\": \"#FECB52\", \"dash\": \"solid\"}, \"mode\": \"lines\", \"name\": \"snippy_CP018206.1\", \"showlegend\": true, \"type\": \"scatter\", \"x\": [\"063_STEC\", \"CFT073\", \"Escherichia_coli_MINF_1A\", \"Escherichia_coli_MINF_1D\", \"Escherichia_coli_MINF_2E\", \"Escherichia_coli_MINF_7C\", \"Escherichia_coli_MINF_8D\", \"Escherichia_coli_MINF_9A\", \"Escherichia_coli_MSB1_1A\", \"Escherichia_coli_MSB1_3B\", \"Escherichia_coli_MSB1_3I\", \"Escherichia_coli_MSB1_4E\", \"Escherichia_coli_MSB1_4I\", \"Escherichia_coli_MSB1_6C\", \"Escherichia_coli_MSB1_6J\", \"Escherichia_coli_MSB1_7A\", \"Escherichia_coli_MSB1_7C\", \"Escherichia_coli_MSB1_8B\", \"Escherichia_coli_MSB1_8G\", \"Escherichia_coli_MSB1_9D\", \"Escherichia_coli_MSB1_9I\", \"Escherichia_coli_MSB2_1A\", \"H131800734\", \"ST38\"], \"xaxis\": \"x\", \"y\": [0.0005779819178379776, 0.0002583152922652765, 0.0004609614006039209, 0.00037576001892736233, 0.0005880962450475202, 0.0004376325428957495, 0.0005596041623497916, 0.0005236549693332648, 0.00016700931308011308, 0.001617556276778398, 0.01292993507310325, 0.0004493872895400264, 0.0007422569659210065, 0.0011184547089789776, 0.0017218194797561368, 0.0017999847374846614, 0.0010947468525832618, 0.0004489036596896368, 0.00018265349084856108, 0.00035032066796492073, 0.00016138971213941478, 0.000259984648525502, 1.8649061952369366e-05, 0.002296634775572293], \"yaxis\": \"y\"}, {\"hoverlabel\": {\"namelength\": 0}, \"hovertemplate\": \"tool=snippy_NC_004431.1<br>sample=%{x}<br>error_rate=%{y}\", \"legendgroup\": \"snippy_NC_004431.1\", \"line\": {\"color\": \"#636efa\", \"dash\": \"solid\"}, \"mode\": \"lines\", \"name\": \"snippy_NC_004431.1\", \"showlegend\": true, \"type\": \"scatter\", \"x\": [\"063_STEC\", \"CFT073\", \"Escherichia_coli_MINF_1A\", \"Escherichia_coli_MINF_1D\", \"Escherichia_coli_MINF_2E\", \"Escherichia_coli_MINF_7C\", \"Escherichia_coli_MINF_8D\", \"Escherichia_coli_MINF_9A\", \"Escherichia_coli_MSB1_1A\", \"Escherichia_coli_MSB1_3B\", \"Escherichia_coli_MSB1_3I\", \"Escherichia_coli_MSB1_4E\", \"Escherichia_coli_MSB1_4I\", \"Escherichia_coli_MSB1_6C\", \"Escherichia_coli_MSB1_6J\", \"Escherichia_coli_MSB1_7A\", \"Escherichia_coli_MSB1_7C\", \"Escherichia_coli_MSB1_8B\", \"Escherichia_coli_MSB1_8G\", \"Escherichia_coli_MSB1_9D\", \"Escherichia_coli_MSB1_9I\", \"Escherichia_coli_MSB2_1A\", \"H131800734\", \"ST38\"], \"xaxis\": \"x\", \"y\": [0.0008822531387854271, 0.0, 0.00035408668406344823, 0.0003870927783971023, 0.00042322415146034414, 0.00043086740018472014, 0.00031127311785472683, 0.00022219978912885185, 0.00026727336079857, 0.0007506090559498135, 0.016720480759757406, 0.0009460620218515461, 0.0010285178574794829, 0.00047524614260252557, 0.003387342595033593, 0.0006741589060830223, 0.0005719679916936782, 0.0007036665552212495, 0.00023184531544584439, 0.00014674746885912082, 0.0002601993949046255, 0.00024276093345487748, 0.0004139553738973234, 0.00034710945675486826], \"yaxis\": \"y\"}, {\"hoverlabel\": {\"namelength\": 0}, \"hovertemplate\": \"tool=snippy_NC_007779.1<br>sample=%{x}<br>error_rate=%{y}\", \"legendgroup\": \"snippy_NC_007779.1\", \"line\": {\"color\": \"#EF553B\", \"dash\": \"solid\"}, \"mode\": \"lines\", \"name\": \"snippy_NC_007779.1\", \"showlegend\": true, \"type\": \"scatter\", \"x\": [\"063_STEC\", \"CFT073\", \"Escherichia_coli_MINF_1A\", \"Escherichia_coli_MINF_1D\", \"Escherichia_coli_MINF_2E\", \"Escherichia_coli_MINF_7C\", \"Escherichia_coli_MINF_8D\", \"Escherichia_coli_MINF_9A\", \"Escherichia_coli_MSB1_1A\", \"Escherichia_coli_MSB1_3B\", \"Escherichia_coli_MSB1_3I\", \"Escherichia_coli_MSB1_4E\", \"Escherichia_coli_MSB1_4I\", \"Escherichia_coli_MSB1_6C\", \"Escherichia_coli_MSB1_6J\", \"Escherichia_coli_MSB1_7A\", \"Escherichia_coli_MSB1_7C\", \"Escherichia_coli_MSB1_8B\", \"Escherichia_coli_MSB1_8G\", \"Escherichia_coli_MSB1_9D\", \"Escherichia_coli_MSB1_9I\", \"Escherichia_coli_MSB2_1A\", \"H131800734\", \"ST38\"], \"xaxis\": \"x\", \"y\": [0.00017105819710883097, 7.373906203911318e-05, 4.338250016688861e-05, 0.00010631705568586723, 0.0002517451808780047, 7.681414983440327e-05, 0.0003410641200545238, 0.00010314363461660923, 0.0001763590670604831, 5.129974383955016e-05, 0.09761830147289252, 0.00018211934005640812, 3.998720409470469e-05, 7.277057422594435e-05, 0.010171821305841931, 0.00011718521122638935, 7.366075539116945e-05, 0.00014092626993789104, 0.00017651471691448872, 0.0007235142118863225, 0.000465983224603894, 6.759215930951523e-05, 0.00016243390007342207, 9.899689631354124e-05], \"yaxis\": \"y\"}, {\"hoverlabel\": {\"namelength\": 0}, \"hovertemplate\": \"tool=snippy_NC_010498.1<br>sample=%{x}<br>error_rate=%{y}\", \"legendgroup\": \"snippy_NC_010498.1\", \"line\": {\"color\": \"#00cc96\", \"dash\": \"solid\"}, \"mode\": \"lines\", \"name\": \"snippy_NC_010498.1\", \"showlegend\": true, \"type\": \"scatter\", \"x\": [\"063_STEC\", \"CFT073\", \"Escherichia_coli_MINF_1A\", \"Escherichia_coli_MINF_1D\", \"Escherichia_coli_MINF_2E\", \"Escherichia_coli_MINF_7C\", \"Escherichia_coli_MINF_8D\", \"Escherichia_coli_MINF_9A\", \"Escherichia_coli_MSB1_1A\", \"Escherichia_coli_MSB1_3B\", \"Escherichia_coli_MSB1_3I\", \"Escherichia_coli_MSB1_4E\", \"Escherichia_coli_MSB1_4I\", \"Escherichia_coli_MSB1_6C\", \"Escherichia_coli_MSB1_6J\", \"Escherichia_coli_MSB1_7A\", \"Escherichia_coli_MSB1_7C\", \"Escherichia_coli_MSB1_8B\", \"Escherichia_coli_MSB1_8G\", \"Escherichia_coli_MSB1_9D\", \"Escherichia_coli_MSB1_9I\", \"Escherichia_coli_MSB2_1A\", \"H131800734\", \"ST38\"], \"xaxis\": \"x\", \"y\": [6.0966078862967337e-05, 0.0005794299004761028, 0.0002179029024667045, 0.00044947480563839465, 0.00025800299134259847, 0.00021002290305616178, 0.00026303981184905295, 0.0006336025714992477, 0.00021037914629140614, 0.0004843110187728872, 0.01462843180393869, 0.00027255819919191904, 0.0002377864245568517, 0.00045546478110602967, 0.0045843959912352785, 0.0005788143775088406, 0.000443929065055082, 0.00040645900038382976, 0.0001408418752197882, 7.717339575807891e-05, 0.00034677301038987807, 0.00016481850186578215, 0.00039106706690950066, 0.00015428997904531894], \"yaxis\": \"y\"}, {\"hoverlabel\": {\"namelength\": 0}, \"hovertemplate\": \"tool=snippy_NC_011742.1<br>sample=%{x}<br>error_rate=%{y}\", \"legendgroup\": \"snippy_NC_011742.1\", \"line\": {\"color\": \"#ab63fa\", \"dash\": \"solid\"}, \"mode\": \"lines\", \"name\": \"snippy_NC_011742.1\", \"showlegend\": true, \"type\": \"scatter\", \"x\": [\"063_STEC\", \"CFT073\", \"Escherichia_coli_MINF_1A\", \"Escherichia_coli_MINF_1D\", \"Escherichia_coli_MINF_2E\", \"Escherichia_coli_MINF_7C\", \"Escherichia_coli_MINF_8D\", \"Escherichia_coli_MINF_9A\", \"Escherichia_coli_MSB1_1A\", \"Escherichia_coli_MSB1_3B\", \"Escherichia_coli_MSB1_3I\", \"Escherichia_coli_MSB1_4E\", \"Escherichia_coli_MSB1_4I\", \"Escherichia_coli_MSB1_6C\", \"Escherichia_coli_MSB1_6J\", \"Escherichia_coli_MSB1_7A\", \"Escherichia_coli_MSB1_7C\", \"Escherichia_coli_MSB1_8B\", \"Escherichia_coli_MSB1_8G\", \"Escherichia_coli_MSB1_9D\", \"Escherichia_coli_MSB1_9I\", \"Escherichia_coli_MSB2_1A\", \"H131800734\", \"ST38\"], \"xaxis\": \"x\", \"y\": [0.001471054129950966, 0.0009709019244145133, 0.00012555840448313926, 0.0008454539229626468, 0.00011354689645071135, 0.00023540489642182028, 0.00018866176991727543, 0.00016326503687480454, 0.00028412252822662687, 0.0006863889179178353, 0.01729344850649239, 0.0003875918250185738, 0.0003614625330181642, 0.0004344652923901071, 0.003826457356178814, 0.000692877376435197, 0.00021721553815146064, 0.0004984476358969037, 0.00025856018911829537, 0.0002722645064976437, 0.00045892466039576535, 0.00024488463212890554, 0.00018013348839562848, 0.00036663480314069735], \"yaxis\": \"y\"}, {\"hoverlabel\": {\"namelength\": 0}, \"hovertemplate\": \"tool=snippy_NC_011993.1<br>sample=%{x}<br>error_rate=%{y}\", \"legendgroup\": \"snippy_NC_011993.1\", \"line\": {\"color\": \"#FFA15A\", \"dash\": \"solid\"}, \"mode\": \"lines\", \"name\": \"snippy_NC_011993.1\", \"showlegend\": true, \"type\": \"scatter\", \"x\": [\"063_STEC\", \"CFT073\", \"Escherichia_coli_MINF_1A\", \"Escherichia_coli_MINF_1D\", \"Escherichia_coli_MINF_2E\", \"Escherichia_coli_MINF_7C\", \"Escherichia_coli_MINF_8D\", \"Escherichia_coli_MINF_9A\", \"Escherichia_coli_MSB1_1A\", \"Escherichia_coli_MSB1_3B\", \"Escherichia_coli_MSB1_3I\", \"Escherichia_coli_MSB1_4E\", \"Escherichia_coli_MSB1_4I\", \"Escherichia_coli_MSB1_6C\", \"Escherichia_coli_MSB1_6J\", \"Escherichia_coli_MSB1_7A\", \"Escherichia_coli_MSB1_7C\", \"Escherichia_coli_MSB1_8B\", \"Escherichia_coli_MSB1_8G\", \"Escherichia_coli_MSB1_9D\", \"Escherichia_coli_MSB1_9I\", \"Escherichia_coli_MSB2_1A\", \"H131800734\", \"ST38\"], \"xaxis\": \"x\", \"y\": [0.00038256643646528143, 0.00031494960806266464, 0.00026577770115721044, 0.0004584752423368865, 0.00012233883058465622, 0.00015761745112563563, 0.00016772140955145792, 0.00010148321623737466, 9.815996016726558e-05, 0.0003033520400425038, 0.016994879818497455, 0.000409307620148458, 0.00024927483683823137, 6.321751883886506e-05, 0.0025267644653488297, 0.00037912775341530935, 0.00018527896836673108, 0.00017283940972900869, 8.60433519714876e-05, 9.936885719796783e-05, 0.00039211935730676384, 0.000157557006989828, 2.525284410159756e-05, 0.00024469519009551194], \"yaxis\": \"y\"}, {\"hoverlabel\": {\"namelength\": 0}, \"hovertemplate\": \"tool=snippy_NC_017646.1<br>sample=%{x}<br>error_rate=%{y}\", \"legendgroup\": \"snippy_NC_017646.1\", \"line\": {\"color\": \"#19d3f3\", \"dash\": \"solid\"}, \"mode\": \"lines\", \"name\": \"snippy_NC_017646.1\", \"showlegend\": true, \"type\": \"scatter\", \"x\": [\"063_STEC\", \"CFT073\", \"Escherichia_coli_MINF_1A\", \"Escherichia_coli_MINF_1D\", \"Escherichia_coli_MINF_2E\", \"Escherichia_coli_MINF_7C\", \"Escherichia_coli_MINF_8D\", \"Escherichia_coli_MINF_9A\", \"Escherichia_coli_MSB1_1A\", \"Escherichia_coli_MSB1_3B\", \"Escherichia_coli_MSB1_3I\", \"Escherichia_coli_MSB1_4E\", \"Escherichia_coli_MSB1_4I\", \"Escherichia_coli_MSB1_6C\", \"Escherichia_coli_MSB1_6J\", \"Escherichia_coli_MSB1_7A\", \"Escherichia_coli_MSB1_7C\", \"Escherichia_coli_MSB1_8B\", \"Escherichia_coli_MSB1_8G\", \"Escherichia_coli_MSB1_9D\", \"Escherichia_coli_MSB1_9I\", \"Escherichia_coli_MSB2_1A\", \"H131800734\", \"ST38\"], \"xaxis\": \"x\", \"y\": [0.00036726491580629783, 0.0002449205205727889, 0.00018992642772286408, 0.0002223000646690565, 0.0003343202867874817, 0.00020601664587072133, 0.000366816196835984, 0.0002365087015044897, 0.00021854594100578767, 0.0003369214863466752, 0.018145486149674817, 0.00011174796638835359, 0.0005835067983523956, 9.401065243386242e-05, 0.003393907486747505, 0.0003643599226614835, 0.00046425577830555564, 0.0006230154165274282, 0.00025240913271218357, 8.550290395126225e-05, 0.0007211667471690443, 0.00024342037313496162, 0.00016040636278569218, 0.0001846019976863289], \"yaxis\": \"y\"}, {\"hoverlabel\": {\"namelength\": 0}, \"hovertemplate\": \"tool=snippy_NC_022648.1<br>sample=%{x}<br>error_rate=%{y}\", \"legendgroup\": \"snippy_NC_022648.1\", \"line\": {\"color\": \"#FF6692\", \"dash\": \"solid\"}, \"mode\": \"lines\", \"name\": \"snippy_NC_022648.1\", \"showlegend\": true, \"type\": \"scatter\", \"x\": [\"063_STEC\", \"CFT073\", \"Escherichia_coli_MINF_1A\", \"Escherichia_coli_MINF_1D\", \"Escherichia_coli_MINF_2E\", \"Escherichia_coli_MINF_7C\", \"Escherichia_coli_MINF_8D\", \"Escherichia_coli_MINF_9A\", \"Escherichia_coli_MSB1_1A\", \"Escherichia_coli_MSB1_3B\", \"Escherichia_coli_MSB1_3I\", \"Escherichia_coli_MSB1_4E\", \"Escherichia_coli_MSB1_4I\", \"Escherichia_coli_MSB1_6C\", \"Escherichia_coli_MSB1_6J\", \"Escherichia_coli_MSB1_7A\", \"Escherichia_coli_MSB1_7C\", \"Escherichia_coli_MSB1_8B\", \"Escherichia_coli_MSB1_8G\", \"Escherichia_coli_MSB1_9D\", \"Escherichia_coli_MSB1_9I\", \"Escherichia_coli_MSB2_1A\", \"H131800734\", \"ST38\"], \"xaxis\": \"x\", \"y\": [0.0006463350409345869, 0.0002444927996870794, 0.0002421936601091357, 0.00036585393608767886, 0.0002401647427937581, 0.0002918687987862878, 0.0004441879579595298, 0.00013122483930516626, 0.0002430711295507981, 0.00025668401073375424, 0.016404797620319544, 0.008710330857528703, 0.0005880153399271393, 0.00017383008311511183, 0.0051786491885962285, 0.00021587099874964544, 0.0004588817775631472, 0.0005172837232148009, 0.00030617545372690897, 0.00023286196426630654, 0.00029868416377754064, 0.0003276251716676226, 0.00014322242020614606, 0.0003455575617956619], \"yaxis\": \"y\"}, {\"hoverlabel\": {\"namelength\": 0}, \"hovertemplate\": \"tool=snippy_NZ_CP008697.1<br>sample=%{x}<br>error_rate=%{y}\", \"legendgroup\": \"snippy_NZ_CP008697.1\", \"line\": {\"color\": \"#B6E880\", \"dash\": \"solid\"}, \"mode\": \"lines\", \"name\": \"snippy_NZ_CP008697.1\", \"showlegend\": true, \"type\": \"scatter\", \"x\": [\"063_STEC\", \"CFT073\", \"Escherichia_coli_MINF_1A\", \"Escherichia_coli_MINF_1D\", \"Escherichia_coli_MINF_2E\", \"Escherichia_coli_MINF_7C\", \"Escherichia_coli_MINF_8D\", \"Escherichia_coli_MINF_9A\", \"Escherichia_coli_MSB1_1A\", \"Escherichia_coli_MSB1_3B\", \"Escherichia_coli_MSB1_3I\", \"Escherichia_coli_MSB1_4E\", \"Escherichia_coli_MSB1_4I\", \"Escherichia_coli_MSB1_6C\", \"Escherichia_coli_MSB1_6J\", \"Escherichia_coli_MSB1_7A\", \"Escherichia_coli_MSB1_7C\", \"Escherichia_coli_MSB1_8B\", \"Escherichia_coli_MSB1_8G\", \"Escherichia_coli_MSB1_9D\", \"Escherichia_coli_MSB1_9I\", \"Escherichia_coli_MSB2_1A\", \"H131800734\", \"ST38\"], \"xaxis\": \"x\", \"y\": [0.00025569941407732605, 0.00017422229415908766, 0.0002706180303092553, 0.0003379494297819363, 0.0002245152303801401, 0.0005512043469034777, 0.00047888759673220266, 0.0026032503979224178, 0.00018268653023723047, 0.00038617829608389437, 0.015096976173828882, 0.00037574373601245714, 0.0005251305148941121, 0.0005571447741399282, 0.004243961052706857, 0.00035144614870696866, 0.0006695457725836017, 0.00329760557441805, 0.0002830608459665207, 9.741489920522817e-05, 0.0005229796823514876, 0.000213842593843272, 0.0002680418765590442, 0.0004660869233008568], \"yaxis\": \"y\"}, {\"hoverlabel\": {\"namelength\": 0}, \"hovertemplate\": \"tool=snippy_NZ_CP009859.1<br>sample=%{x}<br>error_rate=%{y}\", \"legendgroup\": \"snippy_NZ_CP009859.1\", \"line\": {\"color\": \"#FF97FF\", \"dash\": \"solid\"}, \"mode\": \"lines\", \"name\": \"snippy_NZ_CP009859.1\", \"showlegend\": true, \"type\": \"scatter\", \"x\": [\"063_STEC\", \"CFT073\", \"Escherichia_coli_MINF_1A\", \"Escherichia_coli_MINF_1D\", \"Escherichia_coli_MINF_2E\", \"Escherichia_coli_MINF_7C\", \"Escherichia_coli_MINF_8D\", \"Escherichia_coli_MINF_9A\", \"Escherichia_coli_MSB1_1A\", \"Escherichia_coli_MSB1_3B\", \"Escherichia_coli_MSB1_3I\", \"Escherichia_coli_MSB1_4E\", \"Escherichia_coli_MSB1_4I\", \"Escherichia_coli_MSB1_6C\", \"Escherichia_coli_MSB1_6J\", \"Escherichia_coli_MSB1_7A\", \"Escherichia_coli_MSB1_7C\", \"Escherichia_coli_MSB1_8B\", \"Escherichia_coli_MSB1_8G\", \"Escherichia_coli_MSB1_9D\", \"Escherichia_coli_MSB1_9I\", \"Escherichia_coli_MSB2_1A\", \"H131800734\", \"ST38\"], \"xaxis\": \"x\", \"y\": [0.0003732890916632313, 0.0003683034715803447, 0.00026259872509315496, 0.00040309186271281217, 0.00034979398884527063, 0.00033233258277043376, 0.0004387205178352227, 0.0009993437145754402, 0.0002698384996441261, 0.0005151522693663814, 0.022670147017487485, 0.00030825323168715, 0.0004951058390988416, 0.00042006783953507654, 0.0043573270537500255, 0.00047365670233323614, 0.0006082442274911728, 0.0013272200772200815, 0.0002574019798091687, 0.0002305051213600251, 0.0006568911304130065, 0.0003332639033534201, 0.00028559126178595573, 0.00045475825154184246], \"yaxis\": \"y\"}, {\"hoverlabel\": {\"namelength\": 0}, \"hovertemplate\": \"tool=snippy_NZ_CP011134.1<br>sample=%{x}<br>error_rate=%{y}\", \"legendgroup\": \"snippy_NZ_CP011134.1\", \"line\": {\"color\": \"#FECB52\", \"dash\": \"solid\"}, \"mode\": \"lines\", \"name\": \"snippy_NZ_CP011134.1\", \"showlegend\": true, \"type\": \"scatter\", \"x\": [\"063_STEC\", \"CFT073\", \"Escherichia_coli_MINF_1A\", \"Escherichia_coli_MINF_1D\", \"Escherichia_coli_MINF_2E\", \"Escherichia_coli_MINF_7C\", \"Escherichia_coli_MINF_8D\", \"Escherichia_coli_MINF_9A\", \"Escherichia_coli_MSB1_1A\", \"Escherichia_coli_MSB1_3B\", \"Escherichia_coli_MSB1_3I\", \"Escherichia_coli_MSB1_4E\", \"Escherichia_coli_MSB1_4I\", \"Escherichia_coli_MSB1_6C\", \"Escherichia_coli_MSB1_6J\", \"Escherichia_coli_MSB1_7A\", \"Escherichia_coli_MSB1_7C\", \"Escherichia_coli_MSB1_8B\", \"Escherichia_coli_MSB1_8G\", \"Escherichia_coli_MSB1_9D\", \"Escherichia_coli_MSB1_9I\", \"Escherichia_coli_MSB2_1A\", \"H131800734\", \"ST38\"], \"xaxis\": \"x\", \"y\": [0.00048592952691939306, 0.000433596118859958, 0.00016215077527470534, 0.00026387185805920593, 0.00044804162451217433, 0.0001377745879578285, 0.002511908718289546, 0.0005209352206475558, 0.0013611786969451867, 0.00047865601222474297, 0.05725340445306493, 0.00042789827938294334, 0.0005029142673921294, 0.00017523677222841538, 0.0122511048214905, 0.0003624833290197804, 0.00020575315789217452, 0.00024208558445515402, 0.0009528093563426764, 0.0003198305829456016, 0.0029615931721196365, 0.0003044572018320313, 0.0004813161809748001, 0.00034899641402386106], \"yaxis\": \"y\"}, {\"hoverlabel\": {\"namelength\": 0}, \"hovertemplate\": \"tool=snippy_NZ_CP013483.1<br>sample=%{x}<br>error_rate=%{y}\", \"legendgroup\": \"snippy_NZ_CP013483.1\", \"line\": {\"color\": \"#636efa\", \"dash\": \"solid\"}, \"mode\": \"lines\", \"name\": \"snippy_NZ_CP013483.1\", \"showlegend\": true, \"type\": \"scatter\", \"x\": [\"063_STEC\", \"CFT073\", \"Escherichia_coli_MINF_1A\", \"Escherichia_coli_MINF_1D\", \"Escherichia_coli_MINF_2E\", \"Escherichia_coli_MINF_7C\", \"Escherichia_coli_MINF_8D\", \"Escherichia_coli_MINF_9A\", \"Escherichia_coli_MSB1_1A\", \"Escherichia_coli_MSB1_3B\", \"Escherichia_coli_MSB1_3I\", \"Escherichia_coli_MSB1_4E\", \"Escherichia_coli_MSB1_4I\", \"Escherichia_coli_MSB1_6C\", \"Escherichia_coli_MSB1_6J\", \"Escherichia_coli_MSB1_7A\", \"Escherichia_coli_MSB1_7C\", \"Escherichia_coli_MSB1_8B\", \"Escherichia_coli_MSB1_8G\", \"Escherichia_coli_MSB1_9D\", \"Escherichia_coli_MSB1_9I\", \"Escherichia_coli_MSB2_1A\", \"H131800734\", \"ST38\"], \"xaxis\": \"x\", \"y\": [0.00019876061647106091, 0.00015606857028704899, 4.3363977210608695e-05, 0.0004164533612865951, 0.00037100328281691736, 0.00011867508221063972, 0.0004887871691150458, 0.0001537653284812146, 0.00019823570224997145, 0.00010795239447281002, 0.024793170680297183, 0.00024072801775398844, 8.012713505423097e-05, 0.0001553357766204133, 0.0066894392257329524, 0.00016103916058707313, 6.702786401013851e-05, 0.00024307904606690742, 0.0001988565746955384, 0.0003029817409682112, 0.002319572493980848, 0.0002096756097604846, 0.0004563164730246872, 0.0001906884928893904], \"yaxis\": \"y\"}, {\"hoverlabel\": {\"namelength\": 0}, \"hovertemplate\": \"tool=snippy_NZ_CP015228.1<br>sample=%{x}<br>error_rate=%{y}\", \"legendgroup\": \"snippy_NZ_CP015228.1\", \"line\": {\"color\": \"#EF553B\", \"dash\": \"solid\"}, \"mode\": \"lines\", \"name\": \"snippy_NZ_CP015228.1\", \"showlegend\": true, \"type\": \"scatter\", \"x\": [\"063_STEC\", \"CFT073\", \"Escherichia_coli_MINF_1A\", \"Escherichia_coli_MINF_1D\", \"Escherichia_coli_MINF_2E\", \"Escherichia_coli_MINF_7C\", \"Escherichia_coli_MINF_8D\", \"Escherichia_coli_MINF_9A\", \"Escherichia_coli_MSB1_1A\", \"Escherichia_coli_MSB1_3B\", \"Escherichia_coli_MSB1_3I\", \"Escherichia_coli_MSB1_4E\", \"Escherichia_coli_MSB1_4I\", \"Escherichia_coli_MSB1_6C\", \"Escherichia_coli_MSB1_6J\", \"Escherichia_coli_MSB1_7A\", \"Escherichia_coli_MSB1_7C\", \"Escherichia_coli_MSB1_8B\", \"Escherichia_coli_MSB1_8G\", \"Escherichia_coli_MSB1_9D\", \"Escherichia_coli_MSB1_9I\", \"Escherichia_coli_MSB2_1A\", \"H131800734\", \"ST38\"], \"xaxis\": \"x\", \"y\": [0.0004617625119879287, 0.0001089707110943916, 0.00010315186246423468, 7.718787421384654e-05, 0.0012315232494465313, 0.00010770673357152205, 0.00033558509479192367, 0.00019183922046284169, 0.0004897221537665253, 0.00030222111821809333, 0.029589142171719263, 0.00031952272030555395, 0.0008091231677834765, 0.00010188726565929508, 0.005302386565063988, 0.0002410949419517916, 0.000443699467560621, 0.0001689046021963181, 0.0002378422144627689, 0.0003258607752585352, 0.0008844980278336355, 0.0001873073191102081, 0.0012373085673537119, 0.00024281585272656342], \"yaxis\": \"y\"}, {\"hoverlabel\": {\"namelength\": 0}, \"hovertemplate\": \"tool=snippy_NZ_CP016007.1<br>sample=%{x}<br>error_rate=%{y}\", \"legendgroup\": \"snippy_NZ_CP016007.1\", \"line\": {\"color\": \"#00cc96\", \"dash\": \"solid\"}, \"mode\": \"lines\", \"name\": \"snippy_NZ_CP016007.1\", \"showlegend\": true, \"type\": \"scatter\", \"x\": [\"063_STEC\", \"CFT073\", \"Escherichia_coli_MINF_1A\", \"Escherichia_coli_MINF_1D\", \"Escherichia_coli_MINF_2E\", \"Escherichia_coli_MINF_7C\", \"Escherichia_coli_MINF_8D\", \"Escherichia_coli_MINF_9A\", \"Escherichia_coli_MSB1_1A\", \"Escherichia_coli_MSB1_3B\", \"Escherichia_coli_MSB1_3I\", \"Escherichia_coli_MSB1_4E\", \"Escherichia_coli_MSB1_4I\", \"Escherichia_coli_MSB1_6C\", \"Escherichia_coli_MSB1_6J\", \"Escherichia_coli_MSB1_7A\", \"Escherichia_coli_MSB1_7C\", \"Escherichia_coli_MSB1_8B\", \"Escherichia_coli_MSB1_8G\", \"Escherichia_coli_MSB1_9D\", \"Escherichia_coli_MSB1_9I\", \"Escherichia_coli_MSB2_1A\", \"H131800734\", \"ST38\"], \"xaxis\": \"x\", \"y\": [0.0002804175105156625, 0.0003725351660349707, 0.0001404738651717974, 0.002951861943687573, 5.9715039829932884e-05, 0.00023885764084607963, 0.000322904795166723, 0.0002517874214005289, 0.000154932814564801, 0.00017485826195007267, 0.01652047168041848, 0.0005895114129409463, 0.00034674063800277377, 0.0002391816433774397, 0.003894959813121157, 0.00019814977646226417, 0.0002751459469805262, 0.00024788865288649653, 0.00018830419443993665, 0.00010825504889522275, 0.0003315566109231005, 0.00033276219435351967, 3.128597887569473e-05, 0.00022649054667378546], \"yaxis\": \"y\"}, {\"hoverlabel\": {\"namelength\": 0}, \"hovertemplate\": \"tool=snippy_NZ_CP018109.1<br>sample=%{x}<br>error_rate=%{y}\", \"legendgroup\": \"snippy_NZ_CP018109.1\", \"line\": {\"color\": \"#ab63fa\", \"dash\": \"solid\"}, \"mode\": \"lines\", \"name\": \"snippy_NZ_CP018109.1\", \"showlegend\": true, \"type\": \"scatter\", \"x\": [\"063_STEC\", \"CFT073\", \"Escherichia_coli_MINF_1A\", \"Escherichia_coli_MINF_1D\", \"Escherichia_coli_MINF_2E\", \"Escherichia_coli_MINF_7C\", \"Escherichia_coli_MINF_8D\", \"Escherichia_coli_MINF_9A\", \"Escherichia_coli_MSB1_1A\", \"Escherichia_coli_MSB1_3B\", \"Escherichia_coli_MSB1_3I\", \"Escherichia_coli_MSB1_4E\", \"Escherichia_coli_MSB1_4I\", \"Escherichia_coli_MSB1_6C\", \"Escherichia_coli_MSB1_6J\", \"Escherichia_coli_MSB1_7A\", \"Escherichia_coli_MSB1_7C\", \"Escherichia_coli_MSB1_8B\", \"Escherichia_coli_MSB1_8G\", \"Escherichia_coli_MSB1_9D\", \"Escherichia_coli_MSB1_9I\", \"Escherichia_coli_MSB2_1A\", \"H131800734\", \"ST38\"], \"xaxis\": \"x\", \"y\": [0.00017605005926768502, 0.00021301570923459856, 0.00018928099724790928, 0.00022213055814135352, 0.0006000948174763597, 0.00025672773613605315, 0.001855391345758184, 0.000343879788109458, 0.004634813985317843, 0.0003761817357342823, 0.0826006115977046, 0.00037387170859382035, 0.0005147100706310859, 0.0004132786606747541, 0.004446946242611882, 0.00041624270892337556, 0.0002579247145424457, 0.00041494544520692683, 0.005095787413739728, 0.00035530124336824453, 0.0007690227495521508, 0.0002424426092885179, 0.00038633090998485553, 0.0002614260919872047], \"yaxis\": \"y\"}, {\"hoverlabel\": {\"namelength\": 0}, \"hovertemplate\": \"tool=snippy_NZ_LN995446.1<br>sample=%{x}<br>error_rate=%{y}\", \"legendgroup\": \"snippy_NZ_LN995446.1\", \"line\": {\"color\": \"#FFA15A\", \"dash\": \"solid\"}, \"mode\": \"lines\", \"name\": \"snippy_NZ_LN995446.1\", \"showlegend\": true, \"type\": \"scatter\", \"x\": [\"063_STEC\", \"CFT073\", \"Escherichia_coli_MINF_1A\", \"Escherichia_coli_MINF_1D\", \"Escherichia_coli_MINF_2E\", \"Escherichia_coli_MINF_7C\", \"Escherichia_coli_MINF_8D\", \"Escherichia_coli_MINF_9A\", \"Escherichia_coli_MSB1_1A\", \"Escherichia_coli_MSB1_3B\", \"Escherichia_coli_MSB1_3I\", \"Escherichia_coli_MSB1_4E\", \"Escherichia_coli_MSB1_4I\", \"Escherichia_coli_MSB1_6C\", \"Escherichia_coli_MSB1_6J\", \"Escherichia_coli_MSB1_7A\", \"Escherichia_coli_MSB1_7C\", \"Escherichia_coli_MSB1_8B\", \"Escherichia_coli_MSB1_8G\", \"Escherichia_coli_MSB1_9D\", \"Escherichia_coli_MSB1_9I\", \"Escherichia_coli_MSB2_1A\", \"H131800734\", \"ST38\"], \"xaxis\": \"x\", \"y\": [0.00016503721181226894, 7.436049970255265e-05, 4.382061861230024e-05, 9.503838324376179e-05, 0.0002314708538022625, 8.094762688537481e-05, 0.0004601403428045048, 0.00011353609799136245, 0.00017628134502667425, 5.177962591218499e-05, 0.0928661219358894, 0.0001837888009986744, 4.013055808227417e-05, 7.364460452852217e-05, 0.007445195091686173, 0.00011828397252178213, 7.436533831595149e-05, 0.00012956556665499883, 0.00017642907551163045, 0.0005085266917382869, 0.000469381860196405, 6.82146136691264e-05, 0.00016366221075392318, 9.991829776534455e-05], \"yaxis\": \"y\"}, {\"hoverlabel\": {\"namelength\": 0}, \"hovertemplate\": \"tool=snippy_NZ_LT632320.1<br>sample=%{x}<br>error_rate=%{y}\", \"legendgroup\": \"snippy_NZ_LT632320.1\", \"line\": {\"color\": \"#19d3f3\", \"dash\": \"solid\"}, \"mode\": \"lines\", \"name\": \"snippy_NZ_LT632320.1\", \"showlegend\": true, \"type\": \"scatter\", \"x\": [\"063_STEC\", \"CFT073\", \"Escherichia_coli_MINF_1A\", \"Escherichia_coli_MINF_1D\", \"Escherichia_coli_MINF_2E\", \"Escherichia_coli_MINF_7C\", \"Escherichia_coli_MINF_8D\", \"Escherichia_coli_MINF_9A\", \"Escherichia_coli_MSB1_1A\", \"Escherichia_coli_MSB1_3B\", \"Escherichia_coli_MSB1_3I\", \"Escherichia_coli_MSB1_4E\", \"Escherichia_coli_MSB1_4I\", \"Escherichia_coli_MSB1_6C\", \"Escherichia_coli_MSB1_6J\", \"Escherichia_coli_MSB1_7A\", \"Escherichia_coli_MSB1_7C\", \"Escherichia_coli_MSB1_8B\", \"Escherichia_coli_MSB1_8G\", \"Escherichia_coli_MSB1_9D\", \"Escherichia_coli_MSB1_9I\", \"Escherichia_coli_MSB2_1A\", \"H131800734\", \"ST38\"], \"xaxis\": \"x\", \"y\": [0.0006347211818058527, 0.0004274969989465083, 0.00027854637977486885, 0.0004504718099481719, 0.00022865879670863618, 0.0003361709589739803, 0.00034922818815508183, 0.00010217509442767005, 0.0002236132019826087, 0.00023218040929196001, 0.014674522653950528, 0.0048529411764706145, 0.000496796424172774, 0.00021508518184854, 0.005424394110840503, 0.00020925772425106623, 0.0003809234507898829, 0.0002599813076730184, 0.00028932943648241066, 0.00022181438086443794, 0.0003248892492021538, 0.0003988752507778637, 0.00011417987135731167, 0.0002281915817148317], \"yaxis\": \"y\"}, {\"hoverlabel\": {\"namelength\": 0}, \"hovertemplate\": \"tool=snippy_NZ_NG941718.1<br>sample=%{x}<br>error_rate=%{y}\", \"legendgroup\": \"snippy_NZ_NG941718.1\", \"line\": {\"color\": \"#FF6692\", \"dash\": \"solid\"}, \"mode\": \"lines\", \"name\": \"snippy_NZ_NG941718.1\", \"showlegend\": true, \"type\": \"scatter\", \"x\": [\"063_STEC\", \"CFT073\", \"Escherichia_coli_MINF_1A\", \"Escherichia_coli_MINF_1D\", \"Escherichia_coli_MINF_2E\", \"Escherichia_coli_MINF_7C\", \"Escherichia_coli_MINF_8D\", \"Escherichia_coli_MINF_9A\", \"Escherichia_coli_MSB1_1A\", \"Escherichia_coli_MSB1_3B\", \"Escherichia_coli_MSB1_3I\", \"Escherichia_coli_MSB1_4E\", \"Escherichia_coli_MSB1_4I\", \"Escherichia_coli_MSB1_6C\", \"Escherichia_coli_MSB1_6J\", \"Escherichia_coli_MSB1_7A\", \"Escherichia_coli_MSB1_7C\", \"Escherichia_coli_MSB1_8B\", \"Escherichia_coli_MSB1_8G\", \"Escherichia_coli_MSB1_9D\", \"Escherichia_coli_MSB1_9I\", \"Escherichia_coli_MSB2_1A\", \"H131800734\", \"ST38\"], \"xaxis\": \"x\", \"y\": [0.0008065677660953341, 0.0004474245804636512, 0.00029153947771043415, 0.0004240482472672724, 0.0002396105054761621, 0.0003994375792142346, 0.00037338693355093433, 0.00014160010346830898, 0.00024048844838264752, 0.00029196218937055374, 0.014619015618064004, 0.006587677725118479, 0.0005621529495848376, 0.00021420632514923546, 0.005382426385772797, 0.00028086936139604124, 0.00037829880175221936, 0.00024549918166938406, 0.00035540528770583446, 0.00023289295392958653, 0.0003636473649178962, 0.0003725665521515653, 0.00011794489446026456, 0.00026394987419209315], \"yaxis\": \"y\"}],\n",
       "                        {\"legend\": {\"title\": {\"text\": \"tool\"}, \"tracegroupgap\": 0}, \"margin\": {\"t\": 60}, \"template\": {\"data\": {\"bar\": [{\"error_x\": {\"color\": \"#2a3f5f\"}, \"error_y\": {\"color\": \"#2a3f5f\"}, \"marker\": {\"line\": {\"color\": \"#E5ECF6\", \"width\": 0.5}}, \"type\": \"bar\"}], \"barpolar\": [{\"marker\": {\"line\": {\"color\": \"#E5ECF6\", \"width\": 0.5}}, \"type\": \"barpolar\"}], \"carpet\": [{\"aaxis\": {\"endlinecolor\": \"#2a3f5f\", \"gridcolor\": \"white\", \"linecolor\": \"white\", \"minorgridcolor\": \"white\", \"startlinecolor\": \"#2a3f5f\"}, \"baxis\": {\"endlinecolor\": \"#2a3f5f\", \"gridcolor\": \"white\", \"linecolor\": \"white\", \"minorgridcolor\": \"white\", \"startlinecolor\": \"#2a3f5f\"}, \"type\": \"carpet\"}], \"choropleth\": [{\"colorbar\": {\"outlinewidth\": 0, \"ticks\": \"\"}, \"type\": \"choropleth\"}], \"contour\": [{\"colorbar\": {\"outlinewidth\": 0, \"ticks\": \"\"}, \"colorscale\": [[0.0, \"#0d0887\"], [0.1111111111111111, \"#46039f\"], [0.2222222222222222, \"#7201a8\"], [0.3333333333333333, \"#9c179e\"], [0.4444444444444444, \"#bd3786\"], [0.5555555555555556, \"#d8576b\"], [0.6666666666666666, \"#ed7953\"], [0.7777777777777778, \"#fb9f3a\"], [0.8888888888888888, \"#fdca26\"], [1.0, \"#f0f921\"]], \"type\": \"contour\"}], \"contourcarpet\": [{\"colorbar\": {\"outlinewidth\": 0, \"ticks\": \"\"}, \"type\": \"contourcarpet\"}], \"heatmap\": [{\"colorbar\": {\"outlinewidth\": 0, \"ticks\": \"\"}, \"colorscale\": [[0.0, \"#0d0887\"], [0.1111111111111111, \"#46039f\"], [0.2222222222222222, \"#7201a8\"], [0.3333333333333333, \"#9c179e\"], [0.4444444444444444, \"#bd3786\"], [0.5555555555555556, \"#d8576b\"], [0.6666666666666666, \"#ed7953\"], [0.7777777777777778, \"#fb9f3a\"], [0.8888888888888888, \"#fdca26\"], [1.0, \"#f0f921\"]], \"type\": \"heatmap\"}], \"heatmapgl\": [{\"colorbar\": {\"outlinewidth\": 0, \"ticks\": \"\"}, \"colorscale\": [[0.0, \"#0d0887\"], [0.1111111111111111, \"#46039f\"], [0.2222222222222222, \"#7201a8\"], [0.3333333333333333, \"#9c179e\"], [0.4444444444444444, \"#bd3786\"], [0.5555555555555556, \"#d8576b\"], [0.6666666666666666, \"#ed7953\"], [0.7777777777777778, \"#fb9f3a\"], [0.8888888888888888, \"#fdca26\"], [1.0, \"#f0f921\"]], \"type\": \"heatmapgl\"}], \"histogram\": [{\"marker\": {\"colorbar\": {\"outlinewidth\": 0, \"ticks\": \"\"}}, \"type\": \"histogram\"}], \"histogram2d\": [{\"colorbar\": {\"outlinewidth\": 0, \"ticks\": \"\"}, \"colorscale\": [[0.0, \"#0d0887\"], [0.1111111111111111, \"#46039f\"], [0.2222222222222222, \"#7201a8\"], [0.3333333333333333, \"#9c179e\"], [0.4444444444444444, \"#bd3786\"], [0.5555555555555556, \"#d8576b\"], [0.6666666666666666, \"#ed7953\"], [0.7777777777777778, \"#fb9f3a\"], [0.8888888888888888, \"#fdca26\"], [1.0, \"#f0f921\"]], \"type\": \"histogram2d\"}], \"histogram2dcontour\": [{\"colorbar\": {\"outlinewidth\": 0, \"ticks\": \"\"}, \"colorscale\": [[0.0, \"#0d0887\"], [0.1111111111111111, \"#46039f\"], [0.2222222222222222, \"#7201a8\"], [0.3333333333333333, \"#9c179e\"], [0.4444444444444444, \"#bd3786\"], [0.5555555555555556, \"#d8576b\"], [0.6666666666666666, \"#ed7953\"], [0.7777777777777778, \"#fb9f3a\"], [0.8888888888888888, \"#fdca26\"], [1.0, \"#f0f921\"]], \"type\": \"histogram2dcontour\"}], \"mesh3d\": [{\"colorbar\": {\"outlinewidth\": 0, \"ticks\": \"\"}, \"type\": \"mesh3d\"}], \"parcoords\": [{\"line\": {\"colorbar\": {\"outlinewidth\": 0, \"ticks\": \"\"}}, \"type\": \"parcoords\"}], \"pie\": [{\"automargin\": true, \"type\": \"pie\"}], \"scatter\": [{\"marker\": {\"colorbar\": {\"outlinewidth\": 0, \"ticks\": \"\"}}, \"type\": \"scatter\"}], \"scatter3d\": [{\"line\": {\"colorbar\": {\"outlinewidth\": 0, \"ticks\": \"\"}}, \"marker\": {\"colorbar\": {\"outlinewidth\": 0, \"ticks\": \"\"}}, \"type\": \"scatter3d\"}], \"scattercarpet\": [{\"marker\": {\"colorbar\": {\"outlinewidth\": 0, \"ticks\": \"\"}}, \"type\": \"scattercarpet\"}], \"scattergeo\": [{\"marker\": {\"colorbar\": {\"outlinewidth\": 0, \"ticks\": \"\"}}, \"type\": \"scattergeo\"}], \"scattergl\": [{\"marker\": {\"colorbar\": {\"outlinewidth\": 0, \"ticks\": \"\"}}, \"type\": \"scattergl\"}], \"scattermapbox\": [{\"marker\": {\"colorbar\": {\"outlinewidth\": 0, \"ticks\": \"\"}}, \"type\": \"scattermapbox\"}], \"scatterpolar\": [{\"marker\": {\"colorbar\": {\"outlinewidth\": 0, \"ticks\": \"\"}}, \"type\": \"scatterpolar\"}], \"scatterpolargl\": [{\"marker\": {\"colorbar\": {\"outlinewidth\": 0, \"ticks\": \"\"}}, \"type\": \"scatterpolargl\"}], \"scatterternary\": [{\"marker\": {\"colorbar\": {\"outlinewidth\": 0, \"ticks\": \"\"}}, \"type\": \"scatterternary\"}], \"surface\": [{\"colorbar\": {\"outlinewidth\": 0, \"ticks\": \"\"}, \"colorscale\": [[0.0, \"#0d0887\"], [0.1111111111111111, \"#46039f\"], [0.2222222222222222, \"#7201a8\"], [0.3333333333333333, \"#9c179e\"], [0.4444444444444444, \"#bd3786\"], [0.5555555555555556, \"#d8576b\"], [0.6666666666666666, \"#ed7953\"], [0.7777777777777778, \"#fb9f3a\"], [0.8888888888888888, \"#fdca26\"], [1.0, \"#f0f921\"]], \"type\": \"surface\"}], \"table\": [{\"cells\": {\"fill\": {\"color\": \"#EBF0F8\"}, \"line\": {\"color\": \"white\"}}, \"header\": {\"fill\": {\"color\": \"#C8D4E3\"}, \"line\": {\"color\": \"white\"}}, \"type\": \"table\"}]}, \"layout\": {\"annotationdefaults\": {\"arrowcolor\": \"#2a3f5f\", \"arrowhead\": 0, \"arrowwidth\": 1}, \"coloraxis\": {\"colorbar\": {\"outlinewidth\": 0, \"ticks\": \"\"}}, \"colorscale\": {\"diverging\": [[0, \"#8e0152\"], [0.1, \"#c51b7d\"], [0.2, \"#de77ae\"], [0.3, \"#f1b6da\"], [0.4, \"#fde0ef\"], [0.5, \"#f7f7f7\"], [0.6, \"#e6f5d0\"], [0.7, \"#b8e186\"], [0.8, \"#7fbc41\"], [0.9, \"#4d9221\"], [1, \"#276419\"]], \"sequential\": [[0.0, \"#0d0887\"], [0.1111111111111111, \"#46039f\"], [0.2222222222222222, \"#7201a8\"], [0.3333333333333333, \"#9c179e\"], [0.4444444444444444, \"#bd3786\"], [0.5555555555555556, \"#d8576b\"], [0.6666666666666666, \"#ed7953\"], [0.7777777777777778, \"#fb9f3a\"], [0.8888888888888888, \"#fdca26\"], [1.0, \"#f0f921\"]], \"sequentialminus\": [[0.0, \"#0d0887\"], [0.1111111111111111, \"#46039f\"], [0.2222222222222222, \"#7201a8\"], [0.3333333333333333, \"#9c179e\"], [0.4444444444444444, \"#bd3786\"], [0.5555555555555556, \"#d8576b\"], [0.6666666666666666, \"#ed7953\"], [0.7777777777777778, \"#fb9f3a\"], [0.8888888888888888, \"#fdca26\"], [1.0, \"#f0f921\"]]}, \"colorway\": [\"#636efa\", \"#EF553B\", \"#00cc96\", \"#ab63fa\", \"#FFA15A\", \"#19d3f3\", \"#FF6692\", \"#B6E880\", \"#FF97FF\", \"#FECB52\"], \"font\": {\"color\": \"#2a3f5f\"}, \"geo\": {\"bgcolor\": \"white\", \"lakecolor\": \"white\", \"landcolor\": \"#E5ECF6\", \"showlakes\": true, \"showland\": true, \"subunitcolor\": \"white\"}, \"hoverlabel\": {\"align\": \"left\"}, \"hovermode\": \"closest\", \"mapbox\": {\"style\": \"light\"}, \"paper_bgcolor\": \"white\", \"plot_bgcolor\": \"#E5ECF6\", \"polar\": {\"angularaxis\": {\"gridcolor\": \"white\", \"linecolor\": \"white\", \"ticks\": \"\"}, \"bgcolor\": \"#E5ECF6\", \"radialaxis\": {\"gridcolor\": \"white\", \"linecolor\": \"white\", \"ticks\": \"\"}}, \"scene\": {\"xaxis\": {\"backgroundcolor\": \"#E5ECF6\", \"gridcolor\": \"white\", \"gridwidth\": 2, \"linecolor\": \"white\", \"showbackground\": true, \"ticks\": \"\", \"zerolinecolor\": \"white\"}, \"yaxis\": {\"backgroundcolor\": \"#E5ECF6\", \"gridcolor\": \"white\", \"gridwidth\": 2, \"linecolor\": \"white\", \"showbackground\": true, \"ticks\": \"\", \"zerolinecolor\": \"white\"}, \"zaxis\": {\"backgroundcolor\": \"#E5ECF6\", \"gridcolor\": \"white\", \"gridwidth\": 2, \"linecolor\": \"white\", \"showbackground\": true, \"ticks\": \"\", \"zerolinecolor\": \"white\"}}, \"shapedefaults\": {\"line\": {\"color\": \"#2a3f5f\"}}, \"ternary\": {\"aaxis\": {\"gridcolor\": \"white\", \"linecolor\": \"white\", \"ticks\": \"\"}, \"baxis\": {\"gridcolor\": \"white\", \"linecolor\": \"white\", \"ticks\": \"\"}, \"bgcolor\": \"#E5ECF6\", \"caxis\": {\"gridcolor\": \"white\", \"linecolor\": \"white\", \"ticks\": \"\"}}, \"title\": {\"x\": 0.05}, \"xaxis\": {\"automargin\": true, \"gridcolor\": \"white\", \"linecolor\": \"white\", \"ticks\": \"\", \"title\": {\"standoff\": 15}, \"zerolinecolor\": \"white\", \"zerolinewidth\": 2}, \"yaxis\": {\"automargin\": true, \"gridcolor\": \"white\", \"linecolor\": \"white\", \"ticks\": \"\", \"title\": {\"standoff\": 15}, \"zerolinecolor\": \"white\", \"zerolinewidth\": 2}}}, \"xaxis\": {\"anchor\": \"y\", \"domain\": [0.0, 1.0], \"title\": {\"text\": \"sample\"}}, \"yaxis\": {\"anchor\": \"x\", \"domain\": [0.0, 1.0], \"title\": {\"text\": \"error_rate\"}}},\n",
       "                        {\"responsive\": true}\n",
       "                    ).then(function(){\n",
       "                            \n",
       "var gd = document.getElementById('88e0340c-d126-4a0e-b803-5a197661ef78');\n",
       "var x = new MutationObserver(function (mutations, observer) {{\n",
       "        var display = window.getComputedStyle(gd).display;\n",
       "        if (!display || display === 'none') {{\n",
       "            console.log([gd, 'removed!']);\n",
       "            Plotly.purge(gd);\n",
       "            observer.disconnect();\n",
       "        }}\n",
       "}});\n",
       "\n",
       "// Listen for the removal of the full notebook cells\n",
       "var notebookContainer = gd.closest('#notebook-container');\n",
       "if (notebookContainer) {{\n",
       "    x.observe(notebookContainer, {childList: true});\n",
       "}}\n",
       "\n",
       "// Listen for the clearing of the current output cell\n",
       "var outputEl = gd.closest('.output');\n",
       "if (outputEl) {{\n",
       "    x.observe(outputEl, {childList: true});\n",
       "}}\n",
       "\n",
       "                        })\n",
       "                };\n",
       "                });\n",
       "            </script>\n",
       "        </div>"
      ]
     },
     "metadata": {},
     "output_type": "display_data"
    }
   ],
   "source": [
    "fig = px.line(precision_per_sample, x=\"sample\", y=\"error_rate\", color='tool')\n",
    "fig"
   ]
  },
  {
   "cell_type": "code",
   "execution_count": 7,
   "metadata": {},
   "outputs": [
    {
     "data": {
      "text/plain": [
       "'https://plotly.com/~leandro.ishi.lima/27/'"
      ]
     },
     "execution_count": 7,
     "metadata": {},
     "output_type": "execute_result"
    }
   ],
   "source": [
    "# import chart_studio.plotly as chart_studio\n",
    "# chart_studio.plot(fig,\n",
    "#                   filename = 'enrichment_of_FPs_per_sample',\n",
    "#                   auto_open=True)"
   ]
  },
  {
   "cell_type": "code",
   "execution_count": 9,
   "metadata": {},
   "outputs": [
    {
     "data": {
      "text/plain": [
       "array(['063_STEC', 'CFT073', 'Escherichia_coli_MINF_1A',\n",
       "       'Escherichia_coli_MINF_1D', 'Escherichia_coli_MINF_2E',\n",
       "       'Escherichia_coli_MINF_7C', 'Escherichia_coli_MINF_8D',\n",
       "       'Escherichia_coli_MINF_9A', 'Escherichia_coli_MSB1_1A',\n",
       "       'Escherichia_coli_MSB1_3B', 'Escherichia_coli_MSB1_3I',\n",
       "       'Escherichia_coli_MSB1_4E', 'Escherichia_coli_MSB1_4I',\n",
       "       'Escherichia_coli_MSB1_6C', 'Escherichia_coli_MSB1_6J',\n",
       "       'Escherichia_coli_MSB1_7A', 'Escherichia_coli_MSB1_7C',\n",
       "       'Escherichia_coli_MSB1_8B', 'Escherichia_coli_MSB1_8G',\n",
       "       'Escherichia_coli_MSB1_9D', 'Escherichia_coli_MSB1_9I',\n",
       "       'Escherichia_coli_MSB2_1A', 'H131800734', 'ST38'], dtype=object)"
      ]
     },
     "execution_count": 9,
     "metadata": {},
     "output_type": "execute_result"
    }
   ],
   "source": [
    "precision_per_sample[\"sample\"].unique()"
   ]
  }
 ],
 "metadata": {
  "kernelspec": {
   "display_name": "Python 3",
   "language": "python",
   "name": "python3"
  },
  "language_info": {
   "codemirror_mode": {
    "name": "ipython",
    "version": 3
   },
   "file_extension": ".py",
   "mimetype": "text/x-python",
   "name": "python",
   "nbconvert_exporter": "python",
   "pygments_lexer": "ipython3",
   "version": "3.7.3"
  }
 },
 "nbformat": 4,
 "nbformat_minor": 4
}
