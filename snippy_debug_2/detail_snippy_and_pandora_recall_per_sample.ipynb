{
 "cells": [
  {
   "cell_type": "code",
   "execution_count": 1,
   "metadata": {},
   "outputs": [],
   "source": [
    "import glob\n"
   ]
  },
  {
   "cell_type": "code",
   "execution_count": 2,
   "metadata": {},
   "outputs": [
    {
     "data": {
      "text/plain": [
       "{('063_STEC', '063_STEC_and_CFT073'): 40251,\n",
       " ('063_STEC', '063_STEC_and_H131800734'): 99096,\n",
       " ('063_STEC', '063_STEC_and_ST38'): 103640,\n",
       " ('H131800734', 'H131800734_and_ST38'): 90014,\n",
       " ('H131800734', '063_STEC_and_H131800734'): 99096,\n",
       " ('H131800734', 'CFT073_and_H131800734'): 99509,\n",
       " ('ST38', 'H131800734_and_ST38'): 90014,\n",
       " ('ST38', 'CFT073_and_ST38'): 104317,\n",
       " ('ST38', '063_STEC_and_ST38'): 103640,\n",
       " ('CFT073', 'CFT073_and_ST38'): 104317,\n",
       " ('CFT073', '063_STEC_and_CFT073'): 40251,\n",
       " ('CFT073', 'CFT073_and_H131800734'): 99509}"
      ]
     },
     "execution_count": 2,
     "metadata": {},
     "output_type": "execute_result"
    }
   ],
   "source": [
    "def get_nb_of_truth_probes(filename):\n",
    "    nb_of_truth_probes = 0\n",
    "    with open(filename) as fh:\n",
    "        for line in fh:\n",
    "            if line.startswith(\">\"):\n",
    "                nb_of_truth_probes += 1\n",
    "    return nb_of_truth_probes\n",
    "\n",
    "truth_probes_files = glob.glob(\"/home/leandro/git/pandora1_paper/snippy_debug_2/hps/nobackup/research/zi/leandro/pandora1_paper/analysis_output_new_recall_pandora_nanopore_100x_best_snippy_precision_flank_150_recall_flank_50/recall/truth_probesets/**/*.fa\")\n",
    "\n",
    "samples_to_nb_of_truth_probes={}\n",
    "for truth_probes_file in truth_probes_files:\n",
    "    sample_where_truth_probe_comes_from = truth_probes_file.split(\"/\")[-2]\n",
    "    comparison = truth_probes_file.split(\"/\")[-1].split(\".\")[0]\n",
    "    samples_to_nb_of_truth_probes[(sample_where_truth_probe_comes_from, comparison)] = get_nb_of_truth_probes(truth_probes_file)\n",
    "\n",
    "samples_to_nb_of_truth_probes"
   ]
  },
  {
   "cell_type": "code",
   "execution_count": 6,
   "metadata": {},
   "outputs": [
    {
     "data": {
      "text/plain": [
       "defaultdict(collections.defaultdict,\n",
       "            {'pandora_nanopore_with_denovo': defaultdict(None,\n",
       "                         {('063_STEC', '063_STEC_and_H131800734'): 91.0,\n",
       "                          ('063_STEC', '063_STEC_and_ST38'): 89.8,\n",
       "                          ('063_STEC', '063_STEC_and_CFT073'): 85.7,\n",
       "                          ('H131800734', '063_STEC_and_H131800734'): 91.6,\n",
       "                          ('H131800734', 'CFT073_and_H131800734'): 91.2,\n",
       "                          ('H131800734', 'H131800734_and_ST38'): 90.1,\n",
       "                          ('ST38', '063_STEC_and_ST38'): 90.1,\n",
       "                          ('ST38', 'H131800734_and_ST38'): 90.2,\n",
       "                          ('ST38', 'CFT073_and_ST38'): 90.1,\n",
       "                          ('CFT073', 'CFT073_and_H131800734'): 92.3,\n",
       "                          ('CFT073', '063_STEC_and_CFT073'): 89.7,\n",
       "                          ('CFT073', 'CFT073_and_ST38'): 91.7}),\n",
       "             'snippy_NZ_CP016497.1': defaultdict(None,\n",
       "                         {('063_STEC', '063_STEC_and_H131800734'): 97.1,\n",
       "                          ('063_STEC', '063_STEC_and_ST38'): 94.9,\n",
       "                          ('063_STEC', '063_STEC_and_CFT073'): 91.8,\n",
       "                          ('H131800734', '063_STEC_and_H131800734'): 94.2,\n",
       "                          ('H131800734', 'CFT073_and_H131800734'): 94.3,\n",
       "                          ('H131800734', 'H131800734_and_ST38'): 87.0,\n",
       "                          ('ST38', '063_STEC_and_ST38'): 90.6,\n",
       "                          ('ST38', 'H131800734_and_ST38'): 86.3,\n",
       "                          ('ST38', 'CFT073_and_ST38'): 90.2,\n",
       "                          ('CFT073', 'CFT073_and_H131800734'): 99.3,\n",
       "                          ('CFT073', '063_STEC_and_CFT073'): 97.5,\n",
       "                          ('CFT073', 'CFT073_and_ST38'): 98.2})})"
      ]
     },
     "execution_count": 6,
     "metadata": {},
     "output_type": "execute_result"
    }
   ],
   "source": [
    "import pandas as pd\n",
    "from collections import defaultdict\n",
    "\n",
    "def get_nb_of_correct_probes_found(report_file):\n",
    "    df = pd.read_csv(report_file, sep=\"\\t\")\n",
    "    df[\"tp\"] = df[\"classification\"].apply(\n",
    "        lambda classification: classification in [\"primary_correct\", \"secondary_correct\", \"supplementary_correct\"]\n",
    "    )\n",
    "    return df[\"tp\"].sum()\n",
    "\n",
    "all_reports = glob.glob(\"/home/leandro/git/pandora1_paper/snippy_debug_2/hps/nobackup/research/zi/leandro/pandora1_paper/analysis_output_new_recall_pandora_nanopore_100x_best_snippy_precision_flank_150_recall_flank_50/recall/reports/**/*.tsv\", recursive=True)\n",
    "\n",
    "tool_to_samples_to_recall = defaultdict(defaultdict)\n",
    "for report_file in all_reports:\n",
    "    nb_of_correct_probes_found = get_nb_of_correct_probes_found(report_file)\n",
    "    \n",
    "    report_file_split = report_file.split(\"/\")\n",
    "    sample = report_file_split[report_file_split.index(\"reports\")+1]\n",
    "    tool = report_file_split[report_file_split.index(\"reports\")+3]\n",
    "    comparison = report_file_split[-1].replace(\".report.tsv\", \"\")\n",
    "    \n",
    "    recall = round(nb_of_correct_probes_found / samples_to_nb_of_truth_probes[(sample, comparison)] * 100, 1)\n",
    "    \n",
    "    tool_to_samples_to_recall[tool][(sample, comparison)] = recall\n",
    "tool_to_samples_to_recall"
   ]
  },
  {
   "cell_type": "code",
   "execution_count": 10,
   "metadata": {},
   "outputs": [
    {
     "name": "stdout",
     "output_type": "stream",
     "text": [
      "Probes from 063_STEC, comparison is 063_STEC_and_H131800734\n",
      "Snippy is predicted to be better and it is: 97.1 vs 91.0, diff = 6.1\n",
      "\n",
      "Probes from 063_STEC, comparison is 063_STEC_and_ST38\n",
      "Snippy is predicted to be better and it is: 94.9 vs 89.8, diff = 5.1\n",
      "\n",
      "Probes from 063_STEC, comparison is 063_STEC_and_CFT073\n",
      "Snippy is predicted to be better and it is: 91.8 vs 85.7, diff = 6.1\n",
      "\n",
      "Probes from H131800734, comparison is 063_STEC_and_H131800734\n",
      "Snippy is predicted to be better and it is: 94.2 vs 91.6, diff = 2.6\n",
      "\n",
      "Probes from H131800734, comparison is CFT073_and_H131800734\n",
      "Snippy is predicted to be better and it is: 94.3 vs 91.2, diff = 3.1\n",
      "\n",
      "Probes from H131800734, comparison is H131800734_and_ST38\n",
      "Pandora is predicted to be better and it is: 90.1 vs 87.0, diff = 3.1\n",
      "\n",
      "Probes from ST38, comparison is 063_STEC_and_ST38\n",
      "Snippy is predicted to be better and it is: 90.6 vs 90.1, diff = 0.5\n",
      "\n",
      "Probes from ST38, comparison is H131800734_and_ST38\n",
      "Pandora is predicted to be better and it is: 90.2 vs 86.3, diff = 3.9\n",
      "\n",
      "Probes from ST38, comparison is CFT073_and_ST38\n",
      "Snippy is predicted to be better and it is: 90.2 vs 90.1, diff = 0.1\n",
      "\n",
      "Probes from CFT073, comparison is CFT073_and_H131800734\n",
      "Snippy is predicted to be better and it is: 99.3 vs 92.3, diff = 7.0\n",
      "\n",
      "Probes from CFT073, comparison is 063_STEC_and_CFT073\n",
      "Snippy is predicted to be better and it is: 97.5 vs 89.7, diff = 7.8\n",
      "\n",
      "Probes from CFT073, comparison is CFT073_and_ST38\n",
      "Snippy is predicted to be better and it is: 98.2 vs 91.7, diff = 6.5\n",
      "\n"
     ]
    }
   ],
   "source": [
    "for sample_the_probe_is_from, comparison in tool_to_samples_to_recall[\"pandora_nanopore_with_denovo\"]:\n",
    "    print(f\"Probes from {sample_the_probe_is_from}, comparison is {comparison}\")\n",
    "    \n",
    "    if \"063_STEC\" in comparison or \"CFT073\" in comparison:\n",
    "        better_tool = \"snippy\"\n",
    "    else:\n",
    "        better_tool = \"pandora\"\n",
    "    \n",
    "    pandora_recall = tool_to_samples_to_recall[\"pandora_nanopore_with_denovo\"][(sample_the_probe_is_from, comparison)]\n",
    "    snippy_recall = tool_to_samples_to_recall[\"snippy_NZ_CP016497.1\"][(sample_the_probe_is_from, comparison)]\n",
    "    difference = round(abs(pandora_recall-snippy_recall), 1)\n",
    "    if better_tool == \"snippy\":\n",
    "        if snippy_recall > pandora_recall:\n",
    "            print(f\"Snippy is predicted to be better and it is: {snippy_recall} vs {pandora_recall}, diff = {difference}\")\n",
    "        else:\n",
    "            print(f\"Snippy is predicted to be better and IT IS NOT: {snippy_recall} vs {pandora_recall}, diff = {difference}\")\n",
    "    else:\n",
    "        if pandora_recall > snippy_recall:\n",
    "            print(f\"Pandora is predicted to be better and it is: {pandora_recall} vs {snippy_recall}, diff = {difference}\")\n",
    "        else:\n",
    "            print(f\"Pandora is predicted to be better and IT IS NOT: {pandora_recall} vs {snippy_recall}, diff = {difference}\")\n",
    "    print(\"\")"
   ]
  }
 ],
 "metadata": {
  "kernelspec": {
   "display_name": "Python 3",
   "language": "python",
   "name": "python3"
  },
  "language_info": {
   "codemirror_mode": {
    "name": "ipython",
    "version": 3
   },
   "file_extension": ".py",
   "mimetype": "text/x-python",
   "name": "python",
   "nbconvert_exporter": "python",
   "pygments_lexer": "ipython3",
   "version": "3.7.3"
  }
 },
 "nbformat": 4,
 "nbformat_minor": 4
}
