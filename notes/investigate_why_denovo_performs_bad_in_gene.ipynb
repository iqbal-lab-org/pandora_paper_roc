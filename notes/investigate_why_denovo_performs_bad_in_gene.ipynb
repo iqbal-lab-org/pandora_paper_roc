{
 "cells": [
  {
   "cell_type": "code",
   "execution_count": 1,
   "metadata": {
    "collapsed": true,
    "pycharm": {
     "is_executing": false
    }
   },
   "outputs": [],
   "source": [
    "import pysam\n"
   ]
  },
  {
   "cell_type": "code",
   "execution_count": 2,
   "outputs": [],
   "source": [
    "pandora_no_denovo_multisample_genotyped_vcf = pysam.VariantFile(\"/home/leandro/git/pandora1_paper/cluster/data/hps/nobackup/research/zi/projects/pandora_paper/analysis/100x/filter/compare_no_denovo/pandora_multisample_genotyped.vcf\")\n",
    "pandora_with_denovo_multisample_genotyped_vcf = pysam.VariantFile(\"/home/leandro/git/pandora1_paper/cluster/data/hps/nobackup/research/zi/projects/pandora_paper/analysis/100x/filter/compare_with_denovo/pandora_multisample_genotyped.vcf\")\n"
   ],
   "metadata": {
    "collapsed": false,
    "pycharm": {
     "name": "#%%\n",
     "is_executing": false
    }
   }
  },
  {
   "cell_type": "code",
   "execution_count": 3,
   "outputs": [
    {
     "traceback": [
      "\u001b[0;31m---------------------------------------------------------------------------\u001b[0m",
      "\u001b[0;31mValueError\u001b[0m                                Traceback (most recent call last)",
      "\u001b[0;32m<ipython-input-3-4518019c6eae>\u001b[0m in \u001b[0;36m<module>\u001b[0;34m\u001b[0m\n\u001b[1;32m      1\u001b[0m \u001b[0mgene_to_investigate\u001b[0m \u001b[0;34m=\u001b[0m \u001b[0;34m\"GC00000191_6\"\u001b[0m\u001b[0;34m\u001b[0m\u001b[0;34m\u001b[0m\u001b[0m\n\u001b[0;32m----> 2\u001b[0;31m \u001b[0mpandora_no_denovo_multisample_genotyped_vcf\u001b[0m\u001b[0;34m.\u001b[0m\u001b[0mfetch\u001b[0m\u001b[0;34m(\u001b[0m\u001b[0mcontig\u001b[0m\u001b[0;34m=\u001b[0m\u001b[0mgene_to_investigate\u001b[0m\u001b[0;34m)\u001b[0m\u001b[0;34m\u001b[0m\u001b[0;34m\u001b[0m\u001b[0m\n\u001b[0m",
      "\u001b[0;32mpysam/libcbcf.pyx\u001b[0m in \u001b[0;36mpysam.libcbcf.VariantFile.fetch\u001b[0;34m()\u001b[0m\n",
      "\u001b[0;31mValueError\u001b[0m: fetch requires an index"
     ],
     "ename": "ValueError",
     "evalue": "fetch requires an index",
     "output_type": "error"
    }
   ],
   "source": [
    "gene_to_investigate = \"GC00000191_6\"\n",
    "pandora_no_denovo_multisample_genotyped_vcf.fetch(contig=gene_to_investigate)\n"
   ],
   "metadata": {
    "collapsed": false,
    "pycharm": {
     "name": "#%%\n",
     "is_executing": false
    }
   }
  }
 ],
 "metadata": {
  "language_info": {
   "codemirror_mode": {
    "name": "ipython",
    "version": 2
   },
   "file_extension": ".py",
   "mimetype": "text/x-python",
   "name": "python",
   "nbconvert_exporter": "python",
   "pygments_lexer": "ipython2",
   "version": "2.7.6"
  },
  "kernelspec": {
   "name": "python3",
   "language": "python",
   "display_name": "Python 3"
  },
  "pycharm": {
   "stem_cell": {
    "cell_type": "raw",
    "source": [],
    "metadata": {
     "collapsed": false
    }
   }
  }
 },
 "nbformat": 4,
 "nbformat_minor": 0
}