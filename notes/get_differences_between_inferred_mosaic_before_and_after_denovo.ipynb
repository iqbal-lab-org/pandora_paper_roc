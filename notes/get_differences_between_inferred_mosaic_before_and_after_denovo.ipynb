{
 "cells": [
  {
   "cell_type": "code",
   "execution_count": 33,
   "metadata": {
    "pycharm": {
     "is_executing": false
    }
   },
   "outputs": [],
   "source": [
    "import pysam\n",
    "import editdistance\n",
    "import seaborn as sns\n",
    "import matplotlib.pyplot as plt\n"
   ]
  },
  {
   "cell_type": "code",
   "execution_count": 34,
   "metadata": {
    "pycharm": {
     "is_executing": false
    }
   },
   "outputs": [],
   "source": [
    "# read the mosaics to a dictionary\n",
    "def get_genes_from_file(filepath):\n",
    "    header_to_seq = {}\n",
    "    with pysam.FastxFile(filepath) as fin:\n",
    "        for fasta_entry in fin:\n",
    "            header_to_seq[fasta_entry.name] = fasta_entry.sequence\n",
    "    return header_to_seq\n",
    "    \n",
    "genes_to_seq_100x_no_denovo = get_genes_from_file(\"/home/leandro/git/pandora1_paper/cluster/data/hps/nobackup/research/zi/projects/pandora_paper/analysis/100x/filter/compare_no_denovo/pandora_multisample.vcf_ref.fa\")\n",
    "genes_to_seq_100x_with_denovo = get_genes_from_file(\"/home/leandro/git/pandora1_paper/cluster/data/hps/nobackup/research/zi/projects/pandora_paper/analysis/100x/filter/compare_with_denovo/pandora_multisample.vcf_ref.fa\")\n"
   ]
  },
  {
   "cell_type": "code",
   "execution_count": 35,
   "metadata": {
    "pycharm": {
     "is_executing": false
    }
   },
   "outputs": [],
   "source": [
    "# compute the proportion of edit distance of each gene\n",
    "proportion_edit_distances = {}\n",
    "for gene_in_no_denovo, seq_in_no_denovo in genes_to_seq_100x_no_denovo.items():\n",
    "    if gene_in_no_denovo in genes_to_seq_100x_with_denovo:\n",
    "        seq_in_with_denovo = genes_to_seq_100x_with_denovo[gene_in_no_denovo]\n",
    "        edit_distance_between_genes = editdistance.eval(seq_in_no_denovo, seq_in_with_denovo)\n",
    "        largest_length = max(len(seq_in_with_denovo), len(seq_in_no_denovo))\n",
    "        proportion_edit_distances[gene_in_no_denovo] = edit_distance_between_genes / largest_length\n",
    "        "
   ]
  },
  {
   "cell_type": "code",
   "execution_count": 36,
   "outputs": [],
   "source": [
    "# compute the edit distances of each gene\n",
    "edit_distances = {}\n",
    "for gene_in_no_denovo, seq_in_no_denovo in genes_to_seq_100x_no_denovo.items():\n",
    "    if gene_in_no_denovo in genes_to_seq_100x_with_denovo:\n",
    "        seq_in_with_denovo = genes_to_seq_100x_with_denovo[gene_in_no_denovo]\n",
    "        edit_distance_between_genes = editdistance.eval(seq_in_no_denovo, seq_in_with_denovo)\n",
    "        edit_distances[gene_in_no_denovo] = edit_distance_between_genes\n"
   ],
   "metadata": {
    "collapsed": false,
    "pycharm": {
     "name": "#%%\n",
     "is_executing": false
    }
   }
  },
  {
   "cell_type": "code",
   "execution_count": 37,
   "metadata": {
    "pycharm": {
     "is_executing": false
    }
   },
   "outputs": [
    {
     "data": {
      "text/plain": "<matplotlib.axes._subplots.AxesSubplot at 0x7f1d2aa67dd8>"
     },
     "metadata": {},
     "output_type": "execute_result",
     "execution_count": 37
    },
    {
     "data": {
      "text/plain": "<Figure size 936x576 with 1 Axes>",
      "image/png": "[encoded data removed]"
     },
     "metadata": {
      "needs_background": "light"
     },
     "output_type": "display_data"
    }
   ],
   "source": [
    "# plot distribution of proportion_edit_distances\n",
    "fig, ax = plt.subplots(figsize=(13,8))\n",
    "sns.distplot(list(proportion_edit_distances.values()), ax=ax)\n"
   ]
  },
  {
   "cell_type": "code",
   "execution_count": 38,
   "outputs": [
    {
     "data": {
      "text/plain": "<matplotlib.axes._subplots.AxesSubplot at 0x7f1d576347b8>"
     },
     "metadata": {},
     "output_type": "execute_result",
     "execution_count": 38
    },
    {
     "data": {
      "text/plain": "<Figure size 936x576 with 1 Axes>",
      "image/png": "[encoded data removed]"
     },
     "metadata": {
      "needs_background": "light"
     },
     "output_type": "display_data"
    }
   ],
   "source": [
    "#plot distribution of edit distances\n",
    "fig, ax = plt.subplots(figsize=(13,8))\n",
    "sns.distplot(list(edit_distances.values()), ax=ax)\n"
   ],
   "metadata": {
    "collapsed": false,
    "pycharm": {
     "name": "#%%\n",
     "is_executing": false
    }
   }
  },
  {
   "cell_type": "code",
   "execution_count": 41,
   "outputs": [
    {
     "name": "stdout",
     "text": [
      "GC00003661_2 0.6374219193639977\nGC00003107 0.5129533678756477\nCluster_358 0.531322505800464\nGC00002417 0.591816367265469\nGC00000579_3 0.504424778761062\nGC00003372_r1_1 0.6934306569343066\nGC00000142_15_p2 0.7920792079207921\nGC00005259 0.5816326530612245\nCluster_902 0.6439628482972136\nGC00000621_2 0.5979020979020979\nGC00002972 0.515850144092219\nCluster_51 0.5365853658536586\nGC00003300_r1_r1_r1_1 0.6642496154691276\nGC00000487_1 0.8745098039215686\nGC00003435_3 0.5522875816993464\nGC00003285_4 0.56\nGC00008479 0.5659340659340659\n"
     ],
     "output_type": "stream"
    }
   ],
   "source": [
    "#print the genes with highest EDs\n",
    "for gene, ed in proportion_edit_distances.items():\n",
    "    if ed >= 0.5:\n",
    "        print(gene, ed)\n",
    "\n"
   ],
   "metadata": {
    "collapsed": false,
    "pycharm": {
     "name": "#%%\n",
     "is_executing": false
    }
   }
  },
  {
   "cell_type": "markdown",
   "source": [
    "We check what is the edit distance if the 5 genes with highest delta scor\n"
   ],
   "metadata": {
    "collapsed": false,
    "pycharm": {
     "name": "#%% md\n"
    }
   }
  },
  {
   "cell_type": "code",
   "execution_count": 48,
   "outputs": [
    {
     "name": "stdout",
     "text": [
      "Gene: GC00002360, ED = 36, Prop ED = 0.009531374106433678\nGene: GC00002094, ED = 27, Prop ED = 0.014150943396226415\nGene: GC00000537_2, ED = 18, Prop ED = 0.012286689419795221\nGene: GC00001721, ED = 23, Prop ED = 0.01574264202600958\nGene: GC00000196_5, ED = 15, Prop ED = 0.010548523206751054\n"
     ],
     "output_type": "stream"
    }
   ],
   "source": [
    "# get the ED of the genes with the highest delta score\n",
    "def print_ED_for_a_gene(gene):\n",
    "    print(f\"Gene: {gene}, ED = {edit_distances[gene]}, Prop ED = {proportion_edit_distances[gene]}\")\n",
    "\n",
    "print_ED_for_a_gene(\"GC00002360\")\n",
    "print_ED_for_a_gene(\"GC00002094\")\n",
    "print_ED_for_a_gene(\"GC00000537_2\")\n",
    "print_ED_for_a_gene(\"GC00001721\")\n",
    "print_ED_for_a_gene(\"GC00000196_5\")\n"
   ],
   "metadata": {
    "collapsed": false,
    "pycharm": {
     "name": "#%%\n",
     "is_executing": false
    }
   }
  }
 ],
 "metadata": {
  "kernelspec": {
   "display_name": "Python 3",
   "language": "python",
   "name": "python3"
  },
  "language_info": {
   "codemirror_mode": {
    "name": "ipython",
    "version": 3
   },
   "file_extension": ".py",
   "mimetype": "text/x-python",
   "name": "python",
   "nbconvert_exporter": "python",
   "pygments_lexer": "ipython3",
   "version": "3.7.3"
  },
  "pycharm": {
   "stem_cell": {
    "cell_type": "raw",
    "source": [],
    "metadata": {
     "collapsed": false
    }
   }
  }
 },
 "nbformat": 4,
 "nbformat_minor": 2
}