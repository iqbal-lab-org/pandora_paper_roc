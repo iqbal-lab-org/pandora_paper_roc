{
 "cells": [
  {
   "cell_type": "code",
   "execution_count": 3,
   "metadata": {
    "pycharm": {
     "is_executing": false
    }
   },
   "outputs": [],
   "source": [
    "import pysam\n",
    "import editdistance\n",
    "import seaborn as sns\n",
    "import matplotlib.pyplot as plt\n"
   ]
  },
  {
   "cell_type": "code",
   "execution_count": 4,
   "metadata": {
    "pycharm": {
     "is_executing": false
    }
   },
   "outputs": [],
   "source": [
    "# read the mosaics to a dictionary\n",
    "def get_genes_from_file(filepath):\n",
    "    header_to_seq = {}\n",
    "    with pysam.FastxFile(filepath) as fin:\n",
    "        for fasta_entry in fin:\n",
    "            header_to_seq[fasta_entry.name] = fasta_entry.sequence\n",
    "    return header_to_seq\n",
    "    \n",
    "genes_to_seq_100x_no_denovo = get_genes_from_file(\"../cluster/pandora/hps/nobackup/research/zi/projects/pandora_paper_leandro/old_analysis/100x/filter/compare_no_denovo/pandora_multisample.vcf_ref.fa\")\n",
    "genes_to_seq_100x_with_denovo = get_genes_from_file(\"../cluster/pandora/hps/nobackup/research/zi/projects/pandora_paper_leandro/old_analysis/100x/filter/compare_with_denovo/pandora_multisample.vcf_ref.fa\")\n"
   ]
  },
  {
   "cell_type": "code",
   "execution_count": 5,
   "metadata": {
    "pycharm": {
     "is_executing": false
    }
   },
   "outputs": [],
   "source": [
    "# compute the proportion of edit distance of each gene\n",
    "proportion_edit_distances = {}\n",
    "for gene_in_no_denovo, seq_in_no_denovo in genes_to_seq_100x_no_denovo.items():\n",
    "    if gene_in_no_denovo in genes_to_seq_100x_with_denovo:\n",
    "        seq_in_with_denovo = genes_to_seq_100x_with_denovo[gene_in_no_denovo]\n",
    "        edit_distance_between_genes = editdistance.eval(seq_in_no_denovo, seq_in_with_denovo)\n",
    "        largest_length = max(len(seq_in_with_denovo), len(seq_in_no_denovo))\n",
    "        proportion_edit_distances[gene_in_no_denovo] = edit_distance_between_genes / largest_length\n",
    "        "
   ]
  },
  {
   "cell_type": "code",
   "execution_count": 6,
   "metadata": {
    "pycharm": {
     "is_executing": false,
     "name": "#%%\n"
    }
   },
   "outputs": [],
   "source": [
    "# compute the edit distances of each gene\n",
    "edit_distances = {}\n",
    "for gene_in_no_denovo, seq_in_no_denovo in genes_to_seq_100x_no_denovo.items():\n",
    "    if gene_in_no_denovo in genes_to_seq_100x_with_denovo:\n",
    "        seq_in_with_denovo = genes_to_seq_100x_with_denovo[gene_in_no_denovo]\n",
    "        edit_distance_between_genes = editdistance.eval(seq_in_no_denovo, seq_in_with_denovo)\n",
    "        edit_distances[gene_in_no_denovo] = edit_distance_between_genes\n"
   ]
  },
  {
   "cell_type": "code",
   "execution_count": 7,
   "metadata": {
    "pycharm": {
     "is_executing": false
    }
   },
   "outputs": [
    {
     "data": {
      "text/plain": [
       "<matplotlib.axes._subplots.AxesSubplot at 0x7f372ec43898>"
      ]
     },
     "execution_count": 7,
     "metadata": {},
     "output_type": "execute_result"
    },
    {
     "data": {
      "image/png": "[encoded data removed]",
      "text/plain": [
       "<Figure size 936x576 with 1 Axes>"
      ]
     },
     "metadata": {
      "needs_background": "light"
     },
     "output_type": "display_data"
    }
   ],
   "source": [
    "# plot distribution of proportion_edit_distances\n",
    "fig, ax = plt.subplots(figsize=(13,8))\n",
    "sns.distplot(list(proportion_edit_distances.values()), ax=ax)\n"
   ]
  },
  {
   "cell_type": "code",
   "execution_count": 8,
   "metadata": {
    "pycharm": {
     "is_executing": false,
     "name": "#%%\n"
    }
   },
   "outputs": [
    {
     "data": {
      "text/plain": [
       "<matplotlib.axes._subplots.AxesSubplot at 0x7f372ec2fac8>"
      ]
     },
     "execution_count": 8,
     "metadata": {},
     "output_type": "execute_result"
    },
    {
     "data": {
      "image/png": "[encoded data removed]",
      "text/plain": [
       "<Figure size 936x576 with 1 Axes>"
      ]
     },
     "metadata": {
      "needs_background": "light"
     },
     "output_type": "display_data"
    }
   ],
   "source": [
    "#plot distribution of edit distances\n",
    "fig, ax = plt.subplots(figsize=(13,8))\n",
    "sns.distplot(list(edit_distances.values()), ax=ax)\n"
   ]
  },
  {
   "cell_type": "code",
   "execution_count": 9,
   "metadata": {
    "pycharm": {
     "is_executing": false,
     "name": "#%%\n"
    }
   },
   "outputs": [
    {
     "name": "stdout",
     "output_type": "stream",
     "text": [
      "GC00003661_2 0.637137989778535\n",
      "Cluster_358 0.531322505800464\n",
      "GC00003107 0.5129533678756477\n",
      "GC00000001_11 0.6098039215686275\n",
      "GC00000579_3 0.504424778761062\n",
      "GC00003372_r1_1 0.6934306569343066\n",
      "GC00000142_15_p2 0.7920792079207921\n",
      "GC00003756_r1_1 0.6\n",
      "GC00005259 0.5816326530612245\n",
      "Cluster_1354 0.7004608294930875\n",
      "GC00003186_6 0.7196969696969697\n",
      "GC00003300_r1_r1_r1_1 0.6642496154691276\n",
      "GC00002972 0.5187319884726225\n",
      "Cluster_51 0.5491573033707865\n",
      "GC00003435_3 0.5522875816993464\n",
      "GC00003285_4 0.5511111111111111\n",
      "GC00000487_1 0.8745098039215686\n",
      "GC00008479 0.5659340659340659\n",
      "GC00002417 0.591816367265469\n"
     ]
    }
   ],
   "source": [
    "#print the genes with highest EDs\n",
    "for gene, ed in proportion_edit_distances.items():\n",
    "    if ed >= 0.5:\n",
    "        print(gene, ed)\n",
    "\n"
   ]
  },
  {
   "cell_type": "markdown",
   "metadata": {
    "pycharm": {
     "name": "#%% md\n"
    }
   },
   "source": [
    "We check what is the edit distance if the 5 genes with highest delta scor\n"
   ]
  },
  {
   "cell_type": "code",
   "execution_count": 10,
   "metadata": {
    "pycharm": {
     "is_executing": false,
     "name": "#%%\n"
    }
   },
   "outputs": [
    {
     "name": "stdout",
     "output_type": "stream",
     "text": [
      "Gene: GC00000191_6, ED = 140, Prop ED = 0.03691983122362869\n",
      "Gene: GC00000558_1, ED = 80, Prop ED = 0.032089851584436425\n",
      "Gene: GC00003150, ED = 46, Prop ED = 0.03085177733065057\n",
      "Gene: GC00000027_7, ED = 82, Prop ED = 0.019303201506591337\n",
      "Gene: GC00003150, ED = 46, Prop ED = 0.03085177733065057\n"
     ]
    }
   ],
   "source": [
    "# get the ED of the genes with the highest delta score\n",
    "def print_ED_for_a_gene(gene):\n",
    "    print(f\"Gene: {gene}, ED = {edit_distances[gene]}, Prop ED = {proportion_edit_distances[gene]}\")\n",
    "\n",
    "print_ED_for_a_gene(\"GC00000191_6\")\n",
    "print_ED_for_a_gene(\"GC00000558_1\")\n",
    "print_ED_for_a_gene(\"GC00003150\")\n",
    "print_ED_for_a_gene(\"GC00000027_7\")\n",
    "print_ED_for_a_gene(\"GC00003150\")\n"
   ]
  }
 ],
 "metadata": {
  "kernelspec": {
   "display_name": "Python 3",
   "language": "python",
   "name": "python3"
  },
  "language_info": {
   "codemirror_mode": {
    "name": "ipython",
    "version": 3
   },
   "file_extension": ".py",
   "mimetype": "text/x-python",
   "name": "python",
   "nbconvert_exporter": "python",
   "pygments_lexer": "ipython3",
   "version": "3.7.3"
  },
  "pycharm": {
   "stem_cell": {
    "cell_type": "raw",
    "metadata": {
     "collapsed": false
    },
    "source": []
   }
  }
 },
 "nbformat": 4,
 "nbformat_minor": 2
}
